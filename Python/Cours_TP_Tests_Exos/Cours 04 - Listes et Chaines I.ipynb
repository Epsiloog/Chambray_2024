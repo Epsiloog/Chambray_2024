{
 "cells": [
  {
   "cell_type": "markdown",
   "metadata": {
    "slideshow": {
     "slide_type": "slide"
    }
   },
   "source": [
    "***\n",
    "# IngeSUP - Cours 04 - Listes et chaînes I\n",
    "***"
   ]
  },
  {
   "cell_type": "markdown",
   "metadata": {
    "slideshow": {
     "slide_type": "slide"
    }
   },
   "source": [
    "## Sommaire\n",
    "\n",
    "* <a href=\"#Les-listes-en-python\">Les listes en python</a>\n",
    "    * <a href=\"#Création-d'une-liste\">Création d'une liste</a>\n",
    "    * <a href=\"#Accéder-à-un-élément-d'une-liste-par-rang-positif\">Accéder à un élément d'une liste par rang positif</a>\n",
    "    * <a href=\"#Accéder-à-un-élément-d'une-liste-par-rang-négatif\">Accéder à un élément d'une liste par rang négatif</a>\n",
    "    * <a href=\"#Manipuler-des-listes\">Manipuler des listes</a>\n",
    "        * <a href=\"#Ajouter-des-éléments-en-fin-de-liste-avec-append()\">Ajouter des éléments en fin de liste avec append()</a>\n",
    "        * <a href=\"#Ajouter-plusiuers-éléments-à-la-fois-en-fin-de-liste-avec-extend()\">Ajouter plusiuers éléments à la fois en fin de liste avec extend()</a>\n",
    "        * <a href=\"#Ajouter-des-éléments-à-la-place-voulue-avec-insert()\">Ajouter des éléments à la place voulue avec insert()</a>\n",
    "        * <a href=\"#Modifier-la-valeur-d'une-liste-grâce-à-son-rang\">Modifier la valeur d'une liste grâce à son rang</a>\n",
    "        * <a href=\"#Supprimer-des-éléments-de-la-liste\">Supprimer des éléments de la liste</a>\n",
    "    * <a href=\"#Opérateurs-sur-les-listes\">Opérateurs sur les listes</a>\n",
    "    * <a href=\"#Autres-fonctions-prédéfinies-en-python-sur-les-listes\">Autres fonctions prédéfinies en python sur les listes</a>\n",
    "    * <a href=\"#Parcourir-les-listes\">Parcourir les listes</a>\n",
    "* <a href=\"#Les-chaînes-en-python\">Les chaînes en python</a>\n",
    "    * <a href=\"#Caractères-et-chaînes\">Caractères et chaînes</a>\n",
    "    * <a href=\"#Accéder-à-un-caractère-d'une-chaine-par-rang\">Accéder à un caractère d'une chaine par rang</a>\n",
    "    * <a href=\"#Opérations-sur-les-chaînes\">Opérations sur les chaînes</a>\n",
    "    * <a href=\"#Parcourir-les-chaînes\">Parcourir les chaînes</a>\n",
    "* <a href=\"#Parcourir-les-chaînes\">Exercices de TD</a>"
   ]
  },
  {
   "cell_type": "markdown",
   "metadata": {
    "slideshow": {
     "slide_type": "slide"
    }
   },
   "source": [
    "<div class=\"alert alert-block alert-info\" style='color:white; background-color:blue; border-color: blue; '>\n",
    "    <h2>Les listes en python</h2>\n",
    "</div>\n",
    "\n",
    "Une liste est une suite d’éléments regroupés. Cela peut être une liste d’entiers, par exemple $[5,-7,12,99]$, ou bien une liste de chaînes de caractères, par exemple $[\"Mars\",\"Avril\",\"Mai\"]$ ou bien des objets qui peuvent être de différents types $[3.14,\"pi\",10e-3,\"x\",True]$."
   ]
  },
  {
   "cell_type": "markdown",
   "metadata": {
    "slideshow": {
     "slide_type": "slide"
    }
   },
   "source": [
    "<div style=\"border-color: #007bff; margin: 1.5625em auto; padding: 0 .6rem .8rem !important; overflow: hidden; page-break-inside: avoid;border-left: .2rem solid #007bff; border-radius: .1rem; box-shadow: 0 .2rem .5rem rgba(0,0,0,.05),0 0 .05rem rgba(0,0,0,.1); transition: color .25s,background-color .25s,border-color .25s;\">\n",
    "    <p style=\"background-color: #e7f2fa; position: relative; margin: 0 -.6rem !important; padding: .4rem .6rem .4rem 2rem; font-weight: 700;\">📝 Note</p>\n",
    "    <p style=\"padding: 0 1.4rem; margin-top: .4em; margin-bottom: 0; font-size: 1em;\">\n",
    "     Une liste commence par des crochets et finit par des crochets. Les éléments d'une liste sont séparés par des virgules. Parfois on les appelle des <strong>tableaux</strong>. En ce qui concerne Python ces deux mots sont synonymes.\n",
    "    </p>\n",
    "</div>"
   ]
  },
  {
   "cell_type": "markdown",
   "metadata": {
    "slideshow": {
     "slide_type": "slide"
    }
   },
   "source": [
    "D'un point de vue **algorithmique** listes sont des  **structures de données**. Une structure de donnée est un objet dans un programme qui contient une série de données. \n",
    "\n",
    "Une structure de données simple peut être par exemple un tableau qui contient les composantes d'un vecteur ou une liste de noms."
   ]
  },
  {
   "cell_type": "markdown",
   "metadata": {
    "slideshow": {
     "slide_type": "slide"
    }
   },
   "source": [
    "## Création d'une liste"
   ]
  },
  {
   "cell_type": "markdown",
   "metadata": {
    "slideshow": {
     "slide_type": "subslide"
    }
   },
   "source": [
    "Les listes en Python peuvent être créées en plaçant simplement la séquence entre crochets[].\n",
    "\n",
    "Une liste peut contenir des valeurs similaires dans plusieurs endroits."
   ]
  },
  {
   "cell_type": "code",
   "execution_count": null,
   "metadata": {
    "slideshow": {
     "slide_type": "subslide"
    }
   },
   "outputs": [],
   "source": [
    "# Liste vide\n",
    "liste = [] \n",
    " \n",
    "# liste avec éléments\n",
    "semaine = ['lundi','mardi']\n",
    " \n",
    "# liste avec éléments de types différents\n",
    "liste2 = ['ESME','Sudria', 3, 2021]\n",
    " \n",
    "# liste entiers\n",
    "nombres = [1, 2, 3]"
   ]
  },
  {
   "cell_type": "markdown",
   "metadata": {
    "slideshow": {
     "slide_type": "slide"
    }
   },
   "source": [
    "### Autres exemples"
   ]
  },
  {
   "cell_type": "code",
   "execution_count": null,
   "metadata": {
    "slideshow": {
     "slide_type": "subslide"
    }
   },
   "outputs": [],
   "source": [
    "lab_group0 = [\"Théo\", \"Emilie\", \"Sarah\", \"Marc\"]\n",
    "\n",
    "print(lab_group0)\n",
    "\n",
    "valeurs = [4.3, 5.2, 0.75, 3.14]\n",
    "\n",
    "print(valeurs)"
   ]
  },
  {
   "cell_type": "markdown",
   "metadata": {
    "slideshow": {
     "slide_type": "slide"
    }
   },
   "source": [
    "### En bref"
   ]
  },
  {
   "cell_type": "markdown",
   "metadata": {
    "slideshow": {
     "slide_type": "subslide"
    }
   },
   "source": [
    "Une liste se définit par des éléments entre crochets :\n",
    "- liste1 = $[5,4,3,2,1]$, une liste de 5 entiers,\n",
    "- liste2 = $[\"Vendredi\",\"Samedi\",\"Dimanche\"]$, une liste de 3 chaînes de caractères,\n",
    "- liste3 = $[]$, **la liste vide** (très utile pour la compléter plus tard !).\n"
   ]
  },
  {
   "cell_type": "markdown",
   "metadata": {
    "slideshow": {
     "slide_type": "slide"
    }
   },
   "source": [
    "## Accéder à un élément d'une liste par rang positif"
   ]
  },
  {
   "cell_type": "markdown",
   "metadata": {
    "slideshow": {
     "slide_type": "subslide"
    }
   },
   "source": [
    "Pour obtenir un élément de la liste, il suffit d’écrire _**liste[i]**_ où _i_ est le **rang**\n",
    "de l’élément souhaité.\n",
    "\n",
    "> Attention ! Le piège c’est que l’on commence à compter à partir du rang 0 !\n",
    "\n",
    "Par exemple après l’instruction $liste = [\"A\",\"B\",\"C\",\"D\",\"E\",\"F\"]$\n"
   ]
  },
  {
   "cell_type": "markdown",
   "metadata": {
    "slideshow": {
     "slide_type": "subslide"
    }
   },
   "source": [
    "- liste[0] renvoie \"A\"\n",
    "- liste[1] renvoie \"B\"\n",
    "- liste[2] renvoie \"C\"\n",
    "- liste[3] renvoie \"D\"\n",
    "- liste[4] renvoie \"E\"\n",
    "- liste[5] renvoie \"F\""
   ]
  },
  {
   "cell_type": "markdown",
   "metadata": {
    "slideshow": {
     "slide_type": "subslide"
    }
   },
   "source": [
    "<img src=\" data:image/png;base64,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\" alt=\"listes\">"
   ]
  },
  {
   "cell_type": "code",
   "execution_count": null,
   "metadata": {
    "slideshow": {
     "slide_type": "subslide"
    }
   },
   "outputs": [],
   "source": [
    "liste = [1,2,3]\n",
    "print(\"liste au rang 0\", liste[0])\n",
    "print(\"liste au rang 1\", liste[1])\n",
    "print(\"liste au rang 2\", liste[2])"
   ]
  },
  {
   "cell_type": "markdown",
   "metadata": {
    "slideshow": {
     "slide_type": "slide"
    }
   },
   "source": [
    "<div style=\"border-color: #fd7e14; margin: 1.5625em auto; padding: 0 .6rem .8rem !important; overflow: hidden; page-break-inside: avoid;border-left: .2rem solid #fd7e14; border-radius: .1rem; box-shadow: 0 .2rem .5rem rgba(0,0,0,.05),0 0 .05rem rgba(0,0,0,.1); transition: color .25s,background-color .25s,border-color .25s;\">\n",
    "    <p style=\"background-color: #ffedcc; position: relative; margin: 0 -.6rem !important; padding: .4rem .6rem .4rem 2rem; font-weight: 700;\">🚧 Questions de cours</p>\n",
    "    <p style=\"padding: 0 1.4rem; margin-top: .4em; margin-bottom: 0; font-size: 1em;\">Que se passe t-il si on essaie d'afficher une valeur au rang 3 ? Essayez pour voir  !</p> \n",
    "</div>"
   ]
  },
  {
   "cell_type": "markdown",
   "metadata": {},
   "source": [
    "## Accéder à un élément d'une liste par rang négatif"
   ]
  },
  {
   "cell_type": "markdown",
   "metadata": {},
   "source": [
    "Python est l'un des rares langages de programmation qui permet d'accéder aux éléments d'une liste à l'aide d'indices négatifs qui commencent par `-1` en partant du dernier élément. \n",
    "\n",
    "Ainsi, `-1` est associé au dernier élément de la liste et `-taille` au premier élément de la liste en utilisant les indices négatifs.\n",
    "\n",
    "<br>\n",
    "<div style=\"margin-left:120px;\">\n",
    "    <div style=\"border:2px black solid;text-align:center;display:inline-block;padding: 5px;margin:-3px;width:40px;\">\"A\"</div>\n",
    "    <div style=\"border:2px black solid;text-align:center;display:inline-block;padding: 5px;margin:-3px;width:40px;\">\"B\"</div>\n",
    "    <div style=\"border:2px black solid;text-align:center;display:inline-block;padding: 5px;margin:-3px;width:40px;\">\"C\"</div>\n",
    "    <div style=\"border:2px black solid;text-align:center;display:inline-block;padding: 5px;margin:-3px;width:40px;\">\"D\"</div>\n",
    "    <div style=\"border:2px black solid;text-align:center;display:inline-block;padding: 5px;margin:-3px;width:40px;\">\"E\"</div>\n",
    "    <div style=\"border:2px black solid;text-align:center;display:inline-block;padding: 5px;margin:-3px;width:40px;\">\"F\"</div>\n",
    "</div>\n",
    "<div style=\"margin-left:50px\">\n",
    "    <div style=\"width: 60px; text-align: center; display: inline-block; padding: 5px;\">rang : </div>\n",
    "    <div style=\"width: 40px; text-align: center; display: inline-block; padding: 5px; margin: -3px;\">-6</div>\n",
    "    <div style=\"width: 40px; text-align: center; display: inline-block; padding: 5px; margin: -3px;\">-5</div>\n",
    "    <div style=\"width: 40px; text-align: center; display: inline-block; padding: 5px; margin: -3px;\">-4</div>\n",
    "    <div style=\"width: 40px; text-align: center; display: inline-block; padding: 5px; margin: -3px;\">-3</div>\n",
    "    <div style=\"width: 40px; text-align: center; display: inline-block; padding: 5px; margin: -3px;\">-2</div>\n",
    "    <div style=\"width: 40px; text-align: center; display: inline-block; padding: 5px; margin: -3px;\">-1</div>\n",
    "</div>"
   ]
  },
  {
   "cell_type": "markdown",
   "metadata": {
    "slideshow": {
     "slide_type": "slide"
    }
   },
   "source": [
    "<div style=\"border-color: rgba(40, 167, 70, 0.294); margin: 1.5625em auto; padding: 0 .6rem .8rem !important; overflow: hidden; page-break-inside: avoid; border-left: .2rem solid rgba(40, 167, 70, 0.294); border-radius: .1rem; box-shadow: 0 .2rem .5rem rgba(0,0,0,.05),0 0 .05rem rgba(0,0,0,.1); transition: color .25s,background-color .25s,border-color .25s;\">\n",
    "    <p style=\"background-color: rgba(40,167,70,0.1); position: relative; margin: 0 -.6rem !important; padding: .4rem .6rem .4rem 2rem; font-weight: 700;\">💡 Astuce</p>\n",
    "    <h4>Pour accéder au dernier élément d'une liste (quel que soit son rang) : </h4>\n",
    "    <p>On peut utiliser le rang <b><i>-1</i></b>. La valeur <b><i>-1</i></b> mise entre crochets permet d'accéder au <strong>dernier élément de la liste.</strong></p>\n",
    "</div>"
   ]
  },
  {
   "cell_type": "code",
   "execution_count": null,
   "metadata": {
    "slideshow": {
     "slide_type": "subslide"
    }
   },
   "outputs": [],
   "source": [
    "liste = [\"one\", \"two\", \"three\", \"four\"]\n",
    "print(liste[-1])"
   ]
  },
  {
   "cell_type": "markdown",
   "metadata": {
    "slideshow": {
     "slide_type": "slide"
    }
   },
   "source": [
    "## Manipuler des listes"
   ]
  },
  {
   "cell_type": "markdown",
   "metadata": {
    "slideshow": {
     "slide_type": "subslide"
    }
   },
   "source": [
    "### Ajouter des éléments en fin de liste avec `append()`"
   ]
  },
  {
   "cell_type": "markdown",
   "metadata": {
    "slideshow": {
     "slide_type": "subslide"
    }
   },
   "source": [
    "Des éléments peuvent être ajoutés à la liste à l'aide de la fonction `append()`. Un seul élément à la fois peut être ajouté avec cette méthode.\n",
    "\n",
    "Pour ajouter plusieurs éléments à l'aide de la méthode `append()`, **il faudra faire appel aux boucles**. "
   ]
  },
  {
   "cell_type": "code",
   "execution_count": null,
   "metadata": {
    "slideshow": {
     "slide_type": "subslide"
    }
   },
   "outputs": [],
   "source": [
    "# creation de la liste\n",
    "liste = []\n",
    "# ajouter des éléments à la liste \n",
    "liste.append(1) \n",
    "liste.append(2) \n",
    "liste.append(3) \n",
    " \n",
    "print(\"\\n Liste après l'ajout de trois éléments \") \n",
    "print(liste) "
   ]
  },
  {
   "cell_type": "code",
   "execution_count": null,
   "metadata": {
    "slideshow": {
     "slide_type": "subslide"
    }
   },
   "outputs": [],
   "source": [
    "liste = []\n",
    "# Avec une boucle\n",
    "for i in range(1, 4): \n",
    "    liste.append(i)\n",
    "print(liste)"
   ]
  },
  {
   "cell_type": "markdown",
   "metadata": {
    "slideshow": {
     "slide_type": "slide"
    }
   },
   "source": [
    "<div style=\"border-color: #fd7e14; margin: 1.5625em auto; padding: 0 .6rem .8rem !important; overflow: hidden; page-break-inside: avoid;border-left: .2rem solid #fd7e14; border-radius: .1rem; box-shadow: 0 .2rem .5rem rgba(0,0,0,.05),0 0 .05rem rgba(0,0,0,.1); transition: color .25s,background-color .25s,border-color .25s;\">\n",
    "    <p style=\"background-color: #ffedcc; position: relative; margin: 0 -.6rem !important; padding: .4rem .6rem .4rem 2rem; font-weight: 700;\">🚧 Questions de cours</p>\n",
    "    <p style=\"padding: 0 1.4rem; margin-top: .4em; margin-bottom: 0; font-size: 1em;\">Si on avait mis le <code>print(liste)</code><strong> à l'intérieur</strong> de la boucle <strong>for</strong>, quel code aurait été affiché ? Pourquoi ?</p> \n",
    "</div>"
   ]
  },
  {
   "cell_type": "markdown",
   "metadata": {},
   "source": [
    "### Ajouter plusiuers éléments à la fois en fin de liste avec `extend()`"
   ]
  },
  {
   "cell_type": "markdown",
   "metadata": {},
   "source": [
    "Plusieurs éléments peuvent être ajoutés à la fois en fin de liste à l'aide de la fonction `extend()`."
   ]
  },
  {
   "cell_type": "code",
   "execution_count": 1,
   "metadata": {},
   "outputs": [
    {
     "name": "stdout",
     "output_type": "stream",
     "text": [
      "[1, 2, 3, 4]\n"
     ]
    }
   ],
   "source": [
    "liste1 = [1,2]\n",
    "liste2 = [3,4]\n",
    "\n",
    "liste1.extend(liste2)  # Place les éléments de la liste « liste2 » à la fin de la liste « liste1 ».\n",
    "print(liste1)          # Affiche : [1, 2, 3, 4]"
   ]
  },
  {
   "cell_type": "markdown",
   "metadata": {
    "slideshow": {
     "slide_type": "slide"
    }
   },
   "source": [
    "### Ajouter des éléments à la place voulue avec `insert()`"
   ]
  },
  {
   "cell_type": "markdown",
   "metadata": {
    "slideshow": {
     "slide_type": "subslide"
    }
   },
   "source": [
    "Pour l'ajout d'élément à la position souhaitée, la méthode `insert()` est utilisée.\n",
    "\n",
    "Contrairement à `append()` qui prend un seul argument, la méthode `insert()` nécessite deux arguments (position et valeur)."
   ]
  },
  {
   "cell_type": "code",
   "execution_count": 3,
   "metadata": {
    "slideshow": {
     "slide_type": "subslide"
    }
   },
   "outputs": [
    {
     "name": "stdout",
     "output_type": "stream",
     "text": [
      "[12, 0, 12, 1, 2, 4]\n"
     ]
    }
   ],
   "source": [
    "ma_liste = [0,1,2,4]\n",
    "\n",
    "# ajouter l'élément 12 à la position 0\n",
    "ma_liste.insert(0, 12) \n",
    "# [12, 0, 1, 2, 4]\n",
    " \n",
    "# ajouter l'élément 12 à la position 2\n",
    "ma_liste.insert(2, 12) \n",
    "# [12, 0, 12, 1, 2, 4]\n",
    "\n",
    "print(ma_liste)"
   ]
  },
  {
   "cell_type": "markdown",
   "metadata": {
    "slideshow": {
     "slide_type": "slide"
    }
   },
   "source": [
    "### Modifier la valeur d'une liste grâce à son rang"
   ]
  },
  {
   "cell_type": "markdown",
   "metadata": {
    "slideshow": {
     "slide_type": "subslide"
    }
   },
   "source": [
    "La notation avec les crochets de type $liste[i]$, en plus de nous donner la **valeur stockée dans la liste au rang i**, peut s'utiliser comme une variable.\n",
    "\n",
    "Grâce à l'affectation (=) **on peut directement modifier la valeur stockée au rang i**."
   ]
  },
  {
   "cell_type": "code",
   "execution_count": null,
   "metadata": {
    "scrolled": true,
    "slideshow": {
     "slide_type": "subslide"
    }
   },
   "outputs": [],
   "source": [
    "liste = [\"e\",\"p\",\"s\"]\n",
    "print(liste[2])    # Affiche s\n",
    "\n",
    "liste[2] = \"z\"    # On change le 3ème élément\n",
    "print(liste)\n",
    "\n",
    "liste[0] = \"f\"    # Cette fois on change le 1er\n",
    "print(liste)"
   ]
  },
  {
   "cell_type": "markdown",
   "metadata": {
    "slideshow": {
     "slide_type": "slide"
    }
   },
   "source": [
    "### Supprimer des éléments de la liste"
   ]
  },
  {
   "cell_type": "markdown",
   "metadata": {
    "slideshow": {
     "slide_type": "subslide"
    }
   },
   "source": [
    "#### Supprimer un élément en utilisant sa valeur"
   ]
  },
  {
   "cell_type": "markdown",
   "metadata": {
    "slideshow": {
     "slide_type": "subslide"
    }
   },
   "source": [
    "Les éléments peuvent être supprimés de la liste à l'aide de la fonction `remove()`, mais une erreur se produit si l'élément n'existe pas dans la liste.\n",
    "\n",
    "La méthode `remove()` ne supprime qu'un élément à la fois, le premier élément trouvé. \n",
    "\n",
    "Pour supprimer plusieurs éléments, on doit utiliser une boucle."
   ]
  },
  {
   "cell_type": "code",
   "execution_count": null,
   "metadata": {
    "slideshow": {
     "slide_type": "subslide"
    }
   },
   "outputs": [],
   "source": [
    "liste = [5, 7, 8, 12]\n",
    "\n",
    "liste.remove(5) # Supprimer de la liste la première valeur 5 trouvée\n",
    "liste.remove(8) # Supprimer de la liste la première valeur 8 trouvée\n",
    "print(\"\\nListe après la suppression: \") \n",
    "print(liste)"
   ]
  },
  {
   "cell_type": "markdown",
   "metadata": {
    "slideshow": {
     "slide_type": "slide"
    }
   },
   "source": [
    "#### Supprimer un élément en utilisant son rang"
   ]
  },
  {
   "cell_type": "markdown",
   "metadata": {
    "slideshow": {
     "slide_type": "subslide"
    }
   },
   "source": [
    "Pour supprimer un élément mentionné à l'aide du nom de la liste et son indice (rang), on utilise le mot-clé **del** en mentionnant le nom de la liste et le rang de l'élément qu'on veut supprimer."
   ]
  },
  {
   "cell_type": "markdown",
   "metadata": {
    "slideshow": {
     "slide_type": "subslide"
    }
   },
   "source": [
    "<div style=\"border-color: #dc3545; margin: 1.5625em auto; padding: 0 .6rem .8rem !important; overflow: hidden; page-break-inside: avoid; border-left: .2rem solid #dc3545; border-radius: .1rem; box-shadow: 0 .2rem .5rem rgba(0,0,0,.05),0 0 .05rem rgba(0,0,0,.1); transition: color .25s,background-color .25s,border-color .25s;\">\n",
    "    <p style=\"background-color: #fdf3f2; position: relative; margin: 0 -.6rem !important; padding: .4rem .6rem .4rem 2rem; font-weight: 700;\">⚠️ Attention</p>\n",
    "    <p style=\"padding: 0 1.4rem; margin-top: .4em; margin-bottom: 0; font-size: 1em;\">Attention <b>del</b> n'est pas une fonction mais un mot clé de python. Il n'y a donc pas d'utilisation des parenthèses !</p>\n",
    "    \n",
    "</div>"
   ]
  },
  {
   "cell_type": "code",
   "execution_count": null,
   "metadata": {
    "slideshow": {
     "slide_type": "subslide"
    }
   },
   "outputs": [],
   "source": [
    "# syntaxe del liste[indice]\n",
    "Liste = [10, 2, 3, 9, 2, 1, 2, 3, 2]\n",
    "del Liste[2]\n",
    "# -> Liste = [10, 2, 9, 2, 1, 2, 3, 2]\n",
    "print(Liste)"
   ]
  },
  {
   "cell_type": "markdown",
   "metadata": {},
   "source": [
    "### Vider une liste"
   ]
  },
  {
   "cell_type": "markdown",
   "metadata": {},
   "source": [
    "Pour vider une liste il suffit de l'écraser par une liste vide."
   ]
  },
  {
   "cell_type": "code",
   "execution_count": 13,
   "metadata": {},
   "outputs": [
    {
     "name": "stdout",
     "output_type": "stream",
     "text": [
      "[10, 2, 3, 9, 2, 1, 2, 3, 2]\n",
      "[10, 2, 3, 9, 2, 1, 2, 3, 2]\n"
     ]
    }
   ],
   "source": [
    "Liste = [10, 2, 3, 9, 2, 1, 2, 3, 2]\n",
    "print(liste)\n",
    "\n",
    "Liste = []\n",
    "print(liste)"
   ]
  },
  {
   "cell_type": "markdown",
   "metadata": {
    "slideshow": {
     "slide_type": "slide"
    }
   },
   "source": [
    "## Opérateurs sur les listes"
   ]
  },
  {
   "cell_type": "markdown",
   "metadata": {
    "slideshow": {
     "slide_type": "subslide"
    }
   },
   "source": [
    "### L'opérateur `*`"
   ]
  },
  {
   "cell_type": "markdown",
   "metadata": {
    "slideshow": {
     "slide_type": "subslide"
    }
   },
   "source": [
    "On peut utiliser l'opérateur `*` avec une liste et un nombre entier **pour répéter le même élément dans la liste**. "
   ]
  },
  {
   "cell_type": "code",
   "execution_count": null,
   "metadata": {
    "slideshow": {
     "slide_type": "subslide"
    }
   },
   "outputs": [],
   "source": [
    "ma_liste = [\"Thomas\"]*5\n",
    "print(ma_liste)\n",
    "\n",
    "ma_liste_de_zeros = [0]*25\n",
    "print(ma_liste_de_zeros) \n",
    "\n",
    "L1 = [1, 2, 3]\n",
    "L2=L1 * 3\n",
    "print(L2)\n",
    "# [1, 2, 3, 1, 2, 3, 1, 2, 3]"
   ]
  },
  {
   "cell_type": "markdown",
   "metadata": {
    "slideshow": {
     "slide_type": "slide"
    }
   },
   "source": [
    "### L'opérateur `+`"
   ]
  },
  {
   "cell_type": "markdown",
   "metadata": {
    "slideshow": {
     "slide_type": "subslide"
    }
   },
   "source": [
    "On peut utiliser l'opérateur `+` avec deux listes **pour fusionner la deuxième à la premiere**."
   ]
  },
  {
   "cell_type": "code",
   "execution_count": null,
   "metadata": {
    "slideshow": {
     "slide_type": "subslide"
    }
   },
   "outputs": [],
   "source": [
    "liste = [1,2,3] + [4,5,6]\n",
    "print(liste)\n",
    "\n",
    "liste1 = [1,2,3]\n",
    "liste2 = [4,5,6]\n",
    "liste = liste1 + liste2\n",
    "print(liste)"
   ]
  },
  {
   "cell_type": "markdown",
   "metadata": {
    "slideshow": {
     "slide_type": "slide"
    }
   },
   "source": [
    "### L'opérateur `in`"
   ]
  },
  {
   "cell_type": "markdown",
   "metadata": {
    "slideshow": {
     "slide_type": "subslide"
    }
   },
   "source": [
    "Cet opérateur est utilisé pour vérifier si un élément est présent ou non dans la liste. Il renvoie **_True_** si l'élément est présent dans la liste, sinon il renvoie **_False_**."
   ]
  },
  {
   "cell_type": "code",
   "execution_count": null,
   "metadata": {
    "slideshow": {
     "slide_type": "subslide"
    }
   },
   "outputs": [],
   "source": [
    "Liste = [10, 2, 3, 9, 2, 1, 2, 3, 2]\n",
    "if 9 in Liste:\n",
    "    print(\"élément 9 est présent dans la liste\")\n",
    "else:\n",
    "    print(\"l'élément 9 n'est pas présent dans la liste\") "
   ]
  },
  {
   "cell_type": "markdown",
   "metadata": {
    "slideshow": {
     "slide_type": "slide"
    }
   },
   "source": [
    "### L'opérateur `not in`"
   ]
  },
  {
   "cell_type": "markdown",
   "metadata": {
    "slideshow": {
     "slide_type": "subslide"
    }
   },
   "source": [
    "Cet opérateur est utilisé pour vérifier si un élément n'est pas présent dans la liste. Renvoie **_True_** si l'élément n'est pas présent dans la liste, sinon renvoie **_False_**."
   ]
  },
  {
   "cell_type": "code",
   "execution_count": null,
   "metadata": {
    "slideshow": {
     "slide_type": "subslide"
    }
   },
   "outputs": [],
   "source": [
    "List = [10, 2, 3, 9, 2, 1, 2, 3, 2]\n",
    "if 9 not in List:\n",
    "    print(\"l'élément n'est pas présent dans la liste\")\n",
    "else:\n",
    "    print(\"l'élément est présent dans la liste\")"
   ]
  },
  {
   "cell_type": "markdown",
   "metadata": {
    "slideshow": {
     "slide_type": "slide"
    }
   },
   "source": [
    "## Autres fonctions prédéfinies en python sur les listes"
   ]
  },
  {
   "cell_type": "markdown",
   "metadata": {
    "slideshow": {
     "slide_type": "subslide"
    }
   },
   "source": [
    "### 💡  La fonction `len`"
   ]
  },
  {
   "cell_type": "markdown",
   "metadata": {
    "slideshow": {
     "slide_type": "subslide"
    }
   },
   "source": [
    "Pour compter le nombre d'éléments d'une liste on utilise la fonction pédefinie `len()`"
   ]
  },
  {
   "cell_type": "code",
   "execution_count": null,
   "metadata": {
    "slideshow": {
     "slide_type": "subslide"
    }
   },
   "outputs": [],
   "source": [
    "# syntaxe : len(liste)\n",
    "liste = [10, 2, 3, 9, 2, 1, 2, 3, 2] \n",
    "print(len(liste)) \n",
    "# -> 9"
   ]
  },
  {
   "cell_type": "markdown",
   "metadata": {
    "slideshow": {
     "slide_type": "subslide"
    }
   },
   "source": [
    "<div style=\"border-color: #007bff; margin: 1.5625em auto; padding: 0 .6rem .8rem !important; overflow: hidden; page-break-inside: avoid;border-left: .2rem solid #007bff; border-radius: .1rem; box-shadow: 0 .2rem .5rem rgba(0,0,0,.05),0 0 .05rem rgba(0,0,0,.1); transition: color .25s,background-color .25s,border-color .25s;\">\n",
    "    <p style=\"background-color: #e7f2fa; position: relative; margin: 0 -.6rem !important; padding: .4rem .6rem .4rem 2rem; font-weight: 700;\">📝 Note</p>\n",
    "    <p style=\"padding: 0 1.4rem; margin-top: .4em; margin-bottom: 0; font-size: 1em;\">\n",
    "     Les éléments d'une liste de longueur len(l) sont <strong>indicés (numérotés en terme de rang) de 0 à len(l) -1</strong>.\n",
    "    </p>\n",
    "</div>"
   ]
  },
  {
   "cell_type": "markdown",
   "metadata": {
    "slideshow": {
     "slide_type": "slide"
    }
   },
   "source": [
    "### 💡  La fonction `sum`"
   ]
  },
  {
   "cell_type": "markdown",
   "metadata": {
    "slideshow": {
     "slide_type": "subslide"
    }
   },
   "source": [
    "Pour faire la somme de tous les éléments d'une liste on utilise la fonction `sum()`"
   ]
  },
  {
   "cell_type": "code",
   "execution_count": null,
   "metadata": {
    "slideshow": {
     "slide_type": "subslide"
    }
   },
   "outputs": [],
   "source": [
    "# syntaxe : sum(List)\n",
    "liste = [1, 6, 3, 9] \n",
    "print(sum(liste)) "
   ]
  },
  {
   "cell_type": "markdown",
   "metadata": {
    "slideshow": {
     "slide_type": "slide"
    }
   },
   "source": [
    "### 💡  La fonction `count`"
   ]
  },
  {
   "cell_type": "markdown",
   "metadata": {
    "slideshow": {
     "slide_type": "subslide"
    }
   },
   "source": [
    "Pour calculer le nombre d'occurrence d'un élément donné de la liste on utilise la fonction `count()`."
   ]
  },
  {
   "cell_type": "code",
   "execution_count": null,
   "metadata": {
    "slideshow": {
     "slide_type": "subslide"
    }
   },
   "outputs": [],
   "source": [
    "# syntaxe : List.count(valeur)\n",
    "liste = [10, 2, 3, 9, 2, 1, 2, 3, 2] \n",
    "print(liste.count(3)) \n",
    "# -> 2"
   ]
  },
  {
   "cell_type": "markdown",
   "metadata": {
    "slideshow": {
     "slide_type": "slide"
    }
   },
   "source": [
    "### 💡  La fonction `index`"
   ]
  },
  {
   "cell_type": "markdown",
   "metadata": {
    "slideshow": {
     "slide_type": "subslide"
    }
   },
   "source": [
    "La fonction `index` retourne le premier rang de la valeur passée en paramètres."
   ]
  },
  {
   "cell_type": "code",
   "execution_count": null,
   "metadata": {
    "slideshow": {
     "slide_type": "subslide"
    }
   },
   "outputs": [],
   "source": [
    "#syntaxe : List.index(valeur)\n",
    "liste = [10, 2, 3, 9, 2, 1, 2, 3, 2]\n",
    "print(liste.index(2))\n",
    "# -> 1"
   ]
  },
  {
   "cell_type": "markdown",
   "metadata": {
    "slideshow": {
     "slide_type": "slide"
    }
   },
   "source": [
    "### 💡  La fonction `sort`"
   ]
  },
  {
   "cell_type": "markdown",
   "metadata": {
    "slideshow": {
     "slide_type": "subslide"
    }
   },
   "source": [
    "La fonction `sort` modifie la liste en triant ses valeurs."
   ]
  },
  {
   "cell_type": "markdown",
   "metadata": {},
   "source": [
    "- ####  Trier les éléments de la liste par ordre croissant :"
   ]
  },
  {
   "cell_type": "code",
   "execution_count": 14,
   "metadata": {
    "slideshow": {
     "slide_type": "subslide"
    }
   },
   "outputs": [
    {
     "name": "stdout",
     "output_type": "stream",
     "text": [
      "[0, 1, 3, 5, 7, 9]\n"
     ]
    }
   ],
   "source": [
    "liste = [7, 9, 1, 3, 0, 5]\n",
    "\n",
    "liste.sort()      # Trie la liste en la modifiant. \n",
    "print(liste)      # Affiche : [0, 1, 3, 5, 7, 9]"
   ]
  },
  {
   "cell_type": "markdown",
   "metadata": {},
   "source": [
    "- ####  Trier les éléments de la liste par ordre décroissant :"
   ]
  },
  {
   "cell_type": "code",
   "execution_count": 15,
   "metadata": {},
   "outputs": [
    {
     "name": "stdout",
     "output_type": "stream",
     "text": [
      "[9, 7, 5, 3, 1, 0]\n"
     ]
    }
   ],
   "source": [
    "liste = [7, 9, 1, 3, 0, 5]\n",
    "\n",
    "liste.sort(reverse=True)  # Trie la liste en la modifiant. \n",
    "print(liste)              # Affiche : [9, 7, 5, 3, 1, 0]"
   ]
  },
  {
   "cell_type": "markdown",
   "metadata": {},
   "source": [
    "### 💡  La fonction `sorted`"
   ]
  },
  {
   "cell_type": "markdown",
   "metadata": {},
   "source": [
    "La fonction `sort` est une fonction externe qui ne modifie pas la liste en triant ses valeurs. Elle crée une nouvelle liste trée."
   ]
  },
  {
   "cell_type": "markdown",
   "metadata": {},
   "source": [
    "- ####  Trier les éléments de la liste par ordre croissant :"
   ]
  },
  {
   "cell_type": "code",
   "execution_count": 16,
   "metadata": {},
   "outputs": [
    {
     "name": "stdout",
     "output_type": "stream",
     "text": [
      "[7, 9, 1, 3, 0, 5]\n",
      "[0, 1, 3, 5, 7, 9]\n"
     ]
    }
   ],
   "source": [
    "liste1 = [7, 9, 1, 3, 0, 5]\n",
    "\n",
    "liste2 = sorted(liste1)     # Renvoie une liste triée sans modifier la liste d'origine « liste1 ».\n",
    "print(liste1)      # Affiche : [7, 9, 1, 3, 0, 5]\n",
    "print(liste2)      # Affiche : [0, 1, 3, 5, 7, 9]"
   ]
  },
  {
   "cell_type": "markdown",
   "metadata": {},
   "source": [
    "- ####  Trier les éléments de la liste par ordre décroissant :"
   ]
  },
  {
   "cell_type": "code",
   "execution_count": 17,
   "metadata": {},
   "outputs": [
    {
     "name": "stdout",
     "output_type": "stream",
     "text": [
      "[7, 9, 1, 3, 0, 5]\n",
      "[9, 7, 5, 3, 1, 0]\n"
     ]
    }
   ],
   "source": [
    "liste1 = [7, 9, 1, 3, 0, 5]\n",
    "\n",
    "liste2 = sorted(liste1, reverse=True)     # Renvoie une liste triée sans modifier la liste d'origine « liste1 ».\n",
    "print(liste1)      # Affiche : [7, 9, 1, 3, 0, 5]\n",
    "print(liste2)      # Affiche : [9, 7, 5, 3, 1, 0]"
   ]
  },
  {
   "cell_type": "markdown",
   "metadata": {},
   "source": [
    "### 💡  La fonction `reverse`"
   ]
  },
  {
   "cell_type": "markdown",
   "metadata": {},
   "source": [
    "La fonction reverse modifie la liste en inversant l'ordre de ses valeurs."
   ]
  },
  {
   "cell_type": "code",
   "execution_count": 20,
   "metadata": {},
   "outputs": [
    {
     "name": "stdout",
     "output_type": "stream",
     "text": [
      "[5, 0, 3, 1, 9, 7]\n"
     ]
    }
   ],
   "source": [
    "liste1 = [7, 9, 1, 3, 0, 5]\n",
    "\n",
    "liste1.reverse()   # Inverse l'ordre des éléments de la liste en la modifiant.\n",
    "print(liste1)      # Affiche : [5, 0, 3, 1, 9, 7]"
   ]
  },
  {
   "cell_type": "markdown",
   "metadata": {},
   "source": [
    "### 💡  La fonction `reversed`"
   ]
  },
  {
   "cell_type": "markdown",
   "metadata": {},
   "source": [
    "La fonction reversed est une fonction externe qui ne modifie pas la liste en inversant l'ordre de ses valeurs. Elle crée une nouvelle liste inversée."
   ]
  },
  {
   "cell_type": "code",
   "execution_count": 19,
   "metadata": {},
   "outputs": [
    {
     "name": "stdout",
     "output_type": "stream",
     "text": [
      "[7, 9, 1, 3, 0, 5]\n",
      "[5, 0, 3, 1, 9, 7]\n"
     ]
    }
   ],
   "source": [
    "liste1 = [7, 9, 1, 3, 0, 5]\n",
    "\n",
    "liste2 = list(reversed(liste1)); \t# Renvoie une liste inversée sans modifier celle d'origine.\n",
    "print(liste1)      # Affiche : [7, 9, 1, 3, 0, 5]\n",
    "print(liste2)      # Affiche : [5, 0, 3, 1, 9, 7]"
   ]
  },
  {
   "cell_type": "markdown",
   "metadata": {
    "slideshow": {
     "slide_type": "slide"
    }
   },
   "source": [
    "## Parcourir les listes"
   ]
  },
  {
   "cell_type": "markdown",
   "metadata": {
    "slideshow": {
     "slide_type": "subslide"
    }
   },
   "source": [
    "### Parcourir les rangs de la liste avec la boucle `for...range`"
   ]
  },
  {
   "cell_type": "markdown",
   "metadata": {
    "slideshow": {
     "slide_type": "subslide"
    }
   },
   "source": [
    "On a vu que dans les listes chaque valeur est sotckée dans une case rangée, qu'on appelle aussi un indice et dont la valeur démarre à 0 (pour le tout premier élément de la liste)."
   ]
  },
  {
   "cell_type": "markdown",
   "metadata": {
    "slideshow": {
     "slide_type": "subslide"
    }
   },
   "source": [
    "<div style=\"border-color: #007bff; margin: 1.5625em auto; padding: 0 .6rem .8rem !important; overflow: hidden; page-break-inside: avoid;border-left: .2rem solid #007bff; border-radius: .1rem; box-shadow: 0 .2rem .5rem rgba(0,0,0,.05),0 0 .05rem rgba(0,0,0,.1); transition: color .25s,background-color .25s,border-color .25s;\">\n",
    "    <p style=\"background-color: #e7f2fa; position: relative; margin: 0 -.6rem !important; padding: .4rem .6rem .4rem 2rem; font-weight: 700;\">📝 Note</p>\n",
    "    <p style=\"padding: 0 1.4rem; margin-top: .4em; margin-bottom: 0; font-size: 1em;\">\n",
    "     A partir du rang d'un élément on peut obtenir la valeur d'un élément en utilisant <b>les crochets</b>.\n",
    "    </p>\n",
    "</div>"
   ]
  },
  {
   "cell_type": "markdown",
   "metadata": {
    "slideshow": {
     "slide_type": "subslide"
    }
   },
   "source": [
    "En effet pour un indice i donné appartenant à l'ensemble des indices de la liste nommée $liste$ :\n",
    "- **_i_** désigne l'indice (le **rang**).\n",
    "- **_liste[i]_** désigne la **valeur** stockée à cet indice."
   ]
  },
  {
   "cell_type": "markdown",
   "metadata": {
    "slideshow": {
     "slide_type": "subslide"
    }
   },
   "source": [
    "<div style=\"border-color: rgba(40, 167, 70, 0.294); margin: 1.5625em auto; padding: 0 .6rem .8rem !important; overflow: hidden; page-break-inside: avoid; border-left: .2rem solid rgba(40, 167, 70, 0.294); border-radius: .1rem; box-shadow: 0 .2rem .5rem rgba(0,0,0,.05),0 0 .05rem rgba(0,0,0,.1); transition: color .25s,background-color .25s,border-color .25s;\">\n",
    "    <p style=\"background-color: rgba(40,167,70,0.1); position: relative; margin: 0 -.6rem !important; padding: .4rem .6rem .4rem 2rem; font-weight: 700;\">💡 Astuce</p>\n",
    "    <p style=\"padding: 0 1.4rem; margin-top: .4em; margin-bottom: 0; font-size: 1em;\">Si on a besoin de ces deux informations à la fois (le rang et la valeur), on utilisera la boucle <code>for...range</code> pour parcourir la liste.</p>\n",
    "</div>"
   ]
  },
  {
   "cell_type": "markdown",
   "metadata": {
    "slideshow": {
     "slide_type": "subslide"
    }
   },
   "source": [
    "Voici une manière de faire :"
   ]
  },
  {
   "cell_type": "code",
   "execution_count": null,
   "metadata": {
    "slideshow": {
     "slide_type": "subslide"
    }
   },
   "outputs": [],
   "source": [
    "print(liste)\n",
    "n = len(liste)\n",
    "for i in range(n):\n",
    "    # Le rang : la valeur\n",
    "    print(i, \":\", liste[i])"
   ]
  },
  {
   "cell_type": "markdown",
   "metadata": {
    "slideshow": {
     "slide_type": "fragment"
    }
   },
   "source": [
    "Cette boucle affiche le rang et la valeur de tous les éléments de la liste séparés par les deux points (:)"
   ]
  },
  {
   "cell_type": "markdown",
   "metadata": {},
   "source": [
    "### Parcourir les rangs de la liste avec la boucle `while`"
   ]
  },
  {
   "cell_type": "code",
   "execution_count": 3,
   "metadata": {},
   "outputs": [
    {
     "name": "stdout",
     "output_type": "stream",
     "text": [
      "0 : 10\n",
      "1 : 2\n",
      "2 : 3\n",
      "3 : 9\n",
      "4 : 2\n",
      "5 : 1\n",
      "6 : 2\n",
      "7 : 3\n",
      "8 : 2\n"
     ]
    }
   ],
   "source": [
    "liste = [10, 2, 3, 9, 2, 1, 2, 3, 2]\n",
    "n = len(liste)\n",
    "i = 0\n",
    "while i < n:\n",
    "    # Le rang : la valeur\n",
    "    print(i, \":\", liste[i])\n",
    "    # On passe au rang suivant\n",
    "    i += 1"
   ]
  },
  {
   "cell_type": "markdown",
   "metadata": {
    "slideshow": {
     "slide_type": "slide"
    }
   },
   "source": [
    "###  Parcourir les valeurs de la liste avec la boucle `for...in`"
   ]
  },
  {
   "cell_type": "markdown",
   "metadata": {
    "slideshow": {
     "slide_type": "subslide"
    }
   },
   "source": [
    "Lorsqu'on veut parcourir une liste (ou une chaîne de caractères) on peut se demander s'il est toujours utile d'accéder à l'indice des éléments...\n",
    "\n",
    "Si ça n'est pas le cas on peut utiliser la boucle for pour **boucler directement sur les valeurs** de la liste et pas sur les indices, voici comment faire:"
   ]
  },
  {
   "cell_type": "markdown",
   "metadata": {
    "slideshow": {
     "slide_type": "subslide"
    }
   },
   "source": [
    "```\n",
    "for element in liste:\n",
    "    print(element)\n",
    "```\n",
    "\n",
    "Ici _element_ est une variable dont le nom est choisi par la personne qui programme."
   ]
  },
  {
   "cell_type": "code",
   "execution_count": null,
   "metadata": {
    "slideshow": {
     "slide_type": "subslide"
    }
   },
   "outputs": [],
   "source": [
    "liste = [1, 10, 100, 250, 500]\n",
    "\n",
    "for v in liste:\n",
    "    print(v, end=\" \")\n",
    "\n",
    "# Pas de recours à range(len(...))\n",
    "# On affiche directement les valeurs. Pas besoin d'indices !\n",
    "# 1 10 100 250 500"
   ]
  },
  {
   "cell_type": "markdown",
   "metadata": {
    "slideshow": {
     "slide_type": "slide"
    }
   },
   "source": [
    "### Parcourir les indices et les valeurs en même temps avec la boucle `for...enumerate`"
   ]
  },
  {
   "cell_type": "markdown",
   "metadata": {
    "slideshow": {
     "slide_type": "subslide"
    }
   },
   "source": [
    "Si nous souhaitons itérer (boucler) sur les valeurs d'une liste et connaitre également la position de ces valeurs dans la liste, nous pouvons utiliser la fonction  `enumerate` :"
   ]
  },
  {
   "cell_type": "markdown",
   "metadata": {
    "slideshow": {
     "slide_type": "subslide"
    }
   },
   "source": [
    "Voici comment elle fonctionne :"
   ]
  },
  {
   "cell_type": "markdown",
   "metadata": {
    "slideshow": {
     "slide_type": "subslide"
    }
   },
   "source": [
    "```\n",
    "for indice, valeur in enumerate(liste):\n",
    "    print(indice, valeur)\n",
    "```\n",
    "\n",
    "Ici indice et valeur sont des variables dont le nom est choisi par la personne qui programme."
   ]
  },
  {
   "cell_type": "code",
   "execution_count": null,
   "metadata": {
    "slideshow": {
     "slide_type": "subslide"
    }
   },
   "outputs": [],
   "source": [
    "lab_group0 = [\"Etienne\", \"Emilie\", \"Jean\", \"Rachid\", \"Brian\"]\n",
    "\n",
    "for n, member in enumerate(lab_group0):\n",
    "    print(n, member)"
   ]
  },
  {
   "cell_type": "markdown",
   "metadata": {
    "slideshow": {
     "slide_type": "slide"
    }
   },
   "source": [
    "<div class=\"alert alert-block alert-info\" style='color:white; background-color:blue; border-color: blue; '>\n",
    "    <h2>Les chaînes en python</h2>\n",
    "</div>"
   ]
  },
  {
   "cell_type": "markdown",
   "metadata": {
    "slideshow": {
     "slide_type": "subslide"
    }
   },
   "source": [
    "## Caractères et chaînes"
   ]
  },
  {
   "cell_type": "markdown",
   "metadata": {
    "slideshow": {
     "slide_type": "subslide"
    }
   },
   "source": [
    "Un caractère est un symbole unique, par exemple une lettre minuscule \"a\", une lettre majuscule \"B\", un symbole spécial \"&\", un symbole représentant un chiffre \"7\", une espace \" \", que l’on notera aussi  ' '. \n",
    "\n",
    "Pour désigner un caractère, il faut le mettre entre guillemets simples 'z' ou entre guillemets doubles \"z\"."
   ]
  },
  {
   "cell_type": "markdown",
   "metadata": {
    "slideshow": {
     "slide_type": "subslide"
    }
   },
   "source": [
    "**Une chaîne de caractères** est une suite de caractères, comme un mot \"Bonjour\", une phrase 'Il fait beau.', un mot de passe \"N[w5ms}e!\". Le type d’un caractère ou d’une chaîne est **str** (pour string)."
   ]
  },
  {
   "cell_type": "code",
   "execution_count": 5,
   "metadata": {},
   "outputs": [
    {
     "name": "stdout",
     "output_type": "stream",
     "text": [
      "<class 'str'>\n"
     ]
    }
   ],
   "source": [
    "chaine = \"Bonjour\"\n",
    "\n",
    "print(type(chaine))"
   ]
  },
  {
   "cell_type": "markdown",
   "metadata": {},
   "source": [
    "## Accéder à un caractère d'une chaine par rang"
   ]
  },
  {
   "cell_type": "markdown",
   "metadata": {},
   "source": [
    "Les chaines de caractères se comportent comme des listes de caractères.\n",
    "\n",
    "Ainsi pour obtenir un caractère de la chaine, il suffit d’écrire _**chaine[i]**_ où _i_ est le **rang**\n",
    "du caractère souhaité.\n"
   ]
  },
  {
   "cell_type": "markdown",
   "metadata": {},
   "source": [
    "Comme pour les listes on peut accéder aux caractères d'une chaine à l'aide d'indices négatifs qui commencent par `-1` en partant du dernier élément. \n",
    "\n",
    "Ainsi, `-1` est associé au dernier caractère de la chaine et `-taille` au premier caractère de la chaine en utilisant les indices négatifs.\n",
    "\n",
    "Par exemple pour l’instruction $chaine = \"Hello\"$ on a :\n",
    "\n",
    "<br>\n",
    "<div style=\"margin-left:10%;\">\n",
    "    <div style=\"width: 100px; text-align: center; display: inline-block; padding: 5px;\">Lettre : </div>\n",
    "    <div style=\"border:2px black solid;text-align:center;display:inline-block;padding: 5px;margin:-3px;width:40px;\">H</div>\n",
    "    <div style=\"border:2px black solid;text-align:center;display:inline-block;padding: 5px;margin:-3px;width:40px;\">e</div>\n",
    "    <div style=\"border:2px black solid;text-align:center;display:inline-block;padding: 5px;margin:-3px;width:40px;\">l</div>\n",
    "    <div style=\"border:2px black solid;text-align:center;display:inline-block;padding: 5px;margin:-3px;width:40px;\">l</div>\n",
    "    <div style=\"border:2px black solid;text-align:center;display:inline-block;padding: 5px;margin:-3px;width:40px;\">o</div>\n",
    "</div>\n",
    "<div style=\"margin-left:10%\">\n",
    "    <div style=\"width: 100px; text-align: center; display: inline-block; padding: 5px;\">rang positif : </div>\n",
    "    <div style=\"width: 40px; text-align: center; display: inline-block; padding: 5px; margin: -3px;\">0</div>\n",
    "    <div style=\"width: 40px; text-align: center; display: inline-block; padding: 5px; margin: -3px;\">1</div>\n",
    "    <div style=\"width: 40px; text-align: center; display: inline-block; padding: 5px; margin: -3px;\">2</div>\n",
    "    <div style=\"width: 40px; text-align: center; display: inline-block; padding: 5px; margin: -3px;\">3</div>\n",
    "    <div style=\"width: 40px; text-align: center; display: inline-block; padding: 5px; margin: -3px;\">4</div>\n",
    "</div>\n",
    "<div style=\"margin-left:10%\">\n",
    "    <div style=\"width: 100px; text-align: center; display: inline-block; padding: 5px;\">rang négatif : </div>\n",
    "    <div style=\"width: 40px; text-align: center; display: inline-block; padding: 5px; margin: -3px;\">-5</div>\n",
    "    <div style=\"width: 40px; text-align: center; display: inline-block; padding: 5px; margin: -3px;\">-4</div>\n",
    "    <div style=\"width: 40px; text-align: center; display: inline-block; padding: 5px; margin: -3px;\">-3</div>\n",
    "    <div style=\"width: 40px; text-align: center; display: inline-block; padding: 5px; margin: -3px;\">-2</div>\n",
    "    <div style=\"width: 40px; text-align: center; display: inline-block; padding: 5px; margin: -3px;\">-1</div>\n",
    "</div>"
   ]
  },
  {
   "cell_type": "markdown",
   "metadata": {},
   "source": [
    "- chaine[0] et chaine[-5] renvoie \"H\"\n",
    "- chaine[1] et chaine[-4] renvoie \"e\"\n",
    "- chaine[2] et chaine[-3] renvoie \"l\"\n",
    "- chaine[3] et chaine[-2] renvoie \"l\"\n",
    "- chaine[4] et chaine[-1] renvoie \"o\""
   ]
  },
  {
   "cell_type": "markdown",
   "metadata": {
    "slideshow": {
     "slide_type": "slide"
    }
   },
   "source": [
    "## Opérations sur les chaînes"
   ]
  },
  {
   "cell_type": "markdown",
   "metadata": {},
   "source": [
    "### L'opérateur `*`"
   ]
  },
  {
   "cell_type": "markdown",
   "metadata": {},
   "source": [
    "On peut utiliser l'opérateur `*` avec une chaine de caractères et un nombre entier **pour répéter la même chaine un certain nombre de fois**. "
   ]
  },
  {
   "cell_type": "code",
   "execution_count": 7,
   "metadata": {},
   "outputs": [
    {
     "name": "stdout",
     "output_type": "stream",
     "text": [
      "ABABABABAB\n",
      "BonjourBonjourBonjour\n"
     ]
    }
   ],
   "source": [
    "chaine = \"AB\"*5\n",
    "print(chaine)   # Affiche : \"ABABABABAB\"\n",
    "\n",
    "chaine1 = \"Bonjour\"\n",
    "chaine2 = chaine1 * 3\n",
    "print(chaine2)  # Affiche : \"BonjourBonjourBonjour\""
   ]
  },
  {
   "cell_type": "markdown",
   "metadata": {},
   "source": [
    "### L'opérateur `+`"
   ]
  },
  {
   "cell_type": "markdown",
   "metadata": {
    "slideshow": {
     "slide_type": "subslide"
    }
   },
   "source": [
    "On peut utiliser l'opérateur `+` avec deux chaines de caractères **pour concaténer la deuxième à la premiere**.\n",
    "\n",
    "**La concaténation** signifie la mise bout à bout de deux chaînes.\n",
    "\n",
    "Par exemple \"para\"+\"pluie\" donne la chaîne \"parapluie\"."
   ]
  },
  {
   "cell_type": "code",
   "execution_count": 8,
   "metadata": {},
   "outputs": [
    {
     "name": "stdout",
     "output_type": "stream",
     "text": [
      "Bonjour tout le monde.\n",
      "Bonjour tout le monde.\n"
     ]
    }
   ],
   "source": [
    "chaine = \"Bonjour\" + \" tout le monde.\"\n",
    "print(chaine)\n",
    "\n",
    "chaine1 = \"Bonjour\"\n",
    "chaine2 = \" tout le monde.\"\n",
    "chaine = chaine1 + chaine2\n",
    "print(chaine)"
   ]
  },
  {
   "cell_type": "markdown",
   "metadata": {
    "slideshow": {
     "slide_type": "subslide"
    }
   },
   "source": [
    "La chaîne vide \"\" est utile lorsque l’on veut initialiser une chaîne avant d’y ajouter d’autres caractères."
   ]
  },
  {
   "cell_type": "markdown",
   "metadata": {},
   "source": [
    "### L'opérateur `in`"
   ]
  },
  {
   "cell_type": "markdown",
   "metadata": {},
   "source": [
    "Cet opérateur est utilisé pour vérifier si un caractère ou une chaine de caractères est présent(e) ou non dans la chaine. Il renvoie **_True_** si le caractère ou la chaine de caractères est présent(e) dans la chaine, sinon il renvoie **_False_**."
   ]
  },
  {
   "cell_type": "code",
   "execution_count": 10,
   "metadata": {},
   "outputs": [
    {
     "name": "stdout",
     "output_type": "stream",
     "text": [
      "Le caractère B est présent dans la chaine Bonjour\n",
      "La chaine jour est présente dans la chaine Bonjour\n"
     ]
    }
   ],
   "source": [
    "chaine = \"Bonjour\"\n",
    "\n",
    "if \"B\" in chaine:\n",
    "    print(\"Le caractère B est présent dans la chaine Bonjour\")\n",
    "else:\n",
    "    print(\"Le caractère B n'est pas présent dans la chaine Bonjour\") \n",
    "    \n",
    "if \"jour\" in chaine:\n",
    "    print(\"La chaine jour est présente dans la chaine Bonjour\")\n",
    "else:\n",
    "    print(\"La chaine jour n'est pas présente dans la chaine Bonjour\") "
   ]
  },
  {
   "cell_type": "markdown",
   "metadata": {},
   "source": [
    "### L'opérateur `not in`"
   ]
  },
  {
   "cell_type": "markdown",
   "metadata": {},
   "source": [
    "Cet opérateur est utilisé pour vérifier si un caractère ou une chaine de caractères n'est pas présent(e) ou non dans la chaine. Il renvoie **_True_** si le caractère ou la chaine de caractères n'est pas présent(e) dans la chaine, sinon il renvoie **_False_**."
   ]
  },
  {
   "cell_type": "code",
   "execution_count": 11,
   "metadata": {},
   "outputs": [
    {
     "name": "stdout",
     "output_type": "stream",
     "text": [
      "Le caractère B est présent dans la chaine Bonjour\n",
      "La chaine jour est présente dans la chaine Bonjour\n"
     ]
    }
   ],
   "source": [
    "chaine = \"Bonjour\"\n",
    "\n",
    "if \"B\" not in chaine:\n",
    "    print(\"Le caractère B n'est pas présent dans la chaine Bonjour\")\n",
    "else:\n",
    "    print(\"Le caractère B est présent dans la chaine Bonjour\") \n",
    "    \n",
    "if \"jour\" not in chaine:\n",
    "    print(\"La chaine jour n'est pas présente dans la chaine Bonjour\")\n",
    "else:\n",
    "    print(\"La chaine jour est présente dans la chaine Bonjour\") "
   ]
  },
  {
   "cell_type": "markdown",
   "metadata": {
    "slideshow": {
     "slide_type": "slide"
    }
   },
   "source": [
    "## Parcourir les chaînes"
   ]
  },
  {
   "cell_type": "markdown",
   "metadata": {},
   "source": [
    "La longueur d’une chaîne est le nombre de caractères qu’elle contient. Elle s’obtient, comme avec les listes, par la fonction `len()`. Par exemple len(\"Hello World\") renvoie 11 (l’espace compte comme un caractère)."
   ]
  },
  {
   "cell_type": "code",
   "execution_count": 12,
   "metadata": {},
   "outputs": [
    {
     "name": "stdout",
     "output_type": "stream",
     "text": [
      "11\n"
     ]
    }
   ],
   "source": [
    "chaine = \"Hello World\"\n",
    "n = len(chaine)\n",
    "print(n)"
   ]
  },
  {
   "cell_type": "markdown",
   "metadata": {},
   "source": [
    "### Parcourir les rangs de la chaine avec la boucle `for...range`"
   ]
  },
  {
   "cell_type": "markdown",
   "metadata": {},
   "source": [
    "On a vu que dans les chaine chaque valeur est sotckée dans une case rangée, qu'on appelle aussi un indice et dont la valeur démarre à 0 (pour la toute première lettre de la chaine)."
   ]
  },
  {
   "cell_type": "code",
   "execution_count": 4,
   "metadata": {},
   "outputs": [
    {
     "name": "stdout",
     "output_type": "stream",
     "text": [
      "0 : B\n",
      "1 : o\n",
      "2 : n\n",
      "3 : j\n",
      "4 : o\n",
      "5 : u\n",
      "6 : r\n"
     ]
    }
   ],
   "source": [
    "chaine = \"Bonjour\"\n",
    "n = len(chaine)\n",
    "for i in range(n):\n",
    "    # Le rang : la lettre\n",
    "    print(i, \":\", chaine[i])"
   ]
  },
  {
   "cell_type": "markdown",
   "metadata": {},
   "source": [
    "###  Parcourir les lettre de la chaine avec la boucle `for...in`"
   ]
  },
  {
   "cell_type": "markdown",
   "metadata": {
    "slideshow": {
     "slide_type": "subslide"
    }
   },
   "source": [
    "La boucle `for...in` est utilisée pour les parcours séquentiels. On a vu qu'elle affichait les valeurs d'une liste mais elle peut aussi servir  **pour parcourir une chaîne de caractères**."
   ]
  },
  {
   "cell_type": "markdown",
   "metadata": {
    "slideshow": {
     "slide_type": "subslide"
    }
   },
   "source": [
    "```\n",
    "for element in sequence:\n",
    "    instructions\n",
    "```\n",
    "\n",
    "Ici element est une variable choisie par la personne qui code."
   ]
  },
  {
   "cell_type": "code",
   "execution_count": null,
   "metadata": {
    "slideshow": {
     "slide_type": "subslide"
    }
   },
   "outputs": [],
   "source": [
    "chaine = \"hello world!\"\n",
    "for lettre in chaine:\n",
    "    print(lettre)"
   ]
  },
  {
   "cell_type": "markdown",
   "metadata": {
    "slideshow": {
     "slide_type": "slide"
    }
   },
   "source": [
    "<div class=\"alert alert-block alert-info\" style='color:white; background-color:blue; border-color: blue; '>\n",
    "    <h2>Exercices de TD</h2>\n",
    "</div>\n",
    "\n",
    "Vous pouvez maintenant vous exercer à partir du notebook [TD 04 - Listes et chaînes I](../TD/TD%2004%20-%20Listes%20et%20cha%C3%AEnes%201.ipynb)."
   ]
  }
 ],
 "metadata": {
  "celltoolbar": "Format de la Cellule Texte Brut",
  "kernelspec": {
   "display_name": "Python 3",
   "language": "python",
   "name": "python3"
  },
  "language_info": {
   "codemirror_mode": {
    "name": "ipython",
    "version": 3
   },
   "file_extension": ".py",
   "mimetype": "text/x-python",
   "name": "python",
   "nbconvert_exporter": "python",
   "pygments_lexer": "ipython3",
   "version": "3.7.4"
  }
 },
 "nbformat": 4,
 "nbformat_minor": 2
}
