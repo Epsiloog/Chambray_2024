{
 "cells": [
  {
   "cell_type": "markdown",
   "metadata": {
    "slideshow": {
     "slide_type": "slide"
    }
   },
   "source": [
    "<div class=\"alert alert-block alert-info\">\n",
    "    <h1>IngeSUP - Cours 10 - Structures de données avancées I</h1>\n",
    "</div>"
   ]
  },
  {
   "cell_type": "markdown",
   "metadata": {
    "slideshow": {
     "slide_type": "slide"
    }
   },
   "source": [
    "<div class=\"alert alert-block alert-info\" style='color:white; background-color:blue; border-color: blue; '>\n",
    "    <h2>Sommaire</h2>\n",
    "</div>\n",
    "\n",
    "* <a href=\"#Objectifs\">Objectifs</a>\n",
    "* <a href=\"#Introduction\">Introduction</a>\n",
    "* <a href=\"#Rappel sur les listes\">Rappel sur les listes</a>\n",
    "* <a href=\"#Créer et manipuler une liste de listes\">Créer et manipuler une liste de listes</a>\n",
    "* <a href=\"#Tuples\">Tuples</a>\n",
    "* <a href=\"#Dictionnaires\">Dictionnaires</a>\n",
    "* <a href=\"#Ensembles\">Ensembles</a>"
   ]
  },
  {
   "cell_type": "markdown",
   "metadata": {
    "slideshow": {
     "slide_type": "slide"
    }
   },
   "source": [
    "<div class=\"alert alert-block alert-info\" style='color:white; background-color:blue; border-color: blue; '>\n",
    "    <h2>Fonctionnement et règles</h2>\n",
    "</div>\n",
    "\n",
    "- Rappel sur les listes \n",
    "- Créer et manipuler une liste de listes\n",
    "- Créer des structures de données de type `tuple`, `dict` et `set` ;\n",
    "- Utilisation de ces stuctures de données;\n",
    "***"
   ]
  },
  {
   "cell_type": "markdown",
   "metadata": {
    "slideshow": {
     "slide_type": "slide"
    }
   },
   "source": [
    "<div class=\"alert alert-block alert-info\" style='color:white; background-color:blue; border-color: blue; '>\n",
    "    <h2>Introduction</h2>\n",
    "</div>\n",
    "\n",
    "Lors de la séance 4 nous avons vu les listes en Python. Ls listes permettent de ranger dans un ordre donné, des éléments de même types ou non, d'ajouter ou d'enlever des éléments, de les trier etc. C'est la **structure de données** la plus utilisé dans les algorithmes simples."
   ]
  },
  {
   "cell_type": "markdown",
   "metadata": {
    "slideshow": {
     "slide_type": "slide"
    }
   },
   "source": [
    "Une **structure de donnée** est un objet dans un programme qui contient une série de données. Une structure de données simple peut être par exemple une liste qui contient les composantes d'un vecteur ou une liste de noms. Une structure de données plus complexe serait par exemple un répertoire téléphonique contenant les associations entre les numéros de téléphone et les noms."
   ]
  },
  {
   "cell_type": "markdown",
   "metadata": {
    "slideshow": {
     "slide_type": "slide"
    }
   },
   "source": [
    "Par exemple, si nous souhaitons stocker des noms d'étudiants par groupe de labo, au lieu d'utiliser des variables de type chaîne de caractères pour chaque étudiant, nous pouvons utiliser une liste de chaînes de caractère :"
   ]
  },
  {
   "cell_type": "code",
   "execution_count": null,
   "metadata": {
    "slideshow": {
     "slide_type": "slide"
    }
   },
   "outputs": [],
   "source": [
    "lab_group0 = [\"Théo\", \"Emilie\", \"Sarah\", \"Marc\"]"
   ]
  },
  {
   "cell_type": "markdown",
   "metadata": {
    "slideshow": {
     "slide_type": "slide"
    }
   },
   "source": [
    "Cette construction est plus puissante car nous pouvons effectuer de nombreuses opérations sur les listes, comme vérifier leur longueur (le nombre d'étudiants dans un groupe), trier les noms par ordre alphabétique, ajouter/supprimer des noms. Nous pouvons même faire des listes de listes."
   ]
  },
  {
   "cell_type": "markdown",
   "metadata": {
    "slideshow": {
     "slide_type": "slide"
    }
   },
   "source": [
    "En Python, nous pouvouns identifier quatre structures de données couramment utilisées :\n",
    "- les listes ;\n",
    "- les tuples ;\n",
    "- les dictionnaires;\n",
    "- les ensembles.\n",
    "\n"
   ]
  },
  {
   "cell_type": "markdown",
   "metadata": {
    "slideshow": {
     "slide_type": "slide"
    }
   },
   "source": [
    "<div class=\"alert alert-block alert-info\" style='color:white; background-color:blue; border-color: blue; '>\n",
    "    <h2>Rappel sur les listes</h2>\n",
    "</div>\n",
    "\n",
    "Une liste peut être composé d'éléments de différents types `int`, `float` ou `str`. Il est également possible d'y ranger des listes de taille différentes."
   ]
  },
  {
   "cell_type": "markdown",
   "metadata": {
    "slideshow": {
     "slide_type": "slide"
    }
   },
   "source": [
    "Imaginons que nous voulions lister le nom et la promotion des membres des labos, nous pourrions utiliser une liste pour modéliser un membre dont le premier élément serait le prénom et le second serait sa promotion :"
   ]
  },
  {
   "cell_type": "code",
   "execution_count": null,
   "metadata": {
    "slideshow": {
     "slide_type": "slide"
    }
   },
   "outputs": [],
   "source": [
    "membre1 = [\"Jean\",\"Inge1\"]\n",
    "membre2 = [\"Marie\",\"IngeSup\"]\n",
    "print(\"prénom :\",membre1[0])\n",
    "print(\"promo  :\",membre1[1])\n",
    "print(\"prénom :\",membre2[0])\n",
    "print(\"promo  :\",membre2[1])"
   ]
  },
  {
   "cell_type": "markdown",
   "metadata": {
    "slideshow": {
     "slide_type": "slide"
    }
   },
   "source": [
    "<div class=\"alert alert-block alert-info\" style='color:white; background-color:blue; border-color: blue; '>\n",
    "    <h2>Créer et manipuler une liste de liste</h2>\n",
    "</div>\n",
    "\n",
    "Si l'on souhaite maintenant construire la liste de tous les membres, il nous suffit d'ajouter toutes les listes membreX à une seule même liste **membres**. On a alors ce que l'on appelle une **liste de listes**. Dans ce cas, on a affaire à un objet à deux dimensions. "
   ]
  },
  {
   "cell_type": "code",
   "execution_count": null,
   "metadata": {
    "slideshow": {
     "slide_type": "slide"
    }
   },
   "outputs": [],
   "source": [
    "membres=[]\n",
    "membres.append(membre1)\n",
    "membres.append(membre2)\n",
    "print(membres)"
   ]
  },
  {
   "cell_type": "markdown",
   "metadata": {
    "slideshow": {
     "slide_type": "slide"
    }
   },
   "source": [
    "Le premier élément est alors une liste correspondant au premier membre de **membres**. On y accède par son indice **0**."
   ]
  },
  {
   "cell_type": "code",
   "execution_count": null,
   "metadata": {
    "slideshow": {
     "slide_type": "slide"
    }
   },
   "outputs": [],
   "source": [
    "print(membres[0])\n",
    "print(membres[1])"
   ]
  },
  {
   "cell_type": "markdown",
   "metadata": {
    "slideshow": {
     "slide_type": "slide"
    }
   },
   "source": [
    "On peut alors boucler sur chaque éléments de **membres**."
   ]
  },
  {
   "cell_type": "code",
   "execution_count": null,
   "metadata": {
    "slideshow": {
     "slide_type": "slide"
    }
   },
   "outputs": [],
   "source": [
    "for membre in membres:\n",
    "    print(membre)"
   ]
  },
  {
   "cell_type": "markdown",
   "metadata": {
    "slideshow": {
     "slide_type": "slide"
    }
   },
   "source": [
    "On peut aussi boucler sur chaque indice du tableau **membres**."
   ]
  },
  {
   "cell_type": "code",
   "execution_count": null,
   "metadata": {
    "slideshow": {
     "slide_type": "slide"
    }
   },
   "outputs": [],
   "source": [
    "for i in range(len(membres)):\n",
    "    print(i)"
   ]
  },
  {
   "cell_type": "markdown",
   "metadata": {
    "slideshow": {
     "slide_type": "slide"
    }
   },
   "source": [
    "Si à partir des indices je veux accéder aux éléments , je fais :"
   ]
  },
  {
   "cell_type": "code",
   "execution_count": null,
   "metadata": {
    "slideshow": {
     "slide_type": "slide"
    }
   },
   "outputs": [],
   "source": [
    "for i in range(len(membres)):\n",
    "    print(membres[i])"
   ]
  },
  {
   "cell_type": "markdown",
   "metadata": {
    "slideshow": {
     "slide_type": "slide"
    }
   },
   "source": [
    "<div style=\"border-color: rgba(40, 167, 70, 0.294); margin: 1.5625em auto; padding: 0 .6rem .8rem !important; overflow: hidden; page-break-inside: avoid; border-left: .2rem solid rgba(40, 167, 70, 0.294); border-radius: .1rem; box-shadow: 0 .2rem .5rem rgba(0,0,0,.05),0 0 .05rem rgba(0,0,0,.1); transition: color .25s,background-color .25s,border-color .25s;\">\n",
    "    <p style=\"background-color: rgba(40,167,70,0.1); position: relative; margin: 0 -.6rem !important; padding: .4rem .6rem .4rem 2rem; font-weight: 700;\">💡 Information</p>\n",
    "    <p style=\"padding: 0 1.4rem; margin-top: .4em; margin-bottom: 0; font-size: 1em;\">\n",
    "        \n",
    "  <p><b>Rappel:</b><br><br>\n",
    "    Utilisez <code>for variable in liste</code>  pour boucler directement sur les valeurs de la liste</p>\n",
    "  \n",
    "  <p>Utilisez <code>for variable in range(len(liste))</code> si dans votre boucle les indices ont une importance</p>\n",
    "        \n",
    "   </p>\n",
    "</div>"
   ]
  },
  {
   "cell_type": "markdown",
   "metadata": {
    "slideshow": {
     "slide_type": "slide"
    }
   },
   "source": [
    "<div style=\"border-color: #007bff; margin: 1.5625em auto; padding: 0 .6rem .8rem !important; overflow: hidden; page-break-inside: avoid;border-left: .2rem solid #007bff; border-radius: .1rem; box-shadow: 0 .2rem .5rem rgba(0,0,0,.05),0 0 .05rem rgba(0,0,0,.1); transition: color .25s,background-color .25s,border-color .25s;\">\n",
    "    <p style=\"background-color: #e7f2fa; position: relative; margin: 0 -.6rem !important; padding: .4rem .6rem .4rem 2rem; font-weight: 700;\">📝 Note</p>\n",
    "    <p style=\"padding: 0 1.4rem; margin-top: .4em; margin-bottom: 0; font-size: 1em;\">\n",
    "        \n",
    "  Notez la convention \"grammaticale\" pour le choix des noms des variables. La liste (de listes) **membres** est au pluriel et la variable **membre** qui itére est au singulier. Cette simple convention permet une plus grande lisibilité du code.\n",
    "        \n",
    "   </p>\n",
    "</div>"
   ]
  },
  {
   "cell_type": "markdown",
   "metadata": {
    "slideshow": {
     "slide_type": "slide"
    }
   },
   "source": [
    "Si l'on souhaite accéder au prénom (le premier élément de la liste **membre**) du premier élément de la liste **membres** directement, il faudra utiliser la construction à deux dimensions des crochets. Par exemple :"
   ]
  },
  {
   "cell_type": "code",
   "execution_count": null,
   "metadata": {
    "slideshow": {
     "slide_type": "slide"
    }
   },
   "outputs": [],
   "source": [
    "print(membres[0][0])\n",
    "print(membres[1][0])"
   ]
  },
  {
   "cell_type": "markdown",
   "metadata": {
    "slideshow": {
     "slide_type": "slide"
    }
   },
   "source": [
    "Ainsi il est possible d'accéder à l'ensemble des données d'une liste de liste par l'intermédiaire de **deux boucles imbriquées**."
   ]
  },
  {
   "cell_type": "code",
   "execution_count": null,
   "metadata": {
    "scrolled": false,
    "slideshow": {
     "slide_type": "slide"
    }
   },
   "outputs": [],
   "source": [
    "for i in range(len(membres)):\n",
    "    for j in range(len(membres[i])):\n",
    "        print(i,j,membres[i][j])"
   ]
  },
  {
   "cell_type": "markdown",
   "metadata": {},
   "source": [
    "<div class=\"alert alert-block alert-info\" style='color:white; background-color:blue; border-color: blue; '>\n",
    "    <h2>Tuples (&lt;class 'tuple'&gt;)</h2>\n",
    "</div>\n",
    "\n",
    "Python propose un type de données appelé tuple (anglicisme informatique signifiant \"Table UPLEt\"), qui est assez semblable à une liste mais qui n'est pas modifiable (on dit qu'il est **_immutable_**). \n",
    "\n",
    "Un tuple est défini par des parenthèses."
   ]
  },
  {
   "cell_type": "code",
   "execution_count": null,
   "metadata": {
    "slideshow": {
     "slide_type": "slide"
    }
   },
   "outputs": [],
   "source": [
    "tup = (\"a\",\"b\",\"c\")\n",
    "print(type(tup))\n",
    "print(tup)"
   ]
  },
  {
   "cell_type": "markdown",
   "metadata": {
    "slideshow": {
     "slide_type": "slide"
    }
   },
   "source": [
    "Comme les listes, un tuple est **itérable** :"
   ]
  },
  {
   "cell_type": "code",
   "execution_count": null,
   "metadata": {
    "slideshow": {
     "slide_type": "subslide"
    }
   },
   "outputs": [],
   "source": [
    "for ele in tup:\n",
    "    print(ele)\n",
    "    "
   ]
  },
  {
   "cell_type": "markdown",
   "metadata": {
    "slideshow": {
     "slide_type": "slide"
    }
   },
   "source": [
    "Comme les listes, un tuple est **indéxable** (scriptable) :"
   ]
  },
  {
   "cell_type": "code",
   "execution_count": null,
   "metadata": {
    "slideshow": {
     "slide_type": "subslide"
    }
   },
   "outputs": [],
   "source": [
    "print(tup[0])\n",
    "print(tup[0:2])"
   ]
  },
  {
   "cell_type": "markdown",
   "metadata": {
    "slideshow": {
     "slide_type": "slide"
    }
   },
   "source": [
    "Les tuples sont non **modifiables**."
   ]
  },
  {
   "cell_type": "code",
   "execution_count": null,
   "metadata": {
    "slideshow": {
     "slide_type": "subslide"
    }
   },
   "outputs": [],
   "source": [
    "liste = [\"one\", \"two\", \"three \",2,3,4]\n",
    "tup = (\"one\", \"two\", \"three \",2,3,4)\n",
    "print(tup)\n",
    "print(liste)"
   ]
  },
  {
   "cell_type": "code",
   "execution_count": null,
   "metadata": {
    "slideshow": {
     "slide_type": "subslide"
    }
   },
   "outputs": [],
   "source": [
    "liste[0] = \"uno\"\n",
    "print(liste)\n",
    "tup[0] = \"uno\"   # J'ai pas le droit !\n",
    "print(tup)"
   ]
  },
  {
   "cell_type": "markdown",
   "metadata": {
    "slideshow": {
     "slide_type": "slide"
    }
   },
   "source": [
    "<div class=\"alert alert-block alert-info\" style='color:white; background-color:blue; border-color: blue; '>\n",
    "    <h2>Dictionnaires (&lt;class 'dict'&gt;)</h2>\n",
    "</div>"
   ]
  },
  {
   "cell_type": "markdown",
   "metadata": {
    "slideshow": {
     "slide_type": "slide"
    }
   },
   "source": [
    "Un dictionnaire en Python est une collection d'éléments non ordonnés. Alors que d'autres types de données composées ont uniquement la valeur en tant qu'élément, un dictionnaire possède une paire clé:valeur."
   ]
  },
  {
   "cell_type": "markdown",
   "metadata": {
    "slideshow": {
     "slide_type": "slide"
    }
   },
   "source": [
    "Un dictionnaire en Python fonctionne de manière similaire au dictionnaire dans un monde réel. Les clés d'un dictionnaire doivent être uniques et de type de données **immuable**, telles que chaînes, entiers et tuples, mais les valeurs-clés peuvent être répétées et être de n'importe quel type."
   ]
  },
  {
   "cell_type": "markdown",
   "metadata": {
    "slideshow": {
     "slide_type": "slide"
    }
   },
   "source": [
    "Chaque clé correspond à une valeur, nous ne pouvons donc pas avoir de clés dupliquées. Les dictionnaires sont des objets modifiables, ce qui signifie que nous pouvons ajouter, supprimer ou mettre à jour les éléments après leur création.\n",
    "\n",
    "Les dictionnaires sont optimisés pour récupérer des valeurs lorsque la clé est connue."
   ]
  },
  {
   "cell_type": "markdown",
   "metadata": {
    "slideshow": {
     "slide_type": "slide"
    }
   },
   "source": [
    "### Créer un dictionnaire"
   ]
  },
  {
   "cell_type": "markdown",
   "metadata": {
    "slideshow": {
     "slide_type": "subslide"
    }
   },
   "source": [
    "Créer un dictionnaire est aussi simple que de placer des éléments entre accolades {}, séparés par une virgule."
   ]
  },
  {
   "cell_type": "code",
   "execution_count": null,
   "metadata": {
    "slideshow": {
     "slide_type": "slide"
    }
   },
   "outputs": [],
   "source": [
    "# dictionnaire vide\n",
    "dict1={}\n",
    "print(\"dict1 : \",dict1)\n",
    "print(type(dict1))\n",
    " \n",
    "#dictionnaire avec des clés de type chaines\n",
    "dict2={\"Prenom\":\"Boris\", \"age\":20,\"ville\":\"Moscou\"}\n",
    "print(\"dict2 : \",dict2)\n",
    " \n",
    "# dictionnaire avec des clés entières\n",
    "dict3= {1:\"Meknes\", 2:\"Marrakech\", 3:\"Essaouira\"}\n",
    "print(\"dict3 : \",dict3)\n",
    " \n",
    "# dictionnaire avec des clés mixtes\n",
    "dict4={1:\"Yoan\", \"ville\":\"Oslo\", 10.4: 1.78}\n",
    "print(\"dict4 : \",dict4)\n",
    " \n",
    "# Création d'un dictionnaire avec la méthode dict ()\n",
    "dict5 = dict({1: 'Dev', 2: 'Info', 3:'COM'}) \n",
    "print(\"dict5 : \",dict5)\n",
    " \n",
    "# Créer un dictionnaire avec chaque élément en paire\n",
    "dict6 = dict([(1, 'Geeks'), (2, 'For')]) \n",
    "print(\"dict6 : \",dict6)"
   ]
  },
  {
   "cell_type": "markdown",
   "metadata": {
    "slideshow": {
     "slide_type": "subslide"
    }
   },
   "source": [
    "Comme vous pouvez le voir ci-dessus, nous pouvons également créer un dictionnaire en utilisant la fonction intégrée `dict()`."
   ]
  },
  {
   "cell_type": "markdown",
   "metadata": {
    "slideshow": {
     "slide_type": "slide"
    }
   },
   "source": [
    "### Comment accéder aux valeurs d'un dictionnaire ?"
   ]
  },
  {
   "cell_type": "markdown",
   "metadata": {
    "slideshow": {
     "slide_type": "subslide"
    }
   },
   "source": [
    "Comme indiqué précédemment, l'ordre des éléments dans un dictionnaire peut varier. Par conséquent, nous ne pouvons pas utiliser l'indice de l'élément pour accéder à la valeur. Au lieu de cela, nous utilisons une clé. Pour accéder à la valeur du dictionnaire, nous utilisons la syntaxe suivante:"
   ]
  },
  {
   "cell_type": "markdown",
   "metadata": {
    "slideshow": {
     "slide_type": "subslide"
    }
   },
   "source": [
    "```python\n",
    "nom_dictionnaire[clé] = valeur\n",
    "```"
   ]
  },
  {
   "cell_type": "code",
   "execution_count": null,
   "metadata": {
    "slideshow": {
     "slide_type": "subslide"
    }
   },
   "outputs": [],
   "source": [
    "D={1:\"Thomas\", \"ville\":\"Paris\", 10.4: 1.78}\n",
    "print(\"Clé 1 a pour valeur : \", D[1])\n",
    "print(\"clé ville a pour valeur \", D[\"ville\"])\n",
    "print(\"Clé 10.4 a pour valeur : \", D[10.4])"
   ]
  },
  {
   "cell_type": "markdown",
   "metadata": {
    "slideshow": {
     "slide_type": "subslide"
    }
   },
   "source": [
    "Si la clé spécifiée n'existe pas, une exception **KeyError** sera déclenchée."
   ]
  },
  {
   "cell_type": "markdown",
   "metadata": {
    "slideshow": {
     "slide_type": "slide"
    }
   },
   "source": [
    "### Ajouter/Modifier des éléments"
   ]
  },
  {
   "cell_type": "markdown",
   "metadata": {
    "slideshow": {
     "slide_type": "subslide"
    }
   },
   "source": [
    "On ajoute un élément par l'intermédiaire de la clé entre crochets."
   ]
  },
  {
   "cell_type": "code",
   "execution_count": null,
   "metadata": {
    "slideshow": {
     "slide_type": "subslide"
    }
   },
   "outputs": [],
   "source": [
    "dic = {}\n",
    "dic[\"pseudo\"]=\"fifou\"\n",
    "dic[\"password\"]=\"1234\"\n",
    "dic[\"nom\"]=\"Philippe\"\n",
    "dic[\"bureau\"]=\"203\"\n",
    "dic[2] = \"oui\"\n",
    "print(dic)"
   ]
  },
  {
   "cell_type": "markdown",
   "metadata": {
    "slideshow": {
     "slide_type": "slide"
    }
   },
   "source": [
    "### Parcourir les clés, les valeurs, les éléments"
   ]
  },
  {
   "cell_type": "markdown",
   "metadata": {
    "slideshow": {
     "slide_type": "subslide"
    }
   },
   "source": [
    "Un dictionnaire est **itérable** par l'intermédiaire de la clé et de sa valeur à l'aide de la méthode **items** du dictionnaire."
   ]
  },
  {
   "cell_type": "code",
   "execution_count": null,
   "metadata": {
    "slideshow": {
     "slide_type": "subslide"
    }
   },
   "outputs": [],
   "source": [
    "for key,value in dic.items():\n",
    "    print(key,value,dic[key])"
   ]
  },
  {
   "cell_type": "markdown",
   "metadata": {
    "slideshow": {
     "slide_type": "slide"
    }
   },
   "source": [
    "Il est possible de boucler sur les clés ou les valeurs."
   ]
  },
  {
   "cell_type": "code",
   "execution_count": null,
   "metadata": {
    "slideshow": {
     "slide_type": "subslide"
    }
   },
   "outputs": [],
   "source": [
    "for key in dic.keys():\n",
    "    print(key)"
   ]
  },
  {
   "cell_type": "code",
   "execution_count": null,
   "metadata": {
    "slideshow": {
     "slide_type": "subslide"
    }
   },
   "outputs": [],
   "source": [
    "for values in dic.values():\n",
    "    print(values)"
   ]
  },
  {
   "cell_type": "markdown",
   "metadata": {
    "slideshow": {
     "slide_type": "slide"
    }
   },
   "source": [
    "### Supprimer des éléments"
   ]
  },
  {
   "cell_type": "markdown",
   "metadata": {
    "slideshow": {
     "slide_type": "subslide"
    }
   },
   "source": [
    "Nous pouvons supprimer un élément particulier dans un dictionnaire en utilisant la méthode `pop()`. Cette méthode supprime comme élément avec la clé fournie et retourne la valeur.\n",
    "\n",
    "La méthode `popitem()` peut être utilisée pour supprimer et renvoyer un élément arbitraire (clé, valeur) du dictionnaire. Tous les éléments peuvent être supprimés à la fois en utilisant la méthode `clear()`.\n",
    "\n",
    "Nous pouvons également utiliser le mot-clé **del** pour supprimer des éléments individuels ou le dictionnaire entier lui-même."
   ]
  },
  {
   "cell_type": "code",
   "execution_count": null,
   "metadata": {
    "slideshow": {
     "slide_type": "subslide"
    }
   },
   "outputs": [],
   "source": [
    "D={1:\"Adam\", \"ville\":\"Zurich\", 10.4: 1.78, \"age\":32, 3:45, \"tt\":\"test\"}\n",
    "print(D)\n",
    " \n",
    "print(\"val : \", D.pop(1))\n",
    "print(\"pop : \",D)\n",
    " \n",
    "print(\"val : \", D.popitem())\n",
    "print(\"popitem : \",D)\n",
    " \n",
    "del D[\"age\"]\n",
    "print(\"del : \", D)\n",
    " \n",
    "# vider le dictionnaire\n",
    "D.clear()\n",
    "print(D)"
   ]
  },
  {
   "cell_type": "markdown",
   "metadata": {
    "slideshow": {
     "slide_type": "slide"
    }
   },
   "source": [
    "<div class=\"alert alert-block alert-info\" style='color:white; background-color:blue; border-color: blue; '>\n",
    "    <h2>Ensemble (&lt;class 'set'&gt;)</h2>\n",
    "</div>"
   ]
  },
  {
   "cell_type": "markdown",
   "metadata": {
    "slideshow": {
     "slide_type": "subslide"
    }
   },
   "source": [
    "### Création d'un ensemble"
   ]
  },
  {
   "cell_type": "markdown",
   "metadata": {
    "slideshow": {
     "slide_type": "subslide"
    }
   },
   "source": [
    "Un ensemble est créé en plaçant tous les éléments (éléments) entre accolades {}, séparés par une virgule ou en utilisant la fonction intégrée `set()`.\n",
    "\n",
    "Il peut avoir n'importe quel nombre d'éléments et ils peuvent être de types différents (int, float, tuple, string, etc.). Mais un ensemble **ne peut pas contenir d'éléments mutable**, comme une liste, un ensemble ou un dictionnaire."
   ]
  },
  {
   "cell_type": "code",
   "execution_count": null,
   "metadata": {
    "slideshow": {
     "slide_type": "subslide"
    }
   },
   "outputs": [],
   "source": [
    "# création d'un ensemble de 4 éléments\n",
    "e1={1,3,5,7}\n",
    "print(\"le type de e1 est : \",type(e1))\n",
    "print(\"les éléments de e1 sont : \",e1)\n",
    " \n",
    "e2={\"Mostafa\", 1.78, 32 }\n",
    "print(\"e2 : \",e2)\n",
    " \n",
    "# ensemble avec doublons\n",
    "e3 = {3, 5, 7, 2, 3, 5}\n",
    "print(\"e3 : \", e3)"
   ]
  },
  {
   "cell_type": "markdown",
   "metadata": {
    "slideshow": {
     "slide_type": "slide"
    }
   },
   "source": [
    "> **Les ensembles ne peuvent pas avoir de doublons**"
   ]
  },
  {
   "cell_type": "markdown",
   "metadata": {
    "slideshow": {
     "slide_type": "slide"
    }
   },
   "source": [
    "Nous pouvons également utiliser la fonction intégrée set() pour créer des ensembles. Voici quelques exemples:"
   ]
  },
  {
   "cell_type": "code",
   "execution_count": null,
   "metadata": {
    "scrolled": true,
    "slideshow": {
     "slide_type": "subslide"
    }
   },
   "outputs": [],
   "source": [
    "# créer un ensemble à partir d'un ensemble\n",
    "e1 = set({77, 23, 91, 271})\n",
    "print(\"e1 : \",e1)\n",
    " \n",
    "#créer un ensemble à partir d'une chaîne\n",
    "e2 = set(\"123abc\")\n",
    "print(\"e2 : \",e2)\n",
    " \n",
    "# créer un ensemble à partir d'une liste\n",
    "e3 = set(['Valery', 'Giscard', \"D'Estaing\", 32, 1.78]) \n",
    "print(\"e3 : \",e3)\n",
    " \n",
    "#créer un ensemble à partir d'un tuple\n",
    "e4 = set((\"Mehdi\", \"Marrakech\", 18))\n",
    "print(\"e4 : \",e4)"
   ]
  },
  {
   "cell_type": "markdown",
   "metadata": {},
   "source": [
    "<div style=\"border-color: rgba(40, 167, 70, 0.294); margin: 1.5625em auto; padding: 0 .6rem .8rem !important; overflow: hidden; page-break-inside: avoid; border-left: .2rem solid rgba(40, 167, 70, 0.294); border-radius: .1rem; box-shadow: 0 .2rem .5rem rgba(0,0,0,.05),0 0 .05rem rgba(0,0,0,.1); transition: color .25s,background-color .25s,border-color .25s;\">\n",
    "    <p style=\"background-color: rgba(40,167,70,0.1); position: relative; margin: 0 -.6rem !important; padding: .4rem .6rem .4rem 2rem; font-weight: 700;\">💡 Information</p>\n",
    "    <p style=\"padding: 0 1.4rem; margin-top: .4em; margin-bottom: 0; font-size: 1em;\">\n",
    "        \n",
    "  Comme les ensembles en python ne peuvent pas avoir de doublons, il existe une astuce pour **supprimer tous les doublons présents dans une liste**. Il suffit de transformer cette liste en ensemble grâce à `set` puis de retransformer l'ensemble débarassé des doublons en liste. \n",
    "  \n",
    "  Voici un exemple d'utilisation :\n",
    "  \n",
    "  ```python\n",
    "test_list = [1, 5, 3, 6, 3, 5, 6, 1]\n",
    "print(\"Verson originale : \", test_list)\n",
    "\n",
    "test_list = list(set(test_list))\n",
    "print(\"Version sans les duplicata : \", test_list)\n",
    "```\n",
    "     \n",
    "   </p>\n",
    "</div>"
   ]
  },
  {
   "cell_type": "markdown",
   "metadata": {
    "slideshow": {
     "slide_type": "slide"
    }
   },
   "source": [
    "### Modifier un ensemble"
   ]
  },
  {
   "cell_type": "markdown",
   "metadata": {
    "slideshow": {
     "slide_type": "subslide"
    }
   },
   "source": [
    "Les ensembles sont **mutables**. Mais comme ils ne sont pas ordonnés, l'indexation n'a pas de sens.\n",
    "Nous ne pouvons pas accéder à un élément d'un ensemble ni le modifier à l'aide de l'indexation ou du découpage en tranches. **Set** ne le supporte pas.\n",
    "\n",
    "Nous pouvons ajouter un seul élément à l'aide de la méthode `add()` et plusieurs éléments à l'aide de la méthode `update()`. La méthode `update()` peut prendre pour argument des tuples, des listes, des chaînes ou d'autres ensembles. Dans tous les cas :\n",
    "\n",
    "* les doublons sont évités.\n",
    "* Les tuples, listes, chaines ajoutés sont éclatés."
   ]
  },
  {
   "cell_type": "code",
   "execution_count": null,
   "metadata": {
    "slideshow": {
     "slide_type": "subslide"
    }
   },
   "outputs": [],
   "source": [
    "e={1,3}\n",
    " \n",
    "# ajouter un élément\n",
    "e.add(5)\n",
    "print(\"e : \",e)\n",
    " \n",
    "# ajouter une liste\n",
    "e.update([9,4,7])\n",
    "print(\"e : \",e)\n",
    " \n",
    "# ajouter une liste et un ensemble\n",
    "e.update([50,51],{100,200})\n",
    "print(\"e : \",e)"
   ]
  },
  {
   "cell_type": "markdown",
   "metadata": {
    "slideshow": {
     "slide_type": "slide"
    }
   },
   "source": [
    "### Supprimer un élément d'un ensemble"
   ]
  },
  {
   "cell_type": "markdown",
   "metadata": {
    "slideshow": {
     "slide_type": "subslide"
    }
   },
   "source": [
    "Un élément particulier peut être supprimé de la série à l’aide des méthodes, `discard()` et `remove()`.\n",
    "La seule différence entre les deux est que, tout en utilisant `discard()` si l'élément n'existe pas dans l'ensemble, il reste inchangé. Mais si vous supprimez un élément qui n'existe pas à l'aide de  `remove()` ça provoquera une erreur (**KeyError**)."
   ]
  },
  {
   "cell_type": "code",
   "execution_count": null,
   "metadata": {
    "scrolled": true,
    "slideshow": {
     "slide_type": "subslide"
    }
   },
   "outputs": [],
   "source": [
    "e = {1, 3, 6, 7}\n",
    " \n",
    "e.discard(3)\n",
    "print(\"e : \", e)\n",
    "     \n",
    "e.remove(7)\n",
    "print(\"e : \", e)\n",
    "     \n",
    "e.discard(9)\n",
    "print(\"e : \", e)\n",
    "     \n",
    "e.remove(9)\n",
    "print(\"e : \", e)"
   ]
  },
  {
   "cell_type": "markdown",
   "metadata": {
    "slideshow": {
     "slide_type": "subslide"
    }
   },
   "source": [
    "De même, nous pouvons supprimer et retourner un élément en utilisant la méthode `pop()`.\n",
    "Les ensembles n'étant pas ordonnés, il n'y a aucun moyen de déterminer quel élément sera supprimé. **C'est complètement arbitraire**.\n",
    "\n",
    "Nous pouvons également supprimer tous les éléments d'un ensemble en utilisant `clear()`."
   ]
  },
  {
   "cell_type": "code",
   "execution_count": null,
   "metadata": {
    "slideshow": {
     "slide_type": "subslide"
    }
   },
   "outputs": [],
   "source": [
    "e={2, 4, 90, 100, 30, 32, 1}\n",
    "val=e.pop()\n",
    "print(\"val : \",val)\n",
    "print(\"e : \",e)\n",
    " \n",
    "e.clear()\n",
    "print(\"e : \",e)"
   ]
  },
  {
   "cell_type": "markdown",
   "metadata": {
    "slideshow": {
     "slide_type": "slide"
    }
   },
   "source": [
    "### Opérations ensemblistes"
   ]
  },
  {
   "cell_type": "code",
   "execution_count": null,
   "metadata": {
    "slideshow": {
     "slide_type": "subslide"
    }
   },
   "outputs": [],
   "source": [
    "A = {1, 2, 3, 4, 5, 6, 7, 8, 9, 10}\n",
    "B = {1, 2, 3, \"one\", \"two\", \"three\"}\n",
    "print(A)\n",
    "print(B)\n",
    "print(\"\")\n",
    "print(\"Intersection: \",A & B) #intersection\n",
    "print(\"Union: \",A | B) #union\n",
    "print(\"Différence: \",B - A) #différence\n",
    "print(\"Union disjointe: \",A ^ B) #union disjointe"
   ]
  },
  {
   "cell_type": "markdown",
   "metadata": {
    "slideshow": {
     "slide_type": "slide"
    }
   },
   "source": [
    "Il est possible de tester la présence d'un élément d'un ensemble."
   ]
  },
  {
   "cell_type": "code",
   "execution_count": null,
   "metadata": {
    "slideshow": {
     "slide_type": "subslide"
    }
   },
   "outputs": [],
   "source": [
    "print(36 in A)\n",
    "print(\"one\" in B)\n",
    "print(3 not in B)"
   ]
  },
  {
   "cell_type": "markdown",
   "metadata": {
    "slideshow": {
     "slide_type": "slide"
    }
   },
   "source": [
    "# Exercices de TD\n",
    "\n",
    "Vous pouvez maintenant vous exercer à partir du notebook [TD 10](../TD/TD%2010%20-%20Les%20structures%20de%20données%202.ipynb)."
   ]
  }
 ],
 "metadata": {
  "celltoolbar": "Format de la Cellule Texte Brut",
  "kernelspec": {
   "display_name": "Python 3",
   "language": "python",
   "name": "python3"
  },
  "language_info": {
   "codemirror_mode": {
    "name": "ipython",
    "version": 3
   },
   "file_extension": ".py",
   "mimetype": "text/x-python",
   "name": "python",
   "nbconvert_exporter": "python",
   "pygments_lexer": "ipython3",
   "version": "3.7.4"
  },
  "latex_envs": {
   "LaTeX_envs_menu_present": true,
   "autoclose": false,
   "autocomplete": true,
   "bibliofile": "biblio.bib",
   "cite_by": "apalike",
   "current_citInitial": 1,
   "eqLabelWithNumbers": true,
   "eqNumInitial": 1,
   "hotkeys": {
    "equation": "Ctrl-E",
    "itemize": "Ctrl-I"
   },
   "labels_anchors": false,
   "latex_user_defs": false,
   "report_style_numbering": false,
   "user_envs_cfg": false
  },
  "varInspector": {
   "cols": {
    "lenName": 16,
    "lenType": 16,
    "lenVar": 40
   },
   "kernels_config": {
    "python": {
     "delete_cmd_postfix": "",
     "delete_cmd_prefix": "del ",
     "library": "var_list.py",
     "varRefreshCmd": "print(var_dic_list())"
    },
    "r": {
     "delete_cmd_postfix": ") ",
     "delete_cmd_prefix": "rm(",
     "library": "var_list.r",
     "varRefreshCmd": "cat(var_dic_list()) "
    }
   },
   "types_to_exclude": [
    "module",
    "function",
    "builtin_function_or_method",
    "instance",
    "_Feature"
   ],
   "window_display": false
  }
 },
 "nbformat": 4,
 "nbformat_minor": 4
}
