{
 "cells": [
  {
   "cell_type": "markdown",
   "metadata": {
    "deletable": false,
    "editable": false
   },
   "source": [
    "<div class=\"alert alert-block alert-info\" style='color:white; background-color:#29088A; border-color: black; '>\n",
    "    <hr><h1>Partiel d'Introduction au langage Python - SUP 2022 </h1><hr>\n",
    "    <br>\n",
    "</div>"
   ]
  },
  {
   "cell_type": "markdown",
   "metadata": {},
   "source": [
    "**Nom:** "
   ]
  },
  {
   "cell_type": "markdown",
   "metadata": {},
   "source": [
    "**Prénom:** "
   ]
  },
  {
   "cell_type": "markdown",
   "metadata": {},
   "source": [
    "**Classe:** "
   ]
  },
  {
   "cell_type": "markdown",
   "metadata": {
    "deletable": false,
    "editable": false
   },
   "source": [
    "<div class=\"alert alert-block alert-info\" style='color:white; background-color:#29088A; border-color: black; '>\n",
    "    <hr><h2>Consignes : </h2>\n",
    "    <ul>\n",
    "        <li>Vous disposez de 2h heures pour réaliser ce sujet ;</li>\n",
    "        <li>Les  exercices suivants sont indépendants :</li>\n",
    "        <ul>\n",
    "            <li><a href=\"#Questions-de-cours\" style=\"color:#00FF44\">Questions de cours (3 points)</a></li>\n",
    "            <li><a href=\"#Exercice-01---Chaînes-de-caractères\" style=\"color:#00FF44\">Exercice 01 - Chaînes de caractères (2 points)</a></li>\n",
    "            <li><a href=\"#Exercice-02---Fonction-récursive\" style=\"color:#00FF44\">Exercice 02 - Fonction récursive (2 points)</a></li>\n",
    "            <li><a href=\"#Exercice-03---Nombre-d'Amstrong\" style=\"color:#00FF44\">Exercice 03 - Nombre d'Amstrong (2 points)</a></li>\n",
    "            <li><a href=\"#Exercice-04---Vérification-de-cartes-bancaires\" style=\"color:#00FF44\">Exercice 04 - Vérification de cartes bancaires (6 points)</a></li>\n",
    "            <li><a href=\"#Exercice-05---Dictionnaire\" style=\"color:#00FF44\">Exercice 05 - Dictionnaire (2 points)</a></li>\n",
    "            <li><a href=\"#Exercice-06---Recherche-de-maximums\" style=\"color:#00FF44\">Exercice 06 - Recherche de maximums (3 points)</a></li>\n",
    "        </ul><br>\n",
    "        <li>Aucune documentation n'est permise ;</li>\n",
    "        <li>Sauvegardez régulièrement votre travail ;</li>\n",
    "        <li>Le barême est donné à titre indicatif ;</li>\n",
    "        <li>A la fin de l'examen, envoyez votre notebook à partir du lien fourni par votre enseignant.</li><br>\n",
    "    </ul>\n",
    "    <hr><h2>Questions de cours (<span style=\"color: lime\">3pts</span>)</h2><hr>\n",
    "    \n",
    "<font></font>\n",
    "    <ol>\n",
    "    <li>Pour pouvoir utiliser un algorithme de recherche par dichotomie dans une liste, quelle précondition doit être vraie? (<span style=\"color: lime\">0,5 pt</span>)</li>\n",
    "    </ol>\n",
    "    a. La liste ne doit pas comporter de doublons.<br>\n",
    "    b. La liste doit comporter uniquement des entiers positifs.<br>\n",
    "    c. La liste doit être triée.<br>\n",
    "    d. La longueur de la liste doit être une puissance de 2.<br>\n",
    "    \n",
    "\n",
    "</div>"
   ]
  },
  {
   "cell_type": "raw",
   "metadata": {},
   "source": [
    "#Insérez votre réponse ici"
   ]
  },
  {
   "cell_type": "markdown",
   "metadata": {
    "deletable": false,
    "editable": false
   },
   "source": [
    "<div class=\"alert alert-block alert-info\" style='color:white; background-color:#29088A; border-color: black; '>\n",
    "    \n",
    "<font></font>\n",
    "    <ol start=\"2\">\n",
    "        <li>Avec un algorithme de recherche dichotomique, combien d'étapes sont nécessaires pour déterminer que 35 est présent dans le tableau [1, 7, 12, 16, 18, 20, 24, 28, 35, 43, 69]?. (<span style=\"color: lime\">0,5pts</span>)</li>\n",
    "    </ol>  \n",
    "    a. 1<br>\n",
    "    b. 2<br>\n",
    "    c. 9<br>\n",
    "    d. 11<br>\n",
    "</div>"
   ]
  },
  {
   "cell_type": "raw",
   "metadata": {},
   "source": [
    "#Insérez votre réponse ici"
   ]
  },
  {
   "cell_type": "markdown",
   "metadata": {
    "deletable": false,
    "editable": false
   },
   "source": [
    "<div class=\"alert alert-block alert-info\" style='color:white; background-color:#29088A; border-color: black; '>\n",
    "    \n",
    "<font></font>\n",
    "    <ol start=\"3\">\n",
    "        <li>dico = {\"a\": True, \"b\": False, \"c\": False}<br>\n",
    "Quelle est la valeur de dico[1] ? (<span style=\"color: lime\">0,5pt</span>)</li>\n",
    "    a. \"a\"<br>\n",
    "    b. True<br>\n",
    "    c. \"b\"<br>\n",
    "    d. False<br>\n",
    "    e. Rien car l’expression n’est pas valide<br>    \n",
    "    </ol>  \n",
    "</div>"
   ]
  },
  {
   "cell_type": "raw",
   "metadata": {},
   "source": [
    "#Insérez votre réponse ici"
   ]
  },
  {
   "cell_type": "markdown",
   "metadata": {
    "deletable": false,
    "editable": false
   },
   "source": [
    "<div class=\"alert alert-block alert-info\" style='color:white; background-color:#29088A; border-color: black; '>\n",
    "    \n",
    "<font></font>\n",
    "    <ol start=\"4\">\n",
    "        <li>dico = {\"a\": True, \"b\": False, \"c\": False}<br>\n",
    "Quelle instruction permet de modifier le dictionnaire de façon à ce que sa nouvelle valeur\n",
    "soit {\"a\": True, \"b\": False, \"c\": False, \"e\": True} ? (<span style=\"color: lime\">0,5pt</span>)</li>\n",
    "    a. dico[\"e\"] = True <br>\n",
    "    b. dico.append(\"e\") <br>\n",
    "    c. dico.append(\"e\", True)<br>   \n",
    "    </ol>  \n",
    "</div>"
   ]
  },
  {
   "cell_type": "raw",
   "metadata": {},
   "source": [
    "#Insérez votre réponse ici"
   ]
  },
  {
   "cell_type": "markdown",
   "metadata": {
    "deletable": false,
    "editable": false
   },
   "source": [
    "<div class=\"alert alert-block alert-info\" style='color:white; background-color:#29088A; border-color: black; '>\n",
    "    \n",
    "<font></font>\n",
    "    <ol start=\"5\">\n",
    "        <li>Supposons que list1 est [2, 3, 4, 5, 1, 20, 6], quelle sera la valeur de list1 après\n",
    "list1.pop(1) ? (<span style=\"color: lime\">0,5pt</span>)</li>\n",
    "    a. [2, 3, 4, 5, 20, 6]<br>\n",
    "    b. [2, 1, 4, 5, 1, 20, 6]<br>\n",
    "    c. [2, 3, 4, 5, 1, 20, 6, 1]<br>\n",
    "    d. [2, 4, 5, 1, 20, 6]  <br>   \n",
    "    </ol>  \n",
    "</div>"
   ]
  },
  {
   "cell_type": "raw",
   "metadata": {},
   "source": [
    "#Insérez votre réponse ici"
   ]
  },
  {
   "cell_type": "markdown",
   "metadata": {
    "deletable": false,
    "editable": false
   },
   "source": [
    "<div class=\"alert alert-block alert-info\" style='color:white; background-color:#29088A; border-color: black; '>\n",
    "    \n",
    "<font></font>\n",
    "    <ol start=\"6\">\n",
    "        <li>Quelle est la bonne syntaxe pour lire à partir d’un fichier texte stocké dans «file.txt »? (<span style=\"color: lime\">0,5pt</span>)</li>\n",
    "    a. f = open('file.txt', 'w')<br>\n",
    "    b. f = open(file='file.txt', 'a')<br>\n",
    "    c. f = open.file('file.txt', 'r')<br>\n",
    "    d. f = open('file.txt', 'r')<br>  \n",
    "    </ol>  \n",
    "</div>"
   ]
  },
  {
   "cell_type": "raw",
   "metadata": {},
   "source": [
    "#Insérez votre réponse ici"
   ]
  },
  {
   "cell_type": "markdown",
   "metadata": {
    "deletable": false,
    "editable": false
   },
   "source": [
    "<div class=\"alert alert-block alert-info\" style='color:white; background-color:#29088A; border-color: black; ' id=\"Exercice-01---Chaînes-de-caractères\">\n",
    "    <hr><h2>Exercice 01 - Chaînes de caractères (<span style=\"color: lime\">2pts</span>)</h2><hr>\n",
    "    \n",
    "Ecrire une fonction <I><B>unique</B></I> qui prend une chaîne de caractères en entrée et retourne la chaîne obtenue en ne laissant qu'une seule occurence pour chaque caractère.\n",
    "\n",
    "Exemple :\n",
    "```python\n",
    "print(unique(\"bonjour\"))\n",
    ">>> bonjur\n",
    "print(unique(\"exercice\"))\n",
    ">>> exrci\n",
    "```\n",
    "</div>"
   ]
  },
  {
   "cell_type": "code",
   "execution_count": null,
   "metadata": {},
   "outputs": [],
   "source": [
    "#Insérez votre code ici"
   ]
  },
  {
   "cell_type": "markdown",
   "metadata": {
    "deletable": false,
    "editable": false
   },
   "source": [
    "<div class=\"alert alert-block alert-info\" style='color:white; background-color:#29088A; border-color: black; ' id=\"Exercice-02---Fonction-récursive\">\n",
    "    <hr><h2>Exercice 02 - Fonction récursive (<span style=\"color: lime\">2pts</span>)</h2><hr>\n",
    "    \n",
    "Soit la suite définie par :<br>\n",
    "$u_{n}=1$ si   $n<=2$<br>\n",
    "$u_{n}=3 u_{n-1}+ u_{n-2}$ sinon<br>\n",
    "\n",
    "Écrire une fonction récursive <I><B>u(n)</B></I> implémentant cette suite.\n",
    "</div>"
   ]
  },
  {
   "cell_type": "code",
   "execution_count": 1,
   "metadata": {},
   "outputs": [],
   "source": [
    "#Insérez votre code ici"
   ]
  },
  {
   "cell_type": "markdown",
   "metadata": {
    "deletable": false,
    "editable": false
   },
   "source": [
    "<div class=\"alert alert-block alert-info\" style='color:white; background-color:#29088A; border-color: black; ' id=\"Exercice-03---Nombre-d'Amstrong\">\n",
    "    <h2><hr>Exercice 03 - Nombre d'Armstrong (<span style=\"color: lime\">2pts</span>)</h2><hr>\n",
    "On appelle nombre d'Armstrong un nombre qui est égal à la somme de ses propres chiffres, chacun élevé à la puissance du nombre de chiffres le constituant.\n",
    "\n",
    "Voici quelques exemples de nombres dits nombres d'Armstrong.\n",
    "\n",
    "i) 153 = 1³ + 5³ + 3³\n",
    "\n",
    "ii) 1634 = 1⁴ + 6⁴ + 3⁴ + 4⁴\n",
    "\n",
    "\n",
    "\n",
    "            \n",
    "Ecrire une fonction <I><B>fct</B></I> qui prend en paramètre un nombre et qui retourne True si ce nombre est un nombre d'Armstrong et False dans le cas contraire. \n",
    "\n",
    "</div>"
   ]
  },
  {
   "cell_type": "code",
   "execution_count": null,
   "metadata": {},
   "outputs": [],
   "source": [
    "#Insérez votre code ici"
   ]
  },
  {
   "cell_type": "markdown",
   "metadata": {
    "deletable": false,
    "editable": false
   },
   "source": [
    "<div class=\"alert alert-block alert-info\" style='color:white; background-color:#29088A; border-color: black; ' id=\"Exercice-04---Vérification-de-cartes-bancaires\">\n",
    "    <h2><hr>Exercice 04 - Vérification de cartes bancaires (<span style=\"color: lime\">6pts</span>)</h2><hr>\n",
    "Le but de cet exercice est d'écrire un programme python qui détermine si un numéro de carte de crédit est valide ou non. L'algorithme qui permet de faire cette vérification a été proposé par l'informaticien allemand Hans Peter Luhn qui travaillait chez IBM.\n",
    "    L'algorithme de Luhn procède en 3 étapes :\n",
    "    <ol start=\"1\">\n",
    "        <li> L'algorithme multiplie par 2 un chiffre sur 2 en commençant par l'avant dernier chiffre et en se déplaçant de droite à gauche. Puis, Si ce chiffre (qui est multiplié par deux) est plus grand que 9, on y retranche 9, pour qu’il soit compris entre 0 et 9.(<span style=\"color: lime\">3pts</span>)</li>\n",
    "    </ol>\n",
    "    <ol start=\"2\">\n",
    "        <li> L'algorithme somme alors ces chiffres obtenus à l'étape 1 avec les autres chiffres n’ayant pas été traité à l'étape 1.(<span style=\"color: lime\">2pts</span>)</li>\n",
    "    </ol>\n",
    "    <ol start=\"3\">\n",
    "        <li> Si le résultat de cette somme est divisible par 10 alors le code est bon. Dans le cas contraire le code est erroné.(<span style=\"color: lime\">1pt</span>)</li>\n",
    "        \n",
    "Exemple :une carte bancaire a le numéro suivant: 3573 6300 5499 6611\n",
    "<table>\n",
    "    <tbody>\n",
    "        <tr>\n",
    "            <td>3</td>\n",
    "            <td>5</td>\n",
    "            <td>7</td>\n",
    "            <td>3</td>\n",
    "            <td>6</td>\n",
    "            <td>3</td>\n",
    "            <td>0</td>\n",
    "            <td>0</td>\n",
    "            <td>5</td>\n",
    "            <td>4</td>\n",
    "            <td>9</td>\n",
    "            <td>9</td>\n",
    "            <td>6</td>\n",
    "            <td>6</td>\n",
    "            <td>1</td>\n",
    "            <td>1</td>\n",
    "        </tr>\n",
    "        <tr style='color:white; background-color:#29088A; border-color: black ;border-color: black'>\n",
    "            <td>6</td>\n",
    "            <td>5</td>\n",
    "            <td>14</td>\n",
    "            <td>3</td>\n",
    "            <td>12</td>\n",
    "            <td>3</td>\n",
    "            <td>0</td>\n",
    "            <td>0</td>\n",
    "            <td>10</td>\n",
    "            <td>4</td>\n",
    "            <td>18</td>\n",
    "            <td>9</td>\n",
    "            <td>12</td>\n",
    "            <td>6</td>\n",
    "            <td>2</td>\n",
    "            <td>1</td>\n",
    "        </tr>\n",
    "        <tr>\n",
    "            <td>6</td>\n",
    "            <td>5</td>\n",
    "            <td>5</td>\n",
    "            <td>3</td>\n",
    "            <td>3</td>\n",
    "            <td>3</td>\n",
    "            <td>0</td>\n",
    "            <td>0</td>\n",
    "            <td>1</td>\n",
    "            <td>4</td>\n",
    "            <td>9</td>\n",
    "            <td>9</td>\n",
    "            <td>3</td>\n",
    "            <td>6</td>\n",
    "            <td>2</td>\n",
    "            <td>1</td>\n",
    "        </tr>\n",
    "    </tbody>\n",
    "</table>    \n",
    "Calcul de la somme: 6+5+5+3+3+3+0+0+1+4+9+9+3+6+2+1=60.<br>\n",
    "Numéro de carte valide car 60 est un multiple de 10.<br>\n",
    "Exemple de numéro de carte invalide : 3573 6300 5499 6614<br><br>\n",
    "Ecrire la fonction <B><I>luhn</I></B> qui prend en paramètre une chaine de caractère représentant le numéro de la carte bleu et qui retourne <B><I>\"numéro de carte valide\"</I></B> si l'algorithme est vérifié et <B><I>\"numéro de carte erroné\"</I></B> dans le cas contraire.\n",
    "    </ol>\n",
    "</div>"
   ]
  },
  {
   "cell_type": "code",
   "execution_count": null,
   "metadata": {},
   "outputs": [],
   "source": [
    "#Insérez votre code ici"
   ]
  },
  {
   "cell_type": "markdown",
   "metadata": {
    "deletable": false,
    "editable": false
   },
   "source": [
    "<div class=\"alert alert-block alert-info\" style='color:white; background-color:#29088A; border-color: black; ' id=\"Exercice-05---Dictionnaire\">\n",
    "    <hr><h2>Exercice 05 - Dictionnaire (<span style=\"color: lime\">2pts</span>)</h2><hr>\n",
    "    \n",
    "Écrire une fonction Python <B><I>dictionnaire</I></B> qui pour tout entier n retourne un dictionnaire formé des entiers de 1 à n et de leurs carrées.\n",
    "\n",
    "Exemple pour n = 7 le dictionnaire retourné par la fonction dictionnaire sera :\n",
    "\n",
    "{1: 1, 2: 4, 3: 9, 4: 16, 5: 25 , 6: 36 , 7: 49}\n",
    "</div>"
   ]
  },
  {
   "cell_type": "code",
   "execution_count": null,
   "metadata": {},
   "outputs": [],
   "source": [
    "#Insérez votre code ici"
   ]
  },
  {
   "cell_type": "markdown",
   "metadata": {
    "deletable": false,
    "editable": false
   },
   "source": [
    "<div class=\"alert alert-block alert-info\" style='color:white; background-color:#29088A; border-color: black; ' id=\"Exercice-06---Recherche-de-maximums\">\n",
    "    <hr><h2>Exercice 06 - Recherche de maximums (<span style=\"color: lime\">3pts</span>)</h2><hr>\n",
    "    \n",
    "Nous chercherons dans cet exercice à proposer une fonction qui recherchera les n premiers maximums d'une liste entrée en paramètre. A noter que les fonctions natives de python sont interdites.\n",
    "    <ol start=\"1\">\n",
    "        <li> Dans un premier temps, écrivez une fonction <B><I>maximum()</I></B> qui renverra le maximum d'une liste L entrée en paramètre.(<span style=\"color: lime\">1pt</span>)</li>\n",
    "    </ol>\n",
    "</div>    "
   ]
  },
  {
   "cell_type": "code",
   "execution_count": null,
   "metadata": {},
   "outputs": [],
   "source": [
    "#Insérez votre code ici"
   ]
  },
  {
   "cell_type": "markdown",
   "metadata": {
    "deletable": false,
    "editable": false
   },
   "source": [
    "<div class=\"alert alert-block alert-info\" style='color:white; background-color:#29088A; border-color: black; ' id=\"Exercice-06---Recherche-de-maximums\">\n",
    "    <ol start=\"2\">\n",
    "        <li> A partir de la fonction <B><I>maximum()</I></B> codée précédemment, implémentez une fonction <B><I>somme_maxi()</I></B> qui prendra en entrées une liste Liste et un entier n et qui renverra une liste contenant les n entiers les plus grands de la liste.(<span style=\"color: lime\">2pts</span>)</li>\n",
    "    </ol>\n",
    "</div>    "
   ]
  },
  {
   "cell_type": "code",
   "execution_count": null,
   "metadata": {},
   "outputs": [],
   "source": [
    "#Insérez votre code ici"
   ]
  },
  {
   "cell_type": "markdown",
   "metadata": {
    "deletable": false,
    "editable": false
   },
   "source": [
    "<div class=\"alert alert-block alert-info\" style='color:white; background-color:#29088A; border-color: black; ' id=\"Exercice-04---Vérification-de-cartes-bancaires\">\n",
    "<center><b>Une fois l'épreuve terminée, sauvegardez votre notebook <br>\n",
    "    Renommez le en <span style=\"color: chartreuse\">NomDeFamille_Prenom_TPbis.ipynb</span></b></center>\n",
    "    <center><b>Uploadez le à partir du lien fourni par votre enseignant</b></center>\n",
    "</div>"
   ]
  }
 ],
 "metadata": {
  "celltoolbar": "Aucun(e)",
  "kernelspec": {
   "display_name": "Python 3",
   "language": "python",
   "name": "python3"
  },
  "language_info": {
   "codemirror_mode": {
    "name": "ipython",
    "version": 3
   },
   "file_extension": ".py",
   "mimetype": "text/x-python",
   "name": "python",
   "nbconvert_exporter": "python",
   "pygments_lexer": "ipython3",
   "version": "3.7.6"
  },
  "latex_envs": {
   "LaTeX_envs_menu_present": true,
   "autoclose": false,
   "autocomplete": true,
   "bibliofile": "biblio.bib",
   "cite_by": "apalike",
   "current_citInitial": 1,
   "eqLabelWithNumbers": true,
   "eqNumInitial": 1,
   "hotkeys": {
    "equation": "Ctrl-E",
    "itemize": "Ctrl-I"
   },
   "labels_anchors": false,
   "latex_user_defs": false,
   "report_style_numbering": false,
   "user_envs_cfg": false
  },
  "varInspector": {
   "cols": {
    "lenName": 16,
    "lenType": 16,
    "lenVar": 40
   },
   "kernels_config": {
    "python": {
     "delete_cmd_postfix": "",
     "delete_cmd_prefix": "del ",
     "library": "var_list.py",
     "varRefreshCmd": "print(var_dic_list())"
    },
    "r": {
     "delete_cmd_postfix": ") ",
     "delete_cmd_prefix": "rm(",
     "library": "var_list.r",
     "varRefreshCmd": "cat(var_dic_list()) "
    }
   },
   "types_to_exclude": [
    "module",
    "function",
    "builtin_function_or_method",
    "instance",
    "_Feature"
   ],
   "window_display": false
  }
 },
 "nbformat": 4,
 "nbformat_minor": 4
}
