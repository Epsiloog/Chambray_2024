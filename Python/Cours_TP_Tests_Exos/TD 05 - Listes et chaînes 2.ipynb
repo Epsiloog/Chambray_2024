{
 "cells": [
  {
   "cell_type": "markdown",
   "metadata": {},
   "source": [
    "***\n",
    "# IngeSUP - TD 05 - Listes et chaînes 2\n",
    "***"
   ]
  },
  {
   "cell_type": "markdown",
   "metadata": {},
   "source": [
    "<blockquote><em>“Nous ferons mieux de nous mettre plus haut sur notre propre liste de choses à faire.”</em></blockquote>&nbsp;&nbsp;<i style=\"font-size: 10px\">Michelle Obama</i>"
   ]
  },
  {
   "cell_type": "markdown",
   "metadata": {},
   "source": [
    "***\n",
    "## Exercice 05.1\n",
    "***"
   ]
  },
  {
   "cell_type": "markdown",
   "metadata": {},
   "source": [
    "Pour chacune des questions suivantes, écrire un programme qui remplit une liste d'entiers demandés à l'utilisateur à l’aide d’une boucle et de la fonction input), puis effectuez les actions suivantes :"
   ]
  },
  {
   "cell_type": "markdown",
   "metadata": {},
   "source": [
    "1. Complétez le programme pour afficher la liste en colonne. C’est-à-dire que chaque élément est du type i : liste[i] si i est l’indice et liste le nom de la liste."
   ]
  },
  {
   "cell_type": "code",
   "execution_count": null,
   "metadata": {},
   "outputs": [],
   "source": [
    "# VOTRE CODE ICI"
   ]
  },
  {
   "cell_type": "markdown",
   "metadata": {},
   "source": [
    "1. Modifiez le programme pour qu'il compte le nombre de multiples de 3 dans la liste"
   ]
  },
  {
   "cell_type": "code",
   "execution_count": null,
   "metadata": {},
   "outputs": [],
   "source": [
    "# VOTRE CODE ICI"
   ]
  },
  {
   "cell_type": "markdown",
   "metadata": {},
   "source": [
    "2. Modifiez le programme pour qu'il calcule la somme de toutes les valeurs paires issues de la liste"
   ]
  },
  {
   "cell_type": "code",
   "execution_count": null,
   "metadata": {},
   "outputs": [],
   "source": [
    "# VOTRE CODE ICI"
   ]
  },
  {
   "cell_type": "markdown",
   "metadata": {},
   "source": [
    "3. Modifiez le programme pour qu'il indique si la valeur de la moyenne arithmétique des entiers entrés par l'utilisateur est supérieure à 10."
   ]
  },
  {
   "cell_type": "code",
   "execution_count": null,
   "metadata": {},
   "outputs": [],
   "source": [
    "# VOTRE CODE ICI"
   ]
  },
  {
   "cell_type": "markdown",
   "metadata": {},
   "source": [
    "4. Modifiez le programme précédent pour qu'il remplisse une nouvelle liste avec toutes les valeurs comprises dans l'intervalle [50,70]."
   ]
  },
  {
   "cell_type": "code",
   "execution_count": null,
   "metadata": {},
   "outputs": [],
   "source": [
    "# VOTRE CODE ICI"
   ]
  },
  {
   "cell_type": "markdown",
   "metadata": {},
   "source": [
    "5. Modifiez le programme précédent pour qu'il affiche la liste à l'envers, sans sauter la ligne et sans faire appel à une autre liste."
   ]
  },
  {
   "cell_type": "code",
   "execution_count": null,
   "metadata": {},
   "outputs": [],
   "source": [
    "# VOTRE CODE ICI"
   ]
  },
  {
   "cell_type": "markdown",
   "metadata": {},
   "source": [
    "***\n",
    "## Exercice 05.2\n",
    "***"
   ]
  },
  {
   "cell_type": "markdown",
   "metadata": {},
   "source": [
    "1. Ecrire un programme qui calcule et stocke dans une liste `liste2` le double des éléments contenus dans une liste `liste` en utilisant la syntaxe des compréhensions de liste."
   ]
  },
  {
   "cell_type": "code",
   "execution_count": null,
   "metadata": {},
   "outputs": [],
   "source": [
    "# VOTRE CODE ICI"
   ]
  },
  {
   "cell_type": "markdown",
   "metadata": {},
   "source": [
    "2. Ecrire un programme qui stocke dans une liste `L2` les éléments impairs d'une liste `L` en partant du début de la liste en utilisant la syntaxe des compréhensions de liste."
   ]
  },
  {
   "cell_type": "code",
   "execution_count": null,
   "metadata": {
    "scrolled": true
   },
   "outputs": [],
   "source": [
    "# VOTRE CODE ICI"
   ]
  },
  {
   "cell_type": "markdown",
   "metadata": {},
   "source": [
    "3. Ecrire un programme qui remplisse une liste `L2` avec des nombres pairs parmis les 5 premières valeurs d'une liste `L` en utilisant la syntaxe des compréhensions de liste. Afficher `L2`."
   ]
  },
  {
   "cell_type": "code",
   "execution_count": null,
   "metadata": {
    "scrolled": true
   },
   "outputs": [],
   "source": [
    "# VOTRE CODE ICI"
   ]
  },
  {
   "cell_type": "markdown",
   "metadata": {},
   "source": [
    "***\n",
    "## Exercice 05.3\n",
    "***"
   ]
  },
  {
   "cell_type": "markdown",
   "metadata": {},
   "source": [
    "Ecrire un programme qui découpe, dans une liste `mots`, une chaine de caractères en mot (c'est à dire une chaine séparée par des espaces) et renvoie le nombre de caractères dans une seconde liste `nb_caracteres` dans  le même ordre que la liste des mots `mots`.\n",
    "\n",
    "Remarques : \n",
    "  1. On fera bon usage de la fonction `split()`\n",
    "  2. On pourra utiliser la syntaxe des compréhensions de liste\n",
    "  3. La liste `mots` est une liste qui peut servir d'intermédiaire"
   ]
  },
  {
   "cell_type": "code",
   "execution_count": null,
   "metadata": {
    "scrolled": true
   },
   "outputs": [],
   "source": [
    "# VOTRE CODE ICI"
   ]
  },
  {
   "cell_type": "code",
   "execution_count": null,
   "metadata": {},
   "outputs": [],
   "source": [
    "#version compréhensions de liste"
   ]
  },
  {
   "cell_type": "markdown",
   "metadata": {},
   "source": [
    "***\n",
    "## Exercice 05.4\n",
    "***"
   ]
  },
  {
   "cell_type": "markdown",
   "metadata": {},
   "source": [
    "Ecrire un programme qui génère les chaînes `tata`, `tete`, `titi` `toto` et `tutu` à partir de la chaîne `t_t_` ou n'importe quelle chaine composée de consonnes et du caractère `_` qui sera remplacé par toutes les voyelles `aeiou`.\n",
    "L'ensemble des variantes ainsi construite sera regroupé dans une liste.\n",
    "\n",
    "Remarques :\n",
    "    1. On fera bon usage de la fonction `replace`\n",
    "    2. On pourra utiliser la syntaxe des compréhensions de liste \n"
   ]
  },
  {
   "cell_type": "code",
   "execution_count": null,
   "metadata": {
    "scrolled": true
   },
   "outputs": [],
   "source": [
    "#VOTRE CODE ICI"
   ]
  },
  {
   "cell_type": "code",
   "execution_count": null,
   "metadata": {},
   "outputs": [],
   "source": [
    "# version compréhension de liste"
   ]
  },
  {
   "cell_type": "markdown",
   "metadata": {},
   "source": [
    "***\n",
    "## Exercice 05.6\n",
    "***"
   ]
  },
  {
   "cell_type": "markdown",
   "metadata": {},
   "source": [
    "Ecrire un programme qui affecte la valeur `True` à une variable _toute_ si une liste _liste_ possède des valeurs toutes supérieures à 1."
   ]
  },
  {
   "cell_type": "code",
   "execution_count": null,
   "metadata": {
    "scrolled": true
   },
   "outputs": [],
   "source": [
    "# VOTRE CODE ICI"
   ]
  },
  {
   "cell_type": "markdown",
   "metadata": {},
   "source": [
    "***\n",
    "## Exercice 05.7\n",
    "***"
   ]
  },
  {
   "cell_type": "markdown",
   "metadata": {},
   "source": [
    "1. Ecrire un programme qui effectue une permutation circulaire de la liste. Chaque élément prend la valeur de son élément de droite et la première valeur se retrouve en dernier : Par exemple si la liste est [8, 24, 48, 2, 16] après l’exécution du programme elle sera [24, 48, 2, 16, 8]"
   ]
  },
  {
   "cell_type": "code",
   "execution_count": null,
   "metadata": {},
   "outputs": [],
   "source": [
    "# VOTRE CODE ICI"
   ]
  },
  {
   "cell_type": "markdown",
   "metadata": {},
   "source": [
    "2. Ecrire un programme qui modifie une liste par miroir, c’est-à-dire que tout élément situé à la place i en partant du début est échangé avec son correspondant à la place i en partant de la fin. Par exemple si la liste est [8, 24, 48, 2, 16] après l’exécution du programme elle sera [16, 2, 48, 24, 8]."
   ]
  },
  {
   "cell_type": "code",
   "execution_count": null,
   "metadata": {},
   "outputs": [],
   "source": [
    "# VOTRE CODE ICI"
   ]
  },
  {
   "cell_type": "markdown",
   "metadata": {},
   "source": [
    "3. Déduire de la question précédente un programme qui détermine si une liste est symétrique.\n",
    "\n",
    "> **Indication:** Une liste est symétrique si elle est égale à son miroir"
   ]
  },
  {
   "cell_type": "code",
   "execution_count": null,
   "metadata": {},
   "outputs": [],
   "source": [
    "# VOTRE CODE ICI"
   ]
  },
  {
   "cell_type": "markdown",
   "metadata": {},
   "source": [
    "***\n",
    "## Corrigé du TD 05\n",
    "\n",
    "Vous pouvez retrouver le corrigé de ce TD [ici](Corrigés/Corrigé_TD%2004.ipynb)."
   ]
  }
 ],
 "metadata": {
  "celltoolbar": "Format de la Cellule Texte Brut",
  "kernelspec": {
   "display_name": "Python 3",
   "language": "python",
   "name": "python3"
  },
  "language_info": {
   "codemirror_mode": {
    "name": "ipython",
    "version": 3
   },
   "file_extension": ".py",
   "mimetype": "text/x-python",
   "name": "python",
   "nbconvert_exporter": "python",
   "pygments_lexer": "ipython3",
   "version": "3.7.4"
  },
  "latex_envs": {
   "LaTeX_envs_menu_present": true,
   "autoclose": false,
   "autocomplete": true,
   "bibliofile": "biblio.bib",
   "cite_by": "apalike",
   "current_citInitial": 1,
   "eqLabelWithNumbers": true,
   "eqNumInitial": 1,
   "hotkeys": {
    "equation": "Ctrl-E",
    "itemize": "Ctrl-I"
   },
   "labels_anchors": false,
   "latex_user_defs": false,
   "report_style_numbering": false,
   "user_envs_cfg": false
  },
  "varInspector": {
   "cols": {
    "lenName": 16,
    "lenType": 16,
    "lenVar": 40
   },
   "kernels_config": {
    "python": {
     "delete_cmd_postfix": "",
     "delete_cmd_prefix": "del ",
     "library": "var_list.py",
     "varRefreshCmd": "print(var_dic_list())"
    },
    "r": {
     "delete_cmd_postfix": ") ",
     "delete_cmd_prefix": "rm(",
     "library": "var_list.r",
     "varRefreshCmd": "cat(var_dic_list()) "
    }
   },
   "types_to_exclude": [
    "module",
    "function",
    "builtin_function_or_method",
    "instance",
    "_Feature"
   ],
   "window_display": false
  }
 },
 "nbformat": 4,
 "nbformat_minor": 4
}
