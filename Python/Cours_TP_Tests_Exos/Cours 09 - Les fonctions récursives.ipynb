{
 "cells": [
  {
   "cell_type": "markdown",
   "metadata": {},
   "source": [
    "<div class=\"alert alert-block alert-info\">\n",
    "    <h1>IngeSUP - Cours 09 - Les fonctions récursives</h1>\n",
    "</div>"
   ]
  },
  {
   "cell_type": "markdown",
   "metadata": {
    "slideshow": {
     "slide_type": "slide"
    }
   },
   "source": [
    "<div class=\"alert alert-block alert-info\" style='color:white; background-color:blue; border-color: blue; '>\n",
    "    <h2>Sommaire</h2>\n",
    "</div>"
   ]
  },
  {
   "cell_type": "markdown",
   "metadata": {
    "slideshow": {
     "slide_type": "fragment"
    }
   },
   "source": [
    "* <a href=\"#Objectifs\">Objectifs</a>\n",
    "* <a href=\"#Prérequis\">Prérequis</a>\n",
    "* <a href=\"#Définition\">Définition</a>\n",
    "* <a href=\"#Fonctionnement-et-règles\">Fonctionnnement et règles</a>\n",
    "* <a href=\"#Fonction-avec-plusieurs-appels-récursifs\">Fonction avec plusieurs appels récursifs</a>\n",
    "* <a href=\"#Conclusion\">Conclusion</a>\n",
    "* <a href=\"#Pour-aller-plus-loin\">Pour aller plus loin</a>"
   ]
  },
  {
   "cell_type": "markdown",
   "metadata": {
    "slideshow": {
     "slide_type": "slide"
    }
   },
   "source": [
    "<div class=\"alert alert-block alert-info\" style='color:white; background-color:blue; border-color: blue; '>\n",
    "    <h2>Objectifs</h2>\n",
    "</div>"
   ]
  },
  {
   "cell_type": "markdown",
   "metadata": {
    "slideshow": {
     "slide_type": "fragment"
    }
   },
   "source": [
    "* Connaître la définition d'une fonction récursive ;\n",
    "* Identifier le critère d'arrêt d'une fonction récursive ;\n",
    "* Identifier l'appel récursif ;\n",
    "* Valider l'évolution des données passées en paramètre d'une fonction récursive ;\n",
    "* Ecrire les appels lors de la descente et lors de la remonté ;\n",
    "* Savoir interpréter récursivement un problème simple."
   ]
  },
  {
   "cell_type": "markdown",
   "metadata": {
    "slideshow": {
     "slide_type": "slide"
    }
   },
   "source": [
    "<div class=\"alert alert-block alert-info\" style='color:white; background-color:blue; border-color: blue; '>\n",
    "    <h2>Prérequis</h2>\n",
    "</div>\n",
    "\n",
    "-  [Module 10 : Les fonctions récursives en Python – Bases](https://courses.ionisx.com/courses/ref/m186/x/courseware/6a5a0ff9b91f42e3b300acd85c4256cc/03de4e76ddfe41fc8714178300c918ab/)"
   ]
  },
  {
   "cell_type": "markdown",
   "metadata": {
    "slideshow": {
     "slide_type": "slide"
    }
   },
   "source": [
    "<div class=\"alert alert-block alert-info\" style='color:white; background-color:blue; border-color: blue; '>\n",
    "    <h2>Définition</h2>\n",
    "</div>\n",
    "\n",
    "Une fonction est dite *recursive* si elle contient un appel à elle-même."
   ]
  },
  {
   "cell_type": "markdown",
   "metadata": {
    "slideshow": {
     "slide_type": "slide"
    }
   },
   "source": [
    "#### Exemple\n",
    "* La fonction factorielle est définie en mathématiques, pour $n\\in\\mathbb{N}$ par:\n",
    "\n",
    "$$\n",
    "n!=\n",
    "\\begin{cases}\n",
    "1\\;\\textrm{si}\\;n=0\\\\\n",
    "n\\times(n-1)! \n",
    "\\end{cases}\n",
    "$$"
   ]
  },
  {
   "cell_type": "markdown",
   "metadata": {
    "slideshow": {
     "slide_type": "slide"
    }
   },
   "source": [
    "Le calcul de $n!$ termine toujours: le cas $n=0$ arrivera forcément..."
   ]
  },
  {
   "cell_type": "markdown",
   "metadata": {
    "slideshow": {
     "slide_type": "slide"
    }
   },
   "source": [
    "#### Autre exemple\n",
    "\n",
    "* La suite définie par $\\begin{cases}u_{0}=0.5\\\\\n",
    "\\forall n\\geq 0,\\;u_{n+1}=\\frac{u_{n}}{2}+\\frac{1}{u_{n}}\\end{cases}$ est définie récursivement.\n",
    "\n",
    "En effet, $u_{n+1}$ s'exprime en fonction de $u_{n}$."
   ]
  },
  {
   "cell_type": "markdown",
   "metadata": {
    "slideshow": {
     "slide_type": "slide"
    }
   },
   "source": [
    "####  En python\n",
    "Il n'y a qu'à traduire la définition  mathématique:"
   ]
  },
  {
   "cell_type": "code",
   "execution_count": null,
   "metadata": {
    "slideshow": {
     "slide_type": "subslide"
    }
   },
   "outputs": [],
   "source": [
    "def fact(n):\n",
    "    if n == 0:\n",
    "        return 1\n",
    "    else:\n",
    "        return n * fact(n-1) # fact(n-1) est l'appel récursif\n",
    "    \n",
    "fact(6)"
   ]
  },
  {
   "cell_type": "code",
   "execution_count": null,
   "metadata": {
    "slideshow": {
     "slide_type": "subslide"
    }
   },
   "outputs": [],
   "source": [
    "def u(n):\n",
    "    if n == 0:\n",
    "        return 0.5\n",
    "    else:\n",
    "        return u(n-1)/2 + 1/u(n-1)\n",
    "\n",
    "u(10)"
   ]
  },
  {
   "cell_type": "markdown",
   "metadata": {
    "slideshow": {
     "slide_type": "slide"
    }
   },
   "source": [
    "<div class=\"alert alert-block alert-info\" style='color:white; background-color:blue; border-color: blue; '>\n",
    "    <h2>Fonctionnement et règles</h2>\n",
    "</div>\n",
    "\n",
    "### Fonctionnement\n",
    "L'appel de la fonction **fact(n)** provoquera l'appel **fact(n-1)** qui lui-même provoquera l'appel **fact(n-2)** et ainsi de suite (la *descente* dans les appels récursifs) jusqu'à arriver au \"cas d'arrêt\" : l'appel **fact(0)**"
   ]
  },
  {
   "cell_type": "markdown",
   "metadata": {
    "slideshow": {
     "slide_type": "subslide"
    }
   },
   "source": [
    "A partir de là, la *remontée* commence: \n",
    "**fact(0)** retourne sa valeur, l'appel du dessus **fact(1)** peut alors se terminer à son tour et on remonte ainsi (chaque appel terminé est remplacé par sa valeur dans l'appel du dessus qui peut se terminer à son tour) jusqu'à l'appel initial."
   ]
  },
  {
   "cell_type": "markdown",
   "metadata": {
    "slideshow": {
     "slide_type": "subslide"
    }
   },
   "source": [
    "### Eviter la récursion infinie\n",
    "\n",
    "Si on oublie le cas d'arrêt ou si l'appel récursif ne se fait pas sur des valeurs différentes qui évoluent vers le cas d'arrêt, la fonction partira en *récursion infinie*: un nombre infini (en théorie) d'appels sera fait."
   ]
  },
  {
   "cell_type": "markdown",
   "metadata": {
    "slideshow": {
     "slide_type": "subslide"
    }
   },
   "source": [
    "**si** <condition d'arrêt> **alors**<br>\n",
    "&nbsp;&nbsp;<instruction d'arrêt><br>\n",
    "**sinon**<br>\n",
    "&nbsp;&nbsp;<instruction comportant un appel récursif><br>\n",
    "**fin si**"
   ]
  },
  {
   "cell_type": "markdown",
   "metadata": {
    "slideshow": {
     "slide_type": "subslide"
    }
   },
   "source": [
    "+ Règle 1: un algorithme récursif contient toujours un cas d'arrêt\n",
    "\n",
    "+ Règle 2: l'appel récursif doit toujours être fait sur des données différentes évoluant vers le cas d'arrêt."
   ]
  },
  {
   "cell_type": "markdown",
   "metadata": {},
   "source": [
    "<div style=\"border-color: #007bff; margin: 1.5625em auto; padding: 0 .6rem .8rem !important; overflow: hidden; page-break-inside: avoid;border-left: .2rem solid #007bff; border-radius: .1rem; box-shadow: 0 .2rem .5rem rgba(0,0,0,.05),0 0 .05rem rgba(0,0,0,.1); transition: color .25s,background-color .25s,border-color .25s;\">\n",
    "    <p style=\"background-color: #e7f2fa; position: relative; margin: 0 -.6rem !important; padding: .4rem .6rem .4rem 2rem; font-weight: 700;\">📝 Note</p>\n",
    "    <p style=\"padding: 0 1.4rem; margin-top: .4em; margin-bottom: 0; font-size: 1em;\">\n",
    "        \n",
    "  Dans certains cas, la récursion infinie peut être due à des paramètres non valides (par exemple, $n\\notin\\mathbb{N}$ dans **fact**). Les tests pour éviter cela doivent être faits **avant d'appeler la fonction récursive** (et surtout pas dans la fonction récursive).\n",
    "        \n",
    "   </p>\n",
    "</div>"
   ]
  },
  {
   "cell_type": "markdown",
   "metadata": {
    "slideshow": {
     "slide_type": "slide"
    }
   },
   "source": [
    "### Penser récursif\n",
    "Si l'on doit implémenter une fonction déjà définie par récurrence, alors il n'y a qu'à la traduire. \n",
    "\n",
    "Sinon, on doit trouver un équivalent à l'\"équation de récurrence\", c'est-à-dire exprimer le problème en fonction du même problème, mais sur des **données plus petites**, sans oublier de définir un cas d'arrêt."
   ]
  },
  {
   "cell_type": "markdown",
   "metadata": {
    "slideshow": {
     "slide_type": "subslide"
    }
   },
   "source": [
    "#### Exemple: inversion de liste\n",
    "On souhaite impémenter une fonction récursive qui \"inverse\" l'ordre des éléments d'une liste. Par exemple si la liste en entrée est ['a', 'b', 'c'] la sortie obtenue en sortie est ['c', 'b', 'a']."
   ]
  },
  {
   "cell_type": "code",
   "execution_count": null,
   "metadata": {
    "slideshow": {
     "slide_type": "subslide"
    }
   },
   "outputs": [],
   "source": [
    "def inverser(liste):\n",
    "    if len(liste) == 0: # Le cas d'arrêt est la liste vide\n",
    "        return liste\n",
    "    else:\n",
    "        return inverser(liste[1:]) + [liste[0]] # Appel récursif sur une sous-liste\n",
    "inverser(['a', 'b', 'c'])"
   ]
  },
  {
   "cell_type": "markdown",
   "metadata": {
    "slideshow": {
     "slide_type": "slide"
    }
   },
   "source": [
    "<div class=\"alert alert-block alert-info\" style='color:white; background-color:blue; border-color: blue; '>\n",
    "    <h2>Fonctions avec plusieurs appels récursifs</h2>\n",
    "</div>\n",
    "\n",
    "Une fonction (ou procédure) peut comporter plusieurs appels récursifs. Par exemple, la suite de Fibonacci définie, pour $n\\in\\mathbb{N}$, par:\n",
    "$$\n",
    "F(n)=\n",
    "\\begin{cases}\n",
    "0\\;\\textrm{si}\\;n = 0\\\\\n",
    "1\\;\\textrm{si}\\;n = 1\\\\\n",
    "F(n-1)+F(n-2)\\;\\textrm{sinon}    \n",
    "\\end{cases}\n",
    "$$\n",
    "\n",
    "que l'on traduit tout simplement:"
   ]
  },
  {
   "cell_type": "code",
   "execution_count": null,
   "metadata": {
    "slideshow": {
     "slide_type": "subslide"
    }
   },
   "outputs": [],
   "source": [
    "def fibo(n):\n",
    "    if n == 0:\n",
    "        return 0\n",
    "    elif n == 1:\n",
    "        return 1\n",
    "    else:\n",
    "        return fibo(n-1) + fibo(n-2)\n",
    "    \n",
    "print(fibo(5))"
   ]
  },
  {
   "cell_type": "markdown",
   "metadata": {
    "slideshow": {
     "slide_type": "slide"
    }
   },
   "source": [
    "<div class=\"alert alert-block alert-info\" style='color:white; background-color:blue; border-color: blue; '>\n",
    "    <h2>Conclusion</h2>\n",
    "</div>\n",
    "\n",
    "Pour définir un algorithme récursif on essaiera donc de trouver une définition par récurrence du problème. Il faudra pour cela exprimer le problème en fonction de \"lui-même\" mais sur des données plus petites (ou un sous-ensemble des données)."
   ]
  },
  {
   "cell_type": "markdown",
   "metadata": {
    "slideshow": {
     "slide_type": "subslide"
    }
   },
   "source": [
    "Il faut s'assurer de la terminaison d'un algorithme récursif. Pour cela:\n",
    "\n",
    "+ il doit toujours y avoir au moins un cas d'arrêt\n",
    "+ le ou les appel(s) récursif(s) se font sur des données différentes, en général, fonctions des données initiales. Cette évolution doit forcément tendre vers un cas d'arrêt!"
   ]
  },
  {
   "cell_type": "markdown",
   "metadata": {
    "slideshow": {
     "slide_type": "slide"
    }
   },
   "source": [
    "<div style=\"border-color: rgba(40, 167, 70, 0.294); margin: 1.5625em auto; padding: 0 .6rem .8rem !important; overflow: hidden; page-break-inside: avoid; border-left: .2rem solid rgba(40, 167, 70, 0.294); border-radius: .1rem; box-shadow: 0 .2rem .5rem rgba(0,0,0,.05),0 0 .05rem rgba(0,0,0,.1); transition: color .25s,background-color .25s,border-color .25s;\">\n",
    "    <p style=\"background-color: rgba(40,167,70,0.1); position: relative; margin: 0 -.6rem !important; padding: .4rem .6rem .4rem 2rem; font-weight: 700;\">💡 Information</p>\n",
    "    <p style=\"padding: 0 1.4rem; margin-top: .4em; margin-bottom: 0; font-size: 1em;\">\n",
    "        \n",
    "   Une bonne manière de faire: ne pas trop essayer de suivre dans les moindres détails les appels récursifs pour comprendre le sens d'une fonction récursive. Il vaut mieux en général comprendre synthétiquement la fonction.\n",
    "\n",
    "**Il faut avoir confiance en la récursivité** \n",
    "    \n",
    "   </p>\n",
    "</div>"
   ]
  },
  {
   "cell_type": "markdown",
   "metadata": {
    "slideshow": {
     "slide_type": "slide"
    }
   },
   "source": [
    "<div class=\"alert alert-block alert-info\" style='color:white; background-color:blue; border-color: blue; '>\n",
    "    <h2>Pour aller plus loin</h2>\n",
    "</div>"
   ]
  },
  {
   "cell_type": "markdown",
   "metadata": {},
   "source": [
    "### Sommes\n",
    "Soient $a_{1}$, $a_2$, $\\dots$, $a_{n}$, $\\dots$, une suite d'objets additionnables. Consdirons la somme des $n$ premiers: $S_{n}=a_{1}+a_{2}+\\dots+a_{n}$."
   ]
  },
  {
   "cell_type": "markdown",
   "metadata": {
    "slideshow": {
     "slide_type": "slide"
    }
   },
   "source": [
    "Le calcul suivant fait apparaître naturellement l'interprétation récursive de la somme :\n",
    " \n",
    "$$\n",
    "\\begin{align*}\n",
    "S_{n} &= a_{1}+\\dots+a_{n-1}+a_{n}\\\\\n",
    "&= (a_{1}+\\dots+a_{n-1})+a_{n}\\\\\n",
    "&= S_{n-1} + a_{n}\n",
    "\\end{align*}\n",
    "$$\n",
    "\n",
    "Le critère d'arrêt étant $S_{1}=a_{1}$."
   ]
  },
  {
   "cell_type": "markdown",
   "metadata": {
    "slideshow": {
     "slide_type": "fragment"
    }
   },
   "source": [
    "Exemple:"
   ]
  },
  {
   "cell_type": "code",
   "execution_count": null,
   "metadata": {
    "slideshow": {
     "slide_type": "subslide"
    }
   },
   "outputs": [],
   "source": [
    "def a(k): # a(k) = k\n",
    "    return k\n",
    "\n",
    "def S(n): # Somme des k premiers entiers\n",
    "    if n == 1:\n",
    "        return a(1)\n",
    "    else:\n",
    "        return S(n-1) + a(n)\n",
    "    \n",
    "S(1), S(2), S(10)"
   ]
  },
  {
   "cell_type": "markdown",
   "metadata": {
    "slideshow": {
     "slide_type": "slide"
    }
   },
   "source": [
    "### Produits\n",
    "Soient $a_{1}$, $a_2$, $\\dots$, $a_{n}$, $\\dots$, une suite d'objets additionnables. Consdirons le produit des $n$ premiers: $P_{n}=a_{1}\\times a_{2}+\\dots\\times a_{n}$."
   ]
  },
  {
   "cell_type": "markdown",
   "metadata": {
    "slideshow": {
     "slide_type": "subslide"
    }
   },
   "source": [
    "Le calcul suivant fait apparaître naturellement l'interprétation récursive de la somme:\n",
    "$$\n",
    "\\begin{align*}\n",
    "P_{n} &= a_{1}\\times\\dots\\times a_{n-1}\\times a_{n}\\\\\n",
    "&= (a_{1}\\times\\dots+a_{n-1})\\times a_{n}\\\\\n",
    "&= P_{n-1} \\times a_{n}\n",
    "\\end{align*}\n",
    "$$"
   ]
  },
  {
   "cell_type": "markdown",
   "metadata": {
    "slideshow": {
     "slide_type": "slide"
    }
   },
   "source": [
    "## Récursion terminale\n",
    "On parle de *récursion terminale* ou de *fonction à récursivité terminale* lorsque l'appel récursif est la dernière opération effectuée dans le corps de la fonction.\n",
    "\n",
    "Une récursion terminale est équivalente à une itération et permet de ne pas saturer la pile d'appels."
   ]
  },
  {
   "cell_type": "markdown",
   "metadata": {
    "slideshow": {
     "slide_type": "fragment"
    }
   },
   "source": [
    "Exemple:"
   ]
  },
  {
   "cell_type": "code",
   "execution_count": null,
   "metadata": {
    "slideshow": {
     "slide_type": "subslide"
    }
   },
   "outputs": [],
   "source": [
    "def fact_rt(n, acc):\n",
    "    if n == 0:\n",
    "        return acc\n",
    "    else:\n",
    "        return fact_rt(n-1, n*acc)"
   ]
  },
  {
   "cell_type": "code",
   "execution_count": null,
   "metadata": {
    "slideshow": {
     "slide_type": "subslide"
    }
   },
   "outputs": [],
   "source": [
    "fact_rt(5,1)"
   ]
  },
  {
   "cell_type": "markdown",
   "metadata": {
    "slideshow": {
     "slide_type": "slide"
    }
   },
   "source": [
    "## Exercices de TD\n",
    "\n",
    "Vous pouvez maintenant vous exercer à partir du notebook [TD 09 - Les fonctions récursives](../TD/TD%2009%20-%20Les%20fonctions%20récursives.ipynb)."
   ]
  }
 ],
 "metadata": {
  "celltoolbar": "Diaporama",
  "kernelspec": {
   "display_name": "Python 3",
   "language": "python",
   "name": "python3"
  },
  "language_info": {
   "codemirror_mode": {
    "name": "ipython",
    "version": 3
   },
   "file_extension": ".py",
   "mimetype": "text/x-python",
   "name": "python",
   "nbconvert_exporter": "python",
   "pygments_lexer": "ipython3",
   "version": "3.7.4"
  },
  "latex_envs": {
   "LaTeX_envs_menu_present": true,
   "autoclose": false,
   "autocomplete": true,
   "bibliofile": "biblio.bib",
   "cite_by": "apalike",
   "current_citInitial": 1,
   "eqLabelWithNumbers": true,
   "eqNumInitial": 1,
   "hotkeys": {
    "equation": "Ctrl-E",
    "itemize": "Ctrl-I"
   },
   "labels_anchors": false,
   "latex_user_defs": false,
   "report_style_numbering": false,
   "user_envs_cfg": false
  },
  "varInspector": {
   "cols": {
    "lenName": 16,
    "lenType": 16,
    "lenVar": 40
   },
   "kernels_config": {
    "python": {
     "delete_cmd_postfix": "",
     "delete_cmd_prefix": "del ",
     "library": "var_list.py",
     "varRefreshCmd": "print(var_dic_list())"
    },
    "r": {
     "delete_cmd_postfix": ") ",
     "delete_cmd_prefix": "rm(",
     "library": "var_list.r",
     "varRefreshCmd": "cat(var_dic_list()) "
    }
   },
   "types_to_exclude": [
    "module",
    "function",
    "builtin_function_or_method",
    "instance",
    "_Feature"
   ],
   "window_display": false
  }
 },
 "nbformat": 4,
 "nbformat_minor": 4
}
