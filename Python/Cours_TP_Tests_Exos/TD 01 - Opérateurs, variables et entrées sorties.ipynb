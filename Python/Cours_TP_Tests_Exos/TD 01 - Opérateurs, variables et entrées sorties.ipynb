{
 "cells": [
  {
   "cell_type": "markdown",
   "metadata": {},
   "source": [
    "***\n",
    "# IngeSUP - TD 01 - Opérateurs, variables et entrées sorties\n",
    "***"
   ]
  },
  {
   "cell_type": "markdown",
   "metadata": {},
   "source": [
    "<blockquote><em>“L'homme doit savoir que son destin se trouve au bout du tunnel et non à son entrée.”</em></blockquote>&nbsp;&nbsp;<i style=\"font-size: 10px\">Mokhtar Reguieg</i>"
   ]
  },
  {
   "cell_type": "markdown",
   "metadata": {},
   "source": [
    "***\n",
    "## Exercice 01.1\n",
    "***"
   ]
  },
  {
   "cell_type": "markdown",
   "metadata": {
    "deletable": false,
    "editable": false,
    "run_control": {
     "frozen": true
    }
   },
   "source": [
    "1. Qu'est-ce qu'un mot-clé ? En connaissez-vous ?\n",
    "1. Qu'est-ce qu'un identificateur ?\n",
    "1. Listez quelques caractères spéciaux ? A quoi servent-ils ? \n",
    "1. Combien de types peuvent être attribués à une variable? Lesquels ?"
   ]
  },
  {
   "cell_type": "markdown",
   "metadata": {},
   "source": [
    "**Réponse:**"
   ]
  },
  {
   "cell_type": "markdown",
   "metadata": {},
   "source": [
    "***\n",
    "## Exercice 01.2\n",
    "***"
   ]
  },
  {
   "cell_type": "markdown",
   "metadata": {
    "deletable": false,
    "editable": false,
    "run_control": {
     "frozen": true
    }
   },
   "source": [
    "Quel est le type approprié pour les variables suivantes :\n",
    "\n",
    "1. Une variable qui contient le prénom de l’utilisateur ;\n",
    "1. Une variable qui contient la distance entre deux villes ;\n",
    "1. Une variable qui stocke au fur et à mesure le plus grand des nombres qu’un utilisateur tape au clavier ;\n",
    "1. Une variable qui permet de traiter différemment un nombre selon qu’il est pair ou impair."
   ]
  },
  {
   "cell_type": "markdown",
   "metadata": {},
   "source": [
    "**Réponse:**\n"
   ]
  },
  {
   "cell_type": "markdown",
   "metadata": {},
   "source": [
    "***\n",
    "## Exercice 01.3\n",
    "***"
   ]
  },
  {
   "cell_type": "markdown",
   "metadata": {
    "deletable": false,
    "editable": false,
    "run_control": {
     "frozen": true
    }
   },
   "source": [
    "1. Testez toutes les commandes suivantes, notez le résultat obtenu si le résultat diffère de celui que vous espériez, essayez d’en trouver la raison puis en prendre note :\n",
    "\n",
    "<center>20+1 ; 20/3 ; 20%3 ; 5.45*10 ; 2**5 ; (3+2)*5 ; 3+2*5 ; “bonjour“ ; ’bonjour’ ; “bonjour“ *5"
   ]
  },
  {
   "cell_type": "code",
   "execution_count": null,
   "metadata": {},
   "outputs": [],
   "source": []
  },
  {
   "cell_type": "code",
   "execution_count": null,
   "metadata": {},
   "outputs": [],
   "source": []
  },
  {
   "cell_type": "code",
   "execution_count": null,
   "metadata": {},
   "outputs": [],
   "source": []
  },
  {
   "cell_type": "code",
   "execution_count": null,
   "metadata": {},
   "outputs": [],
   "source": []
  },
  {
   "cell_type": "code",
   "execution_count": null,
   "metadata": {},
   "outputs": [],
   "source": []
  },
  {
   "cell_type": "code",
   "execution_count": null,
   "metadata": {},
   "outputs": [],
   "source": []
  },
  {
   "cell_type": "code",
   "execution_count": null,
   "metadata": {},
   "outputs": [],
   "source": []
  },
  {
   "cell_type": "code",
   "execution_count": null,
   "metadata": {},
   "outputs": [],
   "source": []
  },
  {
   "cell_type": "code",
   "execution_count": null,
   "metadata": {},
   "outputs": [],
   "source": []
  },
  {
   "cell_type": "code",
   "execution_count": null,
   "metadata": {},
   "outputs": [],
   "source": []
  },
  {
   "cell_type": "code",
   "execution_count": null,
   "metadata": {},
   "outputs": [],
   "source": [
    "# VOTRE CODE ICI"
   ]
  },
  {
   "cell_type": "markdown",
   "metadata": {
    "deletable": false,
    "editable": false,
    "run_control": {
     "frozen": true
    }
   },
   "source": [
    "2. Certaines instructions ne sont pas acceptées par l'interpréteur python et provoquent l'affichage d'un message d'erreur. Il faut lire attentivement tous les messages d'erreur (même s'ils sont en anglais) car ces messages nous apprennent comment fonctionne le langage et nous aident à corriger nos instructions et nos programmes.\n",
    "Tapez les instructions suivantes, observez les erreurs obtenues et analysez-les :\n",
    "\n",
    "<center>20/0 ; 20@3; \"bonjour\"/3 ; \"bonjour\" + 5 ; (3+2))*5 ; (3+2*5"
   ]
  },
  {
   "cell_type": "code",
   "execution_count": null,
   "metadata": {},
   "outputs": [],
   "source": [
    "# VOTRE CODE ICI"
   ]
  },
  {
   "cell_type": "markdown",
   "metadata": {
    "deletable": false,
    "run_control": {
     "frozen": true
    }
   },
   "source": [
    "3. On peut parfois transformer une donnée d'un certain type en une donnée d'un autre type. Cela s'appelle **le transtypage** (ou **cast** en anglais). Transtyper le résultat et observez le type de la variable en sortie et sa valeur :\n",
    "\n",
    "\n",
    "Donnée de départ|De quel type est la donnée de départ?|Instruction à taper|Type du résultat obtenu et/ou commentaire | Valeur du résultat\n",
    "----------------|:------------------------------------|-------------------|-----------------------------------------|------------------------\n",
    "3.0  | |int(3.0)| | |\n",
    "3.5  | |int(3.5)| | |\n",
    "3    | |float(3)| | |\n",
    "4    | |str(4)  | | |\n",
    "\"3\"  | |int(\"3\")| | |  \n",
    "\"3.5\"| |float(\"3.5\")| | |\n",
    "\"3.5\"| |int(\"3.5\")| | |\n",
    "\"bonjour\"| |int(\"bonjour\")| | | "
   ]
  },
  {
   "cell_type": "code",
   "execution_count": null,
   "metadata": {},
   "outputs": [],
   "source": [
    "# VOTRE CODE ICI"
   ]
  },
  {
   "cell_type": "markdown",
   "metadata": {},
   "source": [
    "***\n",
    "## Exercice 01.4\n",
    "***"
   ]
  },
  {
   "cell_type": "markdown",
   "metadata": {},
   "source": [
    "On considère l'algorithme ci-dessous écrit en langage Python :"
   ]
  },
  {
   "cell_type": "code",
   "execution_count": null,
   "metadata": {},
   "outputs": [],
   "source": [
    "a = 2\n",
    "b = -5\n",
    "a = a+b\n",
    "b = a-b\n",
    "print(\"Maintenant a= \", a, \" et b = \", b)"
   ]
  },
  {
   "cell_type": "markdown",
   "metadata": {},
   "source": [
    "1. Complétez le tableau."
   ]
  },
  {
   "cell_type": "markdown",
   "metadata": {},
   "source": [
    "Ligne  | a     | b\n",
    "------ | ------|----------\n",
    "1      |       | \n",
    "2      |       | \n",
    "3      |       | \n",
    "4      |       | \n"
   ]
  },
  {
   "cell_type": "markdown",
   "metadata": {},
   "source": [
    "Maintenant on considère cet autre algo écrit en langage Python :"
   ]
  },
  {
   "cell_type": "code",
   "execution_count": null,
   "metadata": {},
   "outputs": [],
   "source": [
    "a=5\n",
    "b=7\n",
    "a = a+b\n",
    "b = a-b\n",
    "a = a-b"
   ]
  },
  {
   "cell_type": "markdown",
   "metadata": {},
   "source": [
    "2. Complétez de nouveau le tableau."
   ]
  },
  {
   "cell_type": "markdown",
   "metadata": {},
   "source": [
    "Ligne  | a     | b\n",
    "------ | ------|----------\n",
    "1      |       | \n",
    "2      |       | \n",
    "3      |       | \n",
    "4      |       | \n",
    "5      |       |"
   ]
  },
  {
   "cell_type": "markdown",
   "metadata": {},
   "source": [
    "3. Que constatez-vous concernant le contenu des variables a et b ?\n",
    "\n",
    "**Réponse:**"
   ]
  },
  {
   "cell_type": "markdown",
   "metadata": {},
   "source": [
    "***\n",
    "## Exercice 01.5\n",
    "***"
   ]
  },
  {
   "cell_type": "markdown",
   "metadata": {
    "deletable": false,
    "editable": false,
    "run_control": {
     "frozen": true
    }
   },
   "source": [
    "Ecrivez un programme qui convertisse en degré un angle fourni au départ en radians."
   ]
  },
  {
   "cell_type": "code",
   "execution_count": null,
   "metadata": {},
   "outputs": [],
   "source": [
    "# VOTRE CODE ICI"
   ]
  },
  {
   "cell_type": "markdown",
   "metadata": {},
   "source": [
    "***\n",
    "## Exercice 01.6\n",
    "***"
   ]
  },
  {
   "cell_type": "markdown",
   "metadata": {},
   "source": [
    "Ecrivez un programme qui convertisse en degré Celsius une température exprimée initialement en degrés Fahrenheit. \n",
    "\n",
    "La formule de conversion est la suivante :\n",
    "\n",
    "<center><b>TF=TC*1.8+32</b></center> "
   ]
  },
  {
   "cell_type": "code",
   "execution_count": null,
   "metadata": {},
   "outputs": [],
   "source": [
    "# VOTRE CODE ICI"
   ]
  },
  {
   "cell_type": "markdown",
   "metadata": {},
   "source": [
    "***\n",
    "## Exercice 01.7\n",
    "***"
   ]
  },
  {
   "cell_type": "markdown",
   "metadata": {},
   "source": [
    "Ecrivez un programme qui convertisse en centimètres une longueur exprimée initialement en pouces. "
   ]
  },
  {
   "cell_type": "code",
   "execution_count": null,
   "metadata": {},
   "outputs": [],
   "source": [
    "# VOTRE CODE ICI"
   ]
  },
  {
   "cell_type": "markdown",
   "metadata": {},
   "source": [
    "***\n",
    "## Exercice 01.8\n",
    "***"
   ]
  },
  {
   "cell_type": "markdown",
   "metadata": {},
   "source": [
    "Complétez le programme suivant qui convertit un nombre de secondes fournit au départ (qui doit être assez grand) en durée composée d’années, de mois, de jours, d’heures, de minutes et de secondes.\n",
    "\n",
    "On donne l’exemple ci-dessus pour illustrer ce qui est demandé : Nombre de secondes à convertir : 10000000000\n",
    "\n",
    "> Cette durée correspond à 317 années de 365 jours, plus 1 mois de 30 jours, 5 jours, 17 heures, 46 minutes et 40 secondes.\n",
    "\n",
    "Pour des facilités de calcul on ne tiendra pas compte des années bissextiles et on supposera que les mois comportent 30 jours."
   ]
  },
  {
   "cell_type": "code",
   "execution_count": null,
   "metadata": {},
   "outputs": [],
   "source": [
    "# Le nombre de secondes est fourni au départ : \n",
    "nsd = 10000000000\n",
    "\n",
    "# Nombre de Secondes Par Jour : \n",
    "nspj = 3600 * 24 \n",
    "\n",
    "# Nombre de Secondes Par An (soit 365 jours) : \n",
    "nspa = nspj * 365\n",
    "\n",
    "# Nombre de Secondes Par Mois (soit 30 jours) : \n",
    "nspm = ...\n",
    "\n",
    "# Nombre d'Années contenues dans la durée fournie : \n",
    "na = nsd // nspa    # division <entière> \n",
    "nsr = nsd % nspa    # n. de sec. restantes\n",
    "\n",
    "# Nombre de Mois restants : \n",
    "nmo = ...    # division <entière> \n",
    "nsr = nsr % nspm    # n. de sec. restantes\n",
    "\n",
    "# Nombre de jours restants : \n",
    "nj = ...    # division <entière> \n",
    "nsr = ...    # n. de sec. restantes\n",
    "\n",
    "# Nombre d'heures restantes : \n",
    "nh = ...    # division <entière> \n",
    "nsr = ...    # n. de sec. restantes\n",
    "\n",
    "# Nombre de minutes restantes : \n",
    "nmi = ...     # division <entière> \n",
    "nsr = ...      # n. de sec. restantes\n",
    "\n",
    "print(\"Nombre de secondes à convertir :\", nsd) \n",
    "print(\"Cette durée correspond à\", na, \"années de 365 jours plus\", nmo, \"mois de 30 jours,\",nj, \"jours,\", nh, \"heures,\", nmi, \"minutes et\", nsr, \"secondes.\")"
   ]
  },
  {
   "cell_type": "markdown",
   "metadata": {},
   "source": [
    "***\n",
    "## Corrigé du TD 01\n",
    "\n",
    "Vous pouvez retrouver le corrigé de ce TD [ici](Corrigés/Corrigé_TD%2001.ipynb)."
   ]
  }
 ],
 "metadata": {
  "celltoolbar": "Format de la Cellule Texte Brut",
  "kernelspec": {
   "display_name": "Python 3",
   "language": "python",
   "name": "python3"
  },
  "language_info": {
   "codemirror_mode": {
    "name": "ipython",
    "version": 3
   },
   "file_extension": ".py",
   "mimetype": "text/x-python",
   "name": "python",
   "nbconvert_exporter": "python",
   "pygments_lexer": "ipython3",
   "version": "3.7.4"
  },
  "latex_envs": {
   "LaTeX_envs_menu_present": true,
   "autoclose": false,
   "autocomplete": true,
   "bibliofile": "biblio.bib",
   "cite_by": "apalike",
   "current_citInitial": 1,
   "eqLabelWithNumbers": true,
   "eqNumInitial": 1,
   "hotkeys": {
    "equation": "Ctrl-E",
    "itemize": "Ctrl-I"
   },
   "labels_anchors": false,
   "latex_user_defs": false,
   "report_style_numbering": false,
   "user_envs_cfg": false
  },
  "varInspector": {
   "cols": {
    "lenName": 16,
    "lenType": 16,
    "lenVar": 40
   },
   "kernels_config": {
    "python": {
     "delete_cmd_postfix": "",
     "delete_cmd_prefix": "del ",
     "library": "var_list.py",
     "varRefreshCmd": "print(var_dic_list())"
    },
    "r": {
     "delete_cmd_postfix": ") ",
     "delete_cmd_prefix": "rm(",
     "library": "var_list.r",
     "varRefreshCmd": "cat(var_dic_list()) "
    }
   },
   "types_to_exclude": [
    "module",
    "function",
    "builtin_function_or_method",
    "instance",
    "_Feature"
   ],
   "window_display": false
  }
 },
 "nbformat": 4,
 "nbformat_minor": 4
}
