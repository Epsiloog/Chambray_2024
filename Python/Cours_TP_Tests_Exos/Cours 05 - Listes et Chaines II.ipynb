{
 "cells": [
  {
   "cell_type": "markdown",
   "metadata": {
    "slideshow": {
     "slide_type": "slide"
    }
   },
   "source": [
    "<div class=\"alert alert-block alert-info\">\n",
    "    <h1>IngeSUP - Cours 05 - Listes et Chaines II</h1>\n",
    "</div>"
   ]
  },
  {
   "cell_type": "markdown",
   "metadata": {
    "slideshow": {
     "slide_type": "skip"
    }
   },
   "source": [
    "\n",
    "<div class=\"alert alert-block alert-info\" style='color:white; background-color:blue; border-color: blue; '>\n",
    "    <h2>Sommaire</h2>\n",
    "</div>\n",
    "\n",
    "* <a href=\"#Objectifs\">Objectifs</a>\n",
    "* <a href=\"#Prérequis\">Prérequis</a>\n",
    "* <a href=\"#Utilisation-avancée-des-listes-en-Python\">Utilisation avancée des listes en Python</a>\n",
    "    * <a href=\"#Rappel-sur-les-listes\">Rappel sur les listes</a>\n",
    "    * <a href=\"#Listes-en-compr%C3%A9hension\">Listes en compréhension</a>\n",
    "    * <a href=\"#Supprimer-une-variable-liste\">Supprimer une variable liste</a>\n",
    "    * <a href=\"#Récupérer-une-sous-liste-d'une-liste\">Récupérer une sous-liste d'une liste</a>\n",
    "    * <a href=\"#Modifier-une-sous-liste-d'une-liste\">Modifier une sous-liste d'une liste</a>\n",
    "    * <a href=\"#Insérer-plusieurs-éléments-dans-une-liste-à-un-indice-donnée\">Insérer plusieurs éléments dans une liste à un indice donnée</a>\n",
    "    * <a href=\"#Supprimer-une-sous-liste-d'une-liste\">Supprimer une sous-liste d'une liste</a>\n",
    "    * <a href=\"#Copier-une-liste\">Copier une liste</a>\n",
    "* <a href=\"#Utilisation-avancée-des-chaines-de-carctères-en-Python\">Utilisation avancée des chaines de carctères en Python</a>\n",
    "    * <a href=\"#Rappel-sur-les-chaines-de-caractères\">Rappel sur les chaines de caractères</a>\n",
    "    * <a href=\"#Les-caractères-spéciaux-qu'on-peut-utiliser-dans-les-chaines\">Les caractères spéciaux qu'on peut utiliser dans les chaines</a>\n",
    "    * <a href=\"#Formater-une-chaine-pour-intégrer-des-variables-dedans\">Formater une chaine pour intégrer des variables dedans</a>\n",
    "    * <a href=\"#Récupérer-une-suite-de-caractères-d'une-chaine-de-caractères\">Récupérer une suite de caractères d'une chaine de caractères</a>\n",
    "    * <a href=\"#Récupérer-l'indice-d'une-suite-de-caractères-d'une-chaine-de-caractères\">Récupérer l'indice d'une suite de caractères d'une chaine de caractères</a>\n",
    "    * <a href=\"#Remplacer-des-caractères-d'une-chaine-de-caractères\">Remplacer des caractères d'une chaine de caractères</a>\n",
    "    * <a href=\"#Compter-le-nombre-d'occurrences-d'une-suite-de-caractères-dans-une-chaine\">Compter le nombre d'occurrences d'une suite de caractères dans une chaine</a>\n",
    "    * <a href=\"#Transformer-les-caractères-d'une-chaine-de-caractères\">Transformer les caractères d'une chaine de caractères</a>\n",
    "* <a href=\"#Transformations-entre-chaines-de-caractères-et-listes\">Transformations entre chaines de caractères et listes</a>\n",
    "    * <a href=\"#Transformer-une-liste-en-une-chaine-de-caractères\">Transformer une liste en une chaine de caractères</a>\n",
    "    * <a href=\"#Transformer-une-chaine-de-caractères-en-une-liste\">Transformer une chaine de caractères en une liste</a>\n",
    "* <a href=\"#Exercices-de-TD\">Exercices de TD</a>"
   ]
  },
  {
   "cell_type": "markdown",
   "metadata": {
    "slideshow": {
     "slide_type": "slide"
    }
   },
   "source": [
    "<div class=\"alert alert-block alert-info\" style='color:white; background-color:blue; border-color: blue; '>\n",
    "    <h2>Objectifs</h2>\n",
    "</div>\n",
    "\n",
    "- Utilisation avancée des listes ;\n",
    "- Utilisation avancée des chaines de caractères ;\n",
    "- Transformations entre chaines de caractères et listes."
   ]
  },
  {
   "cell_type": "markdown",
   "metadata": {
    "slideshow": {
     "slide_type": "slide"
    }
   },
   "source": [
    "<div class=\"alert alert-block alert-info\" style='color:white; background-color:blue; border-color: blue; '>\n",
    "    <h2>Prérequis</h2>\n",
    "</div>\n",
    "\n",
    "Avant de réaliser ce notebook de cours, vous devez avoir préalablement visualisé le mimo suivant :\n",
    "\n",
    "-  [Module 7 : Les tableaux et séquences en Python](https://courses.ionisx.com/courses/ref/m123/x/courseware/54c7a679a9354a2996ece5f4f11b02b9/4ca7a39806734bec8eb99242ef56b937/)\n",
    "\n",
    "- [Première partie du cours sur les listes et chaines : Cours 04 - Listes et Chaines I](./Cours%2004%20-%20Listes%20et%20Chaines%20I.ipynb)\n",
    "***"
   ]
  },
  {
   "cell_type": "markdown",
   "metadata": {
    "slideshow": {
     "slide_type": "slide"
    }
   },
   "source": [
    "<div class=\"alert alert-block alert-info\" style='color:white; background-color:blue; border-color: blue; '>\n",
    "    <h2>Utilisation avancée des listes en Python</h2>\n",
    "</div>"
   ]
  },
  {
   "cell_type": "markdown",
   "metadata": {
    "slideshow": {
     "slide_type": "slide"
    }
   },
   "source": [
    "## Rappel sur les listes"
   ]
  },
  {
   "cell_type": "markdown",
   "metadata": {
    "slideshow": {
     "slide_type": "subslide"
    }
   },
   "source": [
    "- Une liste est une séquence de données.\n",
    "- Les listes sont des tableaux qui peuvent contenir tout type de variable.\n",
    "- Elles sont de type `list`.\n",
    "- Les listes sont modifiables.\n",
    "- Les éléments d’une liste doivent être entourés par crochets `[…]` et séparés par des virgules `,`."
   ]
  },
  {
   "cell_type": "markdown",
   "metadata": {
    "slideshow": {
     "slide_type": "slide"
    }
   },
   "source": [
    "## Listes en compréhension"
   ]
  },
  {
   "cell_type": "markdown",
   "metadata": {
    "slideshow": {
     "slide_type": "subslide"
    }
   },
   "source": [
    "0n va voir ce qu'on appelle **les compréhensions de listes**, que vous retrouverez également sous le nom de _liste en compréhension_, ou même _list comprehension_ en anglais."
   ]
  },
  {
   "cell_type": "markdown",
   "metadata": {
    "slideshow": {
     "slide_type": "subslide"
    }
   },
   "source": [
    "Les compréhensions de listes nous permettent **d'itérer sur une liste et de filtrer les éléments**, grâce à des structures conditionnelles, **tout ça en une seule ligne**."
   ]
  },
  {
   "cell_type": "markdown",
   "metadata": {
    "slideshow": {
     "slide_type": "subslide"
    }
   },
   "source": [
    "Actuellement, si on veut filtrer les éléments d'une liste, on doit écrire pas mal de lignes de code."
   ]
  },
  {
   "cell_type": "code",
   "execution_count": null,
   "metadata": {
    "slideshow": {
     "slide_type": "slide"
    }
   },
   "outputs": [],
   "source": [
    "liste = [-5, -4, -3, -2, -1, 0, 1, 2, 3, 4, 5]\n",
    "nombres_positifs = []\n",
    "for i in liste:\n",
    "    if i > 0:\n",
    "        nombres_positifs.append(i)"
   ]
  },
  {
   "cell_type": "markdown",
   "metadata": {
    "slideshow": {
     "slide_type": "slide"
    }
   },
   "source": [
    "Dans cet, on veut récupérer uniquement les nombres positifs dans la liste.\n",
    "\n",
    "👉 On commence donc par créer une liste vide qui va contenir les nombres positifs.\n",
    "\n",
    "👉 On boucle ensuite sur chaque élément de notre liste d'origine.\n",
    "\n",
    "👉 On vérifie si l'élément sur lequel on itère est plus grand que 0.\n",
    "\n",
    "👉 et si c'est le cas, on l'ajoute à la liste que l'on a définie au début du script.\n",
    "\n",
    "Tout ça, on va pouvoir l'écrire beaucoup plus simplement sur une seule ligne, grâce aux **compréhensions de listes**."
   ]
  },
  {
   "cell_type": "markdown",
   "metadata": {
    "slideshow": {
     "slide_type": "subslide"
    }
   },
   "source": [
    "Voici comment elles s'écrivent `[<expression> for <element> in <iterable>])`.\n",
    "\n",
    "Supposons qu'on veut créer une liste composée des carrés des nombres entiers allant de 1 à 9.\n",
    "\n",
    "On peut créer cette liste de la manière suivante :"
   ]
  },
  {
   "cell_type": "code",
   "execution_count": null,
   "metadata": {
    "slideshow": {
     "slide_type": "subslide"
    }
   },
   "outputs": [],
   "source": [
    "liste = [] # On crée une liste vide.\n",
    "\n",
    "for element in range(1, 10): # On parcours les nombres de 1 à 9. Donc <range(1,10)> est notre <iterable>.\n",
    "    element = element**2 # Pour chaque nombre on calcule son carré. Donc <element**2> est notre <expression>.\n",
    "    liste.append(element) # On ajoute l'élément à la fin de la liste\n",
    "    \n",
    "print(liste)"
   ]
  },
  {
   "cell_type": "markdown",
   "metadata": {
    "slideshow": {
     "slide_type": "slide"
    }
   },
   "source": [
    "On peut aussi compresser ces instructions de la manière suivante :\n"
   ]
  },
  {
   "cell_type": "code",
   "execution_count": null,
   "metadata": {
    "slideshow": {
     "slide_type": "slide"
    }
   },
   "outputs": [],
   "source": [
    "liste = [element**2 for element in range(1,10)] # Crée une liste contenant les carrés des nombre allant de 1 à 9.\n",
    "\n",
    "print(liste)"
   ]
  },
  {
   "cell_type": "markdown",
   "metadata": {
    "slideshow": {
     "slide_type": "slide"
    }
   },
   "source": [
    "Pour reprendre le tout premier exemple, on peut ajouter à la fin de notre compréhension de liste, une structure conditionnelle pour filtrer les éléments."
   ]
  },
  {
   "cell_type": "code",
   "execution_count": null,
   "metadata": {
    "slideshow": {
     "slide_type": "subslide"
    }
   },
   "outputs": [],
   "source": [
    "liste = [-5, -4, -3, -2, -1, 0, 1, 2, 3, 4, 5]\n",
    "nombres_positifs = [i for i in liste if i > 0]"
   ]
  },
  {
   "cell_type": "markdown",
   "metadata": {
    "slideshow": {
     "slide_type": "subslide"
    }
   },
   "source": [
    "On peut même modifier les éléments de la liste finale :"
   ]
  },
  {
   "cell_type": "code",
   "execution_count": null,
   "metadata": {
    "slideshow": {
     "slide_type": "subslide"
    }
   },
   "outputs": [],
   "source": [
    "liste = [-5, -4, -3, -2, -1, 0, 1, 2, 3, 4, 5]\n",
    "nombres_positifs_fois_deux = [i * 2 for i in liste if i > 0]"
   ]
  },
  {
   "cell_type": "markdown",
   "metadata": {
    "slideshow": {
     "slide_type": "slide"
    }
   },
   "source": [
    "## Supprimer une variable liste"
   ]
  },
  {
   "cell_type": "markdown",
   "metadata": {
    "slideshow": {
     "slide_type": "subslide"
    }
   },
   "source": [
    "Pour supprimer une variable liste du programme, il suffit d'utiliser le mot-clé **del** en mentionnant le nom de la variable liste à supprimer."
   ]
  },
  {
   "cell_type": "code",
   "execution_count": null,
   "metadata": {
    "slideshow": {
     "slide_type": "subslide"
    }
   },
   "outputs": [],
   "source": [
    "del(liste)\n",
    "print(ma_liste)"
   ]
  },
  {
   "cell_type": "markdown",
   "metadata": {
    "slideshow": {
     "slide_type": "slide"
    }
   },
   "source": [
    "## Récupérer une sous-liste d'une liste"
   ]
  },
  {
   "cell_type": "markdown",
   "metadata": {
    "slideshow": {
     "slide_type": "subslide"
    }
   },
   "source": [
    "Python offre un mécanisme pour obtenir le découpage d'une sous-liste à partir d'une liste donnée. C'est ce qu'on appelle le _slice_ de liste."
   ]
  },
  {
   "cell_type": "code",
   "execution_count": null,
   "metadata": {
    "slideshow": {
     "slide_type": "slide"
    }
   },
   "outputs": [],
   "source": [
    "liste1 = [0, 1, 2, 3, 4, 5, 6]\n",
    "i, j, k = 1, 3, 2\n",
    "\n",
    "liste2 = liste1[:]      # Revoie tous les éléments de la liste.\n",
    "print(liste2)           # Affiche : [0, 1, 2, 3, 4, 5, 6]\n",
    "\n",
    "liste2 = liste1[i:j]    # Revoie les éléments entre l'indice « i » inclus et l'indice « j » exclu. \n",
    "                        # L'indice de l'élément récupéré doit vérifier la condition i <= indiceElement < j\n",
    "print(liste2)           # Affiche : [1, 2]\n",
    "\n",
    "liste2 = liste1[i:]     # Revoie les éléments à partir de l'indice « i » inclus jusqu'à la fin.\n",
    "print(liste2)           # Affiche : [1, 2, 3, 4, 5, 6]\n",
    "\n",
    "liste2 = liste1[:j]     # Revoie les éléments à partir du début jusqu'à l'indice « j » exclu.\n",
    "print(liste2)           # Affiche : [0, 1, 2]"
   ]
  },
  {
   "cell_type": "code",
   "execution_count": null,
   "metadata": {
    "slideshow": {
     "slide_type": "slide"
    }
   },
   "outputs": [],
   "source": [
    "liste2 = liste1[::k]    # Revoie tous les éléments de la liste en avançant de « k » pas.\n",
    "                        # Si k est positif alors on récupére les éléments dont l'indice commence par 0 et est < à la taille.\n",
    "                        # Si k est négatif alors on récupére les éléments dont l'indice commence par la taille-1 et est >= à 0.\n",
    "print(liste2)           # Affiche : [0, 2, 4, 6]\n",
    "\n",
    "liste2 = liste1[i:j:k]  # Revoie les éléments entre l'indice « i » inclus et l'indice « j » exclu en avançant de « k » pas.\n",
    "                        # Si k est positif alors on récupére les éléments dont l'indice commence par i et est < à j.\n",
    "                        # Si k est négatif alors on récupére les éléments dont l'indice commence par i et est > à j.\n",
    "print(liste2)           # Affiche : [1]\n",
    "\n",
    "liste2 = liste1[i::k]   # Revoie les éléments à partir de l'indice « i » inclus jusqu'à la fin en avançant de « k » pas.\n",
    "                        # Si k est positif alors on récupére les éléments dont l'indice commence par i et est < à la taille.\n",
    "                        # Si k est négatif alors on récupére les éléments dont l'indice commence par i et est >= à 0.\n",
    "print(liste2)           # Affiche : [1, 3, 5]\n",
    "\n",
    "liste2 = liste1[:j:k]   # Revoie les éléments à partir du début jusqu'à l'indice « j » exclu en avançant de « k » pas.\n",
    "                        # Si k est positif alors on récupére les éléments dont l'indice commence par 0 et est < à j.\n",
    "                        # Si k est négatif alors on récupére les éléments dont l'indice commence par la taille-1 et est > à j.\n",
    "print(liste2)           # Affiche : [0, 2]"
   ]
  },
  {
   "cell_type": "code",
   "execution_count": null,
   "metadata": {
    "slideshow": {
     "slide_type": "slide"
    }
   },
   "outputs": [],
   "source": [
    "liste2 = liste1[::-1]   # Revoie tous les éléments de la liste en partant de la fin.\n",
    "print(liste2)           # Affiche : [6, 5, 4, 3, 2, 1, 0]"
   ]
  },
  {
   "cell_type": "markdown",
   "metadata": {
    "slideshow": {
     "slide_type": "slide"
    }
   },
   "source": [
    "## Modifier une sous-liste d'une liste"
   ]
  },
  {
   "cell_type": "markdown",
   "metadata": {
    "slideshow": {
     "slide_type": "subslide"
    }
   },
   "source": [
    "Pour modifier une sous liste à l'intérieur d'une liste, il suffit de sélectionner la sous liste concernée et la remplacer par la nouvelle liste."
   ]
  },
  {
   "cell_type": "code",
   "execution_count": null,
   "metadata": {
    "slideshow": {
     "slide_type": "subslide"
    }
   },
   "outputs": [],
   "source": [
    "liste1 = [0, 1, 2, 3, 4, 5, 6]\n",
    "liste1[1:4] = [11, 22, 33] # Remplace les éléments entre l'indice « 1 » inclus à l'indice « 4 » exclu, par la liste [11, 22, 33].\n",
    "print(liste1)              # Affiche : [0, 11, 22, 33, 4, 5, 6]"
   ]
  },
  {
   "cell_type": "markdown",
   "metadata": {
    "slideshow": {
     "slide_type": "slide"
    }
   },
   "source": [
    "## Insérer plusieurs éléments dans une liste à un indice donnée"
   ]
  },
  {
   "cell_type": "markdown",
   "metadata": {
    "slideshow": {
     "slide_type": "subslide"
    }
   },
   "source": [
    "Supposant qu'on veut insérer plusieurs éléments à la fois dans une liste, à un rang donnée `i`.\n",
    "\n",
    "Dans ce cas il suffit de sélectionner la sous-liste `liste[i:i]` et de la remplacer par la liste d'éléments qu'on veut insérer dans la liste à la position `i` :"
   ]
  },
  {
   "cell_type": "code",
   "execution_count": null,
   "metadata": {
    "slideshow": {
     "slide_type": "subslide"
    }
   },
   "outputs": [],
   "source": [
    "liste = [0, 1, 2, 3, 4, 5, 6]\n",
    "liste[1:1] = [11, 22, 33] # Insère les éléments de la liste [11, 22, 33] à l'indice 1.\n",
    "print(liste)              # Affiche : [0, 11, 22, 33, 1, 2, 3, 4, 5, 6]"
   ]
  },
  {
   "cell_type": "markdown",
   "metadata": {
    "slideshow": {
     "slide_type": "slide"
    }
   },
   "source": [
    "## Supprimer une sous-liste d'une liste\n",
    "\n",
    "Pour supprimer une sous-liste d'une liste, il suffit de sélectionner la sous-liste à supprimer et la donner à l'opérateur `del` :"
   ]
  },
  {
   "cell_type": "code",
   "execution_count": null,
   "metadata": {
    "slideshow": {
     "slide_type": "subslide"
    }
   },
   "outputs": [],
   "source": [
    "liste = [0, 1, 2, 3, 4, 5, 6]\n",
    "del liste[1:4]    # Supprime les éléments entre l'indice « 1 » inclus à l'indice « 4 » exclu.\n",
    "print(liste)       # Affiche : [0, 4, 5, 6]"
   ]
  },
  {
   "cell_type": "markdown",
   "metadata": {
    "slideshow": {
     "slide_type": "slide"
    }
   },
   "source": [
    "## Copier une liste"
   ]
  },
  {
   "cell_type": "markdown",
   "metadata": {
    "slideshow": {
     "slide_type": "subslide"
    }
   },
   "source": [
    "L’instruction suivante :\n",
    "\n",
    "```python\n",
    "liste = [1, 2, 3, 4, 5] \n",
    "listeCopie = liste\n",
    "```\n",
    "\n",
    "Implique que les deux listes « listeCopie » et « liste » pointent sur la même adresse mémoire, ce qui signifie que la modification de l'une entrainera la modification de l'autre."
   ]
  },
  {
   "cell_type": "code",
   "execution_count": null,
   "metadata": {
    "slideshow": {
     "slide_type": "subslide"
    }
   },
   "outputs": [],
   "source": [
    "liste = [1, 2, 3, 4, 5] \n",
    "\n",
    "listeCopie = liste\n",
    "\n",
    "listeCopie[1] = 99 # On modifie l'élément au rang 1 dans la liste \"listeCopie\"\n",
    "\n",
    "# On trouve que les 2 listes sont modifiées :\n",
    "print(liste)\n",
    "print(listeCopie)"
   ]
  },
  {
   "cell_type": "markdown",
   "metadata": {
    "slideshow": {
     "slide_type": "slide"
    }
   },
   "source": [
    "Afin d’éviter cela, on utilise la copie disjointe."
   ]
  },
  {
   "cell_type": "code",
   "execution_count": null,
   "metadata": {
    "slideshow": {
     "slide_type": "subslide"
    }
   },
   "outputs": [],
   "source": [
    "liste = [1, 2, 3, 4, 5] \n",
    "\n",
    "listeCopie = liste[:]\n",
    "\n",
    "listeCopie[1] = 99 # On modifie l'élément au rang 1 dans la liste \"listeCopie\"\n",
    "\n",
    "# On trouve que les 2 listes ne sont plus modifiées :\n",
    "print(liste)\n",
    "print(listeCopie)"
   ]
  },
  {
   "cell_type": "markdown",
   "metadata": {
    "slideshow": {
     "slide_type": "slide"
    }
   },
   "source": [
    "<div class=\"alert alert-block alert-info\" style='color:white; background-color:blue; border-color: blue; '>\n",
    "    <h2>Utilisation avancée des chaines de caractères en Python</h2>\n",
    "</div>"
   ]
  },
  {
   "cell_type": "markdown",
   "metadata": {
    "slideshow": {
     "slide_type": "subslide"
    }
   },
   "source": [
    "## Rappel sur les chaines de caractères"
   ]
  },
  {
   "cell_type": "markdown",
   "metadata": {
    "slideshow": {
     "slide_type": "subslide"
    }
   },
   "source": [
    "- Les chaines de caractères sont des variables capables de contenir une suite de caractères. Ils sont de type <class 'str’>.\n",
    "- Les chaines de caractères ne sont pas modifiables en Python. \n",
    "- Les caractères doivent être entourés par une simple quote `'` ou double qotes `\"`. "
   ]
  },
  {
   "cell_type": "markdown",
   "metadata": {
    "slideshow": {
     "slide_type": "slide"
    }
   },
   "source": [
    "<div style=\"border-color: #dc3545; padding: 0 .6rem .8rem !important; overflow: hidden; page-break-inside: avoid; border-left: .2rem solid #dc3545; border-radius: .1rem; box-shadow: 0 .2rem .5rem rgba(0,0,0,.05),0 0 .05rem rgba(0,0,0,.1); transition: color .25s,background-color .25s,border-color .25s;\">\n",
    "    <p style=\"background-color: #fdf3f2; position: relative; margin: 0 -.6rem !important; padding: .4rem .6rem .4rem 2rem; font-weight: 700;\">⚠️ Attention</p>\n",
    "    <p style=\"padding: 0 1.4rem; margin-top: .4em; margin-bottom: 0; font-size: 1em;\">Attention <b>les chaines de caractères</b> ne sont pas modifiables en python. On ne peut donc pas modifier ou supprimer des caractères à l'interieur d'une chaine de caractère !</p>\n",
    "</div>"
   ]
  },
  {
   "cell_type": "markdown",
   "metadata": {
    "slideshow": {
     "slide_type": "slide"
    }
   },
   "source": [
    "## Les caractères spéciaux qu'on peut utiliser dans les chaines"
   ]
  },
  {
   "cell_type": "markdown",
   "metadata": {
    "slideshow": {
     "slide_type": "subslide"
    }
   },
   "source": [
    "- `\\n` : représente le retour à la ligne.\n",
    "- `\\t` : représente la tabulation.\n",
    "- `\\r` : représente le retour chariot, parfois utilisé pour le retour en début de ligne. \n",
    "- `\\caractère spécial` : si on met `\\` devant un caractère spécial comme le caractère spéciale `\"`, qui permet de délimietr une chaine de caractère, alors ce caractère sera inscrit dans le texte et non considéré comme caractère spécial."
   ]
  },
  {
   "cell_type": "code",
   "execution_count": null,
   "metadata": {
    "slideshow": {
     "slide_type": "subslide"
    }
   },
   "outputs": [],
   "source": [
    "chaine = \"\\\"\\\\\"\n",
    "print(chaine) # Affiche : \"\\"
   ]
  },
  {
   "cell_type": "markdown",
   "metadata": {
    "slideshow": {
     "slide_type": "slide"
    }
   },
   "source": [
    "## Formater une chaine pour intégrer des variables dedans"
   ]
  },
  {
   "cell_type": "markdown",
   "metadata": {
    "slideshow": {
     "slide_type": "subslide"
    }
   },
   "source": [
    "Pour insérer les valeurs des variables à l'interieur d'une chaine sans avoir à la décomposer, on utilise la méthode `format`."
   ]
  },
  {
   "cell_type": "code",
   "execution_count": null,
   "metadata": {
    "slideshow": {
     "slide_type": "subslide"
    }
   },
   "outputs": [],
   "source": [
    "chaine = \"Bonjour {}, vous avez obtenu un excellent score {}.\"\n",
    "nom = \"Oliver\"\n",
    "score = 90\n",
    "chaineFormatee = chaine.format(nom, score) # La première {} sera remplacée par \"A\", et la seconde par \"B\"\n",
    "print(chaineFormatee)                      # Affiche: « Bonjour Oliver, vous avez obtenu un excellent score 90. »"
   ]
  },
  {
   "cell_type": "markdown",
   "metadata": {
    "slideshow": {
     "slide_type": "slide"
    }
   },
   "source": [
    "On peut placer les éléments à formater de différentes manières"
   ]
  },
  {
   "cell_type": "code",
   "execution_count": null,
   "metadata": {
    "slideshow": {
     "slide_type": "subslide"
    }
   },
   "outputs": [],
   "source": [
    "txt1 = \"My name is {fname}, I'm {age}\".format(fname = \"John\", age = 36)\n",
    "txt2 = \"My name is {0}, I'm {1}\".format(\"Paul\",37)\n",
    "txt3 = \"My name is {}, I'm {}\".format(\"Phil\",38)\n",
    "\n",
    "print(txt1)\n",
    "print(txt2)\n",
    "print(txt3)"
   ]
  },
  {
   "cell_type": "markdown",
   "metadata": {
    "slideshow": {
     "slide_type": "slide"
    }
   },
   "source": [
    "## Récupérer l'indice d'une suite de caractères d'une chaine de caractères"
   ]
  },
  {
   "cell_type": "code",
   "execution_count": null,
   "metadata": {
    "slideshow": {
     "slide_type": "subslide"
    }
   },
   "outputs": [],
   "source": [
    "s = \"Bonjour\"\n",
    "chaineATrouver = \"o\"\n",
    "i = s.find(chaineATrouver)  # Renvoie l'indice de la première occurrence de la chaîne cherchée « chaineATrouver ». \n",
    "                            # Renvoie « -1 » s'il trouve pas.\n",
    "print(i)                    # Affiche : 1\n",
    "\n",
    "i = s.index(chaineATrouver) # Renvoie l'indice de la première occurrence de la chaîne cherchée « chaineATrouver ».\n",
    "                            # Lève une exception de type « ValueError » s'il trouve pas.\n",
    "print(i)                    # Affiche : 1"
   ]
  },
  {
   "cell_type": "markdown",
   "metadata": {
    "slideshow": {
     "slide_type": "slide"
    }
   },
   "source": [
    "## Récupérer une suite de caractères d'une chaine de caractères"
   ]
  },
  {
   "cell_type": "markdown",
   "metadata": {
    "slideshow": {
     "slide_type": "subslide"
    }
   },
   "source": [
    "<div style=\"border-color: #007bff; margin: 1.5625em auto; padding: 0 .6rem .8rem !important; overflow: hidden; page-break-inside: avoid;border-left: .2rem solid #007bff; border-radius: .1rem; box-shadow: 0 .2rem .5rem rgba(0,0,0,.05),0 0 .05rem rgba(0,0,0,.1); transition: color .25s,background-color .25s,border-color .25s;\">\n",
    "    <p style=\"background-color: #e7f2fa; position: relative; margin: 0 -.6rem !important; padding: .4rem .6rem .4rem 2rem; font-weight: 700;\">📝 Note</p>\n",
    "    <p style=\"padding: 0 1.4rem; margin-top: .4em; margin-bottom: 0; font-size: 1em;\">\n",
    "        On peut utiliser le <b>slice sur les chaînes de la même manière que sur les listes</b>\n",
    "    </p>\n",
    "</div>"
   ]
  },
  {
   "cell_type": "code",
   "execution_count": null,
   "metadata": {
    "slideshow": {
     "slide_type": "slide"
    }
   },
   "outputs": [],
   "source": [
    "chaine1 = \"Bonjour\"\n",
    "i, j, k = 1, 3, 2\n",
    "\n",
    "chaine2 = chaine1[:]    # Revoie tous les caractères de la liste.\n",
    "print(chaine2)          # Affiche : Bonjour\n",
    "\n",
    "chaine2 = chaine1[i:j]  # Revoie les caractères entre l'indice « i » inclus et l'indice « j » exclu. \n",
    "                        # L'indice du caractère récupéré doit vérifier la condition i <= indiceCaractere < j\n",
    "print(chaine2)          # Affiche : on\n",
    "\n",
    "chaine2 = chaine1[i:]   # Revoie les caractères à partir de l'indice « i » inclus jusqu'à la fin.\n",
    "print(chaine2)          # Affiche : onjour\n",
    "\n",
    "chaine2 = chaine1[:j]   # Revoie les caractères à partir du début jusqu'à l'indice « j » exclu.\n",
    "print(chaine2)          # Affiche : Bon\n",
    "\n",
    "#etc... Voir exemple sur les listes"
   ]
  },
  {
   "cell_type": "markdown",
   "metadata": {
    "slideshow": {
     "slide_type": "slide"
    }
   },
   "source": [
    "## Remplacer des caractères d'une chaine de caractères"
   ]
  },
  {
   "cell_type": "markdown",
   "metadata": {
    "slideshow": {
     "slide_type": "subslide"
    }
   },
   "source": [
    "Pour remplacer des sous-chaines dans une chaine de caractère, on utilise la méthode `replace(chaineARemplacer, chaineDeRemplacement)`\n",
    "\n",
    "Cette méthode renvoie une chaîne en remplaçant toutes les occurrences de la chaîne passée en 1er argument `chaineARemplacer`, par la chaîne passée en 2ème argument `chaineDeRemplacement`."
   ]
  },
  {
   "cell_type": "code",
   "execution_count": null,
   "metadata": {
    "slideshow": {
     "slide_type": "subslide"
    }
   },
   "outputs": [],
   "source": [
    "chaine1 = \"Bonjour\"\n",
    "chaineARemplacer = \"o\"\n",
    "chaineDeRemplacement = \"ESME\"\n",
    "chaine2 = chaine1.replace(chaineARemplacer, chaineDeRemplacement)\n",
    "print(chaine2)  # Affiche :  BESMEnjESMEur"
   ]
  },
  {
   "cell_type": "markdown",
   "metadata": {
    "slideshow": {
     "slide_type": "slide"
    }
   },
   "source": [
    "## Compter le nombre d'occurrences d'une suite de caractères dans une chaine"
   ]
  },
  {
   "cell_type": "code",
   "execution_count": null,
   "metadata": {
    "slideshow": {
     "slide_type": "subslide"
    }
   },
   "outputs": [],
   "source": [
    "chaine = \"Bonjour\"\n",
    "s = \"o\"\n",
    "\n",
    "n = chaine.count(s) # Renvoie le nombre d'occurrences de la chaîne cherchée \"s\" dans la chaine de caractères \"chaine\".\n",
    "print(n)            # Affiche : 2"
   ]
  },
  {
   "cell_type": "markdown",
   "metadata": {
    "slideshow": {
     "slide_type": "slide"
    }
   },
   "source": [
    "## Transformer les caractères d'une chaine de caractères"
   ]
  },
  {
   "cell_type": "code",
   "execution_count": null,
   "metadata": {},
   "outputs": [],
   "source": [
    "chaine = \" Bonjour tout le monde.\"\n",
    "\n",
    "s = chaine.lower()      # Renvoie la chaîne en minuscule.\n",
    "print(s)\n",
    "\n",
    "s = chaine.upper()      # Renvoie la chaîne en majuscule.\n",
    "print(s)\n",
    "\n",
    "s = chaine.capitalize() # Renvoie la chaine avec une majuscule pour la première lettre, pour le premier mot de la chaine.\n",
    "print(s)\n",
    "\n",
    "s = chaine.title()      # Renvoie la chaine avec une majuscule pour la première lettre de chaque mot de la chaine.\n",
    "print(s)\n",
    "\n",
    "s = chaine.strip()      # Renvoie une chaine après avoir enlevé les espaces au début et à la fin de la chaine.\n",
    "print(s)"
   ]
  },
  {
   "cell_type": "markdown",
   "metadata": {
    "slideshow": {
     "slide_type": "slide"
    }
   },
   "source": [
    "<div style=\"border-color: #dc3545; padding: 0 .6rem .8rem !important; overflow: hidden; page-break-inside: avoid; border-left: .2rem solid #dc3545; border-radius: .1rem; box-shadow: 0 .2rem .5rem rgba(0,0,0,.05),0 0 .05rem rgba(0,0,0,.1); transition: color .25s,background-color .25s,border-color .25s;\">\n",
    "    <p style=\"background-color: #fdf3f2; position: relative; margin: 0 -.6rem !important; padding: .4rem .6rem .4rem 2rem; font-weight: 700;\">⚠️ Attention</p>\n",
    "    <p style=\"padding: 0 1.4rem; margin-top: .4em; margin-bottom: 0; font-size: 1em;\">L'ensemble des méthodes qui permettent de transformer les caractères d ’une chaine de caractères, <b>travaillent sur une copie de la chaine</b> et ne modifie en aucun cas la chaine.</p>\n",
    "</div>"
   ]
  },
  {
   "cell_type": "markdown",
   "metadata": {
    "slideshow": {
     "slide_type": "slide"
    }
   },
   "source": [
    "<div class=\"alert alert-block alert-info\" style='color:white; background-color:blue; border-color: blue; '>\n",
    "    <h2>Transformations entre chaines de caractères et listes</h2>\n",
    "</div>"
   ]
  },
  {
   "cell_type": "markdown",
   "metadata": {
    "slideshow": {
     "slide_type": "subslide"
    }
   },
   "source": [
    "### Transformer une liste en une chaine de caractères\n",
    "\n",
    "Pour pouvoir transformer une liste en une chaine de caractères, les éléments de la liste doivent être des chaines de caractères. Si ce n'est pas le cas, il faut parcourir la liste et convertir tous ses éléments en chaines de caractères avec « str(élément) »."
   ]
  },
  {
   "cell_type": "code",
   "execution_count": null,
   "metadata": {
    "slideshow": {
     "slide_type": "subslide"
    }
   },
   "outputs": [],
   "source": [
    "liste = ['A', str(2), str(True), str(8.2)]\n",
    "chaine = \"\".join(liste) # Construit une  chaine à partir des éléments de la liste « liste ». Ici « chaine = \"A2True8.2\" ».\n",
    "print(chaine)           # Affiche : A2True8.2"
   ]
  },
  {
   "cell_type": "markdown",
   "metadata": {
    "slideshow": {
     "slide_type": "slide"
    }
   },
   "source": [
    "Si on veut que les éléments de la liste soient séparés par un séparateur dans la chaine, alors on le précise dans la chaine sur laquelle on applique `join(…)` :"
   ]
  },
  {
   "cell_type": "code",
   "execution_count": null,
   "metadata": {
    "slideshow": {
     "slide_type": "subslide"
    }
   },
   "outputs": [],
   "source": [
    "liste = ['A', str(2), str(True), str(8.2)]\n",
    "\n",
    "chaine = \" \".join(liste) # Construit une chaine à partir des éléments de la liste en les séparant par un espace. \n",
    "print(chaine)            # Affiche : A 2 True 8.2.\n",
    "\n",
    "chaine = \"|\".join(liste) # Construit une chaine à partir des éléments de la liste en les séparant par « | ». \n",
    "print(chaine)            # Affiche : A|2|True|8.2.\n"
   ]
  },
  {
   "cell_type": "markdown",
   "metadata": {
    "slideshow": {
     "slide_type": "slide"
    }
   },
   "source": [
    "### Transformer une chaine de caractères en une liste"
   ]
  },
  {
   "cell_type": "markdown",
   "metadata": {
    "slideshow": {
     "slide_type": "subslide"
    }
   },
   "source": [
    "- #### Transformer une chaine de caractères en une liste de caractères :"
   ]
  },
  {
   "cell_type": "code",
   "execution_count": null,
   "metadata": {
    "slideshow": {
     "slide_type": "subslide"
    }
   },
   "outputs": [],
   "source": [
    "chaine = \"Hello\"\n",
    "liste = list(chaine)   # Renvoie la liste des caractères de la chaine « chaine ». Ici: « liste = ['H','e','l','l','o’] »\n",
    "print(liste)           # Affiche : ['H', 'e', 'l', 'l', 'o']"
   ]
  },
  {
   "cell_type": "markdown",
   "metadata": {
    "slideshow": {
     "slide_type": "subslide"
    }
   },
   "source": [
    "- #### Transformer une chaine de caractères en une liste de mots :"
   ]
  },
  {
   "cell_type": "code",
   "execution_count": null,
   "metadata": {
    "slideshow": {
     "slide_type": "subslide"
    }
   },
   "outputs": [],
   "source": [
    "chaine = \"Bonjour tout le monde. Vous êtes les meilleurs\"\n",
    "liste = chaine.split(\".\")  # Renvoie une liste de chaînes de caractères correspondant aux différentes parties\n",
    "                           # de la chaîne « chaine » découpées par le séparateur « \".\" ».\n",
    "print(liste)               # Affiche : ['Bonjour tout le monde', ' Vous êtes les meilleurs']\n",
    "\n",
    "liste = chaine.split()     # Par défaut, c'est l'espace blanc « ' ', '\\t', '\\n’, ou '\\r’ » qui est utilisé comme séparateur.\n",
    "print(liste)               # Affiche : ['Bonjour', 'tout', 'le', 'monde.', 'Vous', 'êtes', 'les', 'meilleurs']"
   ]
  },
  {
   "cell_type": "markdown",
   "metadata": {
    "slideshow": {
     "slide_type": "slide"
    }
   },
   "source": [
    "<div class=\"alert alert-block alert-info\" style='color:white; background-color:blue; border-color: blue; '>\n",
    "    <h2>Exercices de TD</h2>\n",
    "</div>\n",
    "\n",
    "\n",
    "Vous pouvez maintenant vous exercer à partir du notebook [Cours 05 - Listes et Chaines II](../TD/TD%2005%20-%20Listes%20et%20cha%C3%AEnes%202.ipynb#IngeSUP---TD-05---Listes-et-cha%C3%AEnes-2)."
   ]
  }
 ],
 "metadata": {
  "celltoolbar": "Format de la Cellule Texte Brut",
  "kernelspec": {
   "display_name": "Python 3",
   "language": "python",
   "name": "python3"
  },
  "language_info": {
   "codemirror_mode": {
    "name": "ipython",
    "version": 3
   },
   "file_extension": ".py",
   "mimetype": "text/x-python",
   "name": "python",
   "nbconvert_exporter": "python",
   "pygments_lexer": "ipython3",
   "version": "3.7.4"
  },
  "latex_envs": {
   "LaTeX_envs_menu_present": true,
   "autoclose": false,
   "autocomplete": true,
   "bibliofile": "biblio.bib",
   "cite_by": "apalike",
   "current_citInitial": 1,
   "eqLabelWithNumbers": true,
   "eqNumInitial": 1,
   "hotkeys": {
    "equation": "Ctrl-E",
    "itemize": "Ctrl-I"
   },
   "labels_anchors": false,
   "latex_user_defs": false,
   "report_style_numbering": false,
   "user_envs_cfg": false
  },
  "varInspector": {
   "cols": {
    "lenName": 16,
    "lenType": 16,
    "lenVar": 40
   },
   "kernels_config": {
    "python": {
     "delete_cmd_postfix": "",
     "delete_cmd_prefix": "del ",
     "library": "var_list.py",
     "varRefreshCmd": "print(var_dic_list())"
    },
    "r": {
     "delete_cmd_postfix": ") ",
     "delete_cmd_prefix": "rm(",
     "library": "var_list.r",
     "varRefreshCmd": "cat(var_dic_list()) "
    }
   },
   "types_to_exclude": [
    "module",
    "function",
    "builtin_function_or_method",
    "instance",
    "_Feature"
   ],
   "window_display": false
  }
 },
 "nbformat": 4,
 "nbformat_minor": 4
}
