{
 "cells": [
  {
   "cell_type": "markdown",
   "metadata": {},
   "source": [
    "<div class=\"alert alert-block alert-info\" style='color:white; background-color:#000000; border-color: black; '>\n",
    "    <hr><h1>Devoir surveillé 1 - SUP 2021</h1><hr>\n",
    "    <br>\n",
    "</div>"
   ]
  },
  {
   "cell_type": "markdown",
   "metadata": {},
   "source": [
    "<div class=\"alert alert-block alert-info\" style='color:white; background-color:#000000; border-color: black; '>\n",
    "    <hr><h2>Consignes : </h2>\n",
    "    <ul>\n",
    "        <li>Vous disposez de 1h45 pour réaliser ce sujet ;</li>\n",
    "        <li>Les  exercices sont indépendants :</li>\n",
    "        <li>3 exercices sont obligatoires, le dernier est en bonus</li>\n",
    "        <li>Sauvegardez régulièrement votre travail ;</li>\n",
    "        <li>Le barême est donné à titre indicatif ;</li>\n",
    "        <li>A la fin de l'examen, envoyez votre notebook Nom_prenom_DS1_SUP_2020.ipynb à l'adresse <a>https://esmefr-my.sharepoint.com/:f:/g/personal/vincent_beck_esme_fr/Es2tBoxTCSpIlFBLN1331SUBNHt4vtJYc4VJTeoUaPdzkg<a></li><br>\n",
    "    </ul>\n",
    "    <hr><h2>Exercice 01 - Input utilisateur et opérations - 6 points</h2><hr>\n",
    "    La taxe sur la valeur ajoutée ou TVA est un impôt général sur la consommation qui est directement facturé aux clients sur les biens qu'ils consomment ou les services qu'ils utilisent. (source economie.gouv.fr). Sa valeur dépend de la nature du bien, il en existe 4 types :<br><br>\n",
    "            taux normal : 20 %<br>\n",
    "taux intermédiaire : 10 %<br>\n",
    "taux réduit : 5,5 %<br>\n",
    "taux particulier : 2,1 %<br>\n",
    "    <ol>\n",
    "        <li>Ecrivez un programme qui :</li>\n",
    "        <ul>\n",
    "            <li>Demande à l'utilisateur de saisir au clavier le prix hors taxe d'un article qu'il commanderait.</li>\n",
    "            <li>Demande a l'utilisateur de quel type de bien il s'agit (entre les mots \"normal\", \"intermédiaire\", \"réduit\", et \"particulier\").</li>\n",
    "            <li>Affiche le prix avec la TVA calculée et ajoutée</li>\n",
    "        </ul>\n",
    "    </ol>\n",
    "</div>"
   ]
  },
  {
   "cell_type": "code",
   "execution_count": 1,
   "metadata": {},
   "outputs": [
    {
     "name": "stdout",
     "output_type": "stream",
     "text": [
      "prix hors taxe ?50\n",
      "de quel type de produit s'agit-il ?réduit\n",
      "le prix avec TVA est de  52.75\n"
     ]
    }
   ],
   "source": [
    "prixHT=float(input(\"prix hors taxe ?\"))\n",
    "typeProduit=input(\"de quel type de produit s'agit-il ?\")\n",
    "\n",
    "if typeProduit==\"normal\":\n",
    "    prixTVA=prixHT*1.2\n",
    "elif typeProduit==\"intermédiaire\":\n",
    "    prixTVA=prixHT*1.1\n",
    "elif typeProduit==\"réduit\":\n",
    "    prixTVA=prixHT*1.055\n",
    "elif typeProduit==\"particulier\":\n",
    "    prixTVA=prixHT*1.021\n",
    "else:\n",
    "    print(\"erreur\")\n",
    "    \n",
    "print(\"le prix avec TVA est de \", prixTVA)"
   ]
  },
  {
   "cell_type": "markdown",
   "metadata": {},
   "source": [
    "<div class=\"alert alert-block alert-info\" style='color:white; background-color:#000000; border-color: black; '>\n",
    "    <ol start=\"2\">\n",
    "        <li>On imagine que la commande de l'utilisateur doit être livrée. La livraison est offerte si le prix après TVA dépasse 100€. Sinon la livraison coute 7.95€.<br>Complétez votre code pour qu'il indique le prix total de la commande avec livraison.\n",
    "        </li>\n",
    "\n",
    "</div>"
   ]
  },
  {
   "cell_type": "code",
   "execution_count": 3,
   "metadata": {},
   "outputs": [
    {
     "name": "stdout",
     "output_type": "stream",
     "text": [
      "prix hors taxe ?90\n",
      "de quel type de produit s'agit-il ?normal\n",
      "le prix avec TVA est de  108.0\n",
      "le prix avec livraison est de  108.0\n"
     ]
    }
   ],
   "source": [
    "prixHT=float(input(\"prix hors taxe ?\"))\n",
    "typeProduit=input(\"de quel type de produit s'agit-il ?\")\n",
    "\n",
    "if typeProduit==\"normal\":\n",
    "    prixTVA=prixHT*1.2\n",
    "elif typeProduit==\"intermédiaire\":\n",
    "    prixTVA=prixHT*1.1\n",
    "elif typeProduit==\"réduit\":\n",
    "    prixTVA=prixHT*1.055\n",
    "elif typeProduit==\"particulier\":\n",
    "    prixTVA=prixHT*1.021\n",
    "else:\n",
    "    print(\"erreur\")\n",
    "    \n",
    "print(\"le prix avec TVA est de \", prixTVA)\n",
    "\n",
    "if prixTVA>100:\n",
    "    prixTotal=prixTVA\n",
    "else:\n",
    "    prixTotal=prixTVA+7.95\n",
    "    \n",
    "print(\"le prix avec livraison est de \", prixTotal)"
   ]
  },
  {
   "cell_type": "markdown",
   "metadata": {},
   "source": [
    "<div class=\"alert alert-block alert-info\" style='color:white; background-color:#000000; border-color: black; '>\n",
    "<hr><h2>Exercice 02 - Vérifications en boucle et listes - 8 points</h2><hr>\n",
    "        <ol start=\"1\">\n",
    "        <li>Demandez un nombre strictement supérieur a 1 a l'utilisateur.<br> \n",
    "Le programme écrit \"erreur\" et redemande un nombre a l'utilisateur tant que le nombre entré n'est pas strictement supérieur a 1.\n",
    "Sinon le programme écrit \"ok\" comme l'entier est conforme.</li>\n"
   ]
  },
  {
   "cell_type": "code",
   "execution_count": 4,
   "metadata": {
    "scrolled": true
   },
   "outputs": [
    {
     "name": "stdout",
     "output_type": "stream",
     "text": [
      "entrez un entier supérieur a 11\n",
      "erreur\n",
      "entrez un entier supérieur a 10\n",
      "erreur\n",
      "entrez un entier supérieur a 1-65\n",
      "erreur\n",
      "entrez un entier supérieur a 145\n",
      "ok\n"
     ]
    }
   ],
   "source": [
    "n=int(input(\"entrez un entier supérieur a 1\"))\n",
    "\n",
    "while n<=1:\n",
    "    print(\"erreur\")\n",
    "    n=int(input(\"entrez un entier supérieur a 1\"))\n",
    "    \n",
    "print(\"ok\")"
   ]
  },
  {
   "cell_type": "markdown",
   "metadata": {},
   "source": [
    "<div class=\"alert alert-block alert-info\" style='color:white; background-color:#000000; border-color: black; '>\n",
    "    <ol start=\"2\">\n",
    "        <li>Complétez votre code pour vérifier si l'entier saisi est un nombre premier, c'est à dire s'il n'a comme diviseur que 1 et lui-même. <br>On pourra faire une boucle pour tester les diviseurs a partir de 2 jusqu'a l'entier saisi.</li>\n",
    "    </ol>\n",
    "</div>"
   ]
  },
  {
   "cell_type": "code",
   "execution_count": null,
   "metadata": {
    "scrolled": true
   },
   "outputs": [],
   "source": [
    "n=int(input(\"entrez un entier supérieur a 1\"))\n",
    "\n",
    "while n<=1:\n",
    "    print(\"erreur\")\n",
    "    n=int(input(\"entrez un entier supérieur a 1\"))\n",
    "    \n",
    "print(\"ok\")\n",
    "premier=True\n",
    "\n",
    "for i in range(2,n):\n",
    "    if n%i==0:\n",
    "        print(i, \"divise\", n)\n",
    "        premier=False\n",
    "        \n",
    "if premier==True:\n",
    "    print(n, \"est premier\")\n",
    "else:\n",
    "    print(n, \"n'est pas premier\")\n"
   ]
  },
  {
   "cell_type": "markdown",
   "metadata": {},
   "source": [
    "<div class=\"alert alert-block alert-info\" style='color:white; background-color:#000000; border-color: black; '>\n",
    "    <ol start=\"3\">\n",
    "        <li>Voici une liste d'entiers : ListeATester=[23,49,31,25,127,17]<br>\n",
    "Faire un programme qui teste toutes les valeurs de de cette liste pour vérifier s'ils sont des nombres premiers.<br>\n",
    "Les entiers qui le sont seront ajouté a une liste \"ListePositifs\"<br>\n",
    "Votre programme affichera cette liste et indiquera le nombre d'éléments de cette liste dans une phrase de conclusion.</li>\n",
    "    </ol>\n",
    "</div>"
   ]
  },
  {
   "cell_type": "code",
   "execution_count": 11,
   "metadata": {
    "scrolled": true
   },
   "outputs": [
    {
     "name": "stdout",
     "output_type": "stream",
     "text": [
      "23 est premier\n",
      "7 divise 49\n",
      "49 n'est pas premier\n",
      "31 est premier\n",
      "5 divise 25\n",
      "25 n'est pas premier\n",
      "127 est premier\n",
      "17 est premier\n",
      "[23, 31, 127, 17] sont premiers, il y en a donc 4\n"
     ]
    }
   ],
   "source": [
    "ListeATester=[23,49,31,25,127,17]\n",
    "ListePositifs=[]\n",
    "\n",
    "for n in ListeATester:\n",
    "    premier=True\n",
    "    for i in range(2,n):\n",
    "        if n%i==0:\n",
    "            print(i, \"divise\", n)\n",
    "            premier=False\n",
    "        \n",
    "    if premier==True:\n",
    "        print(n, \"est premier\")\n",
    "        ListePositifs.append(n)\n",
    "    else:\n",
    "        print(n, \"n'est pas premier\")\n",
    "\n",
    "print(ListePositifs, \"sont premiers, il y en a donc\", len(ListePositifs))\n"
   ]
  },
  {
   "cell_type": "markdown",
   "metadata": {},
   "source": [
    "<div class=\"alert alert-block alert-info\" style='color:white; background-color:#000000; border-color: black; '>\n",
    "<hr><h2>Exercice 03 - Textes et fichiers - 6 points</h2><hr>\n",
    "        <ol start=\"1\">\n",
    "        <li>Faites un programme qui ouvre un fichier en mode écriture, qui demande 5 mots a l'utilisateur et qui écrit dans le fichier uniquement les mots qui ont plus de 5 lettres.</li>"
   ]
  },
  {
   "cell_type": "code",
   "execution_count": 13,
   "metadata": {},
   "outputs": [
    {
     "name": "stdout",
     "output_type": "stream",
     "text": [
      "entrez un motertyuio\n",
      "entrez un motdfghjklm\n",
      "entrez un motrtyuio\n",
      "entrez un motgh\n",
      "entrez un motcxvbn,;ghj\n"
     ]
    }
   ],
   "source": [
    "fichier=open(\"exo3.txt\", \"w\")\n",
    "\n",
    "for i in range(5):\n",
    "    mot=input(\"entrez un mot\")\n",
    "    if len(mot)>5:\n",
    "        fichier.write(mot+\"\\n\")\n",
    "\n",
    "fichier.close()"
   ]
  },
  {
   "cell_type": "markdown",
   "metadata": {},
   "source": [
    "<div class=\"alert alert-block alert-info\" style='color:white; background-color:#000000; border-color: black; '>\n",
    "    <ol start=\"2\">\n",
    "        <li>Faites un second programme qui réouvre le fichier créé en mode lecture, et qui affiche seulement les mots qui comprennent un \"e\" comme lettre</ol>\n",
    "</div>"
   ]
  },
  {
   "cell_type": "code",
   "execution_count": 16,
   "metadata": {},
   "outputs": [
    {
     "name": "stdout",
     "output_type": "stream",
     "text": [
      "ertyuio\n",
      "\n"
     ]
    }
   ],
   "source": [
    "fichier=open(\"exo3.txt\", \"r\")\n",
    "\n",
    "contenu=fichier.readlines()\n",
    "for mot in contenu:\n",
    "    if \"e\" in mot:\n",
    "        print(mot)\n",
    "\n",
    "fichier.close()"
   ]
  },
  {
   "cell_type": "markdown",
   "metadata": {},
   "source": [
    "<div class=\"alert alert-block alert-info\" style='color:white; background-color:#000000; border-color: black; '>\n",
    "    <h2><hr>Exercice BONUS - Suite aliquote - 2 points max</h2><hr>\n",
    "    Cet exercice est difficile et est là pour occuper les étudiants qui auraient terminé le sujet. Ne le traitez que si vous n'avez plus rien a faire car il ne rapporte pas beaucoup de points.<br>Toute trace de recherche ou solution partielle pourra être récompensée.\n",
    "   <br><br>\n",
    "    Une suite aliquote est une suite d'entier, qui part d'un entier donné et dont chaque terme est la somme des diviseurs stricts du précédent.<br>\n",
    "Exemple : si l'on commence par 10, dont les divieurs stricts sont 1, 2 et 5, le second terme de la suite est donc 1+2+5=8, le prochain terme serait alors 1+2+4=7 et enfin 1 (car 7 est premier)<br>\n",
    "On considère que la suite \"s'arrète\" si elle tombe sur 1<br>\n",
    "    <br>\n",
    "    Faire un programme qui demande le terme initial de la suite et qui affiche les termes suivants.<br> Il s'arrète s'il tombe sur 1.<br><br>\n",
    "Testez votre programme pour les entiers suivants : 10, 28, 220, 276.<br> Quels comportements peut-on remarquer ? (répondez en commentaire)\n",
    "    \n",
    "    \n",
    "\n",
    "</div>"
   ]
  },
  {
   "cell_type": "code",
   "execution_count": null,
   "metadata": {},
   "outputs": [],
   "source": [
    "n=int(input(\"entier ?\"))\n",
    "\n",
    "while n!=1:\n",
    "    #recherche des diviseurs\n",
    "    diviseurs=[]\n",
    "    for i in range(1, n):\n",
    "        if n%i==0:\n",
    "            diviseurs.append(i)\n",
    "\n",
    "    #calcul du nouveau terme :\n",
    "    somme=0\n",
    "    for nb in diviseurs:\n",
    "        somme+=nb\n",
    "\n",
    "    n=somme #on remplace le terme par le nouveau\n",
    "    print(diviseurs, n)"
   ]
  },
  {
   "cell_type": "markdown",
   "metadata": {},
   "source": [
    "<div class=\"alert alert-block alert-info\" style='color:white; background-color:#000000; border-color: black; '><hr>\n",
    "<center><b>Une fois l'épreuve terminée, sauvegardez une dernière fois votre notebook, vérifiez qu'il soit bien nommé puis uploadez le à partir du lien</center></b>"
   ]
  }
 ],
 "metadata": {
  "celltoolbar": "Format de la Cellule Texte Brut",
  "kernelspec": {
   "display_name": "Python 3",
   "language": "python",
   "name": "python3"
  },
  "language_info": {
   "codemirror_mode": {
    "name": "ipython",
    "version": 3
   },
   "file_extension": ".py",
   "mimetype": "text/x-python",
   "name": "python",
   "nbconvert_exporter": "python",
   "pygments_lexer": "ipython3",
   "version": "3.8.3"
  },
  "latex_envs": {
   "LaTeX_envs_menu_present": true,
   "autoclose": false,
   "autocomplete": true,
   "bibliofile": "biblio.bib",
   "cite_by": "apalike",
   "current_citInitial": 1,
   "eqLabelWithNumbers": true,
   "eqNumInitial": 1,
   "hotkeys": {
    "equation": "Ctrl-E",
    "itemize": "Ctrl-I"
   },
   "labels_anchors": false,
   "latex_user_defs": false,
   "report_style_numbering": false,
   "user_envs_cfg": false
  },
  "varInspector": {
   "cols": {
    "lenName": 16,
    "lenType": 16,
    "lenVar": 40
   },
   "kernels_config": {
    "python": {
     "delete_cmd_postfix": "",
     "delete_cmd_prefix": "del ",
     "library": "var_list.py",
     "varRefreshCmd": "print(var_dic_list())"
    },
    "r": {
     "delete_cmd_postfix": ") ",
     "delete_cmd_prefix": "rm(",
     "library": "var_list.r",
     "varRefreshCmd": "cat(var_dic_list()) "
    }
   },
   "types_to_exclude": [
    "module",
    "function",
    "builtin_function_or_method",
    "instance",
    "_Feature"
   ],
   "window_display": false
  }
 },
 "nbformat": 4,
 "nbformat_minor": 4
}
