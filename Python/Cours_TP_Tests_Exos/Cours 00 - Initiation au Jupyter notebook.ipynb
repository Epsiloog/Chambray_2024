<span class="filter_mathjaxloader_equation"><span class="nolink">{
 "cells": [
  {
   "cell_type": "markdown",
   "metadata": {},
   "source": [
    "***\n",
    "# Initiation au Jupyter notebook\n",
    "***\n",
    "\n",
    "Le format d'apprentissage utilisé pendant le cycle préparatoire est le Jupyter notebook (https://jupyter.org/) permettant l'exécution du langage de programmation Python (https://www.python.org/).\n",
    "\n",
    "Les Jupyter notebooks offrent aux étudiants un environnement intéractif riche mêlant cellules de textes, de codes, d'images, de graphiques... Cet environnement open-source et est largement utilisé dans le domaine académique et de la recherceh à travers le monde."
   ]
  },
  {
   "cell_type": "markdown",
   "metadata": {
    "deletable": false,
    "editable": false,
    "run_control": {
     "frozen": true
    }
   },
   "source": [
    "## Sommaire\n",
    "\n",
    "* <a href=\"#Environnement-d'exécution-d'un-Jupyter-notebook\">Environnement d'exécution d'un Jupyter notebook</a>\n",
    "* <a href=\"#Créer-son-Jupyter-notebook\">Créer son Jupyter notebook</a>\n",
    "* <a href=\"#Editer-puis-exécuter-son-notebook\">Editer puis exécuter son notebook</a>\n",
    "* <a href=\"#Formatage-des-cellules-de-texte\">Formatage des cellules de texte</a>\n",
    "* <a href=\"#LaTeX\">LaTeX</a>"
   ]
  },
  {
   "cell_type": "markdown",
   "metadata": {
    "deletable": false,
    "editable": false,
    "run_control": {
     "frozen": true
    }
   },
   "source": [
    "## Environnement d'exécution d'un Jupyter notebook\n",
    "\n",
    "### Environnement local\n",
    "\n",
    "Jupyter peut être exécuté localement. Pour cela, la distribution [Anaconda](https://www.anaconda.com/download) est recommandée.\n",
    "\n",
    "### Environnement embarqué (web)\n",
    "\n",
    "Vous pouvez exécuter jupyter depuis un environnement intéractif embarqué. Dans cette configuration, la plateforme [Azure Notebook](https://notebooks.azure.com/) est recommandée. Vous pouvez vous logger à partir de vos identifiants ESME."
   ]
  },
  {
   "cell_type": "markdown",
   "metadata": {
    "deletable": false,
    "editable": false,
    "run_control": {
     "frozen": true
    }
   },
   "source": [
    "## Créer son Jupyter notebook\n",
    "\n",
    "Pour créer un notebooke, en haut à droite de la page, cliquez sur `New -> Python 3`. Vous avez créer votre nouveau notebook, vous pouvez commencer à travailler.\n",
    "\n",
    "Par défaut, le nom d'un nouveau notebook est 'Untitled'. Cliquez sur 'Untitled' pour lui donner un nom différent."
   ]
  },
  {
   "cell_type": "markdown",
   "metadata": {
    "deletable": false,
    "editable": false,
    "run_control": {
     "frozen": true
    }
   },
   "source": [
    "## Editer puis exécuter son notebook\n",
    "\n",
    "Un Jupyter notebook propose des cellules de *code* et des cellules de *texte*. Si vous double-cliquez dans une cellule, celle-ci devient éditable. Vous verrez alors dans la barre des menus si c'st une cellule de code ('Code') ou une cellule de texte ('Markdown').\n",
    "Vous pourrez utiliser le menu drop-down box au-dessus du notebook pour changer le type de la cellule.\n",
    "Vous pouvez utiliser `Insert`depuis la bar des menus pour insérer une nouvelle cellule.\n",
    "\n",
    "La cellule active peut-être exécutée à partir de la commande `ctrl-Entrée` ou à partir du bouton `Run` de la barre des menus (la cellule active peut-être repérée à partir d'une barre de couleur située à gauche de la cellule). Une fois exécutée, une cellule de texte sera \"tapée\" tandis que le code d'une cellule de code sera exécuté. Toutes les sorties de la cellules de codes apparaitront en-dessous de la cellule.\n",
    "\n",
    "Si vous souhaitez exécuter toutes les cellules d'un notebook, vous pouvez utiliser `Kernel -> Restart & Run All`. Ainsi, après redémarrage du kernel, toutes les cellules du notebook seront exécutées dans l'ordre.\n",
    "\n",
    "Si vous souhaitez réinitialiser toutes les cellules sorties des cellules de code (c'est à dire toutes les variables d'environnement), vous pouvez utiliser `Cell -> All Output -> Clear`. Vous pouvvez également ne l'appliquer qu'à la cellule active en exécutant `Cell -> Current Outputs -> Clear`.\n",
    "\n",
    "### Cellule de code\n",
    "\n",
    "Ci-dessous une cellule de code:"
   ]
  },
  {
   "cell_type": "code",
   "execution_count": 2,
   "metadata": {},
   "outputs": [
    {
     "name": "stdout",
     "output_type": "stream",
     "text": [
      "7\n",
      "ESME Rules\n"
     ]
    }
   ],
   "source": [
    "a=4+3\n",
    "print(a)\n",
    "print(\"ESME Rules\")"
   ]
  },
  {
   "cell_type": "markdown",
   "metadata": {
    "deletable": false,
    "editable": false,
    "run_control": {
     "frozen": true
    }
   },
   "source": [
    "###  Cellule de texte\n",
    "\n",
    "Les cellules de texte sont formater à partir du format *Markdown* et utilisent la syntaxe *LaTeX* pour les expressions mathématiques.\n",
    "\n",
    "Vous pouvez trouver tous les détails sur l'utilisation des cellules de texte dans la [documentation Jupyter Markdown](http://jupyter-notebook.readthedocs.io/en/latest/examples/Notebook/Working%20With%20Markdown%20Cells.html)."
   ]
  },
  {
   "cell_type": "markdown",
   "metadata": {
    "deletable": false,
    "editable": false,
    "run_control": {
     "frozen": true
    }
   },
   "source": [
    "## Formatage des cellules de texte\n",
    "\n",
    "Vous trouvez ci-dessous un résumé des commandes de bases utilisées dans le formatage *Markdown*\n",
    "\n",
    "### Titres\n",
    "\n",
    "En Markdown, les titres sont indiqués par '`#`':\n",
    "<pre><code>\n",
    "# Titre rang 1\n",
    "## Titre rang 2\n",
    "### Titre rang 3\n",
    "</code></pre>\n",
    "\n",
    "### Style du texte\n",
    "\n",
    "Plusieurs balises peuvent être utilisées. Du texte avec les balises suivantes:\n",
    "<pre><code>\n",
    "`Un peu de texte`\n",
    "\n",
    "*Un peu plus de texte*\n",
    "\n",
    "**Encore plus de texte**\n",
    "\n",
    "</code></pre>\n",
    "\n",
    "s'affichera ainsi:\n",
    "\n",
    "`Un peu de texte`\n",
    "\n",
    "*Un peu plus de texte*\n",
    "\n",
    "**Encore plus de texte**\n",
    "\n",
    "### Lists\n",
    "\n",
    "Une liste à puces peut être créee à partir des balises suivantes:\n",
    "<pre><code>\n",
    "- Option A\n",
    "- Option B\n",
    "</code></pre>\n",
    "pour afficher\n",
    "- Option A\n",
    "- Option B\n",
    "\n",
    "et une liste numérotés utilisera les balises suivantes:\n",
    "<pre><code>\n",
    "1. Choix 1\n",
    "1. Choix 2\n",
    "</code></pre>\n",
    "pour afficher\n",
    "1. Choix 1\n",
    "1. Choix 2\n",
    "\n",
    "Dans le formatage 'Markdown', la numérotation des listes est automatique.\n",
    "\n",
    "### Code\n",
    "\n",
    "Du code peut être rentré ainsi:\n",
    "\n",
    "    <pre><code>python\n",
    "    def f(x):\n",
    "        return x*x\n",
    "    </code></pre>\n",
    "\n",
    "pour afficher\n",
    "\n",
    "<pre><code>python\n",
    "def f(x):\n",
    "    return x*x\n",
    "</code></pre>\n",
    "\n",
    "### Images\n",
    "\n",
    "Vous pouvez également inclure des images dans une cellule 'Markdown' du notebook. Cliquez [ici](http://jupyter-notebook.readthedocs.io/en/latest/examples/Notebook/Working%20With%20Markdown%20Cells.html) pour plus de détails."
   ]
  },
  {
   "cell_type": "markdown",
   "metadata": {
    "deletable": false,
    "editable": false,
    "run_control": {
     "frozen": true
    }
   },
   "source": [
    "## LaTeX\n",
    "\n",
    "Les cellules 'Markdown' utilisent la syntaxe [LaTeX](https://www.latex-project.org/) dans l'utilisation de formules mathématiques. LaTeX est un outil majeur dans la rédaction de documents numériques techniques composés de formules mathématiques et est un outil libre.\n",
    "\n",
    "> Apprendre la syntaxe LaTeX est une opportunité intéressante. Vous pouvez essayer https://www.overleaf.com/ pour pratiquer dans un environnement en ligne.\n",
    "\n",
    "Pour taper une équation en ligne, rentrez:\n",
    "<pre><code>\n",
    "Le calcul peut être obtenu à partir de l'expression $\\exp(-2x) \\sin(3 x^{4})$.\n",
    "</code></pre>\n",
    "qui s'affichera sous la forme:\n",
    "\n",
    "'Le calcul peut être obtenu à partir de l'expression $\\exp(-2x) \\sin(\\alpha x^{4})$.'\n",
    "\n",
    "Si vous souhaitez afficher une formule, vous pouvez rentrer:\n",
    "<pre><code>\n",
    "Nous voulons évaluer\n",
    "\n",
    "<span class="MathJax_Preview"><a href="https://moodle.esme.fr/filter/tex/displaytex.php?texexp=%5Cn%22%2C%0A%20%20%20%20%22f%28x%29%20%3D%20%5C%5Cbeta%20x%5E%7B3%7D%20%5C%5Cint_%7B0%7D%5E%7B2%7D%20g%28x%29%20%5C%5C%2C%20dx%5Cn%22%2C%0A%20%20%20%20%22" id="action_link66979ffa83e271" class=""  title="TeX" ><img class="texrender" title="\n&quot;,
    &quot;f(x) = \\beta x^{3} \\int_{0}^{2} g(x) \\, dx\n&quot;,
    &quot;" alt="\n&quot;,
    &quot;f(x) = \\beta x^{3} \\int_{0}^{2} g(x) \\, dx\n&quot;,
    &quot;" src="https://moodle.esme.fr/filter/tex/pix.php/d533ce95ebc517414f12ef3d59ec7bdb.gif" /></a></span><script type="math/tex">\n",
    "f(x) = \\beta x^{3} \\int_{0}^{2} g(x) \\, dx\n",
    "</script>\n",
    "\n",
    "avec $\\beta = 4$.\n",
    "</code></pre>\n",
    "S'affichera alors:\n",
    "\n",
    "'Nous voulons évaluer\n",
    "\n",
    "<span class="MathJax_Preview"><a href="https://moodle.esme.fr/filter/tex/displaytex.php?texexp=%5Cn%22%2C%0A%20%20%20%20%22f%28x%29%20%3D%20%5C%5Cbeta%20x%5E%7B3%7D%20%5C%5Cint_%7B0%7D%5E%7B2%7D%20g%28x%29%20%5C%5C%2C%20dx%5Cn%22%2C%0A%20%20%20%20%22" id="action_link66979ffa83e271" class=""  title="TeX" ><img class="texrender" title="\n&quot;,
    &quot;f(x) = \\beta x^{3} \\int_{0}^{2} g(x) \\, dx\n&quot;,
    &quot;" alt="\n&quot;,
    &quot;f(x) = \\beta x^{3} \\int_{0}^{2} g(x) \\, dx\n&quot;,
    &quot;" src="https://moodle.esme.fr/filter/tex/pix.php/d533ce95ebc517414f12ef3d59ec7bdb.gif" /></a></span><script type="math/tex">\n",
    "f(x) = \\beta x^{3} \\int_{0}^{2} g(x) \\, dx\n",
    "</script>\n",
    "\n",
    "avec $\\beta = 4$.'"
   ]
  }
 ],
 "metadata": {
  "kernelspec": {
   "display_name": "Python 3",
   "language": "python",
   "name": "python3"
  },
  "language_info": {
   "codemirror_mode": {
    "name": "ipython",
    "version": 3
   },
   "file_extension": ".py",
   "mimetype": "text/x-python",
   "name": "python",
   "nbconvert_exporter": "python",
   "pygments_lexer": "ipython3",
   "version": "3.7.6"
  },
  "latex_envs": {
   "LaTeX_envs_menu_present": true,
   "autoclose": false,
   "autocomplete": true,
   "bibliofile": "biblio.bib",
   "cite_by": "apalike",
   "current_citInitial": 1,
   "eqLabelWithNumbers": true,
   "eqNumInitial": 1,
   "hotkeys": {
    "equation": "Ctrl-E",
    "itemize": "Ctrl-I"
   },
   "labels_anchors": false,
   "latex_user_defs": false,
   "report_style_numbering": false,
   "user_envs_cfg": false
  },
  "varInspector": {
   "cols": {
    "lenName": 16,
    "lenType": 16,
    "lenVar": 40
   },
   "kernels_config": {
    "python": {
     "delete_cmd_postfix": "",
     "delete_cmd_prefix": "del ",
     "library": "var_list.py",
     "varRefreshCmd": "print(var_dic_list())"
    },
    "r": {
     "delete_cmd_postfix": ") ",
     "delete_cmd_prefix": "rm(",
     "library": "var_list.r",
     "varRefreshCmd": "cat(var_dic_list()) "
    }
   },
   "types_to_exclude": [
    "module",
    "function",
    "builtin_function_or_method",
    "instance",
    "_Feature"
   ],
   "window_display": false
  }
 },
 "nbformat": 4,
 "nbformat_minor": 4
}
</span></span> 