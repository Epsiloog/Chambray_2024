{
 "cells": [
  {
   "cell_type": "markdown",
   "metadata": {
    "slideshow": {
     "slide_type": "slide"
    }
   },
   "source": [
    "***\n",
    "# IngeSUP - Cours 02 - Les structures conditionnelles\n",
    "***"
   ]
  },
  {
   "cell_type": "markdown",
   "metadata": {
    "slideshow": {
     "slide_type": "subslide"
    }
   },
   "source": [
    "## Sommaire\n",
    "\n",
    "* <a href=\"#Objectifs\">Objectifs</a>\n",
    "* <a href=\"#Vidéos\">Vidéos</a>\n",
    "* <a href=\"#Les-opérateurs-de-comparaison\">Les opérateurs de comparaison</a>\n",
    "* <a href=\"#Les-opérateurs-booléens\">Les opérateurs booléens</a>\n",
    "* <a href=\"#L'instruction-if-else\">L'instruction if-else</a>\n",
    "* <a href=\"#L'instruction-if-elif-else\">L'instruction if-elif-else</a>"
   ]
  },
  {
   "cell_type": "markdown",
   "metadata": {
    "slideshow": {
     "slide_type": "subslide"
    }
   },
   "source": [
    "## Objectifs\n",
    "\n",
    "- Comprendre les opérateurs de comparaison ;\n",
    "- Introduire les opérateurs booléens ;\n",
    "- Apprendre à implémenter une instruction conditionnelle."
   ]
  },
  {
   "cell_type": "markdown",
   "metadata": {
    "slideshow": {
     "slide_type": "slide"
    }
   },
   "source": [
    "## Vidéos\n",
    "\n",
    "Le sujet abordé dans ce notebook de cours est traité sur ionisX dans la capsule vidéo suivante :\n",
    "\n",
    "-  [Module 5 : Structures de contrôle en Python](https://courses.ionisx.com/courses/ref/m122/x/courseware/d1d662e54cf64d7d91aea5d1a45e1904/)\n",
    "\n",
    "***"
   ]
  },
  {
   "cell_type": "markdown",
   "metadata": {
    "slideshow": {
     "slide_type": "slide"
    }
   },
   "source": [
    "## Introduction\n",
    "\n",
    "Les programmes que nous avons écrits jusqu'ici s'exécutent de manière très ordonnée. Ce n'est pas ainsi que fonctionnent les programmes dans le monde réel. \n",
    "\n",
    "Parfois, nous souhaitons exécuter un ensemble d'instructions **uniquement lorsque certaines conditions sont remplies**. \n"
   ]
  },
  {
   "cell_type": "markdown",
   "metadata": {
    "slideshow": {
     "slide_type": "subslide"
    }
   },
   "source": [
    "Pour gérer ce type de situation, les langages de programmation fournissent des **instructions spéciales appelées instructions de contrôle**."
   ]
  },
  {
   "cell_type": "markdown",
   "metadata": {
    "slideshow": {
     "slide_type": "subslide"
    }
   },
   "source": [
    "Avant de voir les structures conditionnelles utilisées via l'instruction `if`, il est important de d'introduire les **opérateurs de comparaison** et les **opérateurs booléens**."
   ]
  },
  {
   "cell_type": "markdown",
   "metadata": {
    "slideshow": {
     "slide_type": "slide"
    }
   },
   "source": [
    "## Les opérateurs de comparaison\n",
    "\n",
    "Dans un programme, nous avons régulièrement besoin de comparer deux variables, voir si par exemple l'une est plus grande que l'autre ou égale. "
   ]
  },
  {
   "cell_type": "markdown",
   "metadata": {
    "slideshow": {
     "slide_type": "subslide"
    }
   },
   "source": [
    "Pour cela, nous utilisons des opérateurs de comparaison : `<`, `<=`, `>`, `>=` and `==`. \n",
    "\n",
    "Testons ci-dessous si une variable `a` est plus grande ou plus petite qu'une variable `b`:"
   ]
  },
  {
   "cell_type": "code",
   "execution_count": null,
   "metadata": {
    "slideshow": {
     "slide_type": "subslide"
    }
   },
   "outputs": [],
   "source": [
    "a = 12.0\n",
    "b = 9.7\n",
    "print(a < b)\n",
    "print(a > b)"
   ]
  },
  {
   "cell_type": "markdown",
   "metadata": {
    "slideshow": {
     "slide_type": "slide"
    }
   },
   "source": [
    "Les égalités sont testées à partir des opérateurs '`==`' (égal) et `!=` (différent de). Ces opérateurs sont utilisés pour tester l'égalité de deux valeurs. Ci-dessous quelques exemples :"
   ]
  },
  {
   "cell_type": "code",
   "execution_count": null,
   "metadata": {
    "slideshow": {
     "slide_type": "subslide"
    }
   },
   "outputs": [],
   "source": [
    "a = 12\n",
    "b = -9\n",
    "c = 14\n",
    "\n",
    "# Teste si a est égale à b\n",
    "print(\"Est-ce-que a est égale à b?\")\n",
    "print(a == b)"
   ]
  },
  {
   "cell_type": "code",
   "execution_count": null,
   "metadata": {
    "slideshow": {
     "slide_type": "subslide"
    }
   },
   "outputs": [],
   "source": [
    "# Teste si a est égale à c\n",
    "print(\"Est-ce-que a est égale à c?\")\n",
    "print(a == c)\n",
    "\n",
    "# Teste si a est différent de c\n",
    "print(\"Est-ce-que a est différent de c?\")\n",
    "print(a != c)"
   ]
  },
  {
   "cell_type": "code",
   "execution_count": null,
   "metadata": {
    "slideshow": {
     "slide_type": "subslide"
    }
   },
   "outputs": [],
   "source": [
    "# Teste si a est inférieure ou égale à b\n",
    "print(\"Est-ce-que a est inférieure ou égale à b?\")\n",
    "print(a <= b)\n",
    "\n",
    "# Teste si a est inférieure ou égale à c\n",
    "print(\"Est-ce-que a est inférieure ou égale à c?\")\n",
    "print(a <= c)"
   ]
  },
  {
   "cell_type": "code",
   "execution_count": null,
   "metadata": {
    "slideshow": {
     "slide_type": "subslide"
    }
   },
   "outputs": [],
   "source": [
    "# Teste si deux couleurs sont les mêmes\n",
    "couleur0 = 'bleu'\n",
    "couleur1 = 'vert'\n",
    "print(\"Est-ce-que la couleur0 est la même que couleur1?\")\n",
    "print(couleur0 == couleur1)"
   ]
  },
  {
   "cell_type": "markdown",
   "metadata": {
    "slideshow": {
     "slide_type": "slide"
    }
   },
   "source": [
    "## Les opérateurs booléens\n",
    "\n",
    "Jusqu'à maintenant, nous n'avons utilisé que des comparaisons uniques à l'aide des opérateurs de comparaisons. Les opérateurs booléens permettent les comparaisons multiples à partir des opérateurs `and`, `or` et `not`."
   ]
  },
  {
   "cell_type": "markdown",
   "metadata": {
    "slideshow": {
     "slide_type": "subslide"
    }
   },
   "source": [
    "Les opérateurs `and` et `or` considèrent un booléen de chaque côté de l'expression et le code\n",
    "```python\n",
    "X and Y\n",
    "```\n",
    "\n",
    "évaluera `True` si `X` **et** `Y` sont tous les deux vrai ou évaluera `False` dans le cas contraire."
   ]
  },
  {
   "cell_type": "markdown",
   "metadata": {
    "slideshow": {
     "slide_type": "subslide"
    }
   },
   "source": [
    "Le code\n",
    "\n",
    "```python\n",
    "X or Y\n",
    "```\n",
    "évaluera `True` si `X` **ou** `Y` est vrai ou évaluera `False` dans le cas contraire.\n",
    "\n",
    "Voici deux exemples :"
   ]
  },
  {
   "cell_type": "code",
   "execution_count": null,
   "metadata": {
    "slideshow": {
     "slide_type": "subslide"
    }
   },
   "outputs": [],
   "source": [
    "# Teste si 10 < 9 (false) et 15 < 20 (true) -> false\n",
    "print(10 < 9 and 15 < 20)"
   ]
  },
  {
   "cell_type": "code",
   "execution_count": null,
   "metadata": {
    "slideshow": {
     "slide_type": "subslide"
    }
   },
   "outputs": [],
   "source": [
    "# Teste si 10 < 9 (false) ou 15 < 20 (true) -> true\n",
    "print(10 < 9 or 15 < 20)"
   ]
  },
  {
   "cell_type": "markdown",
   "metadata": {
    "slideshow": {
     "slide_type": "subslide"
    }
   },
   "source": [
    "Il est important de noter que les opérateurs de comparaisons (`>=`, `<=`, `<` et `>`) sont évalués avant les opérateurs booléens (`and`, `or`)\n",
    "\n",
    "L'opérateur `not` effectue une négation logique sur l'expression testée :"
   ]
  },
  {
   "cell_type": "code",
   "execution_count": null,
   "metadata": {
    "slideshow": {
     "slide_type": "subslide"
    }
   },
   "outputs": [],
   "source": [
    "# Est-ce-que 12 *not* (n'est pas) plus petit que 7 -> true\n",
    "a = 12\n",
    "b = 7\n",
    "print(not a < b)"
   ]
  },
  {
   "cell_type": "markdown",
   "metadata": {
    "slideshow": {
     "slide_type": "slide"
    }
   },
   "source": [
    "N'utilisez seulement '`not`' que si l'expression est facile à lire (i.e. à comprendre) ! \n",
    "\n",
    "Par exemple :"
   ]
  },
  {
   "cell_type": "code",
   "execution_count": null,
   "metadata": {
    "slideshow": {
     "slide_type": "subslide"
    }
   },
   "outputs": [],
   "source": [
    "print(not 12 == 7)"
   ]
  },
  {
   "cell_type": "markdown",
   "metadata": {
    "slideshow": {
     "slide_type": "fragment"
    }
   },
   "source": [
    "N'est pas forcément clair. Le mieux est de tester :"
   ]
  },
  {
   "cell_type": "code",
   "execution_count": null,
   "metadata": {
    "slideshow": {
     "slide_type": "fragment"
    }
   },
   "outputs": [],
   "source": [
    "print(12 != 7)"
   ]
  },
  {
   "cell_type": "markdown",
   "metadata": {
    "slideshow": {
     "slide_type": "slide"
    }
   },
   "source": [
    "Dans la plupart des cas, nous ne traiterons au maximum que deux comparaisons. \n",
    "Dans certains cas, vous serez amenés à évaluer plus de deux comparaisons. "
   ]
  },
  {
   "cell_type": "markdown",
   "metadata": {
    "slideshow": {
     "slide_type": "subslide"
    }
   },
   "source": [
    "Vous pourrez contrôler l'ordre des comparaisons en utilisant des parenthèses. \n",
    "\n",
    "Par exemple, si nous voulons tester si un nombre est strictement compris entre **100** et **200** ou entre **10** et **50** :"
   ]
  },
  {
   "cell_type": "code",
   "execution_count": null,
   "metadata": {
    "slideshow": {
     "slide_type": "slide"
    }
   },
   "outputs": [],
   "source": [
    "value = 150.5\n",
    "print ((value > 100 and value < 200) or (value > 10 and value < 50)) "
   ]
  },
  {
   "cell_type": "markdown",
   "metadata": {
    "slideshow": {
     "slide_type": "slide"
    }
   },
   "source": [
    "Les deux parenthèses sont évaluées en premier (chacune évalue `True` ou `False`), et ensuite le `or` vérifie si l'une des deux est vraie."
   ]
  },
  {
   "cell_type": "markdown",
   "metadata": {
    "slideshow": {
     "slide_type": "slide"
    }
   },
   "source": [
    "Maintenant que nous sommes en mesure de comparer des variables, nous pouvons explorer les instructions conditionnelles. "
   ]
  },
  {
   "cell_type": "markdown",
   "metadata": {
    "slideshow": {
     "slide_type": "slide"
    }
   },
   "source": [
    "## L'instruction `if`\n",
    "\n",
    "L'instruction est exécutée si une condition est remplie. "
   ]
  },
  {
   "cell_type": "markdown",
   "metadata": {
    "slideshow": {
     "slide_type": "subslide"
    }
   },
   "source": [
    "```\n",
    "if condition:\n",
    "    < instruction indentée 1>\n",
    "    < instruction indentée 2>\n",
    "  \n",
    "< instruction non indentée>\n",
    "```"
   ]
  },
  {
   "cell_type": "markdown",
   "metadata": {
    "slideshow": {
     "slide_type": "slide"
    }
   },
   "source": [
    "La première ligne de l'instruction **if** est une expression booléenne évaluée à True ou False. \n",
    "Dans la ligne suivante, nous avons un bloc d'instructions. Un bloc est simplement un ensemble d'une ou plusieurs instructions. \n",
    "\n",
    "Lorsqu'un bloc d'instructions est à l'intérieur de l'instruction `if`, Il est connu comme **bloc if**. "
   ]
  },
  {
   "cell_type": "markdown",
   "metadata": {
    "slideshow": {
     "slide_type": "subslide"
    }
   },
   "source": [
    "Notez que chaque instruction à l'intérieur du bloc if doit être **indentée** du même nombre d'espaces. "
   ]
  },
  {
   "cell_type": "code",
   "execution_count": null,
   "metadata": {
    "slideshow": {
     "slide_type": "subslide"
    }
   },
   "outputs": [],
   "source": [
    "x = int(input(\"Entrez le nombre 2, soyez cools.\"))\n",
    "if x == 2:\n",
    "    print(\"Vous avez joué le jeu !\")"
   ]
  },
  {
   "cell_type": "markdown",
   "metadata": {
    "slideshow": {
     "slide_type": "slide"
    }
   },
   "source": [
    "### Comment ça marche ?\n",
    "\n",
    "Lorsque l'instruction if est exécutée, la condition est testée. Si la condition est vraie, toutes les instructions du bloc `if` sont exécutées. Par contre, si la condition est fausse, toutes les instructions du bloc `if` sont ignorées."
   ]
  },
  {
   "cell_type": "markdown",
   "metadata": {
    "slideshow": {
     "slide_type": "slide"
    }
   },
   "source": [
    "Les instructions suivies par la clause `if` qui ne sont pas indentées **n'appartiennent pas au bloc `if`**. \n",
    "\n",
    "Par exemple, dans l'exemple précédent **< instruction non indentée>** ne fait pas partie du bloc `if`. \n",
    "\n",
    "En conséquence, il sera toujours exécuté, que la condition de la clause _if_ soit vraie ou fausse."
   ]
  },
  {
   "cell_type": "code",
   "execution_count": null,
   "metadata": {
    "slideshow": {
     "slide_type": "slide"
    }
   },
   "outputs": [],
   "source": [
    "a=int(input(\"Saisir un nombre : \"))\n",
    "if a>0:\n",
    "    print(\"le nombre est positif\")\n",
    "print(\"bye\")    # Instruction non indentée donc toujours exécutée"
   ]
  },
  {
   "cell_type": "markdown",
   "metadata": {
    "slideshow": {
     "slide_type": "subslide"
    }
   },
   "source": [
    "<div style=\"border-color: #dc3545; margin: 1.5625em auto; padding: 0 .6rem .8rem !important; overflow: hidden; page-break-inside: avoid; border-left: .2rem solid #dc3545; border-radius: .1rem; box-shadow: 0 .2rem .5rem rgba(0,0,0,.05),0 0 .05rem rgba(0,0,0,.1); transition: color .25s,background-color .25s,border-color .25s;\">\n",
    "    <p style=\"background-color: #fdf3f2; position: relative; margin: 0 -.6rem !important; padding: .4rem .6rem .4rem 2rem; font-weight: 700;\">⚠️ Attention</p>\n",
    "    <p style=\"padding: 0 1.4rem; margin-top: .4em; margin-bottom: 0; font-size: 1em;\">N'oubliez pas de mettre les <strong style=\"background-color: #eff0f1;\">:</strong> juste après le condition du <em>if</em></p>\n",
    "    <p style=\"padding: 0 1.4rem; margin-top: .4em; margin-bottom: 0; font-size: 1em;\">N'oubliez pas d'utiliser l'indentation pour écrire le bloc d'instruction qui appartient au <em>if</em> !</p>\n",
    "</div>"
   ]
  },
  {
   "cell_type": "code",
   "execution_count": null,
   "metadata": {
    "scrolled": true,
    "slideshow": {
     "slide_type": "slide"
    }
   },
   "outputs": [],
   "source": [
    "a=int(input(\"Saisir un nombre : \"))\n",
    "if a>0:\n",
    "    print(\"le nombre est positif : \")\n",
    "    c=a+5\n",
    "    print(c)\n",
    "print(\"bye\")    # Instruction non indentée"
   ]
  },
  {
   "cell_type": "markdown",
   "metadata": {
    "slideshow": {
     "slide_type": "slide"
    }
   },
   "source": [
    "<div style=\"border-color: #007bff; margin: 1.5625em auto; padding: 0 .6rem .8rem !important; overflow: hidden; page-break-inside: avoid;border-left: .2rem solid #007bff; border-radius: .1rem; box-shadow: 0 .2rem .5rem rgba(0,0,0,.05),0 0 .05rem rgba(0,0,0,.1); transition: color .25s,background-color .25s,border-color .25s;\">\n",
    "    <p style=\"background-color: #e7f2fa; position: relative; margin: 0 -.6rem !important; padding: .4rem .6rem .4rem 2rem; font-weight: 700;\">📝 Note</p>\n",
    "    <p style=\"padding: 0 1.4rem; margin-top: .4em; margin-bottom: 0; font-size: 1em;\">Les programmes que nous avons écrits jusqu'à présent se terminent sans montrer aucune réponse à l'utilisateur si la condition est fausse.<br><br>La plupart du temps, nous voulons montrer à l'utilisateur une réponse même si la condition est fausse. Nous pouvons facilement le faire en utilisant la déclaration <strong><em>if-else</em></strong></p>\n",
    "</div>"
   ]
  },
  {
   "cell_type": "markdown",
   "metadata": {
    "slideshow": {
     "slide_type": "slide"
    }
   },
   "source": [
    "## L'instruction `if-else`\n",
    "\n",
    "Une instruction **if-else** exécute un ensemble d'instructions lorsque la condition est vraie et un ensemble d'instructions différent lorsque la condition est fausse. De cette manière, une instruction **if-else** nous permet de suivre **deux lignes de conduite**."
   ]
  },
  {
   "cell_type": "markdown",
   "metadata": {
    "slideshow": {
     "slide_type": "slide"
    }
   },
   "source": [
    "```|\n",
    "if condition:\n",
    "    < instruction indentée 1>\n",
    "    < instruction indentée 2>\n",
    "else:\n",
    "    < instruction indentée 3>\n",
    "    < instruction indentée 4>\n",
    " \n",
    "< instruction non indentée>\n",
    "```"
   ]
  },
  {
   "cell_type": "code",
   "execution_count": null,
   "metadata": {
    "slideshow": {
     "slide_type": "slide"
    }
   },
   "outputs": [],
   "source": [
    "x = 2\n",
    "if x == 2:\n",
    "    print(\"Le test est vrai !\")\n",
    "else:\n",
    "    print(\"Le test est faux !\")"
   ]
  },
  {
   "cell_type": "markdown",
   "metadata": {
    "slideshow": {
     "slide_type": "slide"
    }
   },
   "source": [
    "### Comment ça marche ?\n",
    "\n",
    "Lorsque l'instruction **if-else** est exécutée, la condition est testée et si elle est évaluée à **True**, les instructions à l'intérieur du bloc if sont exécutées. Toutefois, si la condition est **False**, les instructions du bloc else sont exécutées."
   ]
  },
  {
   "cell_type": "code",
   "execution_count": null,
   "metadata": {
    "slideshow": {
     "slide_type": "slide"
    }
   },
   "outputs": [],
   "source": [
    "a=int(input(\"Saisir un nombre : \"))\n",
    "if a>=0:\n",
    "    print(\"le nombre est supérieur ou égal à 0\")\n",
    "else:\n",
    "    print(\"le nombre est négatif\")\n",
    " \n",
    "print(\"bye\")"
   ]
  },
  {
   "cell_type": "markdown",
   "metadata": {
    "slideshow": {
     "slide_type": "slide"
    }
   },
   "source": [
    "<div style=\"border-color: #dc3545; margin: 1.5625em auto; padding: 0 .6rem .8rem !important; overflow: hidden; page-break-inside: avoid; border-left: .2rem solid #dc3545; border-radius: .1rem; box-shadow: 0 .2rem .5rem rgba(0,0,0,.05),0 0 .05rem rgba(0,0,0,.1); transition: color .25s,background-color .25s,border-color .25s;\">\n",
    "    <p style=\"background-color: #fdf3f2; position: relative; margin: 0 -.6rem !important; padding: .4rem .6rem .4rem 2rem; font-weight: 700;\">⚠️ Attention</p>\n",
    "    <p style=\"padding: 0 1.4rem; margin-top: .4em; margin-bottom: 0; font-size: 1em;\"> Dans une instruction <strong>if-else</strong>, assurez-vous toujours que les clauses if et else sont correctement alignées. Sinon, une erreur de syntaxe sera générée.</p>\n",
    "</div>"
   ]
  },
  {
   "cell_type": "markdown",
   "metadata": {
    "slideshow": {
     "slide_type": "slide"
    }
   },
   "source": [
    "## L'instruction `if-elif-else`\n",
    "\n",
    "L'instruction **if-else** exécute deux codes différents selon que la condition est **True** ou **False**. \n",
    "\n",
    "Parfois, un choix doit être fait **parmi plus de deux possibilités**.\n",
    "\n",
    "**if - elif - else** vous permet de vérifier plusieurs conditions et d'exécuter différentes instructions."
   ]
  },
  {
   "cell_type": "markdown",
   "metadata": {
    "slideshow": {
     "slide_type": "slide"
    }
   },
   "source": [
    "```\n",
    "if condition_1:\n",
    "    < instruction indentée 1>\n",
    "    < instruction indentée 2>\n",
    "elif condition_2:\n",
    "    < instruction indentée 3>\n",
    "    < instruction indentée 4>\n",
    "elif condition_3:\n",
    "    < instruction indentée 5>\n",
    "    < instruction indentée 6>\n",
    "...\n",
    "else:\n",
    "    < instruction indentée 7>\n",
    "    < instruction indentée 8>\n",
    " \n",
    "< instruction indentée 1>\n",
    "```"
   ]
  },
  {
   "cell_type": "code",
   "execution_count": null,
   "metadata": {
    "slideshow": {
     "slide_type": "subslide"
    }
   },
   "outputs": [],
   "source": [
    "x = int(input(\"Entrez une valeur pour x: \"))\n",
    "\n",
    "if x > 0.0:  \n",
    "    print('La valeur initiale de x est supérieure à 0')\n",
    "    x -= 20.0    # equivalent de x = x - 20.0\n",
    "elif x < 0.0:  \n",
    "    print('La valeur initiale de x est inférieure à 0')\n",
    "    x += 21.0    # equivalent de x = x + 21.0\n",
    "else: \n",
    "    print('La valeur initiale de x n\\'est ni supérieure à 0, ni inférieure à 0, cela doit être 0 !')\n",
    "\n",
    "# Affiche la nouvelle valeur de x\n",
    "print(\"La nouvelle valeur de x est:\", x)"
   ]
  },
  {
   "cell_type": "markdown",
   "metadata": {
    "slideshow": {
     "slide_type": "subslide"
    }
   },
   "source": [
    "Regardons maintenant plus en détail cette instruction conditionnelle. Celle-ci commence par un `if`, suivie de l'expression à tester, suivie par '`:`'\n",
    "```python\n",
    "if x > 0.0:\n",
    "```"
   ]
  },
  {
   "cell_type": "markdown",
   "metadata": {
    "slideshow": {
     "slide_type": "subslide"
    }
   },
   "source": [
    "Ensuite, du code est **indenté**, code qui sera exécuté uniquement si la condition `x > 0.0` est vérifié (est vraie). Une fois le code indenté exécuté, le programme quitte la structure conditionnelle.\n",
    "````python\n",
    "    print('La valeur initiale de x est supérieure à 0)\n",
    "    x -= 20.0\n",
    "````"
   ]
  },
  {
   "cell_type": "markdown",
   "metadata": {
    "slideshow": {
     "slide_type": "subslide"
    }
   },
   "source": [
    "Si la condition testée est fausse, le programme vient tester la condition du `elif` (else if).\n",
    "```python\n",
    "elif x < 0.0:\n",
    "    print('La valeur initiale de x est inférieure à 0')\n",
    "    x += 21.0\n",
    "```"
   ]
  },
  {
   "cell_type": "markdown",
   "metadata": {
    "slideshow": {
     "slide_type": "subslide"
    }
   },
   "source": [
    "Si la condition `elif` est vérifiée, le code indenté correspondant est exécuté et le programme quitte la structure conditionnelle.  "
   ]
  },
  {
   "cell_type": "markdown",
   "metadata": {
    "slideshow": {
     "slide_type": "subslide"
    }
   },
   "source": [
    "Si aucune des conditions précédentes n'est vérifiée, le code indenté après l'instruction `else` est exécuté puis le programme quitte la structure conditionnelle.\n",
    "\n",
    "```python\n",
    "else:\n",
    "    print('La valeur initiale de x n\\'est ni supérieure à 0, ni inférieure à 0, cela doit être 0 !')\n",
    "```"
   ]
  },
  {
   "cell_type": "markdown",
   "metadata": {
    "slideshow": {
     "slide_type": "subslide"
    }
   },
   "source": [
    "<div style=\"border-color: #007bff; margin: 1.5625em auto; padding: 0 .6rem .8rem !important; overflow: hidden; page-break-inside: avoid;border-left: .2rem solid #007bff; border-radius: .1rem; box-shadow: 0 .2rem .5rem rgba(0,0,0,.05),0 0 .05rem rgba(0,0,0,.1); transition: color .25s,background-color .25s,border-color .25s;\">\n",
    "    <p style=\"background-color: #e7f2fa; position: relative; margin: 0 -.6rem !important; padding: .4rem .6rem .4rem 2rem; font-weight: 700;\">📝 Note</p>\n",
    "    <p style=\"padding: 0 1.4rem; margin-top: .4em; margin-bottom: 0; font-size: 1em;\">Vous pouvez mettre autant d'instruction <strong>elif</strong> que vous voulez et le <strong>else</strong> final n'est pas obligatoire.</p>\n",
    "</div>"
   ]
  },
  {
   "cell_type": "markdown",
   "metadata": {
    "slideshow": {
     "slide_type": "slide"
    }
   },
   "source": [
    "## Exercices de TD\n",
    "\n",
    "Vous pouvez maintenant vous exercer à partir du notebook [TD 02 - Les structures conditionnelles](../TD/TD%2002%20-%20Les%20structures%20conditionnelles.ipynb)."
   ]
  }
 ],
 "metadata": {
  "celltoolbar": "Format de la Cellule Texte Brut",
  "kernelspec": {
   "display_name": "Python 3",
   "language": "python",
   "name": "python3"
  },
  "language_info": {
   "codemirror_mode": {
    "name": "ipython",
    "version": 3
   },
   "file_extension": ".py",
   "mimetype": "text/x-python",
   "name": "python",
   "nbconvert_exporter": "python",
   "pygments_lexer": "ipython3",
   "version": "3.7.4"
  },
  "latex_envs": {
   "LaTeX_envs_menu_present": true,
   "autoclose": false,
   "autocomplete": true,
   "bibliofile": "biblio.bib",
   "cite_by": "apalike",
   "current_citInitial": 1,
   "eqLabelWithNumbers": true,
   "eqNumInitial": 1,
   "hotkeys": {
    "equation": "Ctrl-E",
    "itemize": "Ctrl-I"
   },
   "labels_anchors": false,
   "latex_user_defs": false,
   "report_style_numbering": false,
   "user_envs_cfg": false
  },
  "varInspector": {
   "cols": {
    "lenName": 16,
    "lenType": 16,
    "lenVar": 40
   },
   "kernels_config": {
    "python": {
     "delete_cmd_postfix": "",
     "delete_cmd_prefix": "del ",
     "library": "var_list.py",
     "varRefreshCmd": "print(var_dic_list())"
    },
    "r": {
     "delete_cmd_postfix": ") ",
     "delete_cmd_prefix": "rm(",
     "library": "var_list.r",
     "varRefreshCmd": "cat(var_dic_list()) "
    }
   },
   "types_to_exclude": [
    "module",
    "function",
    "builtin_function_or_method",
    "instance",
    "_Feature"
   ],
   "window_display": false
  }
 },
 "nbformat": 4,
 "nbformat_minor": 4
}
