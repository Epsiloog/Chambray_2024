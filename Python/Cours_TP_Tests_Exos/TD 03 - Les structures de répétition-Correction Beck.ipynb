{
 "cells": [
  {
   "cell_type": "markdown",
   "metadata": {},
   "source": [
    "***\n",
    "# IngeSUP - TD 03 - Les structures de répétition\n",
    "***"
   ]
  },
  {
   "cell_type": "markdown",
   "metadata": {},
   "source": [
    "<blockquote><em>“Le monde est une machine ingénieuse de création et de destruction en boucle sans fin.”</em></blockquote>&nbsp;&nbsp;<i style=\"font-size: 10px\">Casharel Nth</i>"
   ]
  },
  {
   "cell_type": "markdown",
   "metadata": {},
   "source": [
    "***\n",
    "## Exercice 03.1\n",
    "***"
   ]
  },
  {
   "cell_type": "markdown",
   "metadata": {},
   "source": [
    "1. Ecrivez un programme qui demande un nombre (entier ou réel) à rentrer au clavier tant que celui-ci n’est pas négatif."
   ]
  },
  {
   "cell_type": "code",
   "execution_count": 6,
   "metadata": {
    "scrolled": true
   },
   "outputs": [
    {
     "name": "stdout",
     "output_type": "stream",
     "text": [
      "entrez un nombre négatif6\n",
      "Ce n'est pas un nombre négatif !!\n",
      "entrez un nombre négatif7\n",
      "Ce n'est pas un nombre négatif !!\n",
      "entrez un nombre négatif-2\n"
     ]
    }
   ],
   "source": [
    "x=float(input(\"entrez un nombre négatif\"))\n",
    "while x>0:\n",
    "    print(\"Ce n'est pas un nombre négatif !!\")\n",
    "    x=float(input(\"entrez un nombre négatif\"))"
   ]
  },
  {
   "cell_type": "markdown",
   "metadata": {},
   "source": [
    "2. Ecrivez un programme qui demande de saisir deux nombre entiers tant que la somme de ces deux nombres n'est pas un nombre pair."
   ]
  },
  {
   "cell_type": "code",
   "execution_count": 7,
   "metadata": {},
   "outputs": [
    {
     "name": "stdout",
     "output_type": "stream",
     "text": [
      "entrez un nombre A3\n",
      "entrez un nombre B4\n",
      "la somme n'est pas paire\n",
      "entrez un nombre A1\n",
      "entrez un nombre B2\n",
      "la somme n'est pas paire\n",
      "entrez un nombre A1\n",
      "entrez un nombre B7\n",
      "ok, la somme fait 8.0\n"
     ]
    }
   ],
   "source": [
    "a=float(input(\"entrez un nombre A\"))\n",
    "b=float(input(\"entrez un nombre B\"))\n",
    "while (a+b)%2!=0:\n",
    "    print(\"la somme n'est pas paire\")\n",
    "    a=float(input(\"entrez un nombre A\"))\n",
    "    b=float(input(\"entrez un nombre B\"))\n",
    "print(\"ok, la somme fait\", a+b)"
   ]
  },
  {
   "cell_type": "markdown",
   "metadata": {},
   "source": [
    "***\n",
    "## Exercice 03.2\n",
    "***"
   ]
  },
  {
   "cell_type": "markdown",
   "metadata": {},
   "source": [
    "1. Traduisez en python l'algorithme suivant"
   ]
  },
  {
   "cell_type": "markdown",
   "metadata": {},
   "source": [
    "```\n",
    "DEMANDER a et b\n",
    "TANTQUE b <= a\n",
    "    a = a - b\n",
    "FIN TANTQUE\n",
    "AFFICHER a\n",
    "```"
   ]
  },
  {
   "cell_type": "code",
   "execution_count": 8,
   "metadata": {},
   "outputs": [
    {
     "name": "stdout",
     "output_type": "stream",
     "text": [
      "entrez un nombre A14\n",
      "entrez un nombre B3\n",
      "2.0\n"
     ]
    }
   ],
   "source": [
    "a=float(input(\"entrez un nombre A\"))\n",
    "b=float(input(\"entrez un nombre B\"))\n",
    "while b<=a:\n",
    "    a=a-b\n",
    "print(a)"
   ]
  },
  {
   "cell_type": "markdown",
   "metadata": {},
   "source": [
    "2. Qu'affiche le programme si on entre 14 pour a et 3 pour b ?"
   ]
  },
  {
   "cell_type": "markdown",
   "metadata": {},
   "source": [
    "**Réponse:**"
   ]
  },
  {
   "cell_type": "markdown",
   "metadata": {},
   "source": [
    "3. Plus généralement, si a et b sont deux entiers strictement positifs. Que fait ce programme ?"
   ]
  },
  {
   "cell_type": "markdown",
   "metadata": {},
   "source": [
    "**Réponse:**"
   ]
  },
  {
   "cell_type": "markdown",
   "metadata": {},
   "source": [
    "***\n",
    "## Exercice 03.3\n",
    "***"
   ]
  },
  {
   "cell_type": "markdown",
   "metadata": {},
   "source": [
    "Ecrivez un programme qui affiche une variable `somme_entiers` correspondant à la somme des entiers de 3 à 172, c'est à dire 3 + 4 + 5 + ... + 171 + 172."
   ]
  },
  {
   "cell_type": "code",
   "execution_count": 11,
   "metadata": {
    "scrolled": true
   },
   "outputs": [
    {
     "name": "stdout",
     "output_type": "stream",
     "text": [
      "14875\n"
     ]
    }
   ],
   "source": [
    "\n",
    "somme=0\n",
    "for i in range(3,173):\n",
    "    somme=somme+i\n",
    "\n",
    "print(somme)\n"
   ]
  },
  {
   "cell_type": "markdown",
   "metadata": {},
   "source": [
    "***\n",
    "## Exercice 03.4\n",
    "***"
   ]
  },
  {
   "cell_type": "markdown",
   "metadata": {},
   "source": [
    "Ecrire un programme qui calcule et affiche le plus grand entier `n` tel que:\n",
    "\n",
    "$$\n",
    "(n+1)(n+2) < 2020\n",
    "$$"
   ]
  },
  {
   "cell_type": "code",
   "execution_count": 13,
   "metadata": {
    "scrolled": true
   },
   "outputs": [
    {
     "name": "stdout",
     "output_type": "stream",
     "text": [
      "43\n"
     ]
    }
   ],
   "source": [
    "i=0\n",
    "while (i+1)*(i+2)<2020:\n",
    "    i=i+1\n",
    "print(i-1)"
   ]
  },
  {
   "cell_type": "markdown",
   "metadata": {},
   "source": [
    "***\n",
    "## Exercice 03.5\n",
    "***"
   ]
  },
  {
   "cell_type": "markdown",
   "metadata": {},
   "source": [
    "Nous savons qu’un capital $C_{0}$ placé à 5 % rapporte au bout d'un an $C_{0}\\times0,05$ d'intérêts.\n",
    "\n",
    "Ces intérêts ajoutés au capital nous donnent un nouveau capital $C_{1}= 1,05 \\times$ $C_{0}$ .\n",
    "\n",
    "En recommençant le processus chaque année, on crée ainsi une suite géométrique de raison 1,05 car : $C_{k+1}= 1,05\\times$$C_{k}$ .\n",
    "\n",
    "Réalisez un programme permettant de calculer le capital obtenu au bout d’un nombre d’années `N` avec un Capital initial `C0` et un taux d’intérêt `taux`. Les variables `N`, `C0` et `taux` doivent être saisies par l'utilisateur. Le programme affichera le capital `C` correspondant à chaque année."
   ]
  },
  {
   "cell_type": "markdown",
   "metadata": {},
   "source": [
    "### *Test*\n",
    "*Testez avec les paramètres `N=3`, `C0=20000` et `taux=2`.*"
   ]
  },
  {
   "cell_type": "code",
   "execution_count": 15,
   "metadata": {
    "scrolled": true
   },
   "outputs": [
    {
     "name": "stdout",
     "output_type": "stream",
     "text": [
      "nombre d'années ?10\n",
      "capital initial ?20000\n",
      "taux ?5\n",
      "21000.0\n",
      "22050.0\n",
      "23152.5\n",
      "24310.125\n",
      "25525.631250000002\n",
      "26801.912812500002\n",
      "28142.008453125003\n",
      "29549.108875781254\n",
      "31026.56431957032\n",
      "32577.892535548835\n"
     ]
    }
   ],
   "source": [
    "N=int(input(\"nombre d'années ?\"))\n",
    "C0=float(input(\"capital initial ?\"))\n",
    "taux=float(input(\"taux ?\"))\n",
    "\n",
    "C=C0\n",
    "for i in range(N):\n",
    "    C=C*(1+taux/100)\n",
    "    print(C)"
   ]
  },
  {
   "cell_type": "markdown",
   "metadata": {},
   "source": [
    "***\n",
    "## Exercice 03.6\n",
    "***"
   ]
  },
  {
   "cell_type": "markdown",
   "metadata": {},
   "source": [
    "On considère la suite définie par récurrence de la façon suivante:\n",
    "\n",
    "$$x_{k+1}=\\frac{1}{2}(x_{k}+\\frac{a}{x_{k}})$$\n",
    "\n",
    "Réalisez un programme permettant de calculer l’élément `x` tandis que les variables `a`,`x0` et `k` seront renseignées au clavier par l'utilisateur. Afficher `x`."
   ]
  },
  {
   "cell_type": "code",
   "execution_count": 1,
   "metadata": {
    "scrolled": true
   },
   "outputs": [
    {
     "name": "stdout",
     "output_type": "stream",
     "text": [
      "entrez a1\n",
      "entrez x02\n",
      "entrez k un entier3\n",
      "1.25\n",
      "1.025\n",
      "1.0003048780487804\n"
     ]
    }
   ],
   "source": [
    "a=float(input(\"entrez a\"))\n",
    "x0=float(input(\"entrez x0\"))\n",
    "k=int(input(\"entrez k un entier\"))\n",
    "\n",
    "x=x0\n",
    "\n",
    "for i in range(k):\n",
    "    x=(1/2)*(x+a/x)\n",
    "    \n",
    "    print(x)"
   ]
  },
  {
   "cell_type": "markdown",
   "metadata": {
    "jupyter": {
     "source_hidden": true
    }
   },
   "source": [
    "***\n",
    "## Exercice 03.7\n",
    "***"
   ]
  },
  {
   "cell_type": "markdown",
   "metadata": {},
   "source": [
    "Ecrivez un programme qui calcule le nombre de lettres qui composent une variable `mot` que vous définirez. Le résultat sera stocké derrière la variable `nbre_ltr`.\n",
    "\n",
    "> N'oubliez pas la boucle `for..in` "
   ]
  },
  {
   "cell_type": "code",
   "execution_count": 19,
   "metadata": {
    "scrolled": true
   },
   "outputs": [
    {
     "name": "stdout",
     "output_type": "stream",
     "text": [
      "entrez un motbonjour\n",
      "7\n",
      "7\n"
     ]
    }
   ],
   "source": [
    "mot=input(\"entrez un mot\")\n",
    "\n",
    "compteur=0\n",
    "\n",
    "for lettre in mot:\n",
    "    compteur += 1\n",
    "    \n",
    "print(compteur)\n",
    "\n",
    "#on peut aussi faire\n",
    "print(len(mot))\n",
    "#mais l'objectif est de s'entrainer sur les boucles"
   ]
  },
  {
   "cell_type": "markdown",
   "metadata": {
    "jupyter": {
     "source_hidden": true
    }
   },
   "source": [
    "***\n",
    "## Exercice 03.8\n",
    "***"
   ]
  },
  {
   "cell_type": "markdown",
   "metadata": {},
   "source": [
    "Une séquence d'ADN valide signifie qu'elle n’est pas vide et est formée exclusivement d'une combinaison arbitraire de \"A\", \"C\", \"G\" ou \"T\" (A pour Adénine, C pour Cytosine, G pour Guanine et T pour Thymine).\n",
    "\n",
    "Proposez un programme qui, après avoir demandé à l’utilisateur de saisir au clavier une chaîne d'ADN `adn`, stocke derrière la variable `res` la chaîne de caractère `ADN valide` si la chaine saisie est bien une chaîne d’ADN. Le programme stockera `ADN non valide` le cas échéant."
   ]
  },
  {
   "cell_type": "code",
   "execution_count": 21,
   "metadata": {
    "scrolled": true
   },
   "outputs": [
    {
     "name": "stdout",
     "output_type": "stream",
     "text": [
      "entrez un adn (composé de A-C-G-T)ACTGTCFGCT\n",
      "adn non valide\n"
     ]
    }
   ],
   "source": [
    "adn=input(\"entrez un adn (composé de A-C-G-T)\")\n",
    "res=\"adn valide\"\n",
    "\n",
    "for lettre in adn:\n",
    "    if lettre!=\"A\" and lettre != \"C\" and lettre != \"G\" and lettre != \"T\":\n",
    "        res=\"adn non valide\"\n",
    "        break # si on trouve une lettre problématique, pas la peine de vérifier la suite on peut couper court\n",
    "    \n",
    "print(res)"
   ]
  },
  {
   "cell_type": "markdown",
   "metadata": {},
   "source": [
    "***\n",
    "## Exercice 03.9\n",
    "***"
   ]
  },
  {
   "cell_type": "markdown",
   "metadata": {},
   "source": [
    "1. Ecrire un programme python qui demande à l’utilisateur de saisir un entier n compris entre 2 et 12. Si l’utilisateur se trompe et saisit un nombre qui ne vérifie pas la condition le programme doit lui redemander la saisie jusqu’à ce qu’il saisisse un entier n vérifiant la condition."
   ]
  },
  {
   "cell_type": "code",
   "execution_count": null,
   "metadata": {},
   "outputs": [],
   "source": [
    "n=int(input(\"entrez un entier entre 2 et 12\"))\n",
    "\n",
    "while n<2 or n>12:\n",
    "    print(\"erreur\")\n",
    "    n=int(input(\"entrez un entier entre 2 et 12\"))"
   ]
  },
  {
   "cell_type": "markdown",
   "metadata": {},
   "source": [
    "2. Compléter le programme précédent pour qu’il affiche toutes les combinaisons possibles pour faire le nombre n en lançant deux dés à six faces."
   ]
  },
  {
   "cell_type": "code",
   "execution_count": 23,
   "metadata": {},
   "outputs": [
    {
     "name": "stdout",
     "output_type": "stream",
     "text": [
      "entrez un entier entre 2 et 128\n",
      "2 6\n",
      "3 5\n",
      "4 4\n",
      "5 3\n",
      "6 2\n"
     ]
    }
   ],
   "source": [
    "n=int(input(\"entrez un entier entre 2 et 12\"))\n",
    "\n",
    "while n<2 or n>12:\n",
    "    print(\"erreur\")\n",
    "    n=int(input(\"entrez un entier entre 2 et 12\"))\n",
    "    \n",
    "for i in range(1,7):\n",
    "    for j in range(1,7):\n",
    "        if i+j==n:\n",
    "            print(i,j)"
   ]
  },
  {
   "cell_type": "markdown",
   "metadata": {},
   "source": [
    "***\n",
    "## Exercice 03.10\n",
    "***"
   ]
  },
  {
   "cell_type": "markdown",
   "metadata": {},
   "source": [
    "1. En vous inspirant de l'exemple du cours et à l'aide d'une boucle for, affichez la table de 8 "
   ]
  },
  {
   "cell_type": "code",
   "execution_count": 24,
   "metadata": {},
   "outputs": [
    {
     "name": "stdout",
     "output_type": "stream",
     "text": [
      "1 * 8 =  8\n",
      "2 * 8 =  16\n",
      "3 * 8 =  24\n",
      "4 * 8 =  32\n",
      "5 * 8 =  40\n",
      "6 * 8 =  48\n",
      "7 * 8 =  56\n",
      "8 * 8 =  64\n",
      "9 * 8 =  72\n",
      "10 * 8 =  80\n"
     ]
    }
   ],
   "source": [
    "for i in range(1,11):\n",
    "    print(i, \"* 8 = \", i*8)"
   ]
  },
  {
   "cell_type": "markdown",
   "metadata": {},
   "source": [
    "2. A l'aide de **deux boucle for imbriquées** et en vous inspirant de la question précédente, affichez toutes les tables de  multiplication de 1 à 10."
   ]
  },
  {
   "cell_type": "code",
   "execution_count": 27,
   "metadata": {},
   "outputs": [
    {
     "name": "stdout",
     "output_type": "stream",
     "text": [
      "table de 1\n",
      "1 * 1 = 1\n",
      "2 * 1 = 2\n",
      "3 * 1 = 3\n",
      "4 * 1 = 4\n",
      "5 * 1 = 5\n",
      "6 * 1 = 6\n",
      "7 * 1 = 7\n",
      "8 * 1 = 8\n",
      "9 * 1 = 9\n",
      "10 * 1 = 10\n",
      "table de 2\n",
      "1 * 2 = 2\n",
      "2 * 2 = 4\n",
      "3 * 2 = 6\n",
      "4 * 2 = 8\n",
      "5 * 2 = 10\n",
      "6 * 2 = 12\n",
      "7 * 2 = 14\n",
      "8 * 2 = 16\n",
      "9 * 2 = 18\n",
      "10 * 2 = 20\n",
      "table de 3\n",
      "1 * 3 = 3\n",
      "2 * 3 = 6\n",
      "3 * 3 = 9\n",
      "4 * 3 = 12\n",
      "5 * 3 = 15\n",
      "6 * 3 = 18\n",
      "7 * 3 = 21\n",
      "8 * 3 = 24\n",
      "9 * 3 = 27\n",
      "10 * 3 = 30\n",
      "table de 4\n",
      "1 * 4 = 4\n",
      "2 * 4 = 8\n",
      "3 * 4 = 12\n",
      "4 * 4 = 16\n",
      "5 * 4 = 20\n",
      "6 * 4 = 24\n",
      "7 * 4 = 28\n",
      "8 * 4 = 32\n",
      "9 * 4 = 36\n",
      "10 * 4 = 40\n",
      "table de 5\n",
      "1 * 5 = 5\n",
      "2 * 5 = 10\n",
      "3 * 5 = 15\n",
      "4 * 5 = 20\n",
      "5 * 5 = 25\n",
      "6 * 5 = 30\n",
      "7 * 5 = 35\n",
      "8 * 5 = 40\n",
      "9 * 5 = 45\n",
      "10 * 5 = 50\n",
      "table de 6\n",
      "1 * 6 = 6\n",
      "2 * 6 = 12\n",
      "3 * 6 = 18\n",
      "4 * 6 = 24\n",
      "5 * 6 = 30\n",
      "6 * 6 = 36\n",
      "7 * 6 = 42\n",
      "8 * 6 = 48\n",
      "9 * 6 = 54\n",
      "10 * 6 = 60\n",
      "table de 7\n",
      "1 * 7 = 7\n",
      "2 * 7 = 14\n",
      "3 * 7 = 21\n",
      "4 * 7 = 28\n",
      "5 * 7 = 35\n",
      "6 * 7 = 42\n",
      "7 * 7 = 49\n",
      "8 * 7 = 56\n",
      "9 * 7 = 63\n",
      "10 * 7 = 70\n",
      "table de 8\n",
      "1 * 8 = 8\n",
      "2 * 8 = 16\n",
      "3 * 8 = 24\n",
      "4 * 8 = 32\n",
      "5 * 8 = 40\n",
      "6 * 8 = 48\n",
      "7 * 8 = 56\n",
      "8 * 8 = 64\n",
      "9 * 8 = 72\n",
      "10 * 8 = 80\n",
      "table de 9\n",
      "1 * 9 = 9\n",
      "2 * 9 = 18\n",
      "3 * 9 = 27\n",
      "4 * 9 = 36\n",
      "5 * 9 = 45\n",
      "6 * 9 = 54\n",
      "7 * 9 = 63\n",
      "8 * 9 = 72\n",
      "9 * 9 = 81\n",
      "10 * 9 = 90\n",
      "table de 10\n",
      "1 * 10 = 10\n",
      "2 * 10 = 20\n",
      "3 * 10 = 30\n",
      "4 * 10 = 40\n",
      "5 * 10 = 50\n",
      "6 * 10 = 60\n",
      "7 * 10 = 70\n",
      "8 * 10 = 80\n",
      "9 * 10 = 90\n",
      "10 * 10 = 100\n"
     ]
    }
   ],
   "source": [
    "for n in range(1,11):\n",
    "    print(\"table de\", n)\n",
    "    for i in range(1,11):\n",
    "        print(i, \"*\",n,\"=\", i*n)"
   ]
  }
 ],
 "metadata": {
  "celltoolbar": "Format de la Cellule Texte Brut",
  "kernelspec": {
   "display_name": "Python 3",
   "language": "python",
   "name": "python3"
  },
  "language_info": {
   "codemirror_mode": {
    "name": "ipython",
    "version": 3
   },
   "file_extension": ".py",
   "mimetype": "text/x-python",
   "name": "python",
   "nbconvert_exporter": "python",
   "pygments_lexer": "ipython3",
   "version": "3.8.3"
  },
  "latex_envs": {
   "LaTeX_envs_menu_present": true,
   "autoclose": false,
   "autocomplete": true,
   "bibliofile": "biblio.bib",
   "cite_by": "apalike",
   "current_citInitial": 1,
   "eqLabelWithNumbers": true,
   "eqNumInitial": 1,
   "hotkeys": {
    "equation": "Ctrl-E",
    "itemize": "Ctrl-I"
   },
   "labels_anchors": false,
   "latex_user_defs": false,
   "report_style_numbering": false,
   "user_envs_cfg": false
  },
  "varInspector": {
   "cols": {
    "lenName": 16,
    "lenType": 16,
    "lenVar": 40
   },
   "kernels_config": {
    "python": {
     "delete_cmd_postfix": "",
     "delete_cmd_prefix": "del ",
     "library": "var_list.py",
     "varRefreshCmd": "print(var_dic_list())"
    },
    "r": {
     "delete_cmd_postfix": ") ",
     "delete_cmd_prefix": "rm(",
     "library": "var_list.r",
     "varRefreshCmd": "cat(var_dic_list()) "
    }
   },
   "types_to_exclude": [
    "module",
    "function",
    "builtin_function_or_method",
    "instance",
    "_Feature"
   ],
   "window_display": false
  }
 },
 "nbformat": 4,
 "nbformat_minor": 4
}
