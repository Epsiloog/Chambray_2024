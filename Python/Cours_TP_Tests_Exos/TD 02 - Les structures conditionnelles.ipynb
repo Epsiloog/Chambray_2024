{
 "cells": [
  {
   "cell_type": "markdown",
   "metadata": {},
   "source": [
    "***\n",
    "# IngeSUP - TD 02 - Les structures conditionnelles\n",
    "***"
   ]
  },
  {
   "cell_type": "markdown",
   "metadata": {},
   "source": [
    "<blockquote><em>“Avec des \"si\" on mettrait Paris en Bouteille.”</em></blockquote>&nbsp;&nbsp;<i style=\"font-size: 10px\">Expression populaire</i>"
   ]
  },
  {
   "cell_type": "markdown",
   "metadata": {},
   "source": [
    "***\n",
    "## Exercice 02.1\n",
    "***"
   ]
  },
  {
   "cell_type": "markdown",
   "metadata": {},
   "source": [
    "Ecrivez un programme qui demande à l’utilisateur de saisir au clavier un nombre entier `n` et qui affiche si ce nombre est pair ou pas."
   ]
  },
  {
   "cell_type": "code",
   "execution_count": null,
   "metadata": {
    "scrolled": true
   },
   "outputs": [],
   "source": [
    "# VOTRE CODE ICI"
   ]
  },
  {
   "cell_type": "markdown",
   "metadata": {},
   "source": [
    "***\n",
    "## Exercice 02.2\n",
    "***"
   ]
  },
  {
   "cell_type": "markdown",
   "metadata": {},
   "source": [
    "Ecrivez un programme python qui demande à saisir un nombre réel `R` puis calcule et affiche sa racine carrée. Attention, si le nombre saisi est négatif, le programme doit afficher un message d’erreur."
   ]
  },
  {
   "cell_type": "code",
   "execution_count": null,
   "metadata": {
    "scrolled": true
   },
   "outputs": [],
   "source": [
    "# VOTRE CODE ICI"
   ]
  },
  {
   "cell_type": "markdown",
   "metadata": {},
   "source": [
    "***\n",
    "## Exercice 02.3\n",
    "***"
   ]
  },
  {
   "cell_type": "markdown",
   "metadata": {},
   "source": [
    "On considère les critères d'évaluations suivants qui attribue une mention en fonction de la note évaluée sur 100 points :\n",
    "\n",
    "| Mention          | Note  (/100)           |\n",
    "| ---------------- | ---------------------- |\n",
    "| Excellent        | $\\ge 82$               |\n",
    "| Très bien        | $\\ge 76.5$ and $< 82$  |\n",
    "| Bien             | $\\ge 66$ and $< 76.5$  |\n",
    "| Besoin de travail| $\\ge 45$ and $< 66$    |\n",
    "| Avez-vous essayé?| $< 45$                 |\n",
    "\n",
    "Ecrivez un programme qui, en fonction d'un score entré par l'utilisateur, affiche la mention associée. Affichez un message d'erreur si la note entrée par l'utilisateur est supérieur à 100 ou inférieure à 0."
   ]
  },
  {
   "cell_type": "code",
   "execution_count": null,
   "metadata": {
    "scrolled": true
   },
   "outputs": [],
   "source": [
    "# VOTRE CODE ICI"
   ]
  },
  {
   "cell_type": "markdown",
   "metadata": {},
   "source": [
    "***\n",
    "## Exercice 02.4\n",
    "***"
   ]
  },
  {
   "cell_type": "markdown",
   "metadata": {},
   "source": [
    "Une compagnie de transport applique une réduction au tarif initial d’un billet de transport en fonction de l’âge du voyageur :\n",
    "- Gratuit pour les moins de 2 ans ;\n",
    "- Réduction de 50% pour les enfants de 2 à 10 ans ;\n",
    "- Réduction de 30% pour les 10 à 18 ans ;\n",
    "- Réduction de 40% pour les 60 ans et plus.\n",
    "\n",
    "Écrivez un programme qui : \n",
    "- Demande à l’utilisateur de saisir au clavier son nom, prénom, sexe, âge ainsi que le tarif initial du billet ;\n",
    "- Calcule puis affiche un message comportant le nom prénom du voyageur, la réduction appliquée selon sa tranche d’âge ainsi que le tarif final qu’il doit payer.\n",
    " \n",
    "**Exemples d’affichage :**\n",
    "\n",
    "Bonjour Madame Anne Dubois. Compte tenu de votre tranche d’âge, vous bénéficiez d’une réduction de 30%. Vous paierez donc un tarif de 52.5 euros. \n",
    "\n",
    "Bonjour Monsieur Pierre Dupont. Compte tenu de votre tranche d’âge, vous bénéficiez d’une réduction de 60%. Vous paierez donc un tarif de 45 euros."
   ]
  },
  {
   "cell_type": "code",
   "execution_count": null,
   "metadata": {
    "scrolled": true
   },
   "outputs": [],
   "source": [
    "n =input(\"nom et prénom : \")\n",
    "s= input(\"sexe: \")\n",
    "a=int(input(\"age: \"))\n",
    "t=float(input(\"entrez votre tarif initial: \"))\n",
    "if ... :\n",
    "    t=0\n",
    "    print(\"tarif gratuit\")\n",
    "elif ...:\n",
    "    t=t*0.5\n",
    "    print(...)\n",
    "elif ...:\n",
    "    t=?\n",
    "    print(...)\n",
    "elif ...:\n",
    "    t=?\n",
    "    print(...)"
   ]
  },
  {
   "cell_type": "markdown",
   "metadata": {},
   "source": [
    "***\n",
    "## Exercice 02.5\n",
    "***"
   ]
  },
  {
   "cell_type": "markdown",
   "metadata": {},
   "source": [
    "Un rectangle dans un plan est défini par les coordonnées de deux points (X1, Y1) et (X2, Y2) initialisés à votre convenance par saisie clavier.\n",
    "\n",
    "Ecrivez un programme qui :\n",
    "- Demande à saisir les coordonnées d’un troisième point (X, Y) ;\n",
    "- Affiche si ce point (X, Y) se trouve inclus dans le rectangle ou pas en utilisant une valeur booléenne pour l’affichage."
   ]
  },
  {
   "cell_type": "code",
   "execution_count": null,
   "metadata": {
    "scrolled": true
   },
   "outputs": [],
   "source": [
    "#VOTRE CODE ICI"
   ]
  },
  {
   "cell_type": "markdown",
   "metadata": {},
   "source": [
    "***\n",
    "## Exercice 02.6\n",
    "***"
   ]
  },
  {
   "cell_type": "markdown",
   "metadata": {},
   "source": [
    "Ecrivez un programme qui : \n",
    "\n",
    "- Demande à l’utilisateur d’entrer trois longueurs a, b, c ;\n",
    "\n",
    "- Affiche si l’on peut construire un triangle à partir de ces trois points ;\n",
    "\n",
    "- Détermine si ce triangle est rectangle, isocèle, équilatéral ou quelconque.\n",
    "\n",
    "**Attention :** un triangle rectangle peut être isocèle. \n",
    "\n",
    "**Rappel :** Il n'est possible de construire un triangle que si chaque côté a une longueur inférieure à la somme des deux autres "
   ]
  },
  {
   "cell_type": "code",
   "execution_count": null,
   "metadata": {
    "scrolled": true
   },
   "outputs": [],
   "source": [
    "#VOTRE CODE ICI"
   ]
  },
  {
   "cell_type": "markdown",
   "metadata": {},
   "source": [
    "***\n",
    "## Exercice 02.7\n",
    "***"
   ]
  },
  {
   "cell_type": "markdown",
   "metadata": {},
   "source": [
    "Ecrivez un programme qui affiche si vous êtes majeur en fonction de votre jour/mois/année de naissance et de la date d’aujourd’hui."
   ]
  },
  {
   "cell_type": "code",
   "execution_count": null,
   "metadata": {
    "scrolled": true
   },
   "outputs": [],
   "source": [
    "# VOTRE CODE ICI"
   ]
  },
  {
   "cell_type": "markdown",
   "metadata": {},
   "source": [
    "***\n",
    "## Exercice 02.8\n",
    "***"
   ]
  },
  {
   "cell_type": "markdown",
   "metadata": {},
   "source": [
    "Ecrivez un programme qui détermine si une année (dont le millésime est introduit par l’utilisateur) est bissextile ou non.\n",
    "\n",
    "**Rappel :** Une année A est bissextile si A est divisible par 4. Elle ne l’est cependant pas si A est un multiple de 100, à moins que A ne soit multiple de 400.\n"
   ]
  },
  {
   "cell_type": "code",
   "execution_count": null,
   "metadata": {
    "scrolled": true
   },
   "outputs": [],
   "source": [
    "# VOTRE CODE ICI"
   ]
  },
  {
   "cell_type": "markdown",
   "metadata": {},
   "source": [
    "***\n",
    "## Corrigé du TD 02\n",
    "\n",
    "Vous pouvez retrouver le corrigé de ce TD [ici](Corrigés/Corrigé_TD%2002.ipynb)."
   ]
  }
 ],
 "metadata": {
  "celltoolbar": "Format de la Cellule Texte Brut",
  "kernelspec": {
   "display_name": "Python 3",
   "language": "python",
   "name": "python3"
  },
  "language_info": {
   "codemirror_mode": {
    "name": "ipython",
    "version": 3
   },
   "file_extension": ".py",
   "mimetype": "text/x-python",
   "name": "python",
   "nbconvert_exporter": "python",
   "pygments_lexer": "ipython3",
   "version": "3.7.4"
  },
  "latex_envs": {
   "LaTeX_envs_menu_present": true,
   "autoclose": false,
   "autocomplete": true,
   "bibliofile": "biblio.bib",
   "cite_by": "apalike",
   "current_citInitial": 1,
   "eqLabelWithNumbers": true,
   "eqNumInitial": 1,
   "hotkeys": {
    "equation": "Ctrl-E",
    "itemize": "Ctrl-I"
   },
   "labels_anchors": false,
   "latex_user_defs": false,
   "report_style_numbering": false,
   "user_envs_cfg": false
  },
  "varInspector": {
   "cols": {
    "lenName": 16,
    "lenType": 16,
    "lenVar": 40
   },
   "kernels_config": {
    "python": {
     "delete_cmd_postfix": "",
     "delete_cmd_prefix": "del ",
     "library": "var_list.py",
     "varRefreshCmd": "print(var_dic_list())"
    },
    "r": {
     "delete_cmd_postfix": ") ",
     "delete_cmd_prefix": "rm(",
     "library": "var_list.r",
     "varRefreshCmd": "cat(var_dic_list()) "
    }
   },
   "types_to_exclude": [
    "module",
    "function",
    "builtin_function_or_method",
    "instance",
    "_Feature"
   ],
   "window_display": false
  }
 },
 "nbformat": 4,
 "nbformat_minor": 4
}
