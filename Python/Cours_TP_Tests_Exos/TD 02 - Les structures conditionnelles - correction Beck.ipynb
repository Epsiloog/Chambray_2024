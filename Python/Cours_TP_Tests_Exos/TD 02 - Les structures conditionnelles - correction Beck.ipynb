{
 "cells": [
  {
   "cell_type": "markdown",
   "metadata": {},
   "source": [
    "***\n",
    "# IngeSUP - TD 02 - Les structures conditionnelles\n",
    "***"
   ]
  },
  {
   "cell_type": "code",
   "execution_count": null,
   "metadata": {},
   "outputs": [],
   "source": []
  },
  {
   "cell_type": "markdown",
   "metadata": {},
   "source": [
    "<blockquote><em>“Avec des \"si\" on mettrait Paris en Bouteille.”</em></blockquote>&nbsp;&nbsp;<i style=\"font-size: 10px\">Expression populaire</i>"
   ]
  },
  {
   "cell_type": "markdown",
   "metadata": {},
   "source": [
    "***\n",
    "## Exercice 02.1\n",
    "***"
   ]
  },
  {
   "cell_type": "markdown",
   "metadata": {},
   "source": [
    "Ecrivez un programme qui demande à l’utilisateur de saisir au clavier un nombre entier `n` et qui affiche si ce nombre est pair ou pas."
   ]
  },
  {
   "cell_type": "code",
   "execution_count": 2,
   "metadata": {
    "scrolled": true
   },
   "outputs": [
    {
     "name": "stdout",
     "output_type": "stream",
     "text": [
      "entre un nb entier22\n",
      "pair\n"
     ]
    }
   ],
   "source": [
    "n= int(input(\"entre un nb entier\"))\n",
    "\n",
    "if n%2==0:\n",
    "    print(\"pair\")\n",
    "else:\n",
    "    print(\"impair\")"
   ]
  },
  {
   "cell_type": "markdown",
   "metadata": {},
   "source": [
    "***\n",
    "## Exercice 02.2\n",
    "***"
   ]
  },
  {
   "cell_type": "markdown",
   "metadata": {},
   "source": [
    "Ecrivez un programme python qui demande à saisir un nombre réel `R` puis calcule et affiche sa racine carrée. Attention, si le nombre saisi est négatif, le programme doit afficher un message d’erreur."
   ]
  },
  {
   "cell_type": "code",
   "execution_count": 4,
   "metadata": {
    "scrolled": true
   },
   "outputs": [
    {
     "name": "stdout",
     "output_type": "stream",
     "text": [
      "entrez un réel positif3\n",
      "la racine est : 1.7320508075688772\n"
     ]
    }
   ],
   "source": [
    "R=float(input(\"entrez un réel positif\"))\n",
    "\n",
    "if R>=0:\n",
    "    racine=R**(1/2)\n",
    "    print(\"la racine est :\", racine)\n",
    "else:\n",
    "    print(\"erreur, le nombre est négatif\")"
   ]
  },
  {
   "cell_type": "code",
   "execution_count": 6,
   "metadata": {},
   "outputs": [
    {
     "name": "stdout",
     "output_type": "stream",
     "text": [
      "4.0\n",
      "3.141592653589793\n"
     ]
    }
   ],
   "source": [
    "#remarque : on peut aussi importer le module math pour faire la racine\n",
    "import math\n",
    "\n",
    "x=16\n",
    "print(math.sqrt(x))\n",
    "print(math.pi)\n"
   ]
  },
  {
   "cell_type": "markdown",
   "metadata": {},
   "source": [
    "***\n",
    "## Exercice 02.3\n",
    "***"
   ]
  },
  {
   "cell_type": "markdown",
   "metadata": {},
   "source": [
    "On considère les critères d'évaluations suivants qui attribue une mention en fonction de la note évaluée sur 100 points :\n",
    "\n",
    "| Mention          | Note  (/100)           |\n",
    "| ---------------- | ---------------------- |\n",
    "| Excellent        | $\\ge 82$               |\n",
    "| Très bien        | $\\ge 76.5$ and $< 82$  |\n",
    "| Bien             | $\\ge 66$ and $< 76.5$  |\n",
    "| Besoin de travail| $\\ge 45$ and $< 66$    |\n",
    "| Avez-vous essayé?| $< 45$                 |\n",
    "\n",
    "Ecrivez un programme qui, en fonction d'un score entré par l'utilisateur, affiche la mention associée. Affichez un message d'erreur si la note entrée par l'utilisateur est supérieur à 100 ou inférieure à 0."
   ]
  },
  {
   "cell_type": "code",
   "execution_count": 7,
   "metadata": {
    "scrolled": true
   },
   "outputs": [
    {
     "name": "stdout",
     "output_type": "stream",
     "text": [
      "entrez un score entre 0 et 10076\n",
      "Bien\n"
     ]
    }
   ],
   "source": [
    "score=float(input(\"entrez un score entre 0 et 100\"))\n",
    "if score<0 or score>100:\n",
    "    print(\"erreur\")\n",
    "elif score<45:\n",
    "    print(\"Avez-vous essayé\")\n",
    "elif score >=45 and score<66: # on peut aussi mettre 45<=score<66\n",
    "    print(\"Besoin de travail\")\n",
    "elif score >=66 and score<76.5:\n",
    "    print(\"Bien\")\n",
    "elif score >=76.5 and score<82:\n",
    "    print(\"Très bien\")\n",
    "elif score >=82:\n",
    "    print(\"Excellent\")"
   ]
  },
  {
   "cell_type": "code",
   "execution_count": 9,
   "metadata": {},
   "outputs": [
    {
     "name": "stdout",
     "output_type": "stream",
     "text": [
      "entrez un score entre 0 et 10034\n",
      "Avez-vous essayé\n"
     ]
    }
   ],
   "source": [
    "#on peut simplifier ce code :\n",
    "score=float(input(\"entrez un score entre 0 et 100\"))\n",
    "if score<0 or score>100:\n",
    "    print(\"erreur\")\n",
    "elif score<45:\n",
    "    print(\"Avez-vous essayé\")\n",
    "elif score<66:\n",
    "    print(\"Besoin de travail\")\n",
    "elif score<76.5:\n",
    "    print(\"Bien\")\n",
    "elif score<82:\n",
    "    print(\"Très bien\")\n",
    "else:\n",
    "    print(\"Excellent\")"
   ]
  },
  {
   "cell_type": "markdown",
   "metadata": {},
   "source": [
    "***\n",
    "## Exercice 02.4\n",
    "***"
   ]
  },
  {
   "cell_type": "markdown",
   "metadata": {},
   "source": [
    "Une compagnie de transport applique une réduction au tarif initial d’un billet de transport en fonction de l’âge du voyageur :\n",
    "- Gratuit pour les moins de 2 ans ;\n",
    "- Réduction de 50% pour les enfants de 2 à 10 ans ;\n",
    "- Réduction de 30% pour les 10 à 18 ans ;\n",
    "- Réduction de 40% pour les 60 ans et plus.\n",
    "\n",
    "Écrivez un programme qui : \n",
    "- Demande à l’utilisateur de saisir au clavier son nom, prénom, sexe, âge ainsi que le tarif initial du billet ;\n",
    "- Calcule puis affiche un message comportant le nom prénom du voyageur, la réduction appliquée selon sa tranche d’âge ainsi que le tarif final qu’il doit payer.\n",
    " \n",
    "**Exemples d’affichage :**\n",
    "\n",
    "Bonjour Madame Anne Dubois. Compte tenu de votre tranche d’âge, vous bénéficiez d’une réduction de 30%. Vous paierez donc un tarif de 52.5 euros. \n",
    "\n",
    "Bonjour Monsieur Pierre Dupont. Compte tenu de votre tranche d’âge, vous bénéficiez d’une réduction de 60%. Vous paierez donc un tarif de 45 euros."
   ]
  },
  {
   "cell_type": "code",
   "execution_count": 12,
   "metadata": {
    "scrolled": true
   },
   "outputs": [
    {
     "name": "stdout",
     "output_type": "stream",
     "text": [
      "nom et prénom : beck vincent\n",
      "sexe: (entrez M ou F)M\n",
      "age: 12\n",
      "entrez votre tarif initial: 35\n",
      "Bonjour Monsieur beck vincent\n",
      "Compte tenu de votre tranche d’âge, vous bénéficiez d’une réduction de 30%. Vous paierez donc un tarif de 24.5\n"
     ]
    }
   ],
   "source": [
    "n =input(\"nom et prénom : \")\n",
    "s= input(\"sexe: (entrez M ou F)\")\n",
    "a=int(input(\"age: \"))\n",
    "t=float(input(\"entrez votre tarif initial: \"))\n",
    "\n",
    "if s==\"M\":\n",
    "    print(\"Bonjour Monsieur\",n)\n",
    "else:\n",
    "    print(\"Bonjour Madame\",n)\n",
    "\n",
    "if a<=2:\n",
    "    t=0\n",
    "    print(\"tarif gratuit\")\n",
    "elif a<=10:\n",
    "    t=t*0.5\n",
    "    print(\"Compte tenu de votre tranche d’âge, vous bénéficiez d’une réduction de 50%. Vous paierez donc un tarif de\",t)\n",
    "elif a<=18:\n",
    "    t=t*0.7\n",
    "    print(\"Compte tenu de votre tranche d’âge, vous bénéficiez d’une réduction de 30%. Vous paierez donc un tarif de\",t)\n",
    "elif a>=60:\n",
    "    t=t*0.6\n",
    "    print(\"Compte tenu de votre tranche d’âge, vous bénéficiez d’une réduction de 40%. Vous paierez donc un tarif de\",t)\n",
    "else:\n",
    "    print(\"pas de réduction désolé\")"
   ]
  },
  {
   "cell_type": "markdown",
   "metadata": {},
   "source": [
    "***\n",
    "## Exercice 02.5\n",
    "***"
   ]
  },
  {
   "cell_type": "markdown",
   "metadata": {},
   "source": [
    "Un rectangle dans un plan est défini par les coordonnées de deux points (X1, Y1) et (X2, Y2) initialisés à votre convenance par saisie clavier.\n",
    "\n",
    "Ecrivez un programme qui :\n",
    "- Demande à saisir les coordonnées d’un troisième point (X, Y) ;\n",
    "- Affiche si ce point (X, Y) se trouve inclus dans le rectangle ou pas en utilisant une valeur booléenne pour l’affichage."
   ]
  },
  {
   "cell_type": "code",
   "execution_count": 1,
   "metadata": {
    "scrolled": true
   },
   "outputs": [
    {
     "name": "stdout",
     "output_type": "stream",
     "text": [
      "entrez x10\n",
      "entrez y10\n",
      "entrez x210\n",
      "entrez y210\n",
      "entrez x6\n",
      "entrez y4\n",
      "le point est dans le rectangle\n"
     ]
    }
   ],
   "source": [
    "x1=float(input(\"entrez x1\"))\n",
    "y1=float(input(\"entrez y1\"))\n",
    "x2=float(input(\"entrez x2\"))\n",
    "y2=float(input(\"entrez y2\"))\n",
    "x=float(input(\"entrez x\"))\n",
    "y=float(input(\"entrez y\"))\n",
    "\n",
    "if x1>x2:\n",
    "    xmin=x2\n",
    "    xmax=x1\n",
    "else:\n",
    "    xmin=x1\n",
    "    xmax=x2\n",
    "#on peut aussi faire comme ça :\n",
    "# xmin=min(x1,x2)\n",
    "# xmax=max(x1,x2)\n",
    "\n",
    "if y1>y2:\n",
    "    ymin=y2\n",
    "    ymax=y1\n",
    "else:\n",
    "    ymin=x1\n",
    "    ymax=y2\n",
    "    \n",
    "if (xmin<x<xmax)and(ymin<y<ymax):\n",
    "    print(\"le point est dans le rectangle\")\n",
    "else:\n",
    "    print(\"pas dans le rectangle\")"
   ]
  },
  {
   "cell_type": "markdown",
   "metadata": {},
   "source": [
    "***\n",
    "## Exercice 02.6\n",
    "***"
   ]
  },
  {
   "cell_type": "markdown",
   "metadata": {},
   "source": [
    "Ecrivez un programme qui : \n",
    "\n",
    "- Demande à l’utilisateur d’entrer trois longueurs a, b, c ;\n",
    "\n",
    "- Affiche si l’on peut construire un triangle à partir de ces trois points ;\n",
    "\n",
    "- Détermine si ce triangle est rectangle, isocèle, équilatéral ou quelconque.\n",
    "\n",
    "**Attention :** un triangle rectangle peut être isocèle. \n",
    "\n",
    "**Rappel :** Il n'est possible de construire un triangle que si chaque côté a une longueur inférieure à la somme des deux autres "
   ]
  },
  {
   "cell_type": "code",
   "execution_count": null,
   "metadata": {
    "scrolled": true
   },
   "outputs": [],
   "source": [
    "# j'ai corrigé cet exercice en utilisant un booléen pour l'exemple\n",
    "# mais ce n'est pas obligatoire\n",
    "\n",
    "a=float(input(\"entrez a\"))\n",
    "b=float(input(\"entrez b\"))\n",
    "c=float(input(\"entrez c\"))\n",
    "\n",
    "quelconque=True\n",
    "\n",
    "#on check si le triangle est possible :\n",
    "if a+b<c or a+c<b or b+c<a:\n",
    "    print(\"erreur triangle impossible\")\n",
    "else:\n",
    "    #on check si rectangle:\n",
    "    if a**2==b**2+c**2 or b**2==a**2+c**2 or c**2==b**2+a**2:\n",
    "        print(\"le triangle est rectangle\")\n",
    "        quelconque=False\n",
    "    #on check les longueurs:\n",
    "    if a==b==c:\n",
    "        print(\"triangle equilatéral\")\n",
    "        quelconque=False\n",
    "    elif a==b or a==c or b==c:\n",
    "        print(\"triangle isocèle\")\n",
    "        quelconque=False\n",
    "    #est-ce que le triangle est quelconque\n",
    "    if quelconque==True:\n",
    "        print(\"triangle quelconque\")\n",
    "    "
   ]
  },
  {
   "cell_type": "markdown",
   "metadata": {},
   "source": [
    "***\n",
    "## Exercice 02.7\n",
    "***"
   ]
  },
  {
   "cell_type": "markdown",
   "metadata": {},
   "source": [
    "Ecrivez un programme qui affiche si vous êtes majeur en fonction de votre jour/mois/année de naissance et de la date d’aujourd’hui."
   ]
  },
  {
   "cell_type": "code",
   "execution_count": 3,
   "metadata": {
    "scrolled": true
   },
   "outputs": [
    {
     "name": "stdout",
     "output_type": "stream",
     "text": [
      "quel jour êtes vous né(e) ?02\n",
      "quel mois êtes vous né(e) ?09\n",
      "quel année êtes vous né(e) ?2004\n",
      "quel jour sommes nous ?27\n",
      "quel mois sommes nous ?09\n",
      "quel année sommes nous ?2022\n",
      "vous êtes majeur(e)\n"
     ]
    }
   ],
   "source": [
    "jourNaissance=int(input(\"quel jour êtes vous né(e) ?\"))\n",
    "moisNaissance=int(input(\"quel mois êtes vous né(e) ?\"))\n",
    "anneeNaissance=int(input(\"quel année êtes vous né(e) ?\"))\n",
    "jour=int(input(\"quel jour sommes nous ?\"))\n",
    "mois=int(input(\"quel mois sommes nous ?\"))\n",
    "annee=int(input(\"quel année sommes nous ?\"))\n",
    "\n",
    "if annee-anneeNaissance<18:\n",
    "    print(\"vous êtes mineur(e)\")\n",
    "elif annee-anneeNaissance>18:\n",
    "    print(\"vous êtes majeur(e)\")\n",
    "else:\n",
    "    if mois<moisNaissance:\n",
    "        print(\"vous êtes mineur(e)\")\n",
    "    elif mois>moisNaissance:\n",
    "        print(\"vous êtes majeur(e)\")\n",
    "    else:\n",
    "        if jour<jourNaissance:\n",
    "            print(\"vous êtes mineur(e)\")\n",
    "        elif jour>=jourNaissance:\n",
    "            print(\"vous êtes majeur(e)\")\n"
   ]
  },
  {
   "cell_type": "markdown",
   "metadata": {},
   "source": [
    "***\n",
    "## Exercice 02.8\n",
    "***"
   ]
  },
  {
   "cell_type": "markdown",
   "metadata": {},
   "source": [
    "Ecrivez un programme qui détermine si une année (dont le millésime est introduit par l’utilisateur) est bissextile ou non.\n",
    "\n",
    "**Rappel :** Une année A est bissextile si A est divisible par 4. Elle ne l’est cependant pas si A est un multiple de 100, à moins que A ne soit multiple de 400.\n"
   ]
  },
  {
   "cell_type": "code",
   "execution_count": null,
   "metadata": {
    "scrolled": true
   },
   "outputs": [],
   "source": [
    "an=int(input('entrez une année'))\n",
    "\n",
    "if (an%4==0 and an%100!=0) or an%400=0 :\n",
    "    print(\"l'année est bissextile\")\n",
    "else :\n",
    "    print(\"l'année n'est pas bissextile\")"
   ]
  }
 ],
 "metadata": {
  "celltoolbar": "Format de la Cellule Texte Brut",
  "kernelspec": {
   "display_name": "Python 3",
   "language": "python",
   "name": "python3"
  },
  "language_info": {
   "codemirror_mode": {
    "name": "ipython",
    "version": 3
   },
   "file_extension": ".py",
   "mimetype": "text/x-python",
   "name": "python",
   "nbconvert_exporter": "python",
   "pygments_lexer": "ipython3",
   "version": "3.8.3"
  },
  "latex_envs": {
   "LaTeX_envs_menu_present": true,
   "autoclose": false,
   "autocomplete": true,
   "bibliofile": "biblio.bib",
   "cite_by": "apalike",
   "current_citInitial": 1,
   "eqLabelWithNumbers": true,
   "eqNumInitial": 1,
   "hotkeys": {
    "equation": "Ctrl-E",
    "itemize": "Ctrl-I"
   },
   "labels_anchors": false,
   "latex_user_defs": false,
   "report_style_numbering": false,
   "user_envs_cfg": false
  },
  "varInspector": {
   "cols": {
    "lenName": 16,
    "lenType": 16,
    "lenVar": 40
   },
   "kernels_config": {
    "python": {
     "delete_cmd_postfix": "",
     "delete_cmd_prefix": "del ",
     "library": "var_list.py",
     "varRefreshCmd": "print(var_dic_list())"
    },
    "r": {
     "delete_cmd_postfix": ") ",
     "delete_cmd_prefix": "rm(",
     "library": "var_list.r",
     "varRefreshCmd": "cat(var_dic_list()) "
    }
   },
   "types_to_exclude": [
    "module",
    "function",
    "builtin_function_or_method",
    "instance",
    "_Feature"
   ],
   "window_display": false
  }
 },
 "nbformat": 4,
 "nbformat_minor": 4
}
