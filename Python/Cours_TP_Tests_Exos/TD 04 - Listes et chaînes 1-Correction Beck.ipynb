{
 "cells": [
  {
   "cell_type": "markdown",
   "metadata": {},
   "source": [
    "***\n",
    "# IngeSUP - TD 04 - Listes et chaînes 1\n",
    "***"
   ]
  },
  {
   "cell_type": "markdown",
   "metadata": {},
   "source": [
    "<blockquote><em>“L’exercice, c’est de perpétuellement relativiser et de lister ses priorités.”</em></blockquote>&nbsp;&nbsp;<i style=\"font-size: 10px\">Inès de La Fressange</i>"
   ]
  },
  {
   "cell_type": "markdown",
   "metadata": {},
   "source": [
    "***\n",
    "## Exercice 04.1\n",
    "***"
   ]
  },
  {
   "cell_type": "markdown",
   "metadata": {},
   "source": [
    "Ecrivez un programme qui calcule et stocke dans une liste `Liste2` le double des éléments contenus dans une liste `Liste`."
   ]
  },
  {
   "cell_type": "code",
   "execution_count": 1,
   "metadata": {},
   "outputs": [
    {
     "name": "stdout",
     "output_type": "stream",
     "text": [
      "[2, 112, 86, 178, 46]\n"
     ]
    }
   ],
   "source": [
    "Liste=[1,56,43,89,23]\n",
    "Liste2=[]\n",
    "\n",
    "for i in Liste:\n",
    "    Liste2.append(i*2)\n",
    "    \n",
    "print(Liste2)"
   ]
  },
  {
   "cell_type": "markdown",
   "metadata": {},
   "source": [
    "***\n",
    "## Exercice 04.2\n",
    "***"
   ]
  },
  {
   "cell_type": "markdown",
   "metadata": {},
   "source": [
    "Ecrivez un programme qui stocke dans une liste `L2` les éléments impairs d'une liste `L` en partant du début de la liste."
   ]
  },
  {
   "cell_type": "code",
   "execution_count": 2,
   "metadata": {
    "scrolled": true
   },
   "outputs": [
    {
     "name": "stdout",
     "output_type": "stream",
     "text": [
      "[1, 43, 89, 23]\n"
     ]
    }
   ],
   "source": [
    "L=[1,56,43,89,23]\n",
    "L2=[]\n",
    "\n",
    "for i in L:\n",
    "    if i%2==1:\n",
    "        L2.append(i)\n",
    "    \n",
    "print(L2)"
   ]
  },
  {
   "cell_type": "markdown",
   "metadata": {},
   "source": [
    "***\n",
    "## Exercice 04.3\n",
    "***"
   ]
  },
  {
   "cell_type": "markdown",
   "metadata": {},
   "source": [
    "Ecrivez un programme qui remplisse un tableau `T` avec les 5 premières valeurs paires entrées au clavier. Affichez `T`."
   ]
  },
  {
   "cell_type": "code",
   "execution_count": 3,
   "metadata": {
    "scrolled": true
   },
   "outputs": [
    {
     "name": "stdout",
     "output_type": "stream",
     "text": [
      "entrez un nombre2\n",
      "entrez un nombre3\n",
      "entrez un nombre2\n",
      "entrez un nombre3\n",
      "entrez un nombre1\n",
      "entrez un nombre2\n",
      "entrez un nombre4\n",
      "entrez un nombre5\n",
      "entrez un nombre3\n",
      "entrez un nombre4\n",
      "[2, 2, 2, 4, 4]\n"
     ]
    }
   ],
   "source": [
    "T=[]\n",
    "\n",
    "while len(T)<5:\n",
    "    x=int(input(\"entrez un nombre\"))\n",
    "    if x%2==0:\n",
    "        T.append(x)\n",
    "        \n",
    "print(T)"
   ]
  },
  {
   "cell_type": "markdown",
   "metadata": {},
   "source": [
    "***\n",
    "## Exercice 04.4\n",
    "***"
   ]
  },
  {
   "cell_type": "markdown",
   "metadata": {},
   "source": [
    "Ecrivez un programme qui demande un nombre (entier ou réel) à rentrer au clavier tant que celui-ci n’est pas négatif. Les nombres (positifs) seront stockés dans un tableau `tab`. Afficher `tab`."
   ]
  },
  {
   "cell_type": "code",
   "execution_count": 4,
   "metadata": {
    "scrolled": true
   },
   "outputs": [
    {
     "name": "stdout",
     "output_type": "stream",
     "text": [
      "entrez un nombre3\n",
      "entrez un nombre2\n",
      "entrez un nombre1\n",
      "entrez un nombre-5\n",
      "[3.0, 2.0, 1.0]\n"
     ]
    }
   ],
   "source": [
    "T=[]\n",
    "x=float(input(\"entrez un nombre\"))\n",
    "\n",
    "while x>0:\n",
    "    T.append(x)\n",
    "    x=float(input(\"entrez un nombre\"))\n",
    "        \n",
    "print(T)"
   ]
  },
  {
   "cell_type": "markdown",
   "metadata": {},
   "source": [
    "***\n",
    "## Exercice 04.5\n",
    "***"
   ]
  },
  {
   "cell_type": "markdown",
   "metadata": {},
   "source": [
    "Ecrivez un programme qui calcule la moyenne `moy` d’un tableau de 5 valeurs réelles saisies au clavier. Afficher cette moyenne."
   ]
  },
  {
   "cell_type": "code",
   "execution_count": 14,
   "metadata": {
    "scrolled": true
   },
   "outputs": [
    {
     "name": "stdout",
     "output_type": "stream",
     "text": [
      "nb ?1\n",
      "nb ?2\n",
      "nb ?3\n",
      "nb ?2\n",
      "nb ?4\n",
      "2.4\n"
     ]
    }
   ],
   "source": [
    "L=[]\n",
    "while len(L)<5:\n",
    "    x=int(input(\"nb ?\"))\n",
    "    L.append(x)\n",
    "\n",
    "somme=0\n",
    "for i in L:\n",
    "    somme+=i\n",
    "    \n",
    "moy=somme/len(L)\n",
    "\n",
    "print(moy)"
   ]
  },
  {
   "cell_type": "markdown",
   "metadata": {},
   "source": [
    "***\n",
    "## Exercice 04.6\n",
    "***"
   ]
  },
  {
   "cell_type": "markdown",
   "metadata": {},
   "source": [
    "Ecrivez un programme qui permute la première et la dernière valeur d'un tableau `T`."
   ]
  },
  {
   "cell_type": "code",
   "execution_count": 7,
   "metadata": {
    "scrolled": true
   },
   "outputs": [
    {
     "name": "stdout",
     "output_type": "stream",
     "text": [
      "[23, 56, 43, 89, 1]\n"
     ]
    }
   ],
   "source": [
    "T=[1,56,43,89,23]\n",
    "\n",
    "T[0],T[-1]=T[-1],T[0]\n",
    "\n",
    "print(T)"
   ]
  },
  {
   "cell_type": "markdown",
   "metadata": {},
   "source": [
    "***\n",
    "## Exercice 04.7\n",
    "***"
   ]
  },
  {
   "cell_type": "markdown",
   "metadata": {},
   "source": [
    "Ecrivez un programme qui affecte la valeur `True` à une variable `var` si une liste `Array` possède des valeurs uniques. Le programme affectera la valeur `False` le cas échéant."
   ]
  },
  {
   "cell_type": "code",
   "execution_count": 13,
   "metadata": {
    "scrolled": true
   },
   "outputs": [
    {
     "name": "stdout",
     "output_type": "stream",
     "text": [
      "False\n",
      "[1, 56, 43, 89, 23] [56]\n",
      "False\n"
     ]
    }
   ],
   "source": [
    "#plusieurs manières de faire cet exercice\n",
    "\n",
    "Array=[1,56,43,89,56,23]\n",
    "var=True\n",
    "\n",
    "for i in range(len(Array)):\n",
    "    nb=Array[i]\n",
    "    for j in range(len(Array)):\n",
    "        if nb==Array[j] and i!=j:\n",
    "            var = False\n",
    "            \n",
    "print(var)\n",
    "\n",
    "\n",
    "#deuxième façon de faire :\n",
    "Array=[1,56,43,89,56,23]\n",
    "uniques=[]\n",
    "doubles=[]\n",
    "\n",
    "for i in Array:\n",
    "    if i in uniques:\n",
    "        doubles.append(i)\n",
    "    else:\n",
    "        uniques.append(i)\n",
    "        \n",
    "print(uniques, doubles)\n",
    "if doubles==[]:\n",
    "    var=True\n",
    "else:\n",
    "    var=False\n",
    "    \n",
    "print(var)"
   ]
  }
 ],
 "metadata": {
  "celltoolbar": "Format de la Cellule Texte Brut",
  "kernelspec": {
   "display_name": "Python 3",
   "language": "python",
   "name": "python3"
  },
  "language_info": {
   "codemirror_mode": {
    "name": "ipython",
    "version": 3
   },
   "file_extension": ".py",
   "mimetype": "text/x-python",
   "name": "python",
   "nbconvert_exporter": "python",
   "pygments_lexer": "ipython3",
   "version": "3.8.3"
  },
  "latex_envs": {
   "LaTeX_envs_menu_present": true,
   "autoclose": false,
   "autocomplete": true,
   "bibliofile": "biblio.bib",
   "cite_by": "apalike",
   "current_citInitial": 1,
   "eqLabelWithNumbers": true,
   "eqNumInitial": 1,
   "hotkeys": {
    "equation": "Ctrl-E",
    "itemize": "Ctrl-I"
   },
   "labels_anchors": false,
   "latex_user_defs": false,
   "report_style_numbering": false,
   "user_envs_cfg": false
  },
  "varInspector": {
   "cols": {
    "lenName": 16,
    "lenType": 16,
    "lenVar": 40
   },
   "kernels_config": {
    "python": {
     "delete_cmd_postfix": "",
     "delete_cmd_prefix": "del ",
     "library": "var_list.py",
     "varRefreshCmd": "print(var_dic_list())"
    },
    "r": {
     "delete_cmd_postfix": ") ",
     "delete_cmd_prefix": "rm(",
     "library": "var_list.r",
     "varRefreshCmd": "cat(var_dic_list()) "
    }
   },
   "types_to_exclude": [
    "module",
    "function",
    "builtin_function_or_method",
    "instance",
    "_Feature"
   ],
   "window_display": false
  }
 },
 "nbformat": 4,
 "nbformat_minor": 4
}
