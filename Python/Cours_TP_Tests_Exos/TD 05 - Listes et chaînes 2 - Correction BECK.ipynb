{
 "cells": [
  {
   "cell_type": "markdown",
   "metadata": {},
   "source": [
    "***\n",
    "# IngeSUP - TD 05 - Listes et chaînes 2\n",
    "***"
   ]
  },
  {
   "cell_type": "markdown",
   "metadata": {},
   "source": [
    "<blockquote><em>“Nous ferons mieux de nous mettre plus haut sur notre propre liste de choses à faire.”</em></blockquote>&nbsp;&nbsp;<i style=\"font-size: 10px\">Michelle Obama</i>"
   ]
  },
  {
   "cell_type": "markdown",
   "metadata": {},
   "source": [
    "***\n",
    "## Exercice 05.1\n",
    "***"
   ]
  },
  {
   "cell_type": "markdown",
   "metadata": {},
   "source": [
    "Pour chacune des questions suivantes, écrire un programme qui remplit une liste d'entiers demandés à l'utilisateur à l’aide d’une boucle et de la fonction input), puis effectuez les actions suivantes :"
   ]
  },
  {
   "cell_type": "markdown",
   "metadata": {},
   "source": [
    "1. Complétez le programme pour afficher la liste en colonne. C’est-à-dire que chaque élément est du type i : liste[i] si i est l’indice et liste le nom de la liste."
   ]
  },
  {
   "cell_type": "code",
   "execution_count": 1,
   "metadata": {
    "scrolled": true
   },
   "outputs": [
    {
     "name": "stdout",
     "output_type": "stream",
     "text": [
      "combien d'éléments dans la liste ?3\n",
      "entrez un nombre1\n",
      "entrez un nombre10\n",
      "entrez un nombre100\n",
      "[1, 10, 100]\n",
      "1\n",
      "10\n",
      "100\n"
     ]
    }
   ],
   "source": [
    "L=[]\n",
    "taille=int(input(\"combien d'éléments dans la liste ?\"))\n",
    "\n",
    "for i in range(taille):\n",
    "    nombre=int(input(\"entrez un nombre\"))\n",
    "    L.append(nombre)\n",
    "    \n",
    "print(L)\n",
    "    \n",
    "for i in L:\n",
    "    print(i)\n",
    "    \n",
    "\n",
    "    \n"
   ]
  },
  {
   "cell_type": "markdown",
   "metadata": {},
   "source": [
    "1. Modifiez le programme pour qu'il compte le nombre de multiples de 3 dans la liste"
   ]
  },
  {
   "cell_type": "code",
   "execution_count": 3,
   "metadata": {},
   "outputs": [
    {
     "name": "stdout",
     "output_type": "stream",
     "text": [
      "combien d'éléments dans la liste ?5\n",
      "entrez un nombre1\n",
      "entrez un nombre2\n",
      "entrez un nombre3\n",
      "entrez un nombre6\n",
      "entrez un nombre45\n",
      "[1, 2, 3, 6, 45]\n",
      "le nombre de multiple de 3 dans la liste est : 3\n"
     ]
    }
   ],
   "source": [
    "L=[]\n",
    "taille=int(input(\"combien d'éléments dans la liste ?\"))\n",
    "\n",
    "for i in range(taille):\n",
    "    nombre=int(input(\"entrez un nombre\"))\n",
    "    L.append(nombre)\n",
    "    \n",
    "print(L)\n",
    "\n",
    "\n",
    "compteur=0\n",
    "for i in L:\n",
    "    if i%3==0:\n",
    "        compteur += 1\n",
    "\n",
    "print(\"le nombre de multiple de 3 dans la liste est :\", compteur)\n",
    "    "
   ]
  },
  {
   "cell_type": "markdown",
   "metadata": {},
   "source": [
    "2. Modifiez le programme pour qu'il calcule la somme de toutes les valeurs paires issues de la liste"
   ]
  },
  {
   "cell_type": "code",
   "execution_count": 13,
   "metadata": {},
   "outputs": [
    {
     "name": "stdout",
     "output_type": "stream",
     "text": [
      "entrez un nombre12\n",
      "voulez vous continuer ? (oui ou non)oui\n",
      "entrez un nombre78\n",
      "voulez vous continuer ? (oui ou non)oui\n",
      "entrez un nombre55\n",
      "voulez vous continuer ? (oui ou non)oui\n",
      "entrez un nombre3\n",
      "voulez vous continuer ? (oui ou non)non\n",
      "[12, 78, 55, 3]\n",
      "90\n"
     ]
    }
   ],
   "source": [
    "L=[]\n",
    "continuer=\"oui\"\n",
    "#alternative ou on ne demande pas le nombre mais si l'utilisateur veut continuer a chaque fois\n",
    "while continuer==\"oui\":\n",
    "    nb=int(input(\"entrez un nombre\"))\n",
    "    L.append(nb)\n",
    "    continuer=input(\"voulez vous continuer ? (oui ou non)\")\n",
    "    \n",
    "print(L) #affiche en ligne\n",
    "\n",
    "somme=0\n",
    "for i in L:\n",
    "    if i%2==0:\n",
    "        somme += i\n",
    "\n",
    "print(somme)"
   ]
  },
  {
   "cell_type": "markdown",
   "metadata": {},
   "source": [
    "3. Modifiez le programme pour qu'il indique si la valeur de la moyenne arithmétique des entiers entrés par l'utilisateur est supérieure à 10."
   ]
  },
  {
   "cell_type": "code",
   "execution_count": 16,
   "metadata": {},
   "outputs": [
    {
     "name": "stdout",
     "output_type": "stream",
     "text": [
      "entrez un nombre12\n",
      "voulez vous continuer ? (oui ou non)oui\n",
      "entrez un nombre18\n",
      "voulez vous continuer ? (oui ou non)oui\n",
      "entrez un nombre3\n",
      "voulez vous continuer ? (oui ou non)non\n",
      "[12, 18, 3]\n",
      "vous avez la moyenne\n"
     ]
    }
   ],
   "source": [
    "L=[]\n",
    "continuer=\"oui\"\n",
    "\n",
    "while continuer==\"oui\":\n",
    "    nb=int(input(\"entrez un nombre\"))\n",
    "    L.append(nb)\n",
    "    continuer=input(\"voulez vous continuer ? (oui ou non)\")\n",
    "    \n",
    "print(L) #affiche en ligne\n",
    "\n",
    "moyenne=sum(L)/len(L)\n",
    "if moyenne>=10:\n",
    "    print(\"vous avez la moyenne\")\n",
    "else:\n",
    "    print(\"vous n'avez pas la moyenne\")"
   ]
  },
  {
   "cell_type": "markdown",
   "metadata": {},
   "source": [
    "4. Modifiez le programme précédent pour qu'il remplisse une nouvelle liste avec toutes les valeurs comprises dans l'intervalle [50,70]."
   ]
  },
  {
   "cell_type": "code",
   "execution_count": 17,
   "metadata": {},
   "outputs": [
    {
     "name": "stdout",
     "output_type": "stream",
     "text": [
      "entrez un nombre34\n",
      "voulez vous continuer ? (oui ou non)oui\n",
      "entrez un nombre89\n",
      "voulez vous continuer ? (oui ou non)oui\n",
      "entrez un nombre67\n",
      "voulez vous continuer ? (oui ou non)oui\n",
      "entrez un nombre61\n",
      "voulez vous continuer ? (oui ou non)oui\n",
      "entrez un nombre8\n",
      "voulez vous continuer ? (oui ou non)non\n",
      "[34, 89, 67, 61, 8]\n",
      "[67, 61]\n"
     ]
    }
   ],
   "source": [
    "L=[]\n",
    "continuer=\"oui\"\n",
    "\n",
    "while continuer==\"oui\":\n",
    "    nb=int(input(\"entrez un nombre\"))\n",
    "    L.append(nb)\n",
    "    continuer=input(\"voulez vous continuer ? (oui ou non)\")\n",
    "    \n",
    "print(L) #affiche en ligne\n",
    "\n",
    "L2=[]\n",
    "for i in L:\n",
    "    if 50<=i<=70:\n",
    "        L2.append(i)\n",
    "\n",
    "print(L2)"
   ]
  },
  {
   "cell_type": "markdown",
   "metadata": {},
   "source": [
    "5. Modifiez le programme précédent pour qu'il affiche la liste à l'envers, sans sauter la ligne et sans faire appel à une autre liste."
   ]
  },
  {
   "cell_type": "code",
   "execution_count": 31,
   "metadata": {},
   "outputs": [
    {
     "name": "stdout",
     "output_type": "stream",
     "text": [
      "entrez un nombre1\n",
      "voulez vous continuer ? (oui ou non)oui\n",
      "entrez un nombre2\n",
      "voulez vous continuer ? (oui ou non)oui\n",
      "entrez un nombre3\n",
      "voulez vous continuer ? (oui ou non)oui\n",
      "entrez un nombre4\n",
      "voulez vous continuer ? (oui ou non)non\n",
      "[1, 2, 3, 4]\n",
      "[4, 3, 2, 1]\n",
      "[6, 5, 4, 3, 2, 1]\n"
     ]
    }
   ],
   "source": [
    "L=[]\n",
    "continuer=\"oui\"\n",
    "\n",
    "while continuer==\"oui\":\n",
    "    nb=int(input(\"entrez un nombre\"))\n",
    "    L.append(nb)\n",
    "    continuer=input(\"voulez vous continuer ? (oui ou non)\")\n",
    "    \n",
    "print(L) #affiche en ligne\n",
    "L.reverse()\n",
    "print(L)\n",
    "\n",
    "# version \"a la main\" sans utiliser reverse:\n",
    "liste=[1,2,3,4,5,6]\n",
    "liste2=[]\n",
    "for i in range(len(liste)):\n",
    "    liste2.append(liste[-i-1])\n",
    "print(liste2)"
   ]
  },
  {
   "cell_type": "markdown",
   "metadata": {},
   "source": [
    "***\n",
    "## Exercice 05.2\n",
    "***"
   ]
  },
  {
   "cell_type": "markdown",
   "metadata": {},
   "source": [
    "1. Ecrire un programme qui calcule et stocke dans une liste `liste2` le double des éléments contenus dans une liste `liste` en utilisant la syntaxe des compréhensions de liste."
   ]
  },
  {
   "cell_type": "code",
   "execution_count": 6,
   "metadata": {},
   "outputs": [
    {
     "name": "stdout",
     "output_type": "stream",
     "text": [
      "[4, 8, 6, 2, 10]\n",
      "[4, 8, 6, 2, 10]\n"
     ]
    }
   ],
   "source": [
    "liste=[2,4,3,1,5]\n",
    "liste2=[]\n",
    "\n",
    "for i in liste:\n",
    "    liste2.append(i*2)\n",
    "    \n",
    "print(liste2)\n",
    "\n",
    "#en compréhension cela donne :\n",
    "liste = [2,4,3,1,5]\n",
    "liste2 = [i*2 for i in liste]\n",
    "print(liste2)"
   ]
  },
  {
   "cell_type": "markdown",
   "metadata": {},
   "source": [
    "2. Ecrire un programme qui stocke dans une liste `L2` les éléments impairs d'une liste `L` en partant du début de la liste en utilisant la syntaxe des compréhensions de liste."
   ]
  },
  {
   "cell_type": "code",
   "execution_count": 32,
   "metadata": {
    "scrolled": true
   },
   "outputs": [
    {
     "name": "stdout",
     "output_type": "stream",
     "text": [
      "[3, 1, 5]\n",
      "[3, 1, 5]\n"
     ]
    }
   ],
   "source": [
    "#en non compréhension cela donne :\n",
    "liste = [2,4,3,1,5]\n",
    "liste2=[]\n",
    "for i in liste:\n",
    "    if i%2==1:\n",
    "        liste2.append(i)\n",
    "print(liste2)\n",
    "\n",
    "#en compréhension\n",
    "liste = [2,4,3,1,5]\n",
    "liste2 = [i for i in liste if i%2==1]\n",
    "print(liste2)\n",
    "\n"
   ]
  },
  {
   "cell_type": "markdown",
   "metadata": {},
   "source": [
    "3. Ecrire un programme qui remplisse une liste `L2` avec des nombres pairs parmis les 5 premières valeurs d'une liste `L` en utilisant la syntaxe des compréhensions de liste. Afficher `L2`."
   ]
  },
  {
   "cell_type": "code",
   "execution_count": 12,
   "metadata": {
    "scrolled": true
   },
   "outputs": [
    {
     "name": "stdout",
     "output_type": "stream",
     "text": [
      "[2, 4, 6]\n"
     ]
    }
   ],
   "source": [
    "liste = [2,4,3,1,6,4,3,2,3,4,3,1]\n",
    "liste2 = [i for i in liste[:5] if i%2==0]\n",
    "print(liste2)"
   ]
  },
  {
   "cell_type": "markdown",
   "metadata": {},
   "source": [
    "***\n",
    "## Exercice 05.3\n",
    "***"
   ]
  },
  {
   "cell_type": "markdown",
   "metadata": {},
   "source": [
    "Ecrire un programme qui découpe, dans une liste `mots`, une chaine de caractères en mot (c'est à dire une chaine séparée par des espaces) et renvoie le nombre de caractères dans une seconde liste `nb_caracteres` dans  le même ordre que la liste des mots `mots`.\n",
    "\n",
    "Remarques : \n",
    "  1. On fera bon usage de la fonction `split()`\n",
    "  2. On pourra utiliser la syntaxe des compréhensions de liste\n",
    "  3. La liste `mots` est une liste qui peut servir d'intermédiaire"
   ]
  },
  {
   "cell_type": "code",
   "execution_count": 34,
   "metadata": {
    "scrolled": true
   },
   "outputs": [
    {
     "name": "stdout",
     "output_type": "stream",
     "text": [
      "['Bonjour', 'comment', 'ça', 'va', '?']\n"
     ]
    }
   ],
   "source": [
    "texte=\"Bonjour comment ça va ?\"\n",
    "mots=texte.split(\" \")\n",
    "print(mots)"
   ]
  },
  {
   "cell_type": "code",
   "execution_count": 36,
   "metadata": {},
   "outputs": [
    {
     "name": "stdout",
     "output_type": "stream",
     "text": [
      "['Bonjour', 'comment', 'ça', 'va', '?']\n"
     ]
    }
   ],
   "source": [
    "#version en compréhension\n",
    "texte=\"Bonjour comment ça va ?\"\n",
    "liste2 = [mot for mot in texte.split(\" \")]\n",
    "print(liste2)"
   ]
  },
  {
   "cell_type": "markdown",
   "metadata": {},
   "source": [
    "***\n",
    "## Exercice 05.4\n",
    "***"
   ]
  },
  {
   "cell_type": "markdown",
   "metadata": {},
   "source": [
    "Ecrire un programme qui génère les chaînes `tata`, `tete`, `titi` `toto` et `tutu` à partir de la chaîne `t_t_` ou n'importe quelle chaine composée de consonnes et du caractère `_` qui sera remplacé par toutes les voyelles `aeiou`.\n",
    "L'ensemble des variantes ainsi construite sera regroupé dans une liste.\n",
    "\n",
    "Remarques :\n",
    "    1. On fera bon usage de la fonction `replace`\n",
    "    2. On pourra utiliser la syntaxe des compréhensions de liste \n"
   ]
  },
  {
   "cell_type": "code",
   "execution_count": 17,
   "metadata": {
    "scrolled": true
   },
   "outputs": [
    {
     "name": "stdout",
     "output_type": "stream",
     "text": [
      "['tata', 'tete', 'titi', 'toto', 'tutu']\n"
     ]
    }
   ],
   "source": [
    "chaine=\"t_t_\"\n",
    "L=[]\n",
    "for i in \"aeiou\":\n",
    "    texte=chaine.replace(\"_\",i)\n",
    "    L.append(texte)\n",
    "    \n",
    "print(L)"
   ]
  },
  {
   "cell_type": "code",
   "execution_count": 20,
   "metadata": {},
   "outputs": [
    {
     "name": "stdout",
     "output_type": "stream",
     "text": [
      "['tata', 'tete', 'titi', 'toto', 'tutu']\n"
     ]
    }
   ],
   "source": [
    "L=[\"t_t_\".replace(\"_\",i) for i in \"aeiou\"]\n",
    "print(L)"
   ]
  },
  {
   "cell_type": "markdown",
   "metadata": {},
   "source": [
    "***\n",
    "## Exercice 05.6\n",
    "***"
   ]
  },
  {
   "cell_type": "markdown",
   "metadata": {},
   "source": [
    "Ecrire un programme qui affecte la valeur `True` à une variable _toute_ si une liste _liste_ possède des valeurs toutes supérieures à 1."
   ]
  },
  {
   "cell_type": "code",
   "execution_count": 30,
   "metadata": {
    "scrolled": true
   },
   "outputs": [
    {
     "name": "stdout",
     "output_type": "stream",
     "text": [
      "False\n"
     ]
    }
   ],
   "source": [
    "L=[1,23,-4,3,6,5]\n",
    "\n",
    "toute=True\n",
    "    \n",
    "for i in L:\n",
    "    if i<1:\n",
    "        toute=False\n",
    "        break\n",
    "        \n",
    "print(toute)\n",
    "    \n"
   ]
  },
  {
   "cell_type": "markdown",
   "metadata": {},
   "source": [
    "***\n",
    "## Exercice 05.7\n",
    "***"
   ]
  },
  {
   "cell_type": "markdown",
   "metadata": {},
   "source": [
    "1. Ecrire un programme qui effectue une permutation circulaire de la liste. Chaque élément prend la valeur de son élément de droite et la première valeur se retrouve en dernier : Par exemple si la liste est [8, 24, 48, 2, 16] après l’exécution du programme elle sera [24, 48, 2, 16, 8]"
   ]
  },
  {
   "cell_type": "code",
   "execution_count": 22,
   "metadata": {},
   "outputs": [
    {
     "name": "stdout",
     "output_type": "stream",
     "text": [
      "[2, 3, 4, 5, 1]\n"
     ]
    }
   ],
   "source": [
    "L=[1,2,3,4,5]\n",
    "L2=L[1:]\n",
    "L2.append(L[0])\n",
    "print(L2)\n",
    "\n",
    "#autre manière de faire:\n",
    "L=[1,2,3,4,5]\n",
    "L2=[]\n",
    "for i in range(len(L)):\n",
    "    L2.append(L[-i])\n",
    "    \n",
    "print(L2)"
   ]
  },
  {
   "cell_type": "markdown",
   "metadata": {},
   "source": [
    "2. Ecrire un programme qui modifie une liste par miroir, c’est-à-dire que tout élément situé à la place i en partant du début est échangé avec son correspondant à la place i en partant de la fin. Par exemple si la liste est [8, 24, 48, 2, 16] après l’exécution du programme elle sera [16, 2, 48, 24, 8]."
   ]
  },
  {
   "cell_type": "code",
   "execution_count": 27,
   "metadata": {},
   "outputs": [
    {
     "name": "stdout",
     "output_type": "stream",
     "text": [
      "[5, 4, 3, 2, 1]\n",
      "[5, 4, 3, 2, 1]\n"
     ]
    }
   ],
   "source": [
    "L=[1,2,3,4,5]\n",
    "L.reverse()\n",
    "print(L)\n",
    "\n",
    "#autre manière de faire \"a la main\":\n",
    "L=[1,2,3,4,5]\n",
    "L2=[]\n",
    "for i in range(len(L)):\n",
    "    L2.append(L[-i-1])\n",
    "    \n",
    "print(L2)"
   ]
  },
  {
   "cell_type": "markdown",
   "metadata": {},
   "source": [
    "3. Déduire de la question précédente un programme qui détermine si une liste est symétrique.\n",
    "\n",
    "> **Indication:** Une liste est symétrique si elle est égale à son miroir"
   ]
  },
  {
   "cell_type": "code",
   "execution_count": 29,
   "metadata": {},
   "outputs": [
    {
     "name": "stdout",
     "output_type": "stream",
     "text": [
      "True\n"
     ]
    }
   ],
   "source": [
    "L=[1,2,3,2,1]\n",
    "L2=L.copy()\n",
    "L.reverse()\n",
    "print(L==L2)"
   ]
  },
  {
   "cell_type": "markdown",
   "metadata": {},
   "source": [
    "***\n",
    "## Corrigé du TD 05\n",
    "\n",
    "Vous pouvez retrouver le corrigé de ce TD [ici](Corrigés/Corrigé_TD%2004.ipynb)."
   ]
  }
 ],
 "metadata": {
  "celltoolbar": "Format de la Cellule Texte Brut",
  "kernelspec": {
   "display_name": "Python 3",
   "language": "python",
   "name": "python3"
  },
  "language_info": {
   "codemirror_mode": {
    "name": "ipython",
    "version": 3
   },
   "file_extension": ".py",
   "mimetype": "text/x-python",
   "name": "python",
   "nbconvert_exporter": "python",
   "pygments_lexer": "ipython3",
   "version": "3.8.3"
  },
  "latex_envs": {
   "LaTeX_envs_menu_present": true,
   "autoclose": false,
   "autocomplete": true,
   "bibliofile": "biblio.bib",
   "cite_by": "apalike",
   "current_citInitial": 1,
   "eqLabelWithNumbers": true,
   "eqNumInitial": 1,
   "hotkeys": {
    "equation": "Ctrl-E",
    "itemize": "Ctrl-I"
   },
   "labels_anchors": false,
   "latex_user_defs": false,
   "report_style_numbering": false,
   "user_envs_cfg": false
  },
  "varInspector": {
   "cols": {
    "lenName": 16,
    "lenType": 16,
    "lenVar": 40
   },
   "kernels_config": {
    "python": {
     "delete_cmd_postfix": "",
     "delete_cmd_prefix": "del ",
     "library": "var_list.py",
     "varRefreshCmd": "print(var_dic_list())"
    },
    "r": {
     "delete_cmd_postfix": ") ",
     "delete_cmd_prefix": "rm(",
     "library": "var_list.r",
     "varRefreshCmd": "cat(var_dic_list()) "
    }
   },
   "types_to_exclude": [
    "module",
    "function",
    "builtin_function_or_method",
    "instance",
    "_Feature"
   ],
   "window_display": false
  }
 },
 "nbformat": 4,
 "nbformat_minor": 4
}
