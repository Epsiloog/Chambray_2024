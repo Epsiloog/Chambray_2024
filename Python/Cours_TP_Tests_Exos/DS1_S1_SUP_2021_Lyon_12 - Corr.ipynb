{
 "cells": [
  {
   "cell_type": "markdown",
   "metadata": {},
   "source": [
    "<div class=\"alert alert-block alert-info\" style='color:white; background-color:#000000; border-color: black; '>\n",
    "    <hr><h1>Devoir surveillé 1 - SUP 2021</h1><hr>\n",
    "    <br>\n",
    "</div>"
   ]
  },
  {
   "cell_type": "markdown",
   "metadata": {},
   "source": [
    "<div class=\"alert alert-block alert-info\" style='color:white; background-color:#000000; border-color: black; '>\n",
    "    <hr><h2>Consignes : </h2>\n",
    "    <ul>\n",
    "        <li>Vous disposez de 1h45 pour réaliser ce sujet ;</li>\n",
    "        <li>Les  exercices sont indépendants :</li>\n",
    "        <li>3 exercices sont obligatoires, le dernier est en bonus</li>\n",
    "        <li>Sauvegardez régulièrement votre travail ;</li>\n",
    "        <li>Le barême est donné à titre indicatif ;</li>\n",
    "        <li>A la fin de l'examen, envoyez votre notebook Nom_prenom_DS1_SUP_2020.ipynb à l'adresse <a>https://esmefr-my.sharepoint.com/:f:/g/personal/vincent_beck_esme_fr/ErAGZU4LwXVBrhpvkV03CMUBbYtTLHxO7W-N2WA4zuuu6w<a></li><br>\n",
    "    </ul>\n",
    "    <hr><h2>Exercice 01 - Input utilisateur et opérations - 6 points</h2><hr>\n",
    "    Une année est bissextile si elle vérifie l'une OU l'autre de ces deux conditions :<br>Si elle est divisible par 4 ET non-divisible par 100<br>OU<br>Si elle est divisible par 400<br>\n",
    "    <ol>\n",
    "        <li>Ecrivez un programme qui :</li>\n",
    "        <ul>\n",
    "            <li>demande à l'utilisateur de saisir au clavier une année.</li>\n",
    "            <li>vérifie si cette année est bissextile.</li>\n",
    "        </ul>\n",
    "    </ol>\n",
    "</div>"
   ]
  },
  {
   "cell_type": "code",
   "execution_count": 3,
   "metadata": {},
   "outputs": [
    {
     "name": "stdout",
     "output_type": "stream",
     "text": [
      "votre année ?2000\n",
      "bissextile\n"
     ]
    }
   ],
   "source": [
    "annee = int(input(\"votre année ?\"))\n",
    "\n",
    "if (annee%4==0 and annee%100!=0) or annee%400==0:\n",
    "    print(\"bissextile\")\n",
    "else:\n",
    "    print(\"pas bissextile\")"
   ]
  },
  {
   "cell_type": "markdown",
   "metadata": {},
   "source": [
    "<div class=\"alert alert-block alert-info\" style='color:white; background-color:#000000; border-color: black; '>\n",
    "Les jeux olympiques d'été ont lieu tous les 4 ans depuis 1896.<br>\n",
    "    <ol start=\"2\">\n",
    "        <li>Compléter votre code pour indiquer si il y aura des jeux olympiques d'été lors de l'année indiquée par l'utilisateur.</li>\n",
    "\n",
    "</div>"
   ]
  },
  {
   "cell_type": "code",
   "execution_count": 5,
   "metadata": {},
   "outputs": [
    {
     "name": "stdout",
     "output_type": "stream",
     "text": [
      "votre année ?2021\n",
      "pas bissextile\n",
      "pas JO\n"
     ]
    }
   ],
   "source": [
    "annee = int(input(\"votre année ?\"))\n",
    "\n",
    "if (annee%4==0 and annee%100!=0) or annee%400==0:\n",
    "    print(\"bissextile\")\n",
    "else:\n",
    "    print(\"pas bissextile\")\n",
    "    \n",
    "if annee>=1896 and annee%4==0:\n",
    "    print(\"JO\")\n",
    "else:\n",
    "    print(\"pas JO\")"
   ]
  },
  {
   "cell_type": "markdown",
   "metadata": {},
   "source": [
    "<div class=\"alert alert-block alert-info\" style='color:white; background-color:#000000; border-color: black; '>\n",
    "<hr><h2>Exercice 02 - Vérifications en boucle et listes - 8 points</h2><hr>\n",
    "        <ol start=\"1\">\n",
    "        <li>Demandez un nombre strictement supérieur a 1 a l'utilisateur.<br> \n",
    "Le programme écrit \"erreur\" et redemande un nombre a l'utilisateur tant que le nombre entré n'est pas strictement supérieur a 1.\n",
    "Sinon le programme écrit \"ok\" comme l'entier est conforme.</li>\n"
   ]
  },
  {
   "cell_type": "code",
   "execution_count": 9,
   "metadata": {
    "scrolled": true
   },
   "outputs": [
    {
     "name": "stdout",
     "output_type": "stream",
     "text": [
      "entre un nb > a 10\n",
      "erreur\n",
      "entre un nb > a 11\n",
      "erreur\n",
      "entre un nb > a 1-67\n",
      "erreur\n",
      "entre un nb > a 178\n",
      "ok\n"
     ]
    }
   ],
   "source": [
    "x=int(input(\"entre un nb > a 1\"))\n",
    "    \n",
    "while x<=1:\n",
    "    print(\"erreur\")\n",
    "    x=int(input(\"entre un nb > a 1\"))\n",
    "        \n",
    "print(\"ok\")"
   ]
  },
  {
   "cell_type": "markdown",
   "metadata": {},
   "source": [
    "<div class=\"alert alert-block alert-info\" style='color:white; background-color:#000000; border-color: black; '>\n",
    "    <ol start=\"2\">\n",
    "        <li>Complétez votre code pour vérifier si l'entier saisi est un carré parfait, c'est à dire s'il existe un entier dont le carré est égal a l'entier saisi. <br>On pourra faire une boucle pour tester les carrés de 0 jusqu'a l'entier saisi.</li>\n",
    "    </ol>\n",
    "</div>"
   ]
  },
  {
   "cell_type": "code",
   "execution_count": 12,
   "metadata": {
    "scrolled": true
   },
   "outputs": [
    {
     "name": "stdout",
     "output_type": "stream",
     "text": [
      "entre un nb > a 149\n",
      "ok\n",
      "x est un carré parfait, c'est 7 au carré\n"
     ]
    }
   ],
   "source": [
    "x=int(input(\"entre un nb > a 1\"))\n",
    "    \n",
    "while x<=1:\n",
    "    print(\"erreur\")\n",
    "    x=int(input(\"entre un nb > a 1\"))\n",
    "        \n",
    "print(\"ok\")\n",
    "\n",
    "for i in range(1, x):\n",
    "    if i**2==x:\n",
    "        print(\"x est un carré parfait, c'est\", i, \"au carré\")"
   ]
  },
  {
   "cell_type": "markdown",
   "metadata": {},
   "source": [
    "<div class=\"alert alert-block alert-info\" style='color:white; background-color:#000000; border-color: black; '>\n",
    "    <ol start=\"3\">\n",
    "        <li>Voici une liste d'entiers : ListeATester=[23,49,31,25,127,17]<br>\n",
    "Faire un programme qui teste toutes les valeurs de de cette liste pour vérifier s'ils sont des carrés parfaits.<br>\n",
    "Les entiers qui le sont seront ajouté a une liste \"ListePositifs\"<br>\n",
    "Votre programme affichera cette liste et indiquera le nombre d'éléments de cette liste dans une phrase de conclusion.</li>\n",
    "    </ol>\n",
    "</div>"
   ]
  },
  {
   "cell_type": "code",
   "execution_count": 14,
   "metadata": {
    "scrolled": true
   },
   "outputs": [
    {
     "name": "stdout",
     "output_type": "stream",
     "text": [
      "49  est un carré parfait, c'est 7 au carré\n",
      "25  est un carré parfait, c'est 5 au carré\n",
      "[49, 25] comprends 2 éléments\n"
     ]
    }
   ],
   "source": [
    "ListeATester=[23,49,31,25,127,17]\n",
    "ListePositifs=[]\n",
    "\n",
    "for element in ListeATester:\n",
    "    for i in range(1, element):\n",
    "        if i**2==element:\n",
    "            print(element, \" est un carré parfait, c'est\", i, \"au carré\")\n",
    "            ListePositifs.append(element)\n",
    "\n",
    "print(ListePositifs, \"comprends\", len(ListePositifs), \"éléments\")"
   ]
  },
  {
   "cell_type": "markdown",
   "metadata": {},
   "source": [
    "<div class=\"alert alert-block alert-info\" style='color:white; background-color:#000000; border-color: black; '>\n",
    "<hr><h2>Exercice 03 - Textes et fichiers - 6 points</h2><hr>\n",
    "        <ol start=\"1\">\n",
    "        <li>Faites un programme qui ouvre un fichier en mode écriture, qui demande 5 mots a l'utilisateur et qui écrit dans le fichier uniquement les mots qui contiennent la lettre \"a\"</li>"
   ]
  },
  {
   "cell_type": "code",
   "execution_count": 16,
   "metadata": {},
   "outputs": [
    {
     "name": "stdout",
     "output_type": "stream",
     "text": [
      "entrez un motbonjour\n",
      "entrez un motsalut\n",
      "entrez un motcomment\n",
      "entrez un motça\n",
      "entrez un motva\n"
     ]
    }
   ],
   "source": [
    "fichier=open(\"exo3.txt\", \"w\")\n",
    "\n",
    "for i in range(5):\n",
    "    mot=input(\"entrez un mot\")\n",
    "    if \"a\" in mot:\n",
    "        fichier.write(mot+\"\\n\")\n",
    "        \n",
    "fichier.close()"
   ]
  },
  {
   "cell_type": "markdown",
   "metadata": {},
   "source": [
    "<div class=\"alert alert-block alert-info\" style='color:white; background-color:#000000; border-color: black; '>\n",
    "    <ol start=\"2\">\n",
    "        <li>Faites un second programme qui réouvre le fichier créé en mode lecture, et qui affiche seulement les 2 premiers mots du fichier</ol>\n",
    "</div>"
   ]
  },
  {
   "cell_type": "code",
   "execution_count": 20,
   "metadata": {},
   "outputs": [
    {
     "name": "stdout",
     "output_type": "stream",
     "text": [
      "salut\n",
      "\n",
      "ça\n",
      "\n"
     ]
    }
   ],
   "source": [
    "fichier=open(\"exo3.txt\", \"r\")\n",
    "\n",
    "contenu=fichier.readlines()\n",
    "print(contenu[0])\n",
    "print(contenu[1])\n",
    "\n",
    "fichier.close()"
   ]
  },
  {
   "cell_type": "markdown",
   "metadata": {},
   "source": [
    "<div class=\"alert alert-block alert-info\" style='color:white; background-color:#000000; border-color: black; '>\n",
    "    <h2><hr>Exercice BONUS - Suite aliquote - 2 points max</h2><hr>\n",
    "    Cet exercice est difficile et est là pour occuper les étudiants qui auraient terminé le sujet. Ne le traitez que si vous n'avez plus rien a faire car il ne rapporte pas beaucoup de points.<br>Toute trace de recherche ou solution partielle pourra être récompensée.\n",
    "   <br><br>\n",
    "    Une suite aliquote est une suite d'entier, qui part d'un entier donné et dont chaque terme est la somme des diviseurs stricts du précédent.<br>\n",
    "Exemple : si l'on commence par 10, dont les divieurs stricts sont 1, 2 et 5, le second terme de la suite est donc 1+2+5=8, le prochain terme serait alors 1+2+4=7 et enfin 1 (car 7 est premier)<br>\n",
    "On considère que la suite \"s'arrète\" si elle tombe sur 1<br>\n",
    "    <br>\n",
    "    Faire un programme qui demande le terme initial de la suite et qui affiche les termes suivants.<br> Il s'arrète s'il tombe sur 1.<br><br>\n",
    "Testez votre programme pour les entiers suivants : 10, 28, 220, 276.<br> Quels comportements peut-on remarquer ? (répondez en commentaire)\n",
    "    \n",
    "    \n",
    "\n",
    "</div>"
   ]
  },
  {
   "cell_type": "code",
   "execution_count": 8,
   "metadata": {},
   "outputs": [
    {
     "name": "stdout",
     "output_type": "stream",
     "text": [
      "entier ?1000\n",
      "[1, 2, 4, 5, 8, 10, 20, 25, 40, 50, 100, 125, 200, 250, 500] 1340\n",
      "[1, 2, 4, 5, 10, 20, 67, 134, 268, 335, 670] 1516\n",
      "[1, 2, 4, 379, 758] 1144\n",
      "[1, 2, 4, 8, 11, 13, 22, 26, 44, 52, 88, 104, 143, 286, 572] 1376\n",
      "[1, 2, 4, 8, 16, 32, 43, 86, 172, 344, 688] 1396\n",
      "[1, 2, 4, 349, 698] 1054\n",
      "[1, 2, 17, 31, 34, 62, 527] 674\n",
      "[1, 2, 337] 340\n",
      "[1, 2, 4, 5, 10, 17, 20, 34, 68, 85, 170] 416\n",
      "[1, 2, 4, 8, 13, 16, 26, 32, 52, 104, 208] 466\n",
      "[1, 2, 233] 236\n",
      "[1, 2, 4, 59, 118] 184\n",
      "[1, 2, 4, 8, 23, 46, 92] 176\n",
      "[1, 2, 4, 8, 11, 16, 22, 44, 88] 196\n",
      "[1, 2, 4, 7, 14, 28, 49, 98] 203\n",
      "[1, 7, 29] 37\n",
      "[1] 1\n"
     ]
    }
   ],
   "source": [
    "n=int(input(\"entier ?\"))\n",
    "\n",
    "while n!=1:\n",
    "    #recherche des diviseurs\n",
    "    diviseurs=[]\n",
    "    for i in range(1, n):\n",
    "        if n%i==0:\n",
    "            diviseurs.append(i)\n",
    "\n",
    "    #calcul du nouveau terme :\n",
    "    somme=0\n",
    "    for nb in diviseurs:\n",
    "        somme+=nb\n",
    "\n",
    "    n=somme #on remplace le terme par le nouveau\n",
    "    print(diviseurs, n)"
   ]
  },
  {
   "cell_type": "markdown",
   "metadata": {},
   "source": [
    "<div class=\"alert alert-block alert-info\" style='color:white; background-color:#000000; border-color: black; '><hr>\n",
    "<center><b>Une fois l'épreuve terminée, sauvegardez une dernière fois votre notebook, vérifiez qu'il soit bien nommé puis uploadez le à partir du lien</center></b>"
   ]
  }
 ],
 "metadata": {
  "celltoolbar": "Format de la Cellule Texte Brut",
  "kernelspec": {
   "display_name": "Python 3",
   "language": "python",
   "name": "python3"
  },
  "language_info": {
   "codemirror_mode": {
    "name": "ipython",
    "version": 3
   },
   "file_extension": ".py",
   "mimetype": "text/x-python",
   "name": "python",
   "nbconvert_exporter": "python",
   "pygments_lexer": "ipython3",
   "version": "3.8.3"
  },
  "latex_envs": {
   "LaTeX_envs_menu_present": true,
   "autoclose": false,
   "autocomplete": true,
   "bibliofile": "biblio.bib",
   "cite_by": "apalike",
   "current_citInitial": 1,
   "eqLabelWithNumbers": true,
   "eqNumInitial": 1,
   "hotkeys": {
    "equation": "Ctrl-E",
    "itemize": "Ctrl-I"
   },
   "labels_anchors": false,
   "latex_user_defs": false,
   "report_style_numbering": false,
   "user_envs_cfg": false
  },
  "varInspector": {
   "cols": {
    "lenName": 16,
    "lenType": 16,
    "lenVar": 40
   },
   "kernels_config": {
    "python": {
     "delete_cmd_postfix": "",
     "delete_cmd_prefix": "del ",
     "library": "var_list.py",
     "varRefreshCmd": "print(var_dic_list())"
    },
    "r": {
     "delete_cmd_postfix": ") ",
     "delete_cmd_prefix": "rm(",
     "library": "var_list.r",
     "varRefreshCmd": "cat(var_dic_list()) "
    }
   },
   "types_to_exclude": [
    "module",
    "function",
    "builtin_function_or_method",
    "instance",
    "_Feature"
   ],
   "window_display": false
  }
 },
 "nbformat": 4,
 "nbformat_minor": 4
}
