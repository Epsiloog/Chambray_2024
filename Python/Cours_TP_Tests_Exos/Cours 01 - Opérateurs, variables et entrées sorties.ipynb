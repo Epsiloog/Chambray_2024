{
 "cells": [
  {
   "cell_type": "markdown",
   "metadata": {
    "slideshow": {
     "slide_type": "slide"
    }
   },
   "source": [
    "***\n",
    "# IngeSUP - Cours 01 - Opérateurs, variables et entrées sorties\n",
    "***"
   ]
  },
  {
   "cell_type": "markdown",
   "metadata": {
    "slideshow": {
     "slide_type": "slide"
    }
   },
   "source": [
    "## Sommaire\n",
    "\n",
    "* <a href=\"#Objectifs\">Objectifs</a>\n",
    "* <a href=\"#Supports-Vid%C3%A9o\">Supports Vidéos</a>\n",
    "* <a href=\"#D%C3%A9finitions\">Définitions</a>\n",
    "* <a href=\"#Evaluation-des-expressions\">Evaluations des expressions</a>\n",
    "* <a href=\"#Variables-et-affectation\">Variables et affectation</a>\n",
    "* <a href=\"#Entr%C3%A9es/Sorties-utilisateur-et-quelques-fonctions-pr%C3%A9d%C3%A9finies\">Entrés sorties utilisateur et quelques fonction prédéfinies</a>\n",
    "\n",
    "***"
   ]
  },
  {
   "cell_type": "markdown",
   "metadata": {
    "slideshow": {
     "slide_type": "slide"
    }
   },
   "source": [
    "## Objectifs\n",
    "\n",
    "- Présenter le langage Python ;\n",
    "- Introduire les expressions, les opérateurs basiques et leurs priorités ;\n",
    "- Comprendre ce qu'est une variable, son affectation et les types de variables que l'on retrouve ;\n",
    "- Appréhender les fonctions de base qui permette une communication avec l'utilisateur d'un programme."
   ]
  },
  {
   "cell_type": "markdown",
   "metadata": {
    "slideshow": {
     "slide_type": "slide"
    }
   },
   "source": [
    "## Supports Vidéo\n",
    "\n",
    "Les supports vidéos suivants traitent des mêmes notions sur la plateforme ionisX :\n",
    "\n",
    "-  [Module 1 : Python – introduction](https://courses.ionisx.com/courses/ref/m205/x/courseware/6c4b9c9a9b7f40f5a9d6304b59ddf6cc/)\n",
    "-  [Module 2 : Types et Opérateurs](https://courses.ionisx.com/courses/ref/m61/x/course/)\n",
    "-  [Module 3 : Variables et affectation en python](https://courses.ionisx.com/courses/ref/m203/x/course/)\n",
    "-  [Module 4 : Les entrées/sorties - Clavier / Affichage](https://courses.ionisx.com/courses/ref/m188/x/course/)"
   ]
  },
  {
   "cell_type": "markdown",
   "metadata": {
    "slideshow": {
     "slide_type": "slide"
    }
   },
   "source": [
    "## Définitions\n",
    "\n"
   ]
  },
  {
   "cell_type": "markdown",
   "metadata": {
    "slideshow": {
     "slide_type": "subslide"
    }
   },
   "source": [
    "### Algorithme"
   ]
  },
  {
   "cell_type": "markdown",
   "metadata": {
    "slideshow": {
     "slide_type": "subslide"
    }
   },
   "source": [
    "**A l’ère du Big Data, du Machine Learning et de l’intelligence artificielle, les algorithmes sont devenus omniprésents dans nos vies. Mais en fait, qu’est-ce qu’un algorithme ?**"
   ]
  },
  {
   "cell_type": "markdown",
   "metadata": {
    "slideshow": {
     "slide_type": "slide"
    }
   },
   "source": [
    "Le terme algorithme fut inventé par le mathématicien Mohammed Ibn Musa-Al Khwarizmi, dans le courant du neuvième siècle avant Jésus Christ. Avec l’essor de l’intelligence artificielle, ce terme est de plus en plus utilisé. **Apprendre à construire des algorithmes et à évaluer leurs capacités, c'est le but de cette matière.**"
   ]
  },
  {
   "cell_type": "markdown",
   "metadata": {
    "slideshow": {
     "slide_type": "subslide"
    }
   },
   "source": [
    "Dans le domaine des mathématiques, dont le terme est originaire, un algorithme peut être considéré comme un **ensemble d’opérations ordonné et fini devant être suivi dans l’ordre pour résoudre un problème**. \n",
    "\n",
    "En guise d’exemple très simple, prenons une recette de cuisine. Dans chaque recette, une procédure spécifique doit être suivie dans l’ordre. Les différentes étapes de la recette représentent les opérations qui constituent l’algorithme."
   ]
  },
  {
   "cell_type": "markdown",
   "metadata": {
    "slideshow": {
     "slide_type": "slide"
    }
   },
   "source": [
    "### Langage de programmation"
   ]
  },
  {
   "cell_type": "markdown",
   "metadata": {
    "slideshow": {
     "slide_type": "slide"
    }
   },
   "source": [
    "Pour effectuer une tâche, quelle qu’elle soit, un ordinateur a besoin d’un programme informatique. Or, pour fonctionner, un programme informatique doit indiquer à l’ordinateur ce qu’il doit faire avec précision, étape par étape."
   ]
  },
  {
   "cell_type": "markdown",
   "metadata": {
    "slideshow": {
     "slide_type": "subslide"
    }
   },
   "source": [
    "L’ordinateur exécute ensuite le programme , en suivant chaque étape de façon mécanique pour atteindre l’objectif. Or, il faut aussi dire à l’ordinateur comment faire ce qu’il doit faire. \n",
    "\n",
    "C’est le rôle de l’algorithme informatique mais aussi des **langages de programmation** qui transforment les algorithmes en instructions compréhensibles par les ordinateurs."
   ]
  },
  {
   "cell_type": "markdown",
   "metadata": {
    "slideshow": {
     "slide_type": "slide"
    }
   },
   "source": [
    "### Le langage Python"
   ]
  },
  {
   "cell_type": "markdown",
   "metadata": {
    "slideshow": {
     "slide_type": "subslide"
    }
   },
   "source": [
    "Python est un langage de programmation **moderne**, **généraliste**, **orienté objet** et de **haut niveau**.\n",
    "\n",
    "Voici ses caractéristiques techniques principales:"
   ]
  },
  {
   "cell_type": "markdown",
   "metadata": {
    "slideshow": {
     "slide_type": "subslide"
    }
   },
   "source": [
    "- **typage dynamique** : Pas besoin de définir le type des variables, des arguments ou des types de retour des fonctions, il est inféré à l'exécution."
   ]
  },
  {
   "cell_type": "markdown",
   "metadata": {
    "slideshow": {
     "slide_type": "subslide"
    }
   },
   "source": [
    "- **gestion automatique de la mémoire** : Pas besoin d'allouer ou de désallouer explicitement pour les variables et les tableaux de données. Pas de problème de fuite de mémoire."
   ]
  },
  {
   "cell_type": "markdown",
   "metadata": {
    "slideshow": {
     "slide_type": "subslide"
    }
   },
   "source": [
    "- **interprété** : Pas besoin de compiler le code. L'interpréteur Python lit et exécute directement le code python."
   ]
  },
  {
   "cell_type": "markdown",
   "metadata": {
    "slideshow": {
     "slide_type": "slide"
    }
   },
   "source": [
    "Python étant un langage de programmation interprété et typé dynamiquement, l'exécution du code python peut être lente comparée à des langages de programmation compilés et typés statiquement tels que le C ou le Fortran."
   ]
  },
  {
   "cell_type": "markdown",
   "metadata": {
    "slideshow": {
     "slide_type": "slide"
    }
   },
   "source": [
    "<div style=\"border-color: #B404AE; margin: 1.5625em auto; padding: 0 .6rem .8rem !important; overflow: hidden; page-break-inside: avoid; border-left: .2rem solid #B404AE; border-radius: .1rem; box-shadow: 0 .2rem .5rem rgba(0,0,0,.05),0 0 .05rem rgba(0,0,0,.1); transition: color .25s,background-color .25s,border-color .25s;\">\n",
    "    <p style=\"background-color: #DF01D7; position: relative; margin: 0 -.6rem !important; padding: .4rem .6rem .4rem 2rem; font-weight: 700; color: white\">🧠 Culture</p>\n",
    "<p style=\"padding: 0 1.4rem; margin-top: .4em; margin-bottom: 0; font-size: 1em;\">Le langage Python a été crée en 1971 par <strong>Guido van Rossum</strong> qui travaillait à cette époque à l'institut néerlandais public de recherche en informatique. Le nom du langage est un hommage aux Monthy python, un groupe humoriste anglais ayant notamment réalisé une série télévisée et quatre long métrages.\n",
    "    <br><br>En 2001 la <em>python software foundation</em> est créée, c'est une association à but non lucratif qui a pour but de développer le langage. Celui-ci est distribué sous licence libre spécifique, la Python licence.</p>\n",
    "</div>"
   ]
  },
  {
   "cell_type": "markdown",
   "metadata": {
    "slideshow": {
     "slide_type": "slide"
    }
   },
   "source": [
    "## Evaluation des expressions\n",
    "\n",
    "L'évaluation des expressions (et plus tard des variables) est une étape incontournable de la programmation."
   ]
  },
  {
   "cell_type": "markdown",
   "metadata": {
    "slideshow": {
     "slide_type": "subslide"
    }
   },
   "source": [
    "### Les opérateurs simples\n",
    "\n",
    "Une cellule de code Python peut-être utilisée comme une calculatrice. Si l'on considère l'expression $5 + 9$, nous pouvons calculer le résultat en tapant:"
   ]
  },
  {
   "cell_type": "code",
   "execution_count": null,
   "metadata": {
    "slideshow": {
     "slide_type": "fragment"
    }
   },
   "outputs": [],
   "source": [
    "5+9"
   ]
  },
  {
   "cell_type": "markdown",
   "metadata": {
    "slideshow": {
     "slide_type": "slide"
    }
   },
   "source": [
    "On peut utiliser la notation scientifique pour exprimer les valeurs. Par exemple, le nombre $8 \\times 10^{-2}$ peut être entrée comme `0.08` or `8e-2`. Ceci peut-être facilement vérifié à partir du calcul de l'expression :"
   ]
  },
  {
   "cell_type": "code",
   "execution_count": null,
   "metadata": {
    "slideshow": {
     "slide_type": "fragment"
    }
   },
   "outputs": [],
   "source": [
    "0.08 - 8e-2"
   ]
  },
  {
   "cell_type": "markdown",
   "metadata": {
    "slideshow": {
     "slide_type": "slide"
    }
   },
   "source": [
    "Nous pouvons aussi avoir recours aux puissances d'un nombre. Le calcul de $3^4$ sera par exemple :"
   ]
  },
  {
   "cell_type": "code",
   "execution_count": null,
   "metadata": {
    "slideshow": {
     "slide_type": "fragment"
    }
   },
   "outputs": [],
   "source": [
    "3**4"
   ]
  },
  {
   "cell_type": "markdown",
   "metadata": {
    "slideshow": {
     "slide_type": "slide"
    }
   },
   "source": [
    "Le reste d'une division est obtenu à partir de l'opérateur *modulo* `%` :"
   ]
  },
  {
   "cell_type": "code",
   "execution_count": null,
   "metadata": {
    "slideshow": {
     "slide_type": "fragment"
    }
   },
   "outputs": [],
   "source": [
    "11 % 3"
   ]
  },
  {
   "cell_type": "markdown",
   "metadata": {
    "slideshow": {
     "slide_type": "slide"
    }
   },
   "source": [
    "Pour obtenir le quotient, nous utiliserons la *division entière*, symboliséen par `//` :"
   ]
  },
  {
   "cell_type": "code",
   "execution_count": 1,
   "metadata": {
    "slideshow": {
     "slide_type": "fragment"
    }
   },
   "outputs": [
    {
     "data": {
      "text/plain": [
       "3"
      ]
     },
     "execution_count": 1,
     "metadata": {},
     "output_type": "execute_result"
    }
   ],
   "source": [
    "11 // 3"
   ]
  },
  {
   "cell_type": "markdown",
   "metadata": {
    "slideshow": {
     "slide_type": "slide"
    }
   },
   "source": [
    "En résumé, python peut faire des additions des soustractions, des multiplications et des divisions. Pour ce faire, il manipule les mêmes opérateurs que la calculatrice `+`,`-`,`*`,`/`.\n",
    "\n",
    "Les priorités sont les mêmes qu'en mathématiques."
   ]
  },
  {
   "cell_type": "markdown",
   "metadata": {
    "slideshow": {
     "slide_type": "slide"
    }
   },
   "source": [
    "### Priorité des opérateurs"
   ]
  },
  {
   "cell_type": "markdown",
   "metadata": {
    "slideshow": {
     "slide_type": "subslide"
    }
   },
   "source": [
    "L'ordre de priorités dans les opérations fait référence à l'ordre dans lequel les opérations sont effectuées, par exemple la multiplication avant l'addition.\n",
    "\n",
    "La plupart des langages de programmation (dont Python) suivent les règles mathématiques basiques en matière de priorités des opérateurs."
   ]
  },
  {
   "cell_type": "markdown",
   "metadata": {
    "slideshow": {
     "slide_type": "subslide"
    }
   },
   "source": [
    "Considérons l'expression $4 \\cdot (7 - 2) = 20$. Sans faire attention, nous pourrions écrire :"
   ]
  },
  {
   "cell_type": "code",
   "execution_count": null,
   "metadata": {
    "slideshow": {
     "slide_type": "fragment"
    }
   },
   "outputs": [],
   "source": [
    "4*7 - 2"
   ]
  },
  {
   "cell_type": "markdown",
   "metadata": {
    "slideshow": {
     "slide_type": "slide"
    }
   },
   "source": [
    "Dans le calcul ci-dessus, `4*7` est évalué en premier, puis `2` est soustrait car la multiplication (`*`) vient avant la soustraction (`-`)  en termes de priorité. **Nous pouvons contrôler l'ordre des opérations en utilisant les parenthèses** :"
   ]
  },
  {
   "cell_type": "code",
   "execution_count": null,
   "metadata": {
    "slideshow": {
     "slide_type": "fragment"
    }
   },
   "outputs": [],
   "source": [
    "4*(7 - 2)"
   ]
  },
  {
   "cell_type": "markdown",
   "metadata": {
    "slideshow": {
     "slide_type": "slide"
    }
   },
   "source": [
    "Un autre exemple classique peut être décrit ci -dessous :\n",
    "\n",
    "$$\n",
    "\\frac{10}{2 \\times 50} = 0.1\n",
    "$$\n",
    "\n",
    "Le code suivant..."
   ]
  },
  {
   "cell_type": "code",
   "execution_count": null,
   "metadata": {
    "slideshow": {
     "slide_type": "fragment"
    }
   },
   "outputs": [],
   "source": [
    "10/2*50 "
   ]
  },
  {
   "cell_type": "markdown",
   "metadata": {
    "slideshow": {
     "slide_type": "fragment"
    }
   },
   "source": [
    "Ne traduit pas l'expression correctement !"
   ]
  },
  {
   "cell_type": "markdown",
   "metadata": {
    "slideshow": {
     "slide_type": "slide"
    }
   },
   "source": [
    "A la place on écrit :"
   ]
  },
  {
   "cell_type": "code",
   "execution_count": null,
   "metadata": {
    "slideshow": {
     "slide_type": "fragment"
    }
   },
   "outputs": [],
   "source": [
    "10/(2*50)"
   ]
  },
  {
   "cell_type": "markdown",
   "metadata": {
    "slideshow": {
     "slide_type": "slide"
    }
   },
   "source": [
    "## Variables et affectation"
   ]
  },
  {
   "cell_type": "markdown",
   "metadata": {
    "slideshow": {
     "slide_type": "subslide"
    }
   },
   "source": [
    "### Les variables"
   ]
  },
  {
   "cell_type": "markdown",
   "metadata": {
    "slideshow": {
     "slide_type": "subslide"
    }
   },
   "source": [
    "En programmation, on va pouvoir accéder facilement aux **emplacements de la mémoire qui stockent des valeurs** en leur donnant un nom, c'est ce que l'on appelle une **variable**."
   ]
  },
  {
   "cell_type": "markdown",
   "metadata": {
    "slideshow": {
     "slide_type": "slide"
    }
   },
   "source": [
    "Le choix du nom pour nos variables est libre en Python. Il faut cependant **respecter les règles usuelles suivantes**. "
   ]
  },
  {
   "cell_type": "markdown",
   "metadata": {
    "slideshow": {
     "slide_type": "subslide"
    }
   },
   "source": [
    "- Le nom doit commencer par une lettre ou par un underscore ;"
   ]
  },
  {
   "cell_type": "markdown",
   "metadata": {
    "slideshow": {
     "slide_type": "fragment"
    }
   },
   "source": [
    "- Le nom d’une variable ne doit contenir que des caractères alphanumériques courants (pas d’espace dans le nom d’une variable ni de **caractères spéciaux** comme des caractères accentués ou tout autre signe) ;"
   ]
  },
  {
   "cell_type": "markdown",
   "metadata": {
    "slideshow": {
     "slide_type": "subslide"
    }
   },
   "source": [
    "- On ne peut pas utiliser certains mots qui possèdent déjà une signification spéciale pour le langage, on parle de **mots réservés** (_range_ , _print_ , _input_ ...). Les mots réservés s'appellent aussi **les mots-clés**."
   ]
  },
  {
   "cell_type": "markdown",
   "metadata": {
    "slideshow": {
     "slide_type": "subslide"
    }
   },
   "source": [
    "Les suite des caractères (non entourés par des guillemets) qui satisfont à ces principes s'appellent des **identifiants**."
   ]
  },
  {
   "cell_type": "markdown",
   "metadata": {
    "slideshow": {
     "slide_type": "slide"
    }
   },
   "source": [
    "### L'affectation"
   ]
  },
  {
   "cell_type": "markdown",
   "metadata": {
    "slideshow": {
     "slide_type": "subslide"
    }
   },
   "source": [
    "**L'affectation** consiste à donner une valeur à une variable."
   ]
  },
  {
   "cell_type": "markdown",
   "metadata": {
    "slideshow": {
     "slide_type": "subslide"
    }
   },
   "source": [
    "<div style=\"border-color: #007bff; margin: 1.5625em auto; padding: 0 .6rem .8rem !important; overflow: hidden; page-break-inside: avoid;border-left: .2rem solid #007bff; border-radius: .1rem; box-shadow: 0 .2rem .5rem rgba(0,0,0,.05),0 0 .05rem rgba(0,0,0,.1); transition: color .25s,background-color .25s,border-color .25s;\">\n",
    "    <p style=\"background-color: #e7f2fa; position: relative; margin: 0 -.6rem !important; padding: .4rem .6rem .4rem 2rem; font-weight: 700;\">📝 Note</p>\n",
    "    <p style=\"padding: 0 1.4rem; margin-top: .4em; margin-bottom: 0; font-size: 1em;\">En Python <strong>l'affectation</strong> s'utilise à l'aide du symbole <strong>(=)</strong></p>\n",
    "    <p>A ne pas confondre avec l'égalité ! (qui se note ==)</p>\n",
    "</div>"
   ]
  },
  {
   "cell_type": "markdown",
   "metadata": {
    "slideshow": {
     "slide_type": "slide"
    }
   },
   "source": [
    "Voici quelques exemples :"
   ]
  },
  {
   "cell_type": "code",
   "execution_count": null,
   "metadata": {
    "slideshow": {
     "slide_type": "subslide"
    }
   },
   "outputs": [],
   "source": [
    "a = 2    # On met 2 dans la variable a\n",
    "m = 5    # On met 5 dans la variable m\n",
    "a = m + a\n",
    "a = a + 1\n",
    "m = a * m\n",
    "m = 2 * m "
   ]
  },
  {
   "cell_type": "markdown",
   "metadata": {
    "slideshow": {
     "slide_type": "slide"
    }
   },
   "source": [
    "Voici un tableau de suivi des variables `a` et `m`, remplissez les valeurs manquantes\n",
    "\n",
    "Ligne  | a     | m\n",
    "------ | ------|----------\n",
    "1      | 2     | .\n",
    "2      | 2     | 5\n",
    "3      | 7     | 5\n",
    "4      | 8     | ?\n",
    "5      | 8     | ?\n",
    "6      | ?     | ?"
   ]
  },
  {
   "cell_type": "markdown",
   "metadata": {
    "slideshow": {
     "slide_type": "subslide"
    }
   },
   "source": [
    "<div style=\"border-color: #007bff; margin: 1.5625em auto; padding: 0 .6rem .8rem !important; overflow: hidden; page-break-inside: avoid;border-left: .2rem solid #007bff; border-radius: .1rem; box-shadow: 0 .2rem .5rem rgba(0,0,0,.05),0 0 .05rem rgba(0,0,0,.1); transition: color .25s,background-color .25s,border-color .25s;\">\n",
    "    <p style=\"background-color: #e7f2fa; position: relative; margin: 0 -.6rem !important; padding: .4rem .6rem .4rem 2rem; font-weight: 700;\">📝 Note</p>\n",
    "    <p style=\"padding: 0 1.4rem; margin-top: .4em; margin-bottom: 0; font-size: 1em;\">Remarquons que quand on réalise une affectation la machine calcule le membre de droite et <strong>l'affecte</strong> à la variable de gauche.</strong></p>\n",
    "</div>"
   ]
  },
  {
   "cell_type": "markdown",
   "metadata": {
    "slideshow": {
     "slide_type": "slide"
    }
   },
   "source": [
    "### Types des variables"
   ]
  },
  {
   "cell_type": "markdown",
   "metadata": {
    "slideshow": {
     "slide_type": "subslide"
    }
   },
   "source": [
    "Les données sont divisées selon leur nature en différents ensembles appelés **types**."
   ]
  },
  {
   "cell_type": "markdown",
   "metadata": {
    "slideshow": {
     "slide_type": "subslide"
    }
   },
   "source": [
    "Les types les plus importants sont les **nombres entiers** _(type int)_ , les **nombres décimaux** _(type float)_ , **les chaînes de caractères** _(type str)_ et le type qui regroupe des **valeurs de vérité** _(type bool)_."
   ]
  },
  {
   "cell_type": "markdown",
   "metadata": {
    "slideshow": {
     "slide_type": "subslide"
    }
   },
   "source": [
    "Nous pouvons manipuler le type d'une variable à partir des instructions suivantes :"
   ]
  },
  {
   "cell_type": "code",
   "execution_count": null,
   "metadata": {
    "slideshow": {
     "slide_type": "subslide"
    }
   },
   "outputs": [],
   "source": [
    "# Entier\n",
    "n = 5"
   ]
  },
  {
   "cell_type": "code",
   "execution_count": null,
   "metadata": {
    "slideshow": {
     "slide_type": "subslide"
    }
   },
   "outputs": [],
   "source": [
    "# Décimal\n",
    "x = 1.0  "
   ]
  },
  {
   "cell_type": "code",
   "execution_count": null,
   "metadata": {
    "slideshow": {
     "slide_type": "fragment"
    }
   },
   "outputs": [],
   "source": [
    "# Booléen\n",
    "c = True  # Attention à la majuscule !"
   ]
  },
  {
   "cell_type": "markdown",
   "metadata": {
    "slideshow": {
     "slide_type": "slide"
    }
   },
   "source": [
    "<div style=\"border-color: #007bff; margin: 1.5625em auto; padding: 0 .6rem .8rem !important; overflow: hidden; page-break-inside: avoid;border-left: .2rem solid #007bff; border-radius: .1rem; box-shadow: 0 .2rem .5rem rgba(0,0,0,.05),0 0 .05rem rgba(0,0,0,.1); transition: color .25s,background-color .25s,border-color .25s;\">\n",
    "    <p style=\"background-color: #e7f2fa; position: relative; margin: 0 -.6rem !important; padding: .4rem .6rem .4rem 2rem; font-weight: 700;\">📝 Note</p>\n",
    "    <p style=\"padding: 0 1.4rem; margin-top: .4em; margin-bottom: 0; font-size: 1em;\"><strong>Les nombres à virgules s'écrivent avec des points (.) en python</strong></p>\n",
    "</div>"
   ]
  },
  {
   "cell_type": "code",
   "execution_count": null,
   "metadata": {
    "slideshow": {
     "slide_type": "fragment"
    }
   },
   "outputs": [],
   "source": [
    "# Chaine de caractère\n",
    "s = \"1.0\"  # s = '1.0', fonctionne éngalement"
   ]
  },
  {
   "cell_type": "markdown",
   "metadata": {
    "slideshow": {
     "slide_type": "slide"
    }
   },
   "source": [
    "<div style=\"border-color: #007bff; margin: 1.5625em auto; padding: 0 .6rem .8rem !important; overflow: hidden; page-break-inside: avoid;border-left: .2rem solid #007bff; border-radius: .1rem; box-shadow: 0 .2rem .5rem rgba(0,0,0,.05),0 0 .05rem rgba(0,0,0,.1); transition: color .25s,background-color .25s,border-color .25s;\">\n",
    "    <p style=\"background-color: #e7f2fa; position: relative; margin: 0 -.6rem !important; padding: .4rem .6rem .4rem 2rem; font-weight: 700;\">📝 Note</p>\n",
    "    <p style=\"padding: 0 1.4rem; margin-top: .4em; margin-bottom: 0; font-size: 1em;\">En python, <strong>les chaines de caractères</strong> sont des suites de caractères entourés par des guillemets simples <span style=\"background-color: #F2F2F2; padding: 0.25em\">'</span> ou doubles <span style=\"background-color: #F2F2F2; padding: 0.25em\">\"</span>.</p>\n",
    "    <blockquote>Par exemple on peut écrire \"abracadabra\" ou 'abracadabra' c'est la même chose</blockquote>\n",
    "</div>"
   ]
  },
  {
   "cell_type": "markdown",
   "metadata": {
    "slideshow": {
     "slide_type": "subslide"
    }
   },
   "source": [
    "On peut parfois transformer une donnée d'un certain type en une donnée d'un autre type. Cela s'appelle le **transtypage** (ou cast en anglais)."
   ]
  },
  {
   "cell_type": "code",
   "execution_count": null,
   "metadata": {
    "slideshow": {
     "slide_type": "subslide"
    }
   },
   "outputs": [],
   "source": [
    "a = 1\n",
    " \n",
    "a = float(a)  # Cette opération convertie la variable entière 'a' en une variable réelle\n",
    "\n",
    "print(a)"
   ]
  },
  {
   "cell_type": "code",
   "execution_count": null,
   "metadata": {
    "slideshow": {
     "slide_type": "subslide"
    }
   },
   "outputs": [],
   "source": [
    "var = \"12\"\n",
    "\n",
    "var = int(var)  # Cette opération convertie la chaine de caractère 'var' en une variable entière\n",
    "\n",
    "print(var)"
   ]
  },
  {
   "cell_type": "markdown",
   "metadata": {
    "slideshow": {
     "slide_type": "subslide"
    }
   },
   "source": [
    "<div style=\"border-color: #007bff; margin: 1.5625em auto; padding: 0 .6rem .8rem !important; overflow: hidden; page-break-inside: avoid;border-left: .2rem solid #007bff; border-radius: .1rem; box-shadow: 0 .2rem .5rem rgba(0,0,0,.05),0 0 .05rem rgba(0,0,0,.1); transition: color .25s,background-color .25s,border-color .25s;\">\n",
    "    <p style=\"background-color: #e7f2fa; position: relative; margin: 0 -.6rem !important; padding: .4rem .6rem .4rem 2rem; font-weight: 700;\">📝 Note</p>\n",
    "    <p style=\"padding: 0 1.4rem; margin-top: .4em; margin-bottom: 0; font-size: 1em;\">Le symbole <strong>(+)</strong> en python sert aussi à coller (on dit <strong>concaténer</strong> des chaînes de caractères)</p>\n",
    "</div>"
   ]
  },
  {
   "cell_type": "code",
   "execution_count": null,
   "metadata": {
    "slideshow": {
     "slide_type": "subslide"
    }
   },
   "outputs": [],
   "source": [
    "\"ab\"+\"cd\"    # Devient \"abcd\""
   ]
  },
  {
   "cell_type": "markdown",
   "metadata": {
    "slideshow": {
     "slide_type": "slide"
    }
   },
   "source": [
    "<div style=\"border-color: #dc3545; margin: 1.5625em auto; padding: 0 .6rem .8rem !important; overflow: hidden; page-break-inside: avoid; border-left: .2rem solid #dc3545; border-radius: .1rem; box-shadow: 0 .2rem .5rem rgba(0,0,0,.05),0 0 .05rem rgba(0,0,0,.1); transition: color .25s,background-color .25s,border-color .25s;\">\n",
    "    <p style=\"background-color: #fdf3f2; position: relative; margin: 0 -.6rem !important; padding: .4rem .6rem .4rem 2rem; font-weight: 700;\">⚠️ Attention</p>\n",
    "    <p style=\"padding: 0 1.4rem; margin-top: .4em; margin-bottom: 0; font-size: 1em;\">On a vu que l'opérateur <strong>(+)</strong> sert aussi bien à <strong>additionner des entiers</strong> qu'à <strong>coller deux chaînes de caractères entre elles</strong>. Mais que se passe t-il lorsqu'on essaie de l'utiliser entre un entier et une chaîne de caractères ?</p>\n",
    "<p style=\"padding: 0 1.4rem; margin-top: .4em; margin-bottom: 0; font-size: 1em;\"><strong>Réponse: </strong>Une erreur ! 😮 (voir ci-dessous)</p>\n",
    "</div>"
   ]
  },
  {
   "cell_type": "code",
   "execution_count": null,
   "metadata": {
    "slideshow": {
     "slide_type": "slide"
    }
   },
   "outputs": [],
   "source": [
    "\"hello\"+5"
   ]
  },
  {
   "cell_type": "markdown",
   "metadata": {
    "slideshow": {
     "slide_type": "slide"
    }
   },
   "source": [
    "<div style=\"border-color: rgba(40, 167, 70, 0.294); margin: 1.5625em auto; padding: 0 .6rem .8rem !important; overflow: hidden; page-break-inside: avoid; border-left: .2rem solid rgba(40, 167, 70, 0.294); border-radius: .1rem; box-shadow: 0 .2rem .5rem rgba(0,0,0,.05),0 0 .05rem rgba(0,0,0,.1); transition: color .25s,background-color .25s,border-color .25s;\">\n",
    "    <p style=\"background-color: rgba(40,167,70,0.1); position: relative; margin: 0 -.6rem !important; padding: .4rem .6rem .4rem 2rem; font-weight: 700;\">💡 Astuce</p>\n",
    "    <p style=\"padding: 0 1.4rem; margin-top: .4em; margin-bottom: 0; font-size: 1em;\">L'une des techniques ça peut être de transformer l'entier concerné en chaîne de caractères à l'aide de la fonction prédéfinie <span style=\"background-color: #F2F2F2; padding: 0.25em\">str</span></p>\n",
    "<blockquote>En python la fonction <span style=\"background-color: #F2F2F2; padding: 0.25em\">str</span> transforme le nombre qu'on lui donne en argument en chaine de caractères représentant ce nombre. Ainsi <strong>str(5)</strong> va renvoyer <strong>\"5\"</strong></blockquote>\n",
    "</div>"
   ]
  },
  {
   "cell_type": "code",
   "execution_count": null,
   "metadata": {
    "slideshow": {
     "slide_type": "subslide"
    }
   },
   "outputs": [],
   "source": [
    "# Du coup on a plus de problèmes pour coller 5 et hello\n",
    "\"hello\"+str(5)"
   ]
  },
  {
   "cell_type": "markdown",
   "metadata": {
    "slideshow": {
     "slide_type": "slide"
    }
   },
   "source": [
    "## Entrées/Sorties utilisateur et quelques fonctions prédéfinies"
   ]
  },
  {
   "cell_type": "markdown",
   "metadata": {
    "slideshow": {
     "slide_type": "subslide"
    }
   },
   "source": [
    "Une **fonction** sert à donner un nom à un **ensemble d'instructions effectuant une tâche précise**. \n",
    "\n",
    "A chaque fois que nous devons réaliser cette tâche, nous pouvons alors écrire le nom de la fonction plutôt que d'écrire l'ensemble d'instructions correspondant."
   ]
  },
  {
   "cell_type": "markdown",
   "metadata": {
    "slideshow": {
     "slide_type": "subslide"
    }
   },
   "source": [
    "**On dit qu'on appelle la fonction**."
   ]
  },
  {
   "cell_type": "markdown",
   "metadata": {
    "slideshow": {
     "slide_type": "subslide"
    }
   },
   "source": [
    "**Appeler une fonction c'est écrire son nom en mettant ses paramètres entres parenthèses**."
   ]
  },
  {
   "cell_type": "markdown",
   "metadata": {
    "slideshow": {
     "slide_type": "subslide"
    }
   },
   "source": [
    "<div style=\"border-color: #007bff; margin: 1.5625em auto; padding: 0 .6rem .8rem !important; overflow: hidden; page-break-inside: avoid;border-left: .2rem solid #007bff; border-radius: .1rem; box-shadow: 0 .2rem .5rem rgba(0,0,0,.05),0 0 .05rem rgba(0,0,0,.1); transition: color .25s,background-color .25s,border-color .25s;\">\n",
    "    <p style=\"background-color: #e7f2fa; position: relative; margin: 0 -.6rem !important; padding: .4rem .6rem .4rem 2rem; font-weight: 700;\">📝 Note</p>\n",
    "    <p style=\"padding: 0 1.4rem; margin-top: .4em; margin-bottom: 0; font-size: 1em;\">Comme tout langage de programmation, Python possède une multitude de fonctions déjà définies. Nous allons en voir quelques-unes</p>\n",
    "</div>"
   ]
  },
  {
   "cell_type": "markdown",
   "metadata": {
    "slideshow": {
     "slide_type": "slide"
    }
   },
   "source": [
    "### 1. La fonction len()"
   ]
  },
  {
   "cell_type": "markdown",
   "metadata": {
    "slideshow": {
     "slide_type": "subslide"
    }
   },
   "source": [
    "La fonction `len()` a un paramètre de type **chaine de caractères**. Elle renvoie la longueur de la chaîne."
   ]
  },
  {
   "cell_type": "code",
   "execution_count": null,
   "metadata": {
    "slideshow": {
     "slide_type": "subslide"
    }
   },
   "outputs": [],
   "source": [
    "len('hello')"
   ]
  },
  {
   "cell_type": "code",
   "execution_count": null,
   "metadata": {
    "slideshow": {
     "slide_type": "subslide"
    }
   },
   "outputs": [],
   "source": [
    "len('bonjour')"
   ]
  },
  {
   "cell_type": "markdown",
   "metadata": {
    "slideshow": {
     "slide_type": "slide"
    }
   },
   "source": [
    "La fonction `len()` produit un résultat : **l'entier** correspondant au **nombre de caractères de la chaîne d'entrée**. On peut donc combiner un appel de fonction avec d'autres expressions pour faire des calculs..."
   ]
  },
  {
   "cell_type": "code",
   "execution_count": null,
   "metadata": {
    "slideshow": {
     "slide_type": "subslide"
    }
   },
   "outputs": [],
   "source": [
    "len('bonjour') + 4"
   ]
  },
  {
   "cell_type": "code",
   "execution_count": null,
   "metadata": {
    "slideshow": {
     "slide_type": "subslide"
    }
   },
   "outputs": [],
   "source": [
    "len('bon')+len('jou')"
   ]
  },
  {
   "cell_type": "markdown",
   "metadata": {
    "slideshow": {
     "slide_type": "slide"
    }
   },
   "source": [
    "### 2. La fonction print()"
   ]
  },
  {
   "cell_type": "markdown",
   "metadata": {
    "slideshow": {
     "slide_type": "subslide"
    }
   },
   "source": [
    "Cette fonction permet d'afficher n'importe quelle valeur fournie en paramètre (c'est-à-dire entre parenthèses)."
   ]
  },
  {
   "cell_type": "code",
   "execution_count": null,
   "metadata": {
    "slideshow": {
     "slide_type": "subslide"
    }
   },
   "outputs": [],
   "source": [
    "print('bonjour')\n",
    "print(221)\n",
    "print(len('bonjour'))"
   ]
  },
  {
   "cell_type": "markdown",
   "metadata": {
    "slideshow": {
     "slide_type": "slide"
    }
   },
   "source": [
    "On peut l'utiliser en mettant une suite de valeurs séparées par des virgules dans les parenthèses."
   ]
  },
  {
   "cell_type": "code",
   "execution_count": null,
   "metadata": {
    "slideshow": {
     "slide_type": "fragment"
    }
   },
   "outputs": [],
   "source": [
    "print('bleu', 'blanc', 12)"
   ]
  },
  {
   "cell_type": "markdown",
   "metadata": {
    "slideshow": {
     "slide_type": "slide"
    }
   },
   "source": [
    "On peut mélanger des valeurs stockées dans des variables avec des valeurs mises directement entre guillemets en séparant le tout par des virgules."
   ]
  },
  {
   "cell_type": "code",
   "execution_count": null,
   "metadata": {
    "slideshow": {
     "slide_type": "fragment"
    }
   },
   "outputs": [],
   "source": [
    "a=12\n",
    "b=7\n",
    "print(a,\"nains et\",b,\"lutins marchent dans la forêt\")"
   ]
  },
  {
   "cell_type": "markdown",
   "metadata": {
    "slideshow": {
     "slide_type": "slide"
    }
   },
   "source": [
    "Il peut être intéressant dans la présentation des résultats d'empécher le passage à la ligne. On utilise pour cela la commande `end=' '`"
   ]
  },
  {
   "cell_type": "code",
   "execution_count": null,
   "metadata": {
    "slideshow": {
     "slide_type": "subslide"
    }
   },
   "outputs": [],
   "source": [
    "print(\"premier résultat\", end =\" - \")\n",
    "#print(\"premier résultat\")\n",
    "print(\"second résultat\")"
   ]
  },
  {
   "cell_type": "markdown",
   "metadata": {
    "slideshow": {
     "slide_type": "slide"
    }
   },
   "source": [
    "A noter qu'une écriture équivalente serait :"
   ]
  },
  {
   "cell_type": "code",
   "execution_count": null,
   "metadata": {
    "slideshow": {
     "slide_type": "subslide"
    }
   },
   "outputs": [],
   "source": [
    "print(\"premier résultat\",\" - \",\"second résultat\")"
   ]
  },
  {
   "cell_type": "markdown",
   "metadata": {
    "slideshow": {
     "slide_type": "slide"
    }
   },
   "source": [
    "Il peut également être intéressant de passer volontairement à la ligne. On utilise pour cela la commande `\\n`"
   ]
  },
  {
   "cell_type": "code",
   "execution_count": null,
   "metadata": {
    "slideshow": {
     "slide_type": "subslide"
    }
   },
   "outputs": [],
   "source": [
    "print(\"ceci est le début d'une phrase \\nceci est la suite à la ligne\")"
   ]
  },
  {
   "cell_type": "markdown",
   "metadata": {
    "slideshow": {
     "slide_type": "slide"
    }
   },
   "source": [
    "Enfin, il peut être utlise d'utiliser des séparateurs. On utilise pour cela la commande `sep` :"
   ]
  },
  {
   "cell_type": "code",
   "execution_count": null,
   "metadata": {
    "slideshow": {
     "slide_type": "subslide"
    }
   },
   "outputs": [],
   "source": [
    "print(\"premier résultat\",\"deuxième résultat\",\"troisième résultat\",\".\",sep = \" -- \")"
   ]
  },
  {
   "cell_type": "markdown",
   "metadata": {
    "slideshow": {
     "slide_type": "slide"
    }
   },
   "source": [
    "<div style=\"border-color: rgba(40, 167, 70, 0.294); margin: 1.5625em auto; padding: 0 .6rem .8rem !important; overflow: hidden; page-break-inside: avoid; border-left: .2rem solid rgba(40, 167, 70, 0.294); border-radius: .1rem; box-shadow: 0 .2rem .5rem rgba(0,0,0,.05),0 0 .05rem rgba(0,0,0,.1); transition: color .25s,background-color .25s,border-color .25s;\">\n",
    "    <p style=\"background-color: rgba(40,167,70,0.1); position: relative; margin: 0 -.6rem !important; padding: .4rem .6rem .4rem 2rem; font-weight: 700;\">💡 Astuce</p>\n",
    "    <p style=\"padding: 0 1.4rem; margin-top: .4em; margin-bottom: 0; font-size: 1em;\">En programmation il existe des techniques pour s'assurer que les caractères ne soient pas <b>interprétés</b>, on appelle ce procédé <b>l'échappement de caractères</b> Dans un print on utilise le caractère<span style=\"background-color: #F2F2F2; padding: 0.25em\">\\</span>.</p>\n",
    "    <p style=\"padding: 0 1.4rem; margin-top: .4em; margin-bottom: 0; font-size: 1em;\">On s'asssure ainsi que les caractères soient traités pour ce qu'ils sont et non pas interprétés ; par exemple si on veut les afficher \"tels quels\".</p>\n",
    "</div>"
   ]
  },
  {
   "cell_type": "markdown",
   "metadata": {
    "slideshow": {
     "slide_type": "subslide"
    }
   },
   "source": [
    "Ici les guillemets s'afficheront \"tels quels\" et ne seront pas vus comme des délimiteurs."
   ]
  },
  {
   "cell_type": "code",
   "execution_count": null,
   "metadata": {
    "slideshow": {
     "slide_type": "subslide"
    }
   },
   "outputs": [],
   "source": [
    "print(\"le mot \\\"Pierre\\\" est entre guillements\")"
   ]
  },
  {
   "cell_type": "markdown",
   "metadata": {
    "slideshow": {
     "slide_type": "slide"
    }
   },
   "source": [
    "### 3. La fonction input()"
   ]
  },
  {
   "cell_type": "markdown",
   "metadata": {
    "slideshow": {
     "slide_type": "subslide"
    }
   },
   "source": [
    "Elle permet **d'inviter l'utilisateur à entrer une chaîne de caractères**. L'éxécution de cette fonction provoque l'arrêt de l'exécution du programme. L'utilisateur doit entrer une suite de caractères au clavier **puis appuyer sur _entrer_**. \n",
    "\n",
    "**La chaîne founie est alors le résultat de la fonction** et l'exécution du programme se poursuit."
   ]
  },
  {
   "cell_type": "code",
   "execution_count": null,
   "metadata": {
    "slideshow": {
     "slide_type": "subslide"
    }
   },
   "outputs": [],
   "source": [
    "print('Entrez votre nom')\n",
    "reponse=input()\n",
    "print('Bonjour', reponse, '!')"
   ]
  },
  {
   "cell_type": "markdown",
   "metadata": {
    "slideshow": {
     "slide_type": "slide"
    }
   },
   "source": [
    "On peut mettre une invite **entre les parenthèses du input()** et **entre les guillemets**. Celle-ci sera affichée pour indiquer à l'utilisateur le genre de valeur qu'on veut qu'il rentre."
   ]
  },
  {
   "cell_type": "code",
   "execution_count": null,
   "metadata": {
    "slideshow": {
     "slide_type": "subslide"
    }
   },
   "outputs": [],
   "source": [
    "reponse=input('Entrez votre nom:')\n",
    "print('Bonjour',reponse,'!')"
   ]
  },
  {
   "cell_type": "code",
   "execution_count": null,
   "metadata": {
    "slideshow": {
     "slide_type": "subslide"
    }
   },
   "outputs": [],
   "source": [
    "n = input (\"entrer un nombre entier : \")\n",
    "print(\"Le nombre que vous venez d'entrer est: \", n) "
   ]
  },
  {
   "cell_type": "markdown",
   "metadata": {
    "slideshow": {
     "slide_type": "slide"
    }
   },
   "source": [
    "<div style=\"border-color: #fd7e14; margin: 1.5625em auto; padding: 0 .6rem .8rem !important; overflow: hidden; page-break-inside: avoid;border-left: .2rem solid #fd7e14; border-radius: .1rem; box-shadow: 0 .2rem .5rem rgba(0,0,0,.05),0 0 .05rem rgba(0,0,0,.1); transition: color .25s,background-color .25s,border-color .25s;\">\n",
    "    <p style=\"background-color: #ffedcc; position: relative; margin: 0 -.6rem !important; padding: .4rem .6rem .4rem 2rem; font-weight: 700;\">🚧 Attention</p>\n",
    "    <p style=\"padding: 0 1.4rem; margin-top: .4em; margin-bottom: 0; font-size: 1em;\">Attention, la fontion <strong style=\"background-color: #F2F2F2; padding: 0.25em\">input()</strong> <strong>retourne toujours une chaîne de caractères</strong>, même si l'utilisateur a entré un nombre. Si vous voulez récupérer la valeur entrée sous forme de nombre, il faudra la convertir en utilisant <span style=\"background-color: #F2F2F2; padding: 0.25em\">int(valeur)</span> ou <span style=\"background-color: #F2F2F2; padding: 0.25em\">float(valeur)</span></p>\n",
    "</div>"
   ]
  },
  {
   "cell_type": "code",
   "execution_count": null,
   "metadata": {
    "slideshow": {
     "slide_type": "subslide"
    }
   },
   "outputs": [],
   "source": [
    "reponseInt = int(input('Entrez un nombre: '))\n",
    "print(\"Le double de votre nombre est :\", reponseInt*2)"
   ]
  },
  {
   "cell_type": "markdown",
   "metadata": {
    "slideshow": {
     "slide_type": "slide"
    }
   },
   "source": [
    "### 4. La fonction type()"
   ]
  },
  {
   "cell_type": "markdown",
   "metadata": {
    "slideshow": {
     "slide_type": "fragment"
    }
   },
   "source": [
    "La fonction `type()` donne le type de la valeur donnée en paramètres."
   ]
  },
  {
   "cell_type": "code",
   "execution_count": null,
   "metadata": {
    "slideshow": {
     "slide_type": "subslide"
    }
   },
   "outputs": [],
   "source": [
    "# Booléen\n",
    "c = True  # Attention à la majuscule !\n",
    "type(c)"
   ]
  },
  {
   "cell_type": "code",
   "execution_count": null,
   "metadata": {
    "slideshow": {
     "slide_type": "subslide"
    }
   },
   "outputs": [],
   "source": [
    "# Entier\n",
    "n = 5\n",
    "type(n)"
   ]
  },
  {
   "cell_type": "code",
   "execution_count": null,
   "metadata": {
    "slideshow": {
     "slide_type": "subslide"
    }
   },
   "outputs": [],
   "source": [
    "# Décimal\n",
    "x = 1.0 \n",
    "type(x)"
   ]
  },
  {
   "cell_type": "code",
   "execution_count": null,
   "metadata": {
    "slideshow": {
     "slide_type": "subslide"
    }
   },
   "outputs": [],
   "source": [
    "# Chaine de caractère\n",
    "s = \"1.0\"  # s = '1.0', fonctionne éngalement\n",
    "type(s)"
   ]
  },
  {
   "cell_type": "markdown",
   "metadata": {
    "slideshow": {
     "slide_type": "slide"
    }
   },
   "source": [
    "On peut d'ailleurs voir en interne le fonctionnement de la fonction `input()` décrite précédemment."
   ]
  },
  {
   "cell_type": "code",
   "execution_count": null,
   "metadata": {
    "slideshow": {
     "slide_type": "subslide"
    }
   },
   "outputs": [],
   "source": [
    "v = input(\"Entrez une valeur\")\n",
    "type(v)"
   ]
  },
  {
   "cell_type": "code",
   "execution_count": null,
   "metadata": {
    "slideshow": {
     "slide_type": "subslide"
    }
   },
   "outputs": [],
   "source": [
    "n = int(input(\"entrer un nombre entier : \"))\n",
    "type(n)"
   ]
  },
  {
   "cell_type": "code",
   "execution_count": null,
   "metadata": {
    "slideshow": {
     "slide_type": "subslide"
    }
   },
   "outputs": [],
   "source": [
    "r = float(input(\"entrer un réel : \"))\n",
    "type(r)"
   ]
  },
  {
   "cell_type": "markdown",
   "metadata": {
    "slideshow": {
     "slide_type": "slide"
    }
   },
   "source": [
    "## Exercices de TD\n",
    "\n",
    "Vous pouvez maintenant vous exercer à partir du notebook [TD 01 - Opérateurs, variables et IO utilisateur](../TD/TD%2001%20-%20Opérateurs%2C%20variables%20et%20IO%20utilisateur.ipynb)."
   ]
  }
 ],
 "metadata": {
  "celltoolbar": "Format de la Cellule Texte Brut",
  "kernelspec": {
   "display_name": "Python 3",
   "language": "python",
   "name": "python3"
  },
  "language_info": {
   "codemirror_mode": {
    "name": "ipython",
    "version": 3
   },
   "file_extension": ".py",
   "mimetype": "text/x-python",
   "name": "python",
   "nbconvert_exporter": "python",
   "pygments_lexer": "ipython3",
   "version": "3.8.3"
  }
 },
 "nbformat": 4,
 "nbformat_minor": 2
}
