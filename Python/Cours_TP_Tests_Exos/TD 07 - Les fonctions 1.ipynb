{
 "cells": [
  {
   "cell_type": "markdown",
   "metadata": {},
   "source": [
    "***\n",
    "# IngeSUP - TD 07 - Les fonctions 1\n",
    "***"
   ]
  },
  {
   "cell_type": "markdown",
   "metadata": {},
   "source": [
    "<blockquote><em>“Sur la terre tout à une fonction, chaque maladie une herbe pour la guérir, chaque personne une mission.”</em></blockquote>&nbsp;&nbsp;<i style=\"font-size: 10px\">Sagesse indienne</i>"
   ]
  },
  {
   "cell_type": "markdown",
   "metadata": {},
   "source": [
    "***\n",
    "## Exercice 07.1\n",
    "***"
   ]
  },
  {
   "cell_type": "markdown",
   "metadata": {},
   "source": [
    "Ecrivez une fonction qui renvoie l'aire d'un disque en fonction de la valeur du rayon.\n",
    "\n",
    "__Indication:__ Pour importer la constante `pi` en Python on fera appel à la bibliothèque `math` en tapant l'instruction suivante, répliquée dans la cellule ci-dessous:\n",
    "\n",
    "```python\n",
    "from math import pi\n",
    "```"
   ]
  },
  {
   "cell_type": "code",
   "execution_count": null,
   "metadata": {},
   "outputs": [],
   "source": [
    "# Complétez le code ci-dessous\n",
    "\n",
    "from math import pi\n",
    "\n",
    "def aireDisque(r):\n",
    "    aire = ...\n",
    "    return ...\n",
    "\n",
    "\n",
    "# Noubliez pas de tester la fonction !\n",
    "print(aireDisque(4))\n",
    "\n",
    "# Ou essayez de tester la fonction via input\n",
    "val = int(input(\"De quel rayon vous voulez l'aire ?\"))\n",
    "print(aireDisque(val))"
   ]
  },
  {
   "cell_type": "markdown",
   "metadata": {},
   "source": [
    "***\n",
    "## Exercice 07.2\n",
    "***"
   ]
  },
  {
   "cell_type": "markdown",
   "metadata": {},
   "source": [
    "A l'aide de la fonction `aireDisque()` codée précédemment:\n",
    "\n",
    "1. Ecrivez une fonction qui renvoie le volume d'un cylindre en fonction du rayon et de la hauteur.\n",
    "\n",
    "__Indication:__ Le volume V d’un cylindre est égal au produit de π (Pi) par le rayon au carré et par la hauteur : \n",
    "\n",
    "<p><center><strong>V = π x r² x h</strong></center></p>\n",
    "\n",
    "2. Testez votre fonction avec un cylindre dont le disque est de rayon 3 et de hauteur 2."
   ]
  },
  {
   "cell_type": "code",
   "execution_count": null,
   "metadata": {},
   "outputs": [],
   "source": [
    "# 1. Complétez le code ci-dessous \n",
    "\n",
    "def volumeCylindre(r,h):\n",
    "    base= ...    # Appel à la fonction aireDisque sur r et relation avec h\n",
    "    return base\n",
    " \n",
    "    \n",
    "\n",
    "# 2. Tester la fonction avec un rayon de 3 et une hauteur de 2\n",
    "print(volumeCylindre(3,2))\n",
    "\n",
    "# 3. Tester la fonction en demandant à l'utilisateur via input\n",
    "rayon = ...\n",
    "hauteur = ...\n",
    "print(volumeCylindre(rayon, hauteur))"
   ]
  },
  {
   "cell_type": "markdown",
   "metadata": {},
   "source": [
    "***\n",
    "## Exercice 07.3\n",
    "***"
   ]
  },
  {
   "cell_type": "markdown",
   "metadata": {},
   "source": [
    "Codez une fonction appelée `affiche_bonjour()` qui demande à l’utilisateur son prénom et son nom de famille et qui affiche ensuite « Bonjour » suivi du prénom de l’utilisateur et de son nom de famille.\n"
   ]
  },
  {
   "cell_type": "code",
   "execution_count": null,
   "metadata": {},
   "outputs": [],
   "source": [
    "# VOTRE CODE ICI"
   ]
  },
  {
   "cell_type": "markdown",
   "metadata": {},
   "source": [
    "***\n",
    "## Exercice 07.4\n",
    "***"
   ]
  },
  {
   "cell_type": "markdown",
   "metadata": {},
   "source": [
    "Ecrivez une fonction `nombreVoyelles()` qui compte le nombre de voyelles (minuscules, sans accents) dans une chaîne de caractères passée en paramètres."
   ]
  },
  {
   "cell_type": "code",
   "execution_count": null,
   "metadata": {},
   "outputs": [],
   "source": [
    "# VOTRE CODE ICI"
   ]
  },
  {
   "cell_type": "markdown",
   "metadata": {},
   "source": [
    "***\n",
    "## Exercice 07.5\n",
    "***"
   ]
  },
  {
   "cell_type": "markdown",
   "metadata": {},
   "source": [
    "On se propose d'écrire une fonction qui calcule la valeur d'un réel x élevé à la puissance n.\n",
    "\n",
    "1. Ecrivez une fonction `puissance(x,n)` qui prend en paramètre un réel `x` et une puissance `n` et qui renvoie x**n."
   ]
  },
  {
   "cell_type": "code",
   "execution_count": null,
   "metadata": {
    "scrolled": true
   },
   "outputs": [],
   "source": [
    "# VOTRE CODE ICI"
   ]
  },
  {
   "cell_type": "markdown",
   "metadata": {},
   "source": [
    "2. Modifiez la fonction précédente pour qu'elle détermine la valeur d'un réel `x` élevé à la puissance `n` à l'aide d'une boucle **for**."
   ]
  },
  {
   "cell_type": "code",
   "execution_count": null,
   "metadata": {},
   "outputs": [],
   "source": [
    "# VOTRE CODE ICI"
   ]
  },
  {
   "cell_type": "markdown",
   "metadata": {},
   "source": [
    "***\n",
    "## Exercice 07.6\n",
    "***"
   ]
  },
  {
   "cell_type": "markdown",
   "metadata": {},
   "source": [
    "Le but de cet exercice est de coder en Python certaines des opérations qui concernent les polynômes du second degré."
   ]
  },
  {
   "cell_type": "markdown",
   "metadata": {},
   "source": [
    "1.\tÉcrivez une fonction `trinome()` qui dépend de quatre paramètres `a`, `b`, `c` et `x` et qui renvoie la valeur du trinôme a<var>x<sup>2</sup></var> + bx + c.\n",
    "\n",
    "_Par exemple trinome(2,-1,0,6) renvoie 66._"
   ]
  },
  {
   "cell_type": "code",
   "execution_count": null,
   "metadata": {},
   "outputs": [],
   "source": [
    "# VOTRE CODE ICI"
   ]
  },
  {
   "cell_type": "markdown",
   "metadata": {},
   "source": [
    "2. Écrivez une fonction `racine()` qui, en fonction de trois paramètres `a`, `b` et `c`, affiche le nombre de racines dont dispose le polynôme a<var>x<sup>2</sup></var> + bx + c.\n",
    "\n",
    "**Indication:** La fonction ne renvoie aucune valeur. L'affichage peut se faire par le recours à des **print**, Par exemple : \"Ce polynôme contient deux racines.\"\n",
    "\n",
    "**Indication 2:** N'oubliez pas le calcul du discriminant..."
   ]
  },
  {
   "cell_type": "code",
   "execution_count": null,
   "metadata": {},
   "outputs": [],
   "source": [
    "# VOTRE CODE ICI"
   ]
  },
  {
   "cell_type": "markdown",
   "metadata": {},
   "source": [
    "3. Cette fois on veut connaître la valeur des racines en question. Pour ça on veut que le programme renvoie trois types de valeurs différentes.\n",
    "\n",
    "&nbsp;&nbsp;* Si le polynôme n'a pas de racines on renvoie **None** (c'est un mot-clé de Python qui exprime le vide).<br><br>\n",
    "&nbsp;&nbsp;* Si le polynôme a une seule racine on la renvoie.<br><br>\n",
    "&nbsp;&nbsp;* Si le polynôme a deux racines on les renvoie toutes les deux séparées par une virgule (tuple).<br>\n",
    "\n",
    "(On ne s'intéresse qu'aux racines réelles).\n",
    "\n",
    "\n",
    "Modifiez la fonction précédente pour faire ce calcul."
   ]
  },
  {
   "cell_type": "code",
   "execution_count": null,
   "metadata": {},
   "outputs": [],
   "source": [
    "# VOTRE CODE ICI"
   ]
  },
  {
   "cell_type": "markdown",
   "metadata": {},
   "source": [
    "***\n",
    "## Exercice 07.7\n",
    "***"
   ]
  },
  {
   "cell_type": "markdown",
   "metadata": {},
   "source": [
    "Voici la table de vérité des opérateurs Booléen ET, OU et NON :"
   ]
  },
  {
   "cell_type": "markdown",
   "metadata": {},
   "source": [
    "<img src=\" data:image/png;base64,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\">"
   ]
  },
  {
   "cell_type": "markdown",
   "metadata": {},
   "source": [
    "Écrivez des fonctions `ET()`, `OU()`, `NON()`, qui, à l’aide de structures conditionnelles, prennent deux booléens `a` et `b` en paramètres (`NON` ne prend qu'un seul booléen en paramètre) et renvoient `True` si selon la table de vérité leur combinaison est vraie et `False` si selon la table de vérité leur combinaison est fausse."
   ]
  },
  {
   "cell_type": "code",
   "execution_count": null,
   "metadata": {},
   "outputs": [],
   "source": [
    "# VOTRE CODE ICI"
   ]
  },
  {
   "cell_type": "markdown",
   "metadata": {},
   "source": [
    "***\n",
    "## Exercice 07.8\n",
    "***"
   ]
  },
  {
   "cell_type": "markdown",
   "metadata": {},
   "source": [
    "On définit un palindrome comme une chaine de caractères qui se lit de la même manière de gauche à droite et de droite à gauche. \n",
    "\n",
    "Écrivez une fonction `palindrome()` qui retourne `True` si le mot qu’on lui donne en paramètre est un palindrome et `False` si ça n’est pas le cas.\n",
    "\n",
    "Par exemple, votre fonction retournera `True` pour « RADAR » ou « KAYAK » mais `False` pour « exercice »."
   ]
  },
  {
   "cell_type": "code",
   "execution_count": null,
   "metadata": {},
   "outputs": [],
   "source": [
    "# VOTRE CODE ICI"
   ]
  },
  {
   "cell_type": "markdown",
   "metadata": {},
   "source": [
    "***\n",
    "## Exercice 07.9\n",
    "***"
   ]
  },
  {
   "cell_type": "markdown",
   "metadata": {},
   "source": [
    "Écrire une fonction `strip_voyelles()` qui prend en paramètres une chaîne de caractères quelconque et renvoie la même chaîne sans ses voyelles."
   ]
  },
  {
   "cell_type": "code",
   "execution_count": null,
   "metadata": {},
   "outputs": [],
   "source": [
    "# VOTRE CODE ICI"
   ]
  },
  {
   "cell_type": "markdown",
   "metadata": {},
   "source": [
    "***\n",
    "## Exercice 07.10\n",
    "***"
   ]
  },
  {
   "cell_type": "markdown",
   "metadata": {},
   "source": [
    "1. Écrivez une fonction `conversion_euros_vers_dollars()` qui dépend d’un paramètre et qui, pour une somme d’argent `montant`, exprimée en euros, renvoie sa valeur en dollars (on prendra 1 euro = 1.15 dollar)."
   ]
  },
  {
   "cell_type": "code",
   "execution_count": null,
   "metadata": {},
   "outputs": [],
   "source": [
    "# VOTRE CODE ICI"
   ]
  },
  {
   "cell_type": "markdown",
   "metadata": {},
   "source": [
    "2. Écrivez une fonction `conversion_euros()` qui dépend d’un paramètre `montant` et d’une monnaie `devise` et qui convertit la somme `montant` donnée en euros, dans la devise souhaitée. \n",
    "\n",
    "Exemples de devises : 1 euro = 1.15 dollars ; 1 euro = 0.81 livres ; 1 euro = 130 yens. \n",
    "\n",
    "Par exemple, conversion_euros(100,\"livre\") renvoie 81."
   ]
  },
  {
   "cell_type": "code",
   "execution_count": null,
   "metadata": {},
   "outputs": [],
   "source": [
    "# VOTRE CODE ICI"
   ]
  },
  {
   "cell_type": "markdown",
   "metadata": {},
   "source": [
    "***\n",
    "## Corrigé du TD 07\n",
    "\n",
    "Vous pouvez retrouver le corrigé de ce TD [ici](Corrigés/Corrigé_TD%2007.ipynb)."
   ]
  }
 ],
 "metadata": {
  "kernelspec": {
   "display_name": "Python 3",
   "language": "python",
   "name": "python3"
  },
  "language_info": {
   "codemirror_mode": {
    "name": "ipython",
    "version": 3
   },
   "file_extension": ".py",
   "mimetype": "text/x-python",
   "name": "python",
   "nbconvert_exporter": "python",
   "pygments_lexer": "ipython3",
   "version": "3.7.4"
  },
  "latex_envs": {
   "LaTeX_envs_menu_present": true,
   "autoclose": false,
   "autocomplete": true,
   "bibliofile": "biblio.bib",
   "cite_by": "apalike",
   "current_citInitial": 1,
   "eqLabelWithNumbers": true,
   "eqNumInitial": 1,
   "hotkeys": {
    "equation": "Ctrl-E",
    "itemize": "Ctrl-I"
   },
   "labels_anchors": false,
   "latex_user_defs": false,
   "report_style_numbering": false,
   "user_envs_cfg": false
  },
  "varInspector": {
   "cols": {
    "lenName": 16,
    "lenType": 16,
    "lenVar": 40
   },
   "kernels_config": {
    "python": {
     "delete_cmd_postfix": "",
     "delete_cmd_prefix": "del ",
     "library": "var_list.py",
     "varRefreshCmd": "print(var_dic_list())"
    },
    "r": {
     "delete_cmd_postfix": ") ",
     "delete_cmd_prefix": "rm(",
     "library": "var_list.r",
     "varRefreshCmd": "cat(var_dic_list()) "
    }
   },
   "types_to_exclude": [
    "module",
    "function",
    "builtin_function_or_method",
    "instance",
    "_Feature"
   ],
   "window_display": false
  }
 },
 "nbformat": 4,
 "nbformat_minor": 2
}
