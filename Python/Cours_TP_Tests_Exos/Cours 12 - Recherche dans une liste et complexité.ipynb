{
 "cells": [
  {
   "cell_type": "markdown",
   "metadata": {
    "slideshow": {
     "slide_type": "slide"
    }
   },
   "source": [
    "***\n",
    "# IngeSUP - Cours 12 - Recherche dans une liste et complexité\n",
    "***"
   ]
  },
  {
   "cell_type": "markdown",
   "metadata": {
    "slideshow": {
     "slide_type": "slide"
    }
   },
   "source": [
    "## Sommaire\n",
    "\n",
    "* <a href=\"#Objectifs\">Objectifs</a>\n",
    "* <a href=\"#Algorithmes-de-recherche\">Algorithmes de recherche</a>\n",
    "* <a href=\"#Introduction\">Introduction</a>\n",
    "* <a href=\"#Recherche-séquentielle-dans-une-liste-non-triée\">Recherche séquentielle dans une liste non triée</a>\n",
    "* <a href=\"#Recherche-séquentielle-dans-une-liste-triée\">Recherche séquentielle dans une liste triée</a>\n",
    "* <a href=\"#Recherche-par-dichotomie\">Recherche par dichotomie</a>\n",
    "* <a href=\"#Recherche-d'extremums\">Recherche d'extremums</a>\n",
    "* <a href=\"#Complexité-d'un-algorithme\">Complexité d'un algorithme</a>"
   ]
  },
  {
   "cell_type": "markdown",
   "metadata": {
    "slideshow": {
     "slide_type": "slide"
    }
   },
   "source": [
    "## Objectifs\n",
    "\n",
    "- Implémenter un algorithme de recherche séquentielle dans une liste non triée ;\n",
    "- Programmer un algorithme de recherche séquentielle dans une liste triée ;\n",
    "- Implémenter un algorithme de recherche par dichotomie ;\n",
    "- Programmer un algorithme de recherche d'extremums ;\n",
    "- Comprendre la notation de 'Grand O' ($O$) ;\n",
    "- Appréhender les consquences de la compléxité algorithmique ;\n",
    "- Déterminer la complexité d'algorithmes simples."
   ]
  },
  {
   "cell_type": "markdown",
   "metadata": {
    "slideshow": {
     "slide_type": "slide"
    }
   },
   "source": [
    "## Algorithmes de recherche\n",
    "\n",
    "Une des utilisations les plus communes de l’informatique est le stockage de collections de données présentant des caractéristiques communes, et la recherche parmi ces données, d’éléments satisfaisants certains critères. \n",
    "\n",
    "Si le nombre de données est important, comme c’est souvent le cas, les opérations de recherche, de tris et de stockage ne doivent pas être réalisées en consommant beaucoup de temps. "
   ]
  },
  {
   "cell_type": "markdown",
   "metadata": {
    "slideshow": {
     "slide_type": "slide"
    }
   },
   "source": [
    "Il existe des algorithmes de recherche qui sont naïfs et qui prennent en moyenne plus de temps et ceux qui sont un peu plus \"intelligents\". \n",
    "\n",
    "Apprendre à savoir faire la différence entre un algorithme \"naïf\" et un algorithme \"intelligent\" est la clé de ce chapitre."
   ]
  },
  {
   "cell_type": "markdown",
   "metadata": {
    "slideshow": {
     "slide_type": "slide"
    }
   },
   "source": [
    "## Introduction\n",
    "\n",
    "On appelle **recherche associative** le fait que le critère de recherche ne porte que sur la valeur de la clé de l’élément recherché.\n",
    "\n",
    "La recherche est qualifée de : \n",
    "\n",
    "* **Positive** : lorsque la clé recherchée est présente dans la collection de données ;\n",
    "* **Négative** : lorsque la clé recherchée est absente de la collection de données."
   ]
  },
  {
   "cell_type": "markdown",
   "metadata": {
    "slideshow": {
     "slide_type": "slide"
    }
   },
   "source": [
    "## Recherche séquentielle dans une liste non triée\n",
    "\n",
    "Le premier cas abordé est le cas d'une recherche séquentielle dans une liste non triée. On se place sur le premier élément de la liste. \n",
    "\n",
    "_Tant qu’il reste des éléments, et que l’élément courant n’est pas x, on avance à l’élément suivant._ "
   ]
  },
  {
   "cell_type": "markdown",
   "metadata": {
    "slideshow": {
     "slide_type": "subslide"
    }
   },
   "source": [
    "_Si la liste a été parcourue entièrement et qu'on a pas trouvé l'élément, la recherche est négative._ \n",
    "\n",
    "_Elle est positive sinon. L’élément sur lequel on s’est arrêté est celui que l'on cherchait._\n",
    "\n",
    "Voyons l'exemple de la recherche d'un élément `x` dans une liste `L` :"
   ]
  },
  {
   "cell_type": "code",
   "execution_count": 1,
   "metadata": {
    "slideshow": {
     "slide_type": "subslide"
    }
   },
   "outputs": [
    {
     "name": "stdout",
     "output_type": "stream",
     "text": [
      "True\n"
     ]
    }
   ],
   "source": [
    "def recherche_sequentielle_LNT(L,x):\n",
    "        \n",
    "    for element in L: # on itère directement sur la liste\n",
    "        \n",
    "        if element == x:\n",
    "            return True\n",
    "        \n",
    "    return False # arrivé à la fin de la liste, l'élément n'est pas présent\n",
    "\n",
    "print(recherche_sequentielle_LNT([5, 3, 9, 17, 8, 11, 13, 4, 17, 6],13))"
   ]
  },
  {
   "cell_type": "markdown",
   "metadata": {
    "slideshow": {
     "slide_type": "slide"
    }
   },
   "source": [
    "## Recherche séquentielle dans une liste triée\n",
    "\n",
    "**La recherche séquentielle** peut être améliorée lorsque la liste est **triée** : il est inutile de continuer la recherche si la valeur cherchée a été dépassée. "
   ]
  },
  {
   "cell_type": "markdown",
   "metadata": {
    "slideshow": {
     "slide_type": "subslide"
    }
   },
   "source": [
    "_On se place sur le premier élément de la liste._ \n",
    "\n",
    "_Tant qu’il reste des éléments, et que l’élément courant n’a pas dépassé x, on avance à l’élément suivant._ \n",
    "\n",
    "_On a trouvé l’élément si on n’a pas parcouru toute la liste et si l’élément sur lequel on s’est arrêté est x._\n",
    "\n",
    "Voyons l'exemple de la recherche d'un élément `x` dans une liste `L` :"
   ]
  },
  {
   "cell_type": "code",
   "execution_count": 2,
   "metadata": {
    "slideshow": {
     "slide_type": "subslide"
    }
   },
   "outputs": [
    {
     "name": "stdout",
     "output_type": "stream",
     "text": [
      "True\n"
     ]
    }
   ],
   "source": [
    "def recherche_sequentielle_LT(L,x):\n",
    " \n",
    "    for element in L: # on itère directement sur la liste\n",
    "        \n",
    "        if element == x:\n",
    "            return True\n",
    "        if element > x:\n",
    "            return False\n",
    "        \n",
    "    return False # arrivé à la fin de la liste, l'élément n'est pas présent\n",
    "\n",
    "print(recherche_sequentielle_LT([1, 3, 5, 7, 8, 10, 13, 14, 17, 19],13))"
   ]
  },
  {
   "cell_type": "markdown",
   "metadata": {
    "slideshow": {
     "slide_type": "slide"
    }
   },
   "source": [
    "## Recherche par dichotomie\n",
    "\n",
    "La **recherche séquentielle** impose dans le **pire des cas** le parcours de **l'ensemble des éléments de la liste** pour identifier si une valeur y est présente."
   ]
  },
  {
   "cell_type": "markdown",
   "metadata": {
    "slideshow": {
     "slide_type": "subslide"
    }
   },
   "source": [
    "Si l'on manipule une **liste triée**, il existe plusieurs algorithmes de recherche plus efficaces que la recherche séquentielle. \n",
    "\n",
    "Parmi eux, nous aborderons ce semestre **l'algorithme de recherche par dichotomie**."
   ]
  },
  {
   "cell_type": "markdown",
   "metadata": {
    "slideshow": {
     "slide_type": "subslide"
    }
   },
   "source": [
    "Soit une liste `L`, un élément `x` recherché et `m` le milieu de la liste `L` :\n",
    "\n",
    "- si _x = ième(L, m),_ la recherche est positive ;\n",
    "- si _x < ième(L, m),_ on poursuit donc la recherche sur la **moitié inférieure** de la liste L ;\n",
    "- si _x > ième(L, m),_ on poursuit donc la recherche sur la **moitié supérieure** de la liste L ;\n",
    "- si la recherche se termine sur une liste vide, la **recherche est négative**."
   ]
  },
  {
   "cell_type": "markdown",
   "metadata": {
    "slideshow": {
     "slide_type": "subslide"
    }
   },
   "source": [
    "Voyons le code de la recherche dichotomique d'un élément `x` dans une liste triée `L` :"
   ]
  },
  {
   "cell_type": "code",
   "execution_count": 3,
   "metadata": {
    "slideshow": {
     "slide_type": "slide"
    }
   },
   "outputs": [
    {
     "name": "stdout",
     "output_type": "stream",
     "text": [
      "True\n"
     ]
    }
   ],
   "source": [
    "def recherche_dichotomique(L, x):\n",
    "    \n",
    "    g = 0\n",
    "    d = len(L) - 1\n",
    "    \n",
    "    while g <= d:\n",
    "        m = (g + d) // 2\n",
    "        \n",
    "        if L[m] == x:\n",
    "            return True\n",
    "            \n",
    "        if x < L[m]:\n",
    "            d = m - 1\n",
    "                \n",
    "        else:\n",
    "            g = m + 1\n",
    "                \n",
    "    return False\n",
    "\n",
    "print(recherche_dichotomique([1, 3, 5, 7, 8, 10, 13, 14, 17, 19],13))"
   ]
  },
  {
   "cell_type": "markdown",
   "metadata": {
    "slideshow": {
     "slide_type": "slide"
    }
   },
   "source": [
    "## Recherche d'extremums\n",
    "\n",
    "La recherche d'un **minimum** ou d'un **maximum** dans une liste  revient à récupérer les bornes inférieures et supérieures de la liste, à savoir les **extremums** de la liste. "
   ]
  },
  {
   "cell_type": "markdown",
   "metadata": {
    "slideshow": {
     "slide_type": "slide"
    }
   },
   "source": [
    "Nous regarderons donc ici la recherche d'un minimum ou d'un maximum dans le cas d'une liste non triée. La démarche est identique à la recherhe séquentielle vue précédement.\n",
    "\n",
    "_Chaque nouvel élémént visité est comparé à l'élément le plus petit (respectivement le plus grand) identifié jusqu'à présent._\n",
    "\n",
    "Voyons le code de la recherche d'extremums dans une liste `L` :"
   ]
  },
  {
   "cell_type": "code",
   "execution_count": 4,
   "metadata": {
    "slideshow": {
     "slide_type": "slide"
    }
   },
   "outputs": [
    {
     "name": "stdout",
     "output_type": "stream",
     "text": [
      "2\n"
     ]
    }
   ],
   "source": [
    "def recherche_min(L):\n",
    "    \n",
    "    mini = L[0]\n",
    "    for element in L:\n",
    "        \n",
    "        if element < mini:\n",
    "            mini=element\n",
    "        \n",
    "    return mini \n",
    "print(recherche_min([5, 3, 9, 17, 8, 11, 13, 4, 2, 6]))"
   ]
  },
  {
   "cell_type": "code",
   "execution_count": null,
   "metadata": {
    "slideshow": {
     "slide_type": "slide"
    }
   },
   "outputs": [],
   "source": [
    "def recherche_max(L):\n",
    "    \n",
    "    maxi = L[0]\n",
    "    for element in L:\n",
    "        \n",
    "        if element > maxi:\n",
    "            maxi=element\n",
    "        \n",
    "    return maxi\n",
    "print(recherche_max([5, 3, 9, 17, 8, 11, 13, 4, 2, 6]))"
   ]
  },
  {
   "cell_type": "markdown",
   "metadata": {
    "slideshow": {
     "slide_type": "slide"
    }
   },
   "source": [
    "## Complexité d'un algorithme\n",
    "\n",
    "L’algorithmique est la science qui s’intéresse non seulement à l’écriture des algorithmes, mais également à leur\n",
    "étude et analyse. Dans ce chapitre, nous abordons la notion de **complexité algorithmique**.\n",
    "\n",
    "C'est une mesure de l’« efficacité » d’un algorithme. Nous nous intéressons donc non seulement à l’écriture d’algorithmes qui produisent des résultats corrects, mais également à la **vitesse à laquelle ils résolvent le problème**."
   ]
  },
  {
   "cell_type": "markdown",
   "metadata": {
    "slideshow": {
     "slide_type": "slide"
    }
   },
   "source": [
    "<div style=\"border-color: rgba(40, 167, 70, 0.294); margin: 1.5625em auto; padding: 0 .6rem .8rem !important; overflow: hidden; page-break-inside: avoid; border-left: .2rem solid rgba(40, 167, 70, 0.294); border-radius: .1rem; box-shadow: 0 .2rem .5rem rgba(0,0,0,.05),0 0 .05rem rgba(0,0,0,.1); transition: color .25s,background-color .25s,border-color .25s;\">\n",
    "    <p style=\"background-color: rgba(40,167,70,0.1); position: relative; margin: 0 -.6rem !important; padding: .4rem .6rem .4rem 2rem; font-weight: 700;\">💡 Information</p>\n",
    "    \n",
    "<p>Contrairement à ce que le nom suggère, <b><em>la complexité</em></b> n’est pas une mesure de si un algorithme est « simple » ou « complexe » d’un point de vue humain.</p> \n",
    "<p>C’est en fait bien souvent l’inverse : un algorithme simple aura généralement une complexité plus élevée (il « prend plus de temps »), qu’un algorithme ingénieux, qui aura une faible complexité (plus « rapide ») !</p>\n",
    "    \n",
    "</div>"
   ]
  },
  {
   "cell_type": "markdown",
   "metadata": {
    "slideshow": {
     "slide_type": "slide"
    }
   },
   "source": [
    "### Complexité temporelle\n",
    "\n",
    "L’objectif d’un calcul de **complexité algorithmique temporelle** est de pouvoir comparer l’efficacité d’algorithmes résolvant le même problème. \n",
    "\n",
    "Dans une situation donnée, cela permet donc d’établir lequel des algorithmes disponibles est le **plus optimal**."
   ]
  },
  {
   "cell_type": "markdown",
   "metadata": {
    "slideshow": {
     "slide_type": "subslide"
    }
   },
   "source": [
    "<div style=\"border-color: #007bff; margin: 1.5625em auto; padding: 0 .6rem .8rem !important; overflow: hidden; page-break-inside: avoid;border-left: .2rem solid #007bff; border-radius: .1rem; box-shadow: 0 .2rem .5rem rgba(0,0,0,.05),0 0 .05rem rgba(0,0,0,.1); transition: color .25s,background-color .25s,border-color .25s;\">\n",
    "    <p style=\"background-color: #e7f2fa; position: relative; margin: 0 -.6rem !important; padding: .4rem .6rem .4rem 2rem; font-weight: 700;\">📝 Note</p>\n",
    "    <p style=\"padding: 0 1.4rem; margin-top: .4em; margin-bottom: 0; font-size: 1em;\">\n",
    "     Pour des données volumineuses, la différence entre les durées d’exécution de deux algorithmes ayant la même finalité, mais des complexités différentes peut être de l’ordre de plusieurs jours, voire même de plusieurs années !\n",
    "    </p>\n",
    "</div>"
   ]
  },
  {
   "cell_type": "markdown",
   "metadata": {
    "slideshow": {
     "slide_type": "slide"
    }
   },
   "source": [
    "Réaliser un calcul de complexité en temps revient à compter le nombre d’opérations élémentaires (affectation, calcul arithmétique ou logique, comparaison…) effectuées par l’algorithme.\n",
    "\n",
    "Puisqu’il s’agit seulement de comparer des algorithmes, les règles de ce calcul doivent être indépendantes :\n",
    "\n",
    "- du langage de programmation utilisé ;\n",
    "- du processeur de l’ordinateur sur lequel sera exécuté le code ;\n",
    "- de l’éventuel compilateur employé.\n"
   ]
  },
  {
   "cell_type": "markdown",
   "metadata": {
    "slideshow": {
     "slide_type": "subslide"
    }
   },
   "source": [
    "Par soucis de simplicité, on fera l’hypothèse que toutes les opérations élémentaires sont à égalité de coût, soit 1 « unité » de temps.\n",
    "\n",
    "> _Exemple : Pour a = b * 3 . On a 1 multiplication + 1 affectation = 2 « unités » de temps._"
   ]
  },
  {
   "cell_type": "markdown",
   "metadata": {
    "slideshow": {
     "slide_type": "subslide"
    }
   },
   "source": [
    "**La complexité en temps** d’un algorithme sera exprimé par une fonction, notée T (pour Time), qui dépend :\n",
    "\n",
    "- De la taille des données passées en paramètres : plus ces données seront volumineuses, plus il faudra d’opérations élémentaires pour les traiter. On notera **_n_** le nombre de données à traiter.\n",
    "\n",
    "\n",
    "- De la donnée en elle même et de la façon dont sont réparties les différentes valeurs qui la constituent."
   ]
  },
  {
   "cell_type": "markdown",
   "metadata": {
    "slideshow": {
     "slide_type": "subslide"
    }
   },
   "source": [
    "Par exemple, si on effectue une recherche séquentielle d’un élément dans une liste non triée, on parcourt un par un les éléments jusqu’à trouver, ou pas, celui recherché. \n",
    "\n",
    "Ce parcours peut s’arrêter dès le début si le premier élément est « le bon ». Mais on peut également être amené à parcourir la liste en entier si l’élément cherché est en dernière position, ou même n’y figure pas."
   ]
  },
  {
   "cell_type": "markdown",
   "metadata": {
    "slideshow": {
     "slide_type": "subslide"
    }
   },
   "source": [
    "Cette remarque nous conduit à préciser un peu notre définition de la complexité en temps. On peut en effet distinguer deux formes de complexité en temps :\n",
    "\n",
    "- **La complexité dans le meilleur des cas** : c’est la situation la plus favorable, _par exemple : recherche d’un élément situé à la première position d’une liste._\n",
    "\n",
    "- **La complexité dans le pire des cas** : c’est la situation la plus défavorable, _par exemple : recherche d’un élément dans une liste alors qu’il n’y figure pas._\n"
   ]
  },
  {
   "cell_type": "markdown",
   "metadata": {
    "slideshow": {
     "slide_type": "subslide"
    }
   },
   "source": [
    "<div style=\"border-color: #007bff; margin: 1.5625em auto; padding: 0 .6rem .8rem !important; overflow: hidden; page-break-inside: avoid;border-left: .2rem solid #007bff; border-radius: .1rem; box-shadow: 0 .2rem .5rem rgba(0,0,0,.05),0 0 .05rem rgba(0,0,0,.1); transition: color .25s,background-color .25s,border-color .25s;\">\n",
    "    <p style=\"background-color: #e7f2fa; position: relative; margin: 0 -.6rem !important; padding: .4rem .6rem .4rem 2rem; font-weight: 700;\">📝 Note</p>\n",
    "    <p style=\"padding: 0 1.4rem; margin-top: .4em; margin-bottom: 0; font-size: 1em;\">\n",
    "     On calculera le plus souvent la complexité dans le pire des cas, car elle est la plus pertinente. Il vaut mieux en effet toujours envisager le pire !\n",
    "    </p>\n",
    "</div>"
   ]
  },
  {
   "cell_type": "markdown",
   "metadata": {
    "slideshow": {
     "slide_type": "slide"
    }
   },
   "source": [
    "### Ordre de grandeur\n",
    "\n",
    "Pour comparer des algorithmes, il n’est pas nécessaire d’utiliser la fonction T, mais seulement l’ordre de grandeur asymptotique, noté $O$ (« grand O »).\n",
    "\n",
    "Une fonction $T(n)$ est en $O(f(n))$ (en grand O de f(n) ) si :\n",
    "\n",
    "\n",
    "$$\\exists n_0 \\in \\mathbb{N},\\exists c \\in \\mathbb{R}^{+},n \\ge n_{0} => |T(n)| \\le c|f(n)|$$"
   ]
  },
  {
   "cell_type": "markdown",
   "metadata": {
    "slideshow": {
     "slide_type": "slide"
    }
   },
   "source": [
    "<div style=\"border-color: #007bff; margin: 1.5625em auto; padding: 0 .6rem .8rem !important; overflow: hidden; page-break-inside: avoid;border-left: .2rem solid #007bff; border-radius: .1rem; box-shadow: 0 .2rem .5rem rgba(0,0,0,.05),0 0 .05rem rgba(0,0,0,.1); transition: color .25s,background-color .25s,border-color .25s;\">\n",
    "    <p style=\"background-color: #e7f2fa; position: relative; margin: 0 -.6rem !important; padding: .4rem .6rem .4rem 2rem; font-weight: 700;\">📝 Note</p>\n",
    "    <p style=\"padding: 0 1.4rem; margin-top: .4em; margin-bottom: 0; font-size: 1em;\">\n",
    "    <p>Autrement dit :</p>\n",
    "\n",
    "\n",
    "$T(n)$ est en $O(f(n))$ s’il existe un seuil $n_0$ à partir duquel la fonction $T$ est toujours dominée par la fonction $f$, à une constante multiplicative fixée c près.\n",
    "\n",
    "  \n",
    "</div>"
   ]
  },
  {
   "cell_type": "markdown",
   "metadata": {
    "slideshow": {
     "slide_type": "slide"
    }
   },
   "source": [
    "Considérons maintenant plusieurs expressions communes de $f(n)$ :\n",
    "\n",
    "- **Constant** : Pour un algorithme *en temps constant*, nous avons $t = O(1)$. Cela veut dire que le temps de calcul sera *indépendant* de la taille du problème $n$ ;\n",
    "\n",
    "- **Polynomial** : Pour un algorithme *en temps polynomial*, nous avons :\n",
    "\n",
    "$$\n",
    "t = O(n^k)\n",
    "$$\n",
    "\n",
    "où $k \\ge 1$ est une constante (pas nécéssairement entière)."
   ]
  },
  {
   "cell_type": "markdown",
   "metadata": {
    "slideshow": {
     "slide_type": "subslide"
    }
   },
   "source": [
    "Les cas usuels sont :\n",
    "\n",
    "- $O(n)$: Complexité linéaire ;\n",
    "- $O(n^2)$: Complexité quadratique ;\n",
    "- $O(n^3)$: Complexité cubique.\n",
    "\n",
    "\n",
    "- $O(\\log n)$: Complexité logarithmique ;\n",
    "- $O(n\\log n)$: Complexité quasi-linéaire ;\n",
    "- $O(c^{n})$, où $c \\ge 1$: Complexité exponentielle."
   ]
  },
  {
   "cell_type": "markdown",
   "metadata": {
    "slideshow": {
     "slide_type": "slide"
    }
   },
   "source": [
    "### Déterminer la complexité d'un algorithme\n",
    "\n",
    "Pour déterminer la complexité d'un algorithme, il suffit seulement de compter le nombre d'opérations effectuées par l'algorithme. \n",
    "\n",
    "import Par exemple, si l'on considère un tableau `x` de longueur $n$ que l'on multiplie par un réel $a$ :"
   ]
  },
  {
   "cell_type": "code",
   "execution_count": null,
   "metadata": {
    "slideshow": {
     "slide_type": "subslide"
    }
   },
   "outputs": [],
   "source": [
    "import numpy as np \n",
    "\n",
    "n = 100000\n",
    "x = np.random.rand(n)\n",
    "\n",
    "a = 10.0\n",
    "for i in range(n):\n",
    "    x[i] = a*x[i]"
   ]
  },
  {
   "cell_type": "markdown",
   "metadata": {
    "slideshow": {
     "slide_type": "subslide"
    }
   },
   "source": [
    "Le coût de l'opération ` x[i] = a*x[i]` est $O(1)$ pour chaque `i`, et cela est répété $n$ fois, donc au final le coût est $O(n)$."
   ]
  },
  {
   "cell_type": "markdown",
   "metadata": {
    "slideshow": {
     "slide_type": "slide"
    }
   },
   "source": [
    "## Exercices de TD\n",
    "\n",
    "Vous pouvez maintenant vous exercer à partir du notebook [TD 12 - Recherche dans une liste et complexité](../TD/TD%2012%20-%20Recherche%20dans%20une%20liste%20et%20complexité.ipynb)."
   ]
  }
 ],
 "metadata": {
  "celltoolbar": "Format de la Cellule Texte Brut",
  "kernelspec": {
   "display_name": "Python 3",
   "language": "python",
   "name": "python3"
  },
  "language_info": {
   "codemirror_mode": {
    "name": "ipython",
    "version": 3
   },
   "file_extension": ".py",
   "mimetype": "text/x-python",
   "name": "python",
   "nbconvert_exporter": "python",
   "pygments_lexer": "ipython3",
   "version": "3.7.4"
  },
  "latex_envs": {
   "LaTeX_envs_menu_present": true,
   "autoclose": false,
   "autocomplete": true,
   "bibliofile": "biblio.bib",
   "cite_by": "apalike",
   "current_citInitial": 1,
   "eqLabelWithNumbers": true,
   "eqNumInitial": 1,
   "hotkeys": {
    "equation": "Ctrl-E",
    "itemize": "Ctrl-I"
   },
   "labels_anchors": false,
   "latex_user_defs": false,
   "report_style_numbering": false,
   "user_envs_cfg": false
  },
  "varInspector": {
   "cols": {
    "lenName": 16,
    "lenType": 16,
    "lenVar": 40
   },
   "kernels_config": {
    "python": {
     "delete_cmd_postfix": "",
     "delete_cmd_prefix": "del ",
     "library": "var_list.py",
     "varRefreshCmd": "print(var_dic_list())"
    },
    "r": {
     "delete_cmd_postfix": ") ",
     "delete_cmd_prefix": "rm(",
     "library": "var_list.r",
     "varRefreshCmd": "cat(var_dic_list()) "
    }
   },
   "types_to_exclude": [
    "module",
    "function",
    "builtin_function_or_method",
    "instance",
    "_Feature"
   ],
   "window_display": false
  }
 },
 "nbformat": 4,
 "nbformat_minor": 4
}
