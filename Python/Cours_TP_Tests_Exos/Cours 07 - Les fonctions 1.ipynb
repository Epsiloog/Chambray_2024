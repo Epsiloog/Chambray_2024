{
 "cells": [
  {
   "cell_type": "markdown",
   "metadata": {
    "slideshow": {
     "slide_type": "slide"
    }
   },
   "source": [
    "***\n",
    "# IngeSUP - Cours 07 - Les fonctions 1\n",
    "***"
   ]
  },
  {
   "cell_type": "markdown",
   "metadata": {
    "slideshow": {
     "slide_type": "slide"
    }
   },
   "source": [
    "## Sommaire\n",
    "\n",
    "* <a href=\"#Objectifs\">Objectifs</a>\n",
    "* <a href=\"#Prérequis\">Prérequis</a>\n",
    "* <a href=\"#Définition\">Définition</a>\n",
    "* <a href=\"#creer-une-fonction-en-python\">Créer une fonction en Python</a>\n",
    "* <a href=\"#A-quoi-servent-les-fonctions-?\">A quoi servent les fonctions ?</a>\n",
    "* <a href=\"#En-savoir-plus-sur-les-fonctions\">En savoir plus sur les fonctions</a>\n",
    "* <a href=\"#Paramètres-et-arguments\">Paramètres et arguments</a>\n",
    "* <a href=\"#Conclusion\">Conclusion</a>"
   ]
  },
  {
   "cell_type": "markdown",
   "metadata": {
    "slideshow": {
     "slide_type": "slide"
    }
   },
   "source": [
    "## Objectifs\n",
    "* Connaître la définition d'une fonction en python ;\n",
    "* Connaître les notions de paramètres et de valeur de retour ;\n",
    "* Créer des  fonctions en python qui renvoient éventuellement une ou des valeurs ;\n",
    "* Connaître la différence entre print et return ;"
   ]
  },
  {
   "cell_type": "markdown",
   "metadata": {
    "slideshow": {
     "slide_type": "subslide"
    }
   },
   "source": [
    "* Savoir la différence entre une variable locale et une variable globale ;\n",
    "* Savoir transformer la résolution d'un problème simple en une fonction python ;\n",
    "* Etre capable d'appeler une fonction avec les paramètres adéquats pour récupérer un résultat ;\n",
    "* Stocker le résultat de l'appel d'une fonction dans une variable ;"
   ]
  },
  {
   "cell_type": "markdown",
   "metadata": {
    "slideshow": {
     "slide_type": "slide"
    }
   },
   "source": [
    "## Prérequis\n",
    "\n",
    "-  [Module 16 : Les fonctions en Python – Les bases](https://courses.ionisx.com/courses/ref/m184/x/courseware/533425cca7814a619f38de67bf5bb024/)"
   ]
  },
  {
   "cell_type": "markdown",
   "metadata": {
    "slideshow": {
     "slide_type": "slide"
    }
   },
   "source": [
    "## Définition\n",
    "\n",
    "Une fonction est un bloc de code. Son but est d'exécuter un traitement puis de \"rendre la main\". Elle peut recevoir des données à traiter : **les paramètres**. \n"
   ]
  },
  {
   "cell_type": "markdown",
   "metadata": {
    "slideshow": {
     "slide_type": "subslide"
    }
   },
   "source": [
    "A l'aide de ces paramètres, la fonction effectue une action et éventuellement elle renvoie un résultat, appelé valeur de sortie ou valeur retournée.\n",
    "\n",
    "Une fonction qui ne retourne pas de résultat est parfois appelée une **procédure**."
   ]
  },
  {
   "cell_type": "markdown",
   "metadata": {
    "slideshow": {
     "slide_type": "slide"
    }
   },
   "source": [
    "## Créer une fonction en python\n",
    "\n",
    "Une fonction est introduite par le mot-clé def, suivi du nom de la fonction, de ses paramètres qui sont mis entre parenthèses (s'il y'en a), de deux points, puis d'un bloc d'instructions qui est **indenté**.\n",
    "\n",
    "```python\n",
    "def ma_fonction( parametre1 , parametre2 ,...):\n",
    "    bloc instructions\n",
    "```\n",
    " "
   ]
  },
  {
   "cell_type": "markdown",
   "metadata": {
    "slideshow": {
     "slide_type": "subslide"
    }
   },
   "source": [
    "La première ligne définit la fonction avec les variables qui seront utilisées.\n",
    "\n",
    "Le bloc d'instructions s'appelle le **corps de la fonction**. Il doit être obligatoirement indenté, c'est-à-dire dire que l'on doit créer un décalage entre ce bloc et le mot-clé **def**."
   ]
  },
  {
   "cell_type": "markdown",
   "metadata": {
    "slideshow": {
     "slide_type": "subslide"
    }
   },
   "source": [
    "Une fonction peut effectuer un calcul et retourner une valeur à l'aide du mot-clé **return**. Lorsque **return** est utilisé il doit lui aussi être indenté comme le reste du bloc d'instruction.\n",
    "\n",
    "Toute instruction écrite après un **return** ne sera pas exécutée, on dit que **le return est débranchant**."
   ]
  },
  {
   "cell_type": "code",
   "execution_count": null,
   "metadata": {
    "slideshow": {
     "slide_type": "subslide"
    }
   },
   "outputs": [],
   "source": [
    "def moyenne(a,b):\n",
    "    m = (a+b)/2\n",
    "    return m\n",
    "A = moyenne(10, 6)\n",
    "print(A) \n",
    "\n",
    "# Exécutez le code ci-dessus. Que renvoie t-il ?"
   ]
  },
  {
   "cell_type": "markdown",
   "metadata": {
    "slideshow": {
     "slide_type": "fragment"
    }
   },
   "source": [
    "__Question 01__: Supposons qu'on veuille afficher `4.0` au lieu de `8.0` par le biais du code précédent. Par quoi remplacer les paramètres de la fonction `moyenne` ?"
   ]
  },
  {
   "cell_type": "markdown",
   "metadata": {
    "slideshow": {
     "slide_type": "slide"
    }
   },
   "source": [
    "## A quoi servent les fonctions ?\n",
    "\n",
    "Les avantages de la programmation utilisant des fonctions sont les suivants :\n"
   ]
  },
  {
   "cell_type": "markdown",
   "metadata": {
    "slideshow": {
     "slide_type": "subslide"
    }
   },
   "source": [
    "\n",
    "\n",
    "- On écrit le code d’une fonction une seule fois, mais on peut appeler la fonction plusieurs fois.\n"
   ]
  },
  {
   "cell_type": "markdown",
   "metadata": {
    "slideshow": {
     "slide_type": "subslide"
    }
   },
   "source": [
    "- En divisant notre programme en petits blocs ayant chacun leur utilité propre, le programme est plus facile à écrire, à lire, à corriger et à modifier."
   ]
  },
  {
   "cell_type": "markdown",
   "metadata": {
    "slideshow": {
     "slide_type": "subslide"
    }
   },
   "source": [
    "- On peut utiliser une fonction (écrite par quelqu’un d’autre, comme par exemple la fonction print() ) sans connaître tous les détails de son code et sans connaître tous les détails internes de sa programmation."
   ]
  },
  {
   "cell_type": "markdown",
   "metadata": {
    "slideshow": {
     "slide_type": "fragment"
    }
   },
   "source": [
    "**Les fonctions permettent de garder un code factorisé, structuré et modulaire**."
   ]
  },
  {
   "cell_type": "markdown",
   "metadata": {
    "slideshow": {
     "slide_type": "slide"
    }
   },
   "source": [
    "## En savoir plus sur les fonctions\n",
    "\n",
    "### print vs return\n",
    "\n",
    "L'instruction **print** renvoie un affichage, mais elle ne permet pas de récupérer le résultat d'une fonction. Pour récupérer le résultat d'une fonction depuis l'extérieur de cette fonction, il faut utiliser l'instruction **return**."
   ]
  },
  {
   "cell_type": "markdown",
   "metadata": {
    "slideshow": {
     "slide_type": "slide"
    }
   },
   "source": [
    "Cette instruction **return** (qui signifie retourne en anglais), retourne le résultat du calcul effectué au sein de la fonction."
   ]
  },
  {
   "cell_type": "markdown",
   "metadata": {
    "slideshow": {
     "slide_type": "subslide"
    }
   },
   "source": [
    "> Une erreur de débutant consiste à confondre les utilisations de `print` et `return` : \n",
    "Une fonction ne comportant qu’un print et pas de return ne fera qu’afficher un résultat à l’écran **mais ne renverra aucune valeur**."
   ]
  },
  {
   "cell_type": "code",
   "execution_count": null,
   "metadata": {
    "slideshow": {
     "slide_type": "slide"
    }
   },
   "outputs": [],
   "source": [
    "def bidon():\n",
    "    print(1)\n",
    "    return 2"
   ]
  },
  {
   "cell_type": "code",
   "execution_count": null,
   "metadata": {
    "slideshow": {
     "slide_type": "subslide"
    }
   },
   "outputs": [],
   "source": [
    "a = bidon()    # ça va quand même afficher un 1"
   ]
  },
  {
   "cell_type": "code",
   "execution_count": null,
   "metadata": {
    "slideshow": {
     "slide_type": "subslide"
    }
   },
   "outputs": [],
   "source": [
    "print(a)       # Mais la valeur renvoyée est complètement différente ! "
   ]
  },
  {
   "cell_type": "markdown",
   "metadata": {
    "slideshow": {
     "slide_type": "slide"
    }
   },
   "source": [
    "\n",
    "Une fois qu'on a défini une fonction, pour pouvoir l'utiliser il faudra l'appeler (ligne 4 du code sur la fonction `moyenne` précédent). Vous noterez aussi que la fonction `moyenne` possède comme paramètres deux variables `a` et `b`.\n"
   ]
  },
  {
   "cell_type": "markdown",
   "metadata": {
    "slideshow": {
     "slide_type": "slide"
    }
   },
   "source": [
    "```python\n",
    "def moyenne(a,b):\n",
    "    m = (a+b)/2\n",
    "    return m\n",
    "A = moyenne(10, 6)\n",
    "print(A)\n",
    "```"
   ]
  },
  {
   "cell_type": "markdown",
   "metadata": {},
   "source": [
    "<div style=\"border-color: #dc3545; margin: 1.5625em auto; padding: 0 .6rem .8rem !important; overflow: hidden; page-break-inside: avoid; border-left: .2rem solid #dc3545; border-radius: .1rem; box-shadow: 0 .2rem .5rem rgba(0,0,0,.05),0 0 .05rem rgba(0,0,0,.1); transition: color .25s,background-color .25s,border-color .25s;\">\n",
    "    <p style=\"background-color: #fdf3f2; position: relative; margin: 0 -.6rem !important; padding: .4rem .6rem .4rem 2rem; font-weight: 700;\">⚠️ Attention</p>\n",
    "    <p style=\"padding: 0 1.4rem; margin-top: .4em; margin-bottom: 0; font-size: 1em;\">Attention, n'utilisez pas <b>return</b> en dehors d'une fonction, sinon vous aurez inévitablement une erreur python.</p>\n",
    "    \n",
    "</div>"
   ]
  },
  {
   "cell_type": "markdown",
   "metadata": {
    "slideshow": {
     "slide_type": "slide"
    }
   },
   "source": [
    "### Que représentent les paramètres a et b ?\n",
    "\n",
    "Dans l'exemple précédent de la fonction `moyenne`, les variables `a` et `b` représentent **toute paire de valeurs choisies par l'utilisateur dont on veut connaître la moyenne**."
   ]
  },
  {
   "cell_type": "markdown",
   "metadata": {
    "slideshow": {
     "slide_type": "slide"
    }
   },
   "source": [
    "L'analogie peut être faîte avec une fonction mathématique. Par exemple, soit la fonction mathématique suivante :\n",
    "\n",
    "<p><center><i>f(x) = x + 2</i></center><p>\n"
   ]
  },
  {
   "cell_type": "markdown",
   "metadata": {
    "slideshow": {
     "slide_type": "fragment"
    }
   },
   "source": [
    "Ici, que représente x ? "
   ]
  },
  {
   "cell_type": "markdown",
   "metadata": {
    "slideshow": {
     "slide_type": "subslide"
    }
   },
   "source": [
    "La variable `x` peut prendre n'importe qu'elle valeur réelle dont on veut calculer le résultat par le biais de la fonction `f`."
   ]
  },
  {
   "cell_type": "markdown",
   "metadata": {
    "slideshow": {
     "slide_type": "subslide"
    }
   },
   "source": [
    "\n",
    "En python c'est pareil. Dans la fonction `moyenne` codée précédemment, les variables `a` et `b` représentent les réels (ou entiers) dont on veut calculer la moyenne. C'est lors de l'appel de la fonction que l'utilisateur choisira quels nombres il veut utiliser."
   ]
  },
  {
   "cell_type": "markdown",
   "metadata": {
    "slideshow": {
     "slide_type": "subslide"
    }
   },
   "source": [
    "Par exemple :\n",
    "\n",
    "- _moyenne(5,2)_ pour calculer la moyenne entre 5 et 2\n",
    "- _moyenne(4,10)_ pour calculer la moyenne entre 4 et 10"
   ]
  },
  {
   "cell_type": "markdown",
   "metadata": {
    "slideshow": {
     "slide_type": "slide"
    }
   },
   "source": [
    "### Exemple 1"
   ]
  },
  {
   "cell_type": "code",
   "execution_count": null,
   "metadata": {
    "slideshow": {
     "slide_type": "fragment"
    }
   },
   "outputs": [],
   "source": [
    "# On considère le programme suivant\n",
    "\n",
    "def affiche_mois(numero):\n",
    "    if numero == 1:\n",
    "        print(\"Nous sommes en janvier.\")\n",
    "    if numero == 2:\n",
    "        print(\"Nous sommes en février.\")\n",
    "    if numero == 3:\n",
    "        print(\"Nous sommes en mars.\")\n"
   ]
  },
  {
   "cell_type": "markdown",
   "metadata": {
    "slideshow": {
     "slide_type": "subslide"
    }
   },
   "source": [
    "Lorsqu’elle est appelée la fonction ci-dessus va afficher le nom du mois, en fonction du nombre fourni en entrée. Par exemple `affiche_mois(3)` va afficher \"Nous sommes en mars.\"."
   ]
  },
  {
   "cell_type": "markdown",
   "metadata": {
    "slideshow": {
     "slide_type": "subslide"
    }
   },
   "source": [
    "__Question 02__: Complétez le programme `affiche_mois` pour qu'il couvre tous les mois de l'année."
   ]
  },
  {
   "cell_type": "markdown",
   "metadata": {
    "slideshow": {
     "slide_type": "subslide"
    }
   },
   "source": [
    "__Question 03__: Avec quel paramètre appeler la fonction `affiche_mois` pour qu'elle affiche la phrase : \"Nous sommes en Avril\" ? \n",
    "\n",
    "Modifiez la cellule précédente en conséquence et observez le résultat."
   ]
  },
  {
   "cell_type": "markdown",
   "metadata": {
    "slideshow": {
     "slide_type": "slide"
    }
   },
   "source": [
    "### Exemple 2"
   ]
  },
  {
   "cell_type": "code",
   "execution_count": null,
   "metadata": {
    "slideshow": {
     "slide_type": "fragment"
    }
   },
   "outputs": [],
   "source": [
    "# On considère le programme suivant\n",
    "\n",
    "def calcule_cube(a):\n",
    "   cube = a * a * a # ou bien cube = a**3\n",
    "   return cube\n"
   ]
  },
  {
   "cell_type": "markdown",
   "metadata": {
    "slideshow": {
     "slide_type": "slide"
    }
   },
   "source": [
    "Cette fonction calcule le cube d’un nombre, par exemple `calcule_cube(2)` n’affiche rien mais renvoie la valeur 8. \n",
    "\n",
    "Cette valeur peut être utilisée ailleurs dans le programme ou stockée dans une variable. "
   ]
  },
  {
   "cell_type": "markdown",
   "metadata": {
    "slideshow": {
     "slide_type": "subslide"
    }
   },
   "source": [
    "Par exemple, en utilisant les instructions suivantes :"
   ]
  },
  {
   "cell_type": "code",
   "execution_count": null,
   "metadata": {
    "slideshow": {
     "slide_type": "fragment"
    }
   },
   "outputs": [],
   "source": [
    "x = 3\n",
    "y = 4\n",
    "z = calcule_cube(x) + calcule_cube(y)\n",
    "print(z)"
   ]
  },
  {
   "cell_type": "markdown",
   "metadata": {
    "slideshow": {
     "slide_type": "slide"
    }
   },
   "source": [
    "<div style=\"border-color: #007bff; margin: 1.5625em auto; padding: 0 .6rem .8rem !important; overflow: hidden; page-break-inside: avoid;border-left: .2rem solid #007bff; border-radius: .1rem; box-shadow: 0 .2rem .5rem rgba(0,0,0,.05),0 0 .05rem rgba(0,0,0,.1); transition: color .25s,background-color .25s,border-color .25s;\">\n",
    "    <p style=\"background-color: #e7f2fa; position: relative; margin: 0 -.6rem !important; padding: .4rem .6rem .4rem 2rem; font-weight: 700;\">📝 Note</p>\n",
    "    <p style=\"padding: 0 1.4rem; margin-top: .4em; margin-bottom: 0; font-size: 1em;\">\n",
    "     En terme mathématiques ces instructions reviennent à poser x = 3, y = 4,  à calculer le cube de x, le cube de y et à les additionner :\n",
    "\n",
    "<var>z<var> = <var>x<sup>3</sup></var> + <var>y<sup>3</sup></var> = <var>3<sup>3</sup></var> + <var>4<sup>3</sup></var> = 27 + 64 = 91\n",
    "\n",
    "Ainsi le programme affiche 91.\n",
    "\n",
    "<b>Remarque</b>: Ici on observe toute la différence qui existe en <b>print</b> et <b>return</b>. \n",
    "    </p>\n",
    "</div>"
   ]
  },
  {
   "cell_type": "markdown",
   "metadata": {
    "slideshow": {
     "slide_type": "slide"
    }
   },
   "source": [
    "C'est grâce à return qu'on peut récupérer le résultat du calcul de `calcule_cube` pour le stocker dans une variable (ici `z`). Ici **print** se contente d'afficher la valeur finale."
   ]
  },
  {
   "cell_type": "markdown",
   "metadata": {
    "slideshow": {
     "slide_type": "slide"
    }
   },
   "source": [
    "### Retourner plusieurs valeurs\n",
    "\n",
    "Une fonction peut ne pas retourner de valeur du tout (dans ce cas on dit que c'est une procédure). Une fonction peut aussi retourner plusieurs valeurs en même temps. \n",
    "\n",
    "**Dans ce cas on les sépare par une virgule et éventuellement on les entoure par une parenthèse.**"
   ]
  },
  {
   "cell_type": "code",
   "execution_count": null,
   "metadata": {
    "slideshow": {
     "slide_type": "slide"
    }
   },
   "outputs": [],
   "source": [
    "def euclide(a, b):\n",
    "    return (a/b, a%b)    # On retourne deux valeurs en même temps ici\n",
    "\n",
    "euclide(17,3)"
   ]
  },
  {
   "cell_type": "markdown",
   "metadata": {
    "slideshow": {
     "slide_type": "slide"
    }
   },
   "source": [
    "<div style=\"border-color: rgba(40, 167, 70, 0.294); margin: 1.5625em auto; padding: 0 .6rem .8rem !important; overflow: hidden; page-break-inside: avoid; border-left: .2rem solid rgba(40, 167, 70, 0.294); border-radius: .1rem; box-shadow: 0 .2rem .5rem rgba(0,0,0,.05),0 0 .05rem rgba(0,0,0,.1); transition: color .25s,background-color .25s,border-color .25s;\">\n",
    "    <p style=\"background-color: rgba(40,167,70,0.1); position: relative; margin: 0 -.6rem !important; padding: .4rem .6rem .4rem 2rem; font-weight: 700;\">💡 Information</p>\n",
    "    <p style=\"padding: 0 1.4rem; margin-top: .4em; margin-bottom: 0; font-size: 1em;\">Lorsque plusieurs valeurs sont organisées ainsi (séparées par des virgules et éventuellement entourées de parenthèses), on dit qu'elles constituent un <b>tuple</b>.</p>\n",
    "</div>"
   ]
  },
  {
   "cell_type": "markdown",
   "metadata": {
    "slideshow": {
     "slide_type": "slide"
    }
   },
   "source": [
    "### Ne retourner aucune valeur\n",
    "\n",
    "Une fonction peut ne pas contenir d’instruction `return` ou peut ne renvoyer aucune valeur. En fait, si on ne renvoie pas explicitement de valeur, Python renverra par défaut la valeur particulière **None**."
   ]
  },
  {
   "cell_type": "code",
   "execution_count": null,
   "metadata": {
    "slideshow": {
     "slide_type": "slide"
    }
   },
   "outputs": [],
   "source": [
    "def f(x):\n",
    "    x**2\n",
    "\n",
    "print(f(2))"
   ]
  },
  {
   "cell_type": "markdown",
   "metadata": {
    "slideshow": {
     "slide_type": "slide"
    }
   },
   "source": [
    "## Paramètres et arguments\n",
    "\n",
    "Une fonction peut avoir zéro, un ou plusieurs paramètres"
   ]
  },
  {
   "cell_type": "markdown",
   "metadata": {
    "slideshow": {
     "slide_type": "subslide"
    }
   },
   "source": [
    "> Bien que les termes **_paramètres_** et **_arguments_** soient souvent confondus, il existe une nuance dont nous tiendrons compte dans ce cours : les paramètres sont les noms intervenant dans l’en-tête de la fonction tandis que les arguments sont les valeurs passées à la fonction lors de son appel."
   ]
  },
  {
   "cell_type": "markdown",
   "metadata": {
    "slideshow": {
     "slide_type": "subslide"
    }
   },
   "source": [
    "```python\n",
    "def add(a, b):      # Les paramètres sont a et b\n",
    "    return a + b\n",
    "\n",
    "add(5, 10)          # Les arguments sont 5 et 10\n",
    "```"
   ]
  },
  {
   "cell_type": "markdown",
   "metadata": {
    "slideshow": {
     "slide_type": "slide"
    }
   },
   "source": [
    "On peut passer des arguments à une fonction en utilisant les noms des paramètres, ce qui rend le code encore plus explicite. Dans ce cas là on dit que les **arguments sont nommés**.\n",
    "\n"
   ]
  },
  {
   "cell_type": "code",
   "execution_count": null,
   "metadata": {
    "slideshow": {
     "slide_type": "subslide"
    }
   },
   "outputs": [],
   "source": [
    "def nom_complet(prenom, nom):\n",
    "    return prenom + ' ' + nom\n",
    "\n",
    "nom_complet(prenom='James', nom='Bond')"
   ]
  },
  {
   "cell_type": "markdown",
   "metadata": {
    "slideshow": {
     "slide_type": "subslide"
    }
   },
   "source": [
    "L’emploi **d'arguments nommés** permet de passer les arguments d'une fonction dans le désordre."
   ]
  },
  {
   "cell_type": "code",
   "execution_count": null,
   "metadata": {
    "slideshow": {
     "slide_type": "subslide"
    }
   },
   "outputs": [],
   "source": [
    "nom_complet(nom='Proust', prenom='Marcel')"
   ]
  },
  {
   "cell_type": "markdown",
   "metadata": {
    "slideshow": {
     "slide_type": "slide"
    }
   },
   "source": [
    "Il est possible de donner des **paramètres par défaut** lorsque l'on crée une fonction : les arguments correspondants ne sont donc plus obligatoires lors de l’appel de la fonction. Ils se remplissent \"automatiquement\"."
   ]
  },
  {
   "cell_type": "code",
   "execution_count": null,
   "metadata": {
    "slideshow": {
     "slide_type": "slide"
    }
   },
   "outputs": [],
   "source": [
    "def nom_complet(prenom='John', nom='Doe'):    # Le nom par défaut est John Doe\n",
    "    return prenom + ' ' + nom\n",
    "\n",
    "print(nom_complet())    # Aucun paramètre donc nom et prenom par défaut\n",
    "print(nom_complet('Ulysse'))    # Le prenom est donné, seul le nom sera par défaut\n",
    "print(nom_complet(nom='Machin'))    # Le nom est spécifié, seul le prénom sera par défaut"
   ]
  },
  {
   "cell_type": "markdown",
   "metadata": {
    "slideshow": {
     "slide_type": "slide"
    }
   },
   "source": [
    "Dans l’en-tête d’une fonction, on met les paramètres obligatoires d'abord et les paramètres par défaut ensuite. \n",
    "\n",
    "> **Les paramètres avec des valeurs par défaut doivent toujours suivre les paramètres sans valeurs par défaut** sous peine de déclencher une erreur de syntaxe."
   ]
  },
  {
   "cell_type": "markdown",
   "metadata": {
    "slideshow": {
     "slide_type": "subslide"
    }
   },
   "source": [
    "Exemple :"
   ]
  },
  {
   "cell_type": "markdown",
   "metadata": {
    "slideshow": {
     "slide_type": "fragment"
    }
   },
   "source": [
    "```\n",
    "In [33]: def toto(a=1, b, c=2):\n",
    "   ....:     print(\"ha ha ha\")\n",
    "   ....: \n",
    "  File \"<ipython-input-33-ff9b54c14016>\", line 1\n",
    "    def toto(a=1, b, c=2):\n",
    "            ^\n",
    "SyntaxError: non-default argument follows default argument\n",
    "```"
   ]
  },
  {
   "cell_type": "markdown",
   "metadata": {
    "slideshow": {
     "slide_type": "slide"
    }
   },
   "source": [
    "## Conclusion\n",
    "\n",
    "Les fonctions informatiques acquièrent tout leur potentiel avec :\n",
    "\n",
    " - une entrée, qui regroupe des variables qui servent de paramètres,\n",
    " - une sortie (optionnelle), qui est un résultat éventuellement renvoyé par la fonction (et qui souvent dépendra des paramètres d’entrée).\n"
   ]
  },
  {
   "cell_type": "markdown",
   "metadata": {
    "slideshow": {
     "slide_type": "subslide"
    }
   },
   "source": [
    "Voici la définition d'une fonction qui calcule la somme de 3 valeurs :"
   ]
  },
  {
   "cell_type": "code",
   "execution_count": null,
   "metadata": {
    "slideshow": {
     "slide_type": "subslide"
    }
   },
   "outputs": [],
   "source": [
    "def add(a, b, c):\n",
    "    return a + b + c"
   ]
  },
  {
   "cell_type": "markdown",
   "metadata": {
    "slideshow": {
     "slide_type": "subslide"
    }
   },
   "source": [
    "On retrouve: \n",
    "\n",
    "- Le mot-clé **def**, suivi du nom de la fonction et de ses paramètres suivis de '**:**'.\n",
    "\n",
    "- Le code de la fonction **indenté**.\n",
    "\n",
    "- **return**, suivi de la valeur à retourner : toute instruction placée après ne sera pas exécutée."
   ]
  },
  {
   "cell_type": "markdown",
   "metadata": {
    "slideshow": {
     "slide_type": "slide"
    }
   },
   "source": [
    "Une fois la fonction définie il suffit de l'appeler avec les paramètres de notre choix :"
   ]
  },
  {
   "cell_type": "code",
   "execution_count": null,
   "metadata": {
    "slideshow": {
     "slide_type": "subslide"
    }
   },
   "outputs": [],
   "source": [
    "# Exemple 1 - simple\n",
    "print(add(1,2,4))\n",
    "\n",
    "# Exemple 2 - plus compliqué, avec des variables intermédiaires\n",
    "a = 8\n",
    "b = add(a, 10, 3)\n",
    "print(add(5, a*2, b))"
   ]
  },
  {
   "cell_type": "markdown",
   "metadata": {
    "slideshow": {
     "slide_type": "slide"
    }
   },
   "source": [
    "## Exercices de TD\n",
    "\n",
    "Vous pouvez maintenant vous exercer à partir du notebook [TD 07 - Les fonctions 1](../TD/TD%2007%20-%20Les%20fonctions%201.ipynb)"
   ]
  }
 ],
 "metadata": {
  "celltoolbar": "Format de la Cellule Texte Brut",
  "kernelspec": {
   "display_name": "Python 3",
   "language": "python",
   "name": "python3"
  },
  "language_info": {
   "codemirror_mode": {
    "name": "ipython",
    "version": 3
   },
   "file_extension": ".py",
   "mimetype": "text/x-python",
   "name": "python",
   "nbconvert_exporter": "python",
   "pygments_lexer": "ipython3",
   "version": "3.7.4"
  },
  "latex_envs": {
   "LaTeX_envs_menu_present": true,
   "autoclose": false,
   "autocomplete": true,
   "bibliofile": "biblio.bib",
   "cite_by": "apalike",
   "current_citInitial": 1,
   "eqLabelWithNumbers": true,
   "eqNumInitial": 1,
   "hotkeys": {
    "equation": "Ctrl-E",
    "itemize": "Ctrl-I"
   },
   "labels_anchors": false,
   "latex_user_defs": false,
   "report_style_numbering": false,
   "user_envs_cfg": false
  },
  "varInspector": {
   "cols": {
    "lenName": 16,
    "lenType": 16,
    "lenVar": 40
   },
   "kernels_config": {
    "python": {
     "delete_cmd_postfix": "",
     "delete_cmd_prefix": "del ",
     "library": "var_list.py",
     "varRefreshCmd": "print(var_dic_list())"
    },
    "r": {
     "delete_cmd_postfix": ") ",
     "delete_cmd_prefix": "rm(",
     "library": "var_list.r",
     "varRefreshCmd": "cat(var_dic_list()) "
    }
   },
   "types_to_exclude": [
    "module",
    "function",
    "builtin_function_or_method",
    "instance",
    "_Feature"
   ],
   "window_display": false
  }
 },
 "nbformat": 4,
 "nbformat_minor": 4
}
