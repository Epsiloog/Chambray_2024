{
 "cells": [
  {
   "cell_type": "markdown",
   "metadata": {},
   "source": [
    "<div class=\"alert alert-block alert-info\" style='color:white; background-color:#000000; border-color: black; '>\n",
    "    <hr><h1>Partiel - SUP 2020 - 22 janvier 2021</h1><hr>\n",
    "    <br>\n",
    "</div>"
   ]
  },
  {
   "cell_type": "markdown",
   "metadata": {},
   "source": [
    "*Entrez votre NOM et Prénom ici*"
   ]
  },
  {
   "cell_type": "markdown",
   "metadata": {},
   "source": [
    "<div class=\"alert alert-block alert-info\" style='color:white; background-color:#000000; border-color: black; '>\n",
    "    <hr><h2>Consignes : </h2>\n",
    "    <ul>\n",
    "        <li>Vous disposez de 2 heures pour réaliser ce sujet ;</li>\n",
    "        <li>Les  exercices suivants sont indépendants :</li>\n",
    "        <ul>\n",
    "            <li><a href=\"#Questions-de-cours\" style=\"color:#00FF44\">Question de cours (3 points)</a></li>\n",
    "            <li><a href=\"#Exercice-01---I/O-utilisateur\" style=\"color:#00FF44\">Exercice 01 - I/O utilisateur (3 points)</a></li>\n",
    "            <li><a href=\"#Exercice-02---Les-nombres-premiers-circulaires\" style=\"color:#00FF44\">Exercice 02 - Les nombres premiers circulaires (4 points)</a></li> \n",
    "            <li><a href=\"#Exercice-03---Manipulations-de-listes\" style=\"color:#00FF44\">Exercice 03 - Manipulations de listes (4 points)</a></li>\n",
    "            <li><a href=\"#Exercice-04---Les nombres heureux\" style=\"color:#00FF44\">Exercice 04 - Les nombres heureux (6 points)</a></li>     \n",
    "        </ul><br>\n",
    "        <li>Sauvegardez régulièrement votre travail ;</li>\n",
    "        <li>Le barême est donné à titre indicatif ;</li>\n",
    "        <li>A la fin de l'examen, envoyez votre notebook à partir du lien fourni par votre enseignant.</li><br>\n",
    "    </ul>\n",
    "    <hr><h2>Questions de cours</h2><hr>    \n",
    "    <ol>\n",
    "        <li>Citez trois structures algorithmiques abordées en cours.\n",
    "       </li>\n",
    "    </ol>\n",
    "</div>"
   ]
  },
  {
   "cell_type": "markdown",
   "metadata": {},
   "source": [
    "*Entrez votre réponse ici*"
   ]
  },
  {
   "cell_type": "markdown",
   "metadata": {},
   "source": [
    "<div class=\"alert alert-block alert-info\" style='color:white; background-color:#000000; border-color: black; '>  \n",
    "<font></font>\n",
    "    <ol start=\"2\">\n",
    "        <li>Quelles sont les conditions nécessaires au bon fonctionnement d'implémentation récurssive ?</li>\n",
    "    </ol>\n",
    "</div>"
   ]
  },
  {
   "cell_type": "markdown",
   "metadata": {},
   "source": [
    "*Entrez votre réponse ici*"
   ]
  },
  {
   "cell_type": "markdown",
   "metadata": {},
   "source": [
    "<div class=\"alert alert-block alert-info\" style='color:white; background-color:#000000; border-color: black; '>\n",
    "<font></font>\n",
    "    <ol start=\"3\">\n",
    "        <li>Quelle est la différence entre une liste et un tuple ?</li>\n",
    "    </ol>\n",
    "</div>"
   ]
  },
  {
   "cell_type": "markdown",
   "metadata": {},
   "source": [
    "*Entrez votre réponse ici*"
   ]
  },
  {
   "cell_type": "markdown",
   "metadata": {},
   "source": [
    "<div class=\"alert alert-block alert-info\" style='color:white; background-color:#000000; border-color: black; '>\n",
    "    <h2><hr>Exercice 01 - I/O utilisateur</h2><hr>\n",
    "    \n",
    "<font></font>\n",
    "    <ol>\n",
    "        <li>Écrivez un algorithme qui affiche la table de multiplication d'un chiffre saisi par l'utilisateur.\n",
    "    </ol>\n",
    "Exemple d'appel si l'utilisateur tape 3 :\n",
    "```python\n",
    ">>> 1 x 3 = 3\n",
    "    2 x 3 = 6\n",
    "    3 x 3 = 9\n",
    "    4 x 3 = 12\n",
    "    5 x 3 = 15\n",
    "    6 x 3 = 18\n",
    "    7 x 3 = 21\n",
    "    8 x 3 = 24\n",
    "    9 x 3 = 27\n",
    "```\n",
    "</div>"
   ]
  },
  {
   "cell_type": "code",
   "execution_count": 3,
   "metadata": {},
   "outputs": [],
   "source": [
    "# VOTRE CO\n",
    "\n",
    "\n",
    "\n",
    "\n",
    "\n",
    "\n",
    "\n",
    "\n",
    "\n",
    "\n",
    "\n",
    "\n",
    "\n",
    "\n",
    "\n",
    "DE ICI"
   ]
  },
  {
   "cell_type": "markdown",
   "metadata": {},
   "source": [
    "<div class=\"alert alert-block alert-info\" style='color:white; background-color:#000000; border-color: black; '>\n",
    "    \n",
    "<font></font>\n",
    "    <ol start=\"2\">\n",
    "        <li>Modifiez le programme pour qu'il vérifie que le nombre saisi au clavier est bien un chiffre compris entre 1 et 9\n",
    "et qu'il demande à resaisir un nombre tant que celui-ci n'est pas compris entre 1 et 9. </li>\n",
    "    </ol>\n",
    "</div>"
   ]
  },
  {
   "cell_type": "code",
   "execution_count": 2,
   "metadata": {},
   "outputs": [],
   "source": [
    "# VOTRE CODE ICI"
   ]
  },
  {
   "cell_type": "markdown",
   "metadata": {},
   "source": [
    "<div class=\"alert alert-block alert-info\" style='color:white; background-color:#000000; border-color: black; '>\n",
    "    <h2><hr>Exercice 02 - Les nombres premiers</h2><hr>\n",
    "    \n",
    "> **Rappel:**\n",
    "Un nombre est dit premier s'il possède exactement 2 diviseurs qui sont 1 et lui même. Ainsi 2, 3 ,5 ,7, 11 sont des nombres premiers mais 4, 6, 9 n'en sont pas.\n",
    "    \n",
    "<font></font>\n",
    "    <ol>\n",
    "        <li>Écrivez une fonction `est_premier()` prenant en paramètre un entier `N` et renvoyant un booléen `True` si le nombre est premier ou `False` le cas échéant.\n",
    "    </ol>\n",
    "Exemple d'appel :\n",
    "```python\n",
    "est_premier(2)\n",
    ">>> True\n",
    "```\n",
    "</div>"
   ]
  },
  {
   "cell_type": "code",
   "execution_count": 4,
   "metadata": {},
   "outputs": [],
   "source": [
    "# VOTRE CODE ICI"
   ]
  },
  {
   "cell_type": "markdown",
   "metadata": {},
   "source": [
    "<div class=\"alert alert-block alert-info\" style='color:white; background-color:#000000; border-color: black; '>\n",
    "    \n",
    "<font></font>    \n",
    "    <ol start=\"2\">\n",
    "        <li>Écrivez une fonction `liste_premier()` prenant en paramètre deux entiers `a` et `b` et renvoyant l'ensemble desz nombres premiers contenus dans l'intervalle [a,b] sous forme de liste.</li>\n",
    "    </ol>\n",
    "Exemple d'appel :\n",
    "```python\n",
    "liste_premier(10,20)\n",
    ">>> [11, 13, 17, 19]\n",
    "```\n",
    "</div>"
   ]
  },
  {
   "cell_type": "code",
   "execution_count": 5,
   "metadata": {},
   "outputs": [],
   "source": [
    "# VOTRE CODE ICI"
   ]
  },
  {
   "cell_type": "markdown",
   "metadata": {},
   "source": [
    "<div class=\"alert alert-block alert-info\" style='color:white; background-color:#000000; border-color: black; '>\n",
    "    \n",
    "Un nombre premier `N` est dit circulaire s’il vérifie la propriété suivante : chacune des rotations de ses chiffres d’un élément vers la droite, forme à son tour un nombre premier.\n",
    "    \n",
    "Exemple :\n",
    "- `N=719` est un nombre premier circulaire car 719, 971 et 197 sont des nombres premiers avec : 971 est le nombre obtenu après une rotation des chiffres de 719 d’un élément vers la droite. 197 est le nombre obtenu après une rotation des chiffres de 971 d’un élément vers la droite\n",
    "- `N=23` n’est pas un nombre premier circulaire car il est premier mais 32 ne l’est pas.\n",
    "- `N=6102` n’est pas un nombre premier circulaire car il n’est pas premier.   \n",
    "\n",
    "<font></font>\n",
    "    <ol start=\"3\">\n",
    "        <li>Écrivez une fonction `est_premier_circulaire()` prenant en paramètre un entier `N` et renvoyant un booléen `True` si le nombre est premier circulaire ou `False` le cas échéant.</li>\n",
    "    </ol>\n",
    "</div>"
   ]
  },
  {
   "cell_type": "code",
   "execution_count": 6,
   "metadata": {},
   "outputs": [],
   "source": [
    "# VOTRE CODE ICI"
   ]
  },
  {
   "cell_type": "markdown",
   "metadata": {},
   "source": [
    "<div class=\"alert alert-block alert-info\" style='color:white; background-color:#000000; border-color: black; '>\n",
    "    <h2><hr>Exercice 03 - Manipulations de listes</h2><hr>\n",
    "    \n",
    "<font></font>\n",
    "    <ol>\n",
    "        <li>Écrivez une fonction `elimine_doubon()` qui supprime les doublons d'une liste `L` passée en paramètre. Cette fonction retourne elle-même une liste.\n",
    "    </ol>\n",
    "Exemple d'appel :\n",
    "```python\n",
    "elimine_doublon([1,2,2,1,2,1])\n",
    ">>> [1,2]\n",
    "```\n",
    "</div>"
   ]
  },
  {
   "cell_type": "code",
   "execution_count": 7,
   "metadata": {},
   "outputs": [],
   "source": [
    "# VOTRE CODE ICI"
   ]
  },
  {
   "cell_type": "markdown",
   "metadata": {},
   "source": [
    "<div class=\"alert alert-block alert-info\" style='color:white; background-color:#000000; border-color: black; '>\n",
    "    \n",
    "<font></font>\n",
    "    <ol start=\"2\">\n",
    "        <li>Écrivez une fonction `elimine_choice()` qui prend en paramètres une liste `L` et un booléen et qui renvoie une liste contenant les valeurs paires si le booléen est égale à `True` ou les valeurs impaires si le booléen est égal à `False`. </li>\n",
    "    </ol>\n",
    "    \n",
    "Exemple d'appel :\n",
    "```python\n",
    "elimine_choice([1,2,3,4,5,6],True)\n",
    ">>> [2,4,6]\n",
    "elimine_choice([1,2,3,4,5,6],False)\n",
    ">>> [1,3,5]\n",
    "```\n",
    "</div>"
   ]
  },
  {
   "cell_type": "code",
   "execution_count": 8,
   "metadata": {},
   "outputs": [],
   "source": [
    "# VOTRE CODE ICI"
   ]
  },
  {
   "cell_type": "markdown",
   "metadata": {},
   "source": [
    "<div class=\"alert alert-block alert-info\" style='color:white; background-color:#000000; border-color: black; '>\n",
    "    <h2><hr>Exercice 04 - Le poids des mots</h2><hr>\n",
    "\n",
    "<b><u>Attention :</b></u> Dans le cadre de cet exercice, nous ne traiterons que des **chaines de caractères** composées de **miniscules**.\n",
    "    \n",
    "<font></font>\n",
    "    <ol>\n",
    "        <li>Écrivez une fonction `nbr_voyelle()` qui compte le nombre de voyelles d'une chaine de caractère `chaine` passée en paramètre.\n",
    "    </ol>\n",
    "Exemple d'appel :\n",
    "```python\n",
    "nbr_voyelle(\"esme sudria\")\n",
    ">>> 5\n",
    "```\n",
    "</div>"
   ]
  },
  {
   "cell_type": "code",
   "execution_count": 9,
   "metadata": {},
   "outputs": [],
   "source": [
    "# VOTRE CODE ICI"
   ]
  },
  {
   "cell_type": "markdown",
   "metadata": {},
   "source": [
    "<div class=\"alert alert-block alert-info\" style='color:white; background-color:#000000; border-color: black; '>\n",
    "    \n",
    "<font></font>\n",
    "    <ol start=\"2\">\n",
    "        <li>Écrivez une fonction `inter_voyelle()` qui prend en paramètres une chaine de caractère `chaine`, deux caractères `a` et `b` qui remplace les voyelles `a` (si elles existent) par les voyelles `b` dans `chaine`. </li>\n",
    "    </ol>\n",
    "    \n",
    "Exemple d'appel :\n",
    "```python\n",
    "inter_voyelle(\"esme sudria\",\"e\",\"i\")\n",
    ">>> ismi sudria\n",
    "```\n",
    "</div>"
   ]
  },
  {
   "cell_type": "code",
   "execution_count": 10,
   "metadata": {},
   "outputs": [],
   "source": [
    "# VOTRE CODE ICI"
   ]
  },
  {
   "cell_type": "markdown",
   "metadata": {},
   "source": [
    "<div class=\"alert alert-block alert-info\" style='color:white; background-color:#000000; border-color: black; '>\n",
    "On définit le poids d’une chaine comme étant la somme des produits de la position de chaque voyelle dans cette chaine par son rang dans l’alphabet français. Si la chaine ne contient pas de voyelles alors son poids est égal à zéro.\n",
    "\n",
    "**N.B:** les voyelles sont a, e, i, o, u, y et leurs rangs respectifs sont : 1, 5, 9, 15, 21, 25.\n",
    "    \n",
    "> **Aide:**\n",
    "Appliquée à une chaine de caractères, la fonction `.find()` renvoie l'indice du caractère passé en argument.\n",
    "Exemple d'appel :\n",
    "```python\n",
    "exemple=\"abc\"\n",
    "exemple.find(\"b\")\n",
    ">>> 1\n",
    "```\n",
    "    \n",
    "<font></font>\n",
    "    <ol start=\"3\">\n",
    "        <li>Écrivez une fonction `poids()` qui prend en paramètre une chaine de carctères `chaine` et qui calcule et retourne le poids de cette chaine. </li>\n",
    "    </ol>\n",
    "    \n",
    "Exemple d'appel :\n",
    "```python\n",
    "poids(\"esme sudria\")\n",
    ">>> 273\n",
    "```\n",
    "</div>"
   ]
  },
  {
   "cell_type": "code",
   "execution_count": 11,
   "metadata": {},
   "outputs": [],
   "source": [
    "# VOTRE CODE ICI"
   ]
  },
  {
   "cell_type": "markdown",
   "metadata": {},
   "source": [
    "<div class=\"alert alert-block alert-info\" style='color:white; background-color:#000000; border-color: black; '><hr>\n",
    "<center><b>Une fois l'épreuve terminée, sauvegardez une dernière fois votre notebook puis uploadez le à partir du lien fourni par votre enseignant</center></b>"
   ]
  }
 ],
 "metadata": {
  "celltoolbar": "Format de la Cellule Texte Brut",
  "kernelspec": {
   "display_name": "Python 3",
   "language": "python",
   "name": "python3"
  },
  "language_info": {
   "codemirror_mode": {
    "name": "ipython",
    "version": 3
   },
   "file_extension": ".py",
   "mimetype": "text/x-python",
   "name": "python",
   "nbconvert_exporter": "python",
   "pygments_lexer": "ipython3",
   "version": "3.8.3"
  },
  "latex_envs": {
   "LaTeX_envs_menu_present": true,
   "autoclose": false,
   "autocomplete": true,
   "bibliofile": "biblio.bib",
   "cite_by": "apalike",
   "current_citInitial": 1,
   "eqLabelWithNumbers": true,
   "eqNumInitial": 1,
   "hotkeys": {
    "equation": "Ctrl-E",
    "itemize": "Ctrl-I"
   },
   "labels_anchors": false,
   "latex_user_defs": false,
   "report_style_numbering": false,
   "user_envs_cfg": false
  },
  "varInspector": {
   "cols": {
    "lenName": 16,
    "lenType": 16,
    "lenVar": 40
   },
   "kernels_config": {
    "python": {
     "delete_cmd_postfix": "",
     "delete_cmd_prefix": "del ",
     "library": "var_list.py",
     "varRefreshCmd": "print(var_dic_list())"
    },
    "r": {
     "delete_cmd_postfix": ") ",
     "delete_cmd_prefix": "rm(",
     "library": "var_list.r",
     "varRefreshCmd": "cat(var_dic_list()) "
    }
   },
   "types_to_exclude": [
    "module",
    "function",
    "builtin_function_or_method",
    "instance",
    "_Feature"
   ],
   "window_display": false
  }
 },
 "nbformat": 4,
 "nbformat_minor": 4
}
