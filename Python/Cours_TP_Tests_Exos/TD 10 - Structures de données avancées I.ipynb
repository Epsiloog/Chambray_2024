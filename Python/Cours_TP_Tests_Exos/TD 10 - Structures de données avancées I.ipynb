{
 "cells": [
  {
   "cell_type": "markdown",
   "metadata": {},
   "source": [
    "***\n",
    "# IngeSUP - TD 10 - Les structures de données 2\n",
    "***"
   ]
  },
  {
   "cell_type": "markdown",
   "metadata": {},
   "source": [
    "<blockquote><em>“Le langage structure tout de la relation inter-humaine.”</em></blockquote>&nbsp;&nbsp;<i style=\"font-size: 10px\">Jacques Lacan</i>"
   ]
  },
  {
   "cell_type": "markdown",
   "metadata": {},
   "source": [
    "\n",
    "## Exercice 10.1\n",
    "***"
   ]
  },
  {
   "cell_type": "markdown",
   "metadata": {},
   "source": [
    "Soit le dictionnaire :\n",
    "\n",
    "```python\n",
    "d = {'nom': 'Dupuis', 'prenom': 'Jacque', 'age': 30}\n",
    "```"
   ]
  },
  {
   "cell_type": "markdown",
   "metadata": {},
   "source": [
    "1. Corriger l'erreur dans le prénom, la bonne valeur est 'Jacques'."
   ]
  },
  {
   "cell_type": "code",
   "execution_count": null,
   "metadata": {},
   "outputs": [],
   "source": [
    "# VOTRE CODE ICI"
   ]
  },
  {
   "cell_type": "markdown",
   "metadata": {},
   "source": [
    "2. Afficher la liste des clés du dictionnaire."
   ]
  },
  {
   "cell_type": "code",
   "execution_count": null,
   "metadata": {},
   "outputs": [],
   "source": [
    "# VOTRE CODE ICI"
   ]
  },
  {
   "cell_type": "markdown",
   "metadata": {},
   "source": [
    "3. Afficher la liste des valeurs du dictionnaire."
   ]
  },
  {
   "cell_type": "code",
   "execution_count": null,
   "metadata": {},
   "outputs": [],
   "source": [
    "# VOTRE CODE ICI"
   ]
  },
  {
   "cell_type": "markdown",
   "metadata": {},
   "source": [
    "4. Afficher la liste des paires clé/valeur du dictionnaire."
   ]
  },
  {
   "cell_type": "code",
   "execution_count": null,
   "metadata": {},
   "outputs": [],
   "source": [
    "# VOTRE CODE ICI"
   ]
  },
  {
   "cell_type": "markdown",
   "metadata": {},
   "source": [
    "5. Ecrire la phrase \"Jacques Dupuis a 30 ans\" en utilisant `print` sur les clés du dictionnaire _**d**_."
   ]
  },
  {
   "cell_type": "code",
   "execution_count": null,
   "metadata": {},
   "outputs": [],
   "source": [
    "# VOTRE CODE ICI"
   ]
  },
  {
   "cell_type": "markdown",
   "metadata": {},
   "source": [
    "***\n",
    "## Exercice 10.2\n",
    "***"
   ]
  },
  {
   "cell_type": "markdown",
   "metadata": {},
   "source": [
    "On représente des matrices carrées sous la forme de listes de listes de nombres."
   ]
  },
  {
   "cell_type": "code",
   "execution_count": null,
   "metadata": {},
   "outputs": [],
   "source": [
    "carre3 = [\n",
    "    [2, 7, 3],\n",
    "    [9, 5, 1],\n",
    "    [4, 3, 8]\n",
    "]\n",
    "\n",
    "carre4 = [\n",
    "    [4, 5, 11, 14],\n",
    "    [15, 10, 8, 1],\n",
    "    [6, 3, 13, 12],\n",
    "    [9, 16, 2, 7]\n",
    "]"
   ]
  },
  {
   "cell_type": "markdown",
   "metadata": {},
   "source": [
    "1. Quelle est la valeur de la longueur de carre4 ?"
   ]
  },
  {
   "cell_type": "markdown",
   "metadata": {},
   "source": [
    "**Réponse:**\n",
    "\n"
   ]
  },
  {
   "cell_type": "markdown",
   "metadata": {},
   "source": [
    "2. Supposons qu'on veuille accéder à la deuxième valeur de la deuxième ligne de _carre3_. Quelle instruction python doit-on taper ?"
   ]
  },
  {
   "cell_type": "code",
   "execution_count": null,
   "metadata": {},
   "outputs": [],
   "source": [
    "# VOTRE CODE ICI"
   ]
  },
  {
   "cell_type": "markdown",
   "metadata": {},
   "source": [
    "3. Supposons qu'on veuille accéder à la troisième valeur de la première ligne de _carre3_. Quelle instruction python doit-on taper ?"
   ]
  },
  {
   "cell_type": "code",
   "execution_count": null,
   "metadata": {},
   "outputs": [],
   "source": [
    "# VOTRE CODE ICI"
   ]
  },
  {
   "cell_type": "markdown",
   "metadata": {},
   "source": [
    "4. Quelle instruction permet de récupérer la valeur 3 de _carre4_ ?"
   ]
  },
  {
   "cell_type": "code",
   "execution_count": null,
   "metadata": {},
   "outputs": [],
   "source": [
    "# VOTRE CODE ICI"
   ]
  },
  {
   "cell_type": "markdown",
   "metadata": {},
   "source": [
    "5. On propose le code suivant :"
   ]
  },
  {
   "cell_type": "code",
   "execution_count": null,
   "metadata": {},
   "outputs": [],
   "source": [
    "def somme_ligne(carre, n):\n",
    "    \"\"\"\n",
    "    carre est une liste de listes de nombres\n",
    "    n est un nombre entier\n",
    "    \"\"\"\n",
    "    somme = 0\n",
    "    for nombre in carre[n]:\n",
    "        somme = somme + nombre\n",
    "    return somme"
   ]
  },
  {
   "cell_type": "markdown",
   "metadata": {},
   "source": [
    "Que vaut _somme_ligne(carre4, 2)_ ? À quoi sert cette fonction ?"
   ]
  },
  {
   "cell_type": "markdown",
   "metadata": {},
   "source": [
    "**Réponse:**\n",
    "\n"
   ]
  },
  {
   "cell_type": "markdown",
   "metadata": {},
   "source": [
    "6. Définissez la fonction `lignes_magiques` qui prend un carré en paramètre et qui vérifie que les sommes des nombres de chaque ligne sont égales."
   ]
  },
  {
   "cell_type": "code",
   "execution_count": null,
   "metadata": {},
   "outputs": [],
   "source": [
    "# VOTRE CODE ICI"
   ]
  },
  {
   "cell_type": "markdown",
   "metadata": {},
   "source": [
    "***\n",
    "## Exercice 10.3\n",
    "***"
   ]
  },
  {
   "cell_type": "markdown",
   "metadata": {},
   "source": [
    "Les nombres complexes sont décrits par un couple de réels qui définit\n",
    "leur partie réelle et leur partie imaginaire. \n",
    "\n",
    "On pourra définir un complexe par un tuple[float,float]. \n",
    "Ainsi le nombre complexe $2 + 3i$ sera représenté par le\n",
    "tuple $(2.0, 3.0)$, le nombre $i$ par $(0.0, 1.0)$ et un réel $r$ par $(r, 0.0)$.\n",
    "\n",
    "1. Ecrivez les fonctions `partie_relle()` et `partie_imaginaire()` renvoyant respectivement la partie réelle et la partie imaginaire d'un nombre complexe `c` défini comme un tuple."
   ]
  },
  {
   "cell_type": "code",
   "execution_count": null,
   "metadata": {
    "scrolled": true
   },
   "outputs": [],
   "source": [
    "# VOTRE CODE ICI"
   ]
  },
  {
   "cell_type": "markdown",
   "metadata": {},
   "source": [
    "2. Ecrivez la fonction `addition_complexe()` renvoyant la somme de deux nombres complexes passés en argument."
   ]
  },
  {
   "cell_type": "code",
   "execution_count": null,
   "metadata": {
    "scrolled": true
   },
   "outputs": [],
   "source": [
    "# VOTRE CODE ICI"
   ]
  },
  {
   "cell_type": "markdown",
   "metadata": {},
   "source": [
    "On rappelle que le produit de deux nombres complexes $(a + bi)$ et $(c + di)$ est donné par\n",
    "$$\n",
    "(a + bi) ∗ (c + di) = (ac − bd) + (ad + bc)i\n",
    "$$. \n",
    "\n",
    "3. Ecrire une fonction `produit_complexe()` telle que produit_complexe(c1, c2) renvoie le produit des\n",
    "nombres complexes `c1` et `c2`."
   ]
  },
  {
   "cell_type": "code",
   "execution_count": null,
   "metadata": {},
   "outputs": [],
   "source": [
    "# VOTRE CODE ICI"
   ]
  },
  {
   "cell_type": "markdown",
   "metadata": {},
   "source": [
    "***\n",
    "## Exercice 10.4\n",
    "***"
   ]
  },
  {
   "cell_type": "markdown",
   "metadata": {},
   "source": [
    "On définit un point par un tuple $(x,y)$ et une liste de points par une liste de tuple **points**. \n",
    "\n",
    "1. Ecrivez une fonction `distance()` qui détermine la distance entre tous les points distincts de la liste `points` entrée en paramètre. On affichera la distance maximale entre deux points distincts. Testez votre fonction avec `points=[(1,3),(0,1),(2,4)]`.\n",
    "\n",
    "On rappelle que la distance $d$ entre un point P1 de coordonnées $(x_1,y_1)$ et un point P2 de coordonnées $(x_2,y_2)$ s'obtient par :\n",
    "\n",
    "$$\n",
    "d=\\sqrt{(x_1-x_2)^2+(y_1-y_2)^2}\n",
    "$$\n",
    "\n",
    "On ne s'occupera pas de la redondance de certains calculs. (En effet la distance entre les points P1 et P2 est identique à la distance entre les points P2 et P1)."
   ]
  },
  {
   "cell_type": "code",
   "execution_count": null,
   "metadata": {},
   "outputs": [],
   "source": [
    "# VOTRE CODE ICI"
   ]
  },
  {
   "cell_type": "markdown",
   "metadata": {},
   "source": [
    "***\n",
    "## Exercice 10.5\n",
    "***"
   ]
  },
  {
   "cell_type": "markdown",
   "metadata": {},
   "source": [
    "1. Ecrivez une fonction nommée `compte_car()` qui accepte une chaine de caractères et qui renvoie l'occurence des caractères contenus dans la chaine sous forme de dictionnaire."
   ]
  },
  {
   "cell_type": "code",
   "execution_count": null,
   "metadata": {},
   "outputs": [],
   "source": [
    "def compte_car(chaine):\n",
    "    ...\n",
    "    \n",
    "print(compte_car(\"afgzy,&)!!djfijaijdjqokojdijiofjoeijf!\"))    # TEST"
   ]
  },
  {
   "cell_type": "markdown",
   "metadata": {},
   "source": [
    "2. Ecrivez une fonction nommée `compte_mots_ligne()` qui accepte une chaine de caractères et qui renvoie l'occurence des mots contenus dans la chaine sous forme de dictionnaire. (Rappel: Les mots sont séparées par le caractère espace)."
   ]
  },
  {
   "cell_type": "code",
   "execution_count": null,
   "metadata": {},
   "outputs": [],
   "source": [
    "# VOTRE CODE ICI"
   ]
  },
  {
   "cell_type": "markdown",
   "metadata": {},
   "source": [
    "À l'aide de la fonction précédente, il est maintenant possible de déterminer les mots les plus représentés (hors caractères spéciaux) dans un fichier composé de plusieurs lignes ou dans une variable.\n",
    "\n",
    "3. Ecrivez une fonction `compte_mots_texte()` qui accepte une variable et retourne l'occurence des mots contenus dans la variable sous forme de dictionnaire. Testez avec la variable `lafontaine_txt` entrée ci-dessous."
   ]
  },
  {
   "cell_type": "code",
   "execution_count": null,
   "metadata": {},
   "outputs": [],
   "source": [
    "lafontaine_txt = \"\"\"Rien ne sert de courir ; il faut partir à point.\\\n",
    "Le Lièvre et la Tortue en sont un témoignage.\\\n",
    "Gageons, dit celle-ci, que vous n'atteindrez point\\\n",
    "Sitôt que moi ce but. - Sitôt ? Etes-vous sage ?\\\n",
    "Repartit l'animal léger.\\\n",
    "Ma commère, il vous faut purger\\\n",
    "Avec quatre grains d'ellébore.\\\n",
    "- Sage ou non, je parie encore.\\\n",
    "Ainsi fut fait : et de tous deux\\\n",
    "On mit près du but les enjeux :\\\n",
    "Savoir quoi, ce n'est pas l'affaire,\\\n",
    "Ni de quel juge l'on convint.\\\n",
    "Notre Lièvre n'avait que quatre pas à faire ;\\\n",
    "J'entends de ceux qu'il fait lorsque prêt d'être atteint\\\n",
    "Il s'éloigne des chiens, les renvoie aux Calendes,\\\n",
    "Et leur fait arpenter les landes.\\\n",
    "Ayant, dis-je, du temps de reste pour brouter,\\\n",
    "Pour dormir, et pour écouter\\\n",
    "D'où vient le vent, il laiss la Tortue\\\n",
    "Aller son train de Sénateur.\\\n",
    "Elle part, elle s'évertue ;\\\n",
    "Elle se hâte avec lenteur.\\\n",
    "Lui cependant méprise une telle victoire,\\\n",
    "Tient la gageure à peu de gloire,\\\n",
    "Croit qu'il y va de son honneur\\\n",
    "De partir tard. Il broute, il se repose,\\\n",
    "Il s'amuse à toute autre chose\\\n",
    "Qu'à la gageure. A la fin quand il vit\\\n",
    "Que l'autre touchait presque au bout de la carrière,\\\n",
    "Il partit comme un trait ; mais les élans qu'il fit\\\n",
    "Furent vains : la Tortue arriva la première.\\\n",
    "Eh bien ! lui cria-t-elle, avais-je pas raison ?\\\n",
    "De quoi vous sert votre vitesse ?\\\n",
    "Moi, l'emporter ! et que serait-ce\\\n",
    "Si vous portiez une maison ?\"\"\""
   ]
  },
  {
   "cell_type": "code",
   "execution_count": null,
   "metadata": {
    "scrolled": false
   },
   "outputs": [],
   "source": [
    "# VOTRE CODE ICI"
   ]
  },
  {
   "cell_type": "markdown",
   "metadata": {},
   "source": [
    "4. Déterminez l'occurence des mots **Lièvre** et **Tortue** dans la variable `lafontaine_txt`."
   ]
  },
  {
   "cell_type": "code",
   "execution_count": null,
   "metadata": {},
   "outputs": [],
   "source": [
    "# VOTRE CODE ICI"
   ]
  },
  {
   "cell_type": "markdown",
   "metadata": {},
   "source": [
    "***\n",
    "## Corrigé du TD 10\n",
    "\n",
    "Vous pouvez retrouver le corrigé de ce TD [ici](Corrigés/Corrigé_TD%2010.ipynb)."
   ]
  }
 ],
 "metadata": {
  "celltoolbar": "Format de la Cellule Texte Brut",
  "kernelspec": {
   "display_name": "Python 3",
   "language": "python",
   "name": "python3"
  },
  "language_info": {
   "codemirror_mode": {
    "name": "ipython",
    "version": 3
   },
   "file_extension": ".py",
   "mimetype": "text/x-python",
   "name": "python",
   "nbconvert_exporter": "python",
   "pygments_lexer": "ipython3",
   "version": "3.7.4"
  },
  "latex_envs": {
   "LaTeX_envs_menu_present": true,
   "autoclose": false,
   "autocomplete": true,
   "bibliofile": "biblio.bib",
   "cite_by": "apalike",
   "current_citInitial": 1,
   "eqLabelWithNumbers": true,
   "eqNumInitial": 1,
   "hotkeys": {
    "equation": "Ctrl-E",
    "itemize": "Ctrl-I"
   },
   "labels_anchors": false,
   "latex_user_defs": false,
   "report_style_numbering": false,
   "user_envs_cfg": false
  },
  "varInspector": {
   "cols": {
    "lenName": 16,
    "lenType": 16,
    "lenVar": 40
   },
   "kernels_config": {
    "python": {
     "delete_cmd_postfix": "",
     "delete_cmd_prefix": "del ",
     "library": "var_list.py",
     "varRefreshCmd": "print(var_dic_list())"
    },
    "r": {
     "delete_cmd_postfix": ") ",
     "delete_cmd_prefix": "rm(",
     "library": "var_list.r",
     "varRefreshCmd": "cat(var_dic_list()) "
    }
   },
   "types_to_exclude": [
    "module",
    "function",
    "builtin_function_or_method",
    "instance",
    "_Feature"
   ],
   "window_display": false
  }
 },
 "nbformat": 4,
 "nbformat_minor": 4
}
