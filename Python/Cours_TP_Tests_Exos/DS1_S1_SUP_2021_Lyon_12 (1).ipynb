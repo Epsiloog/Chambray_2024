{
 "cells": [
  {
   "cell_type": "markdown",
   "metadata": {},
   "source": [
    "<div class=\"alert alert-block alert-info\" style='color:white; background-color:#000000; border-color: black; '>\n",
    "    <hr><h1>Devoir surveillé 1 - SUP 2021</h1><hr>\n",
    "    <br>\n",
    "</div>"
   ]
  },
  {
   "cell_type": "markdown",
   "metadata": {},
   "source": [
    "<div class=\"alert alert-block alert-info\" style='color:white; background-color:#000000; border-color: black; '>\n",
    "    <hr><h2>Consignes : </h2>\n",
    "    <ul>\n",
    "        <li>Vous disposez de 1h45 pour réaliser ce sujet ;</li>\n",
    "        <li>Les  exercices sont indépendants :</li>\n",
    "        <li>3 exercices sont obligatoires, le dernier est en bonus</li>\n",
    "        <li>Sauvegardez régulièrement votre travail ;</li>\n",
    "        <li>Le barême est donné à titre indicatif ;</li>\n",
    "        <li>A la fin de l'examen, envoyez votre notebook Nom_prenom_DS1_SUP_2020.ipynb à l'adresse <a>https://esmefr-my.sharepoint.com/:f:/g/personal/vincent_beck_esme_fr/ErAGZU4LwXVBrhpvkV03CMUBbYtTLHxO7W-N2WA4zuuu6w<a></li><br>\n",
    "    </ul>\n",
    "    <hr><h2>Exercice 01 - Input utilisateur et opérations - 6 points</h2><hr>\n",
    "    Une année est bissextile si elle vérifie l'une OU l'autre de ces deux conditions :<br>Si elle est divisible par 4 ET non-divisible par 100<br>OU<br>Si elle est divisible par 400<br>\n",
    "    <ol>\n",
    "        <li>Ecrivez un programme qui :</li>\n",
    "        <ul>\n",
    "            <li>demande à l'utilisateur de saisir au clavier une année.</li>\n",
    "            <li>vérifie si cette année est bissextile.</li>\n",
    "        </ul>\n",
    "    </ol>\n",
    "</div>"
   ]
  },
  {
   "cell_type": "code",
   "execution_count": null,
   "metadata": {},
   "outputs": [],
   "source": [
    "# VOTRE CODE ICI"
   ]
  },
  {
   "cell_type": "markdown",
   "metadata": {},
   "source": [
    "<div class=\"alert alert-block alert-info\" style='color:white; background-color:#000000; border-color: black; '>\n",
    "Les jeux olympiques d'été ont lieu tous les 4 ans depuis 1896.<br>\n",
    "    <ol start=\"2\">\n",
    "        <li>Compléter votre code pour indiquer si il y aura des jeux olympiques d'été lors de l'année indiquée par l'utilisateur.</li>\n",
    "\n",
    "</div>"
   ]
  },
  {
   "cell_type": "code",
   "execution_count": null,
   "metadata": {},
   "outputs": [],
   "source": [
    "# VOTRE CODE ICI"
   ]
  },
  {
   "cell_type": "markdown",
   "metadata": {},
   "source": [
    "<div class=\"alert alert-block alert-info\" style='color:white; background-color:#000000; border-color: black; '>\n",
    "<hr><h2>Exercice 02 - Vérifications en boucle et listes - 8 points</h2><hr>\n",
    "        <ol start=\"1\">\n",
    "        <li>Demandez un nombre strictement supérieur a 1 a l'utilisateur.<br> \n",
    "Le programme écrit \"erreur\" et redemande un nombre a l'utilisateur tant que le nombre entré n'est pas strictement supérieur a 1.\n",
    "Sinon le programme écrit \"ok\" comme l'entier est conforme.</li>\n"
   ]
  },
  {
   "cell_type": "code",
   "execution_count": null,
   "metadata": {
    "scrolled": true
   },
   "outputs": [],
   "source": [
    "# VOTRE CODE ICI"
   ]
  },
  {
   "cell_type": "markdown",
   "metadata": {},
   "source": [
    "<div class=\"alert alert-block alert-info\" style='color:white; background-color:#000000; border-color: black; '>\n",
    "    <ol start=\"2\">\n",
    "        <li>Complétez votre code pour vérifier si l'entier saisi est un carré parfait, c'est à dire s'il existe un entier dont le carré est égal a l'entier saisi. <br>On pourra faire une boucle pour tester les carrés de 0 jusqu'a l'entier saisi.</li>\n",
    "    </ol>\n",
    "</div>"
   ]
  },
  {
   "cell_type": "code",
   "execution_count": null,
   "metadata": {
    "scrolled": true
   },
   "outputs": [],
   "source": [
    "# VOTRE CODE ICI"
   ]
  },
  {
   "cell_type": "markdown",
   "metadata": {},
   "source": [
    "<div class=\"alert alert-block alert-info\" style='color:white; background-color:#000000; border-color: black; '>\n",
    "    <ol start=\"3\">\n",
    "        <li>Voici une liste d'entiers : ListeATester=[23,49,31,25,127,17]<br>\n",
    "Faire un programme qui teste toutes les valeurs de de cette liste pour vérifier s'ils sont des carrés parfaits.<br>\n",
    "Les entiers qui le sont seront ajouté a une liste \"ListePositifs\"<br>\n",
    "Votre programme affichera cette liste et indiquera le nombre d'éléments de cette liste dans une phrase de conclusion.</li>\n",
    "    </ol>\n",
    "</div>"
   ]
  },
  {
   "cell_type": "code",
   "execution_count": null,
   "metadata": {
    "scrolled": true
   },
   "outputs": [],
   "source": [
    "# VOTRE CODE ICI"
   ]
  },
  {
   "cell_type": "markdown",
   "metadata": {},
   "source": [
    "<div class=\"alert alert-block alert-info\" style='color:white; background-color:#000000; border-color: black; '>\n",
    "<hr><h2>Exercice 03 - Textes et fichiers - 6 points</h2><hr>\n",
    "        <ol start=\"1\">\n",
    "        <li>Faites un programme qui ouvre un fichier en mode écriture, qui demande 5 mots a l'utilisateur et qui écrit dans le fichier uniquement les mots qui contiennent la lettre \"a\"</li>"
   ]
  },
  {
   "cell_type": "code",
   "execution_count": null,
   "metadata": {},
   "outputs": [],
   "source": [
    "# VOTRE CODE ICI"
   ]
  },
  {
   "cell_type": "markdown",
   "metadata": {},
   "source": [
    "<div class=\"alert alert-block alert-info\" style='color:white; background-color:#000000; border-color: black; '>\n",
    "    <ol start=\"2\">\n",
    "        <li>Faites un second programme qui réouvre le fichier créé en mode lecture, et qui affiche seulement les 2 premiers mots du fichier</ol>\n",
    "</div>"
   ]
  },
  {
   "cell_type": "code",
   "execution_count": null,
   "metadata": {},
   "outputs": [],
   "source": [
    "# VOTRE CODE ICI"
   ]
  },
  {
   "cell_type": "markdown",
   "metadata": {},
   "source": [
    "<div class=\"alert alert-block alert-info\" style='color:white; background-color:#000000; border-color: black; '>\n",
    "    <h2><hr>Exercice BONUS - Suite aliquote - 2 points max</h2><hr>\n",
    "    Cet exercice est difficile et est là pour occuper les étudiants qui auraient terminé le sujet. Ne le traitez que si vous n'avez plus rien a faire car il ne rapporte pas beaucoup de points.<br>Toute trace de recherche ou solution partielle pourra être récompensée.\n",
    "   <br><br>\n",
    "    Une suite aliquote est une suite d'entier, qui part d'un entier donné et dont chaque terme est la somme des diviseurs stricts du précédent.<br>\n",
    "Exemple : si l'on commence par 10, dont les divieurs stricts sont 1, 2 et 5, le second terme de la suite est donc 1+2+5=8, le prochain terme serait alors 1+2+4=7 et enfin 1 (car 7 est premier)<br>\n",
    "On considère que la suite \"s'arrète\" si elle tombe sur 1<br>\n",
    "    <br>\n",
    "    Faire un programme qui demande le terme initial de la suite et qui affiche les termes suivants.<br> Il s'arrète s'il tombe sur 1.<br><br>\n",
    "Testez votre programme pour les entiers suivants : 10, 28, 220, 276.<br> Quels comportements peut-on remarquer ? (répondez en commentaire)\n",
    "    \n",
    "    \n",
    "\n",
    "</div>"
   ]
  },
  {
   "cell_type": "code",
   "execution_count": null,
   "metadata": {},
   "outputs": [],
   "source": [
    "# VOTRE CODE ICI"
   ]
  },
  {
   "cell_type": "markdown",
   "metadata": {},
   "source": [
    "<div class=\"alert alert-block alert-info\" style='color:white; background-color:#000000; border-color: black; '><hr>\n",
    "<center><b>Une fois l'épreuve terminée, sauvegardez une dernière fois votre notebook, vérifiez qu'il soit bien nommé puis uploadez le à partir du lien</center></b>"
   ]
  }
 ],
 "metadata": {
  "celltoolbar": "Format de la Cellule Texte Brut",
  "kernelspec": {
   "display_name": "Python 3",
   "language": "python",
   "name": "python3"
  },
  "language_info": {
   "codemirror_mode": {
    "name": "ipython",
    "version": 3
   },
   "file_extension": ".py",
   "mimetype": "text/x-python",
   "name": "python",
   "nbconvert_exporter": "python",
   "pygments_lexer": "ipython3",
   "version": "3.8.3"
  },
  "latex_envs": {
   "LaTeX_envs_menu_present": true,
   "autoclose": false,
   "autocomplete": true,
   "bibliofile": "biblio.bib",
   "cite_by": "apalike",
   "current_citInitial": 1,
   "eqLabelWithNumbers": true,
   "eqNumInitial": 1,
   "hotkeys": {
    "equation": "Ctrl-E",
    "itemize": "Ctrl-I"
   },
   "labels_anchors": false,
   "latex_user_defs": false,
   "report_style_numbering": false,
   "user_envs_cfg": false
  },
  "varInspector": {
   "cols": {
    "lenName": 16,
    "lenType": 16,
    "lenVar": 40
   },
   "kernels_config": {
    "python": {
     "delete_cmd_postfix": "",
     "delete_cmd_prefix": "del ",
     "library": "var_list.py",
     "varRefreshCmd": "print(var_dic_list())"
    },
    "r": {
     "delete_cmd_postfix": ") ",
     "delete_cmd_prefix": "rm(",
     "library": "var_list.r",
     "varRefreshCmd": "cat(var_dic_list()) "
    }
   },
   "types_to_exclude": [
    "module",
    "function",
    "builtin_function_or_method",
    "instance",
    "_Feature"
   ],
   "window_display": false
  }
 },
 "nbformat": 4,
 "nbformat_minor": 4
}
