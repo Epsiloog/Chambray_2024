{
 "cells": [
  {
   "cell_type": "markdown",
   "metadata": {},
   "source": [
    "***\n",
    "# IngeSUP - TD 12 - Recherche dans une liste et complexité\n",
    "***"
   ]
  },
  {
   "cell_type": "markdown",
   "metadata": {},
   "source": [
    "<blockquote><em>“ Qui cherche trouve, qui dort rêve. ”</em></blockquote>&nbsp;&nbsp;<i style=\"font-size: 10px\">Proverbe</i>"
   ]
  },
  {
   "cell_type": "markdown",
   "metadata": {},
   "source": [
    "***\n",
    "## Exercice 11.1\n",
    "***"
   ]
  },
  {
   "cell_type": "markdown",
   "metadata": {},
   "source": [
    "Ecrivez une fonction `RechSeq()` qui effectue une recherche séquentielle de `x` parmi les éléments d’une liste `L`. Cette fonction renverra une variable booléenne qui prendra la valeur  `True` si l'élément est trouvé dans la liste ou `False` dans le cas contraire."
   ]
  },
  {
   "cell_type": "code",
   "execution_count": null,
   "metadata": {},
   "outputs": [],
   "source": [
    "def RechSeq(L,x):\n",
    "    for i in ...:\n",
    "        if i==?:\n",
    "            ...\n",
    "    return ...\n",
    "\n",
    "RechSeq([1,4,7,8],7)"
   ]
  },
  {
   "cell_type": "code",
   "execution_count": null,
   "metadata": {},
   "outputs": [],
   "source": [
    "def RechSeq(L,x):\n",
    "    for i in range(...):\n",
    "        if L[i]==?:\n",
    "            ...\n",
    "    return ...\n",
    "RechSeq([1,4,7,8],6)"
   ]
  },
  {
   "cell_type": "markdown",
   "metadata": {},
   "source": [
    "***\n",
    "## Exercice 11.2\n",
    "***"
   ]
  },
  {
   "cell_type": "markdown",
   "metadata": {},
   "source": [
    "1. Écrivez une fonction `maxi()` prenant en argument une liste d'entiers naturels `L` et renvoyant le maximum des entiers de cette liste (on n'utilisera pas de fonction spécifique de Python déterminant ce maximum)."
   ]
  },
  {
   "cell_type": "code",
   "execution_count": null,
   "metadata": {},
   "outputs": [],
   "source": [
    "def maxi(L):\n",
    "    maxi=L[0]\n",
    "    for ... in ...:\n",
    "        if el > maxi:\n",
    "            ...\n",
    "    return maxi\n",
    "\n",
    "# On teste la fonction sur la liste [1,7,17,11,4,2]\n",
    "print(maxi([1,7,17,11,4,2]))"
   ]
  },
  {
   "cell_type": "code",
   "execution_count": null,
   "metadata": {},
   "outputs": [],
   "source": [
    "def maxi2(L):\n",
    "    maxi= L[0]\n",
    "    for ... in range(...):\n",
    "        if ...:\n",
    "           ...\n",
    "    return maxi\n",
    "\n",
    "# On teste la fonction sur la liste [1,7,17,11,4,2]\n",
    "print(maxi2([1,7,17,11,4,2]))"
   ]
  },
  {
   "cell_type": "markdown",
   "metadata": {},
   "source": [
    "2. Quelle est le nombre d'opérations élémentaires effectué par cette fonction en fonction de la longueur n de la liste?"
   ]
  },
  {
   "cell_type": "markdown",
   "metadata": {},
   "source": [
    "**Réponse:** "
   ]
  },
  {
   "cell_type": "markdown",
   "metadata": {},
   "source": [
    "***\n",
    "## Exercice 11.3\n",
    "***"
   ]
  },
  {
   "cell_type": "markdown",
   "metadata": {},
   "source": [
    "Écrivez une fonction `Minus()` prenant en argument une liste `Liste` et une variable `x`, et qui retourne le plus petit indice `k` de la liste tel que `Liste[k]` soit égal à `x`. Si la liste ne contient pas `x`, alors la fonction doit retourner `-1`."
   ]
  },
  {
   "cell_type": "code",
   "execution_count": null,
   "metadata": {},
   "outputs": [],
   "source": [
    "def Minus(L,x):\n",
    "    ..."
   ]
  },
  {
   "cell_type": "markdown",
   "metadata": {},
   "source": [
    "***\n",
    "## Exercice 11.4\n",
    "***"
   ]
  },
  {
   "cell_type": "markdown",
   "metadata": {},
   "source": [
    "Écrivez une fonction `Ins()` qui prend en argument une liste triée `l` et un entier `elt` et qui renvoie la liste triée obtenue par insertion à sa place de `elt` dans `l`. On fera attention à ce que la liste `l` puisse être vide."
   ]
  },
  {
   "cell_type": "markdown",
   "metadata": {},
   "source": [
    "**Petite parenthèse:**\n",
    "En python il existe une fonction pour insérer un élément à la place qu'on veut dans la liste. C'est la fonction `insert`.\n",
    "\n",
    "Exemple: \n",
    "```python\n",
    "aList = [123, 'xyz', 'zara', 'abc']\n",
    "aList.insert( 3, 2009)\n",
    "print(\"Final List : \", aList)\n",
    "```\n",
    "\n",
    "Va afficher _Final List :  [123, 'xyz', 'zara', 2009, 'abc']_"
   ]
  },
  {
   "cell_type": "code",
   "execution_count": null,
   "metadata": {},
   "outputs": [],
   "source": [
    "# Testez si vous ne me croyez pas !\n",
    "\n",
    "aList = [123, 'xyz', 'zara', 'abc']\n",
    "aList.insert( 3, 2009)\n",
    "print(\"Final List : \", aList)"
   ]
  },
  {
   "cell_type": "code",
   "execution_count": null,
   "metadata": {},
   "outputs": [],
   "source": [
    "# VOTRE CODE ICI\n",
    "def ins(l,elt):\n",
    "    ...\n",
    " \n",
    "ins([1,2,3,6,8],10)"
   ]
  },
  {
   "cell_type": "markdown",
   "metadata": {},
   "source": [
    "***\n",
    "## Exercice 11.5\n",
    "***"
   ]
  },
  {
   "cell_type": "markdown",
   "metadata": {},
   "source": [
    "1. Ecrivez une fonction de recherche itérative par dichotomie `Rech_dich_iter()` appliqué à la recherche d'une valeur `element` dans une liste `liste_triee`."
   ]
  },
  {
   "cell_type": "code",
   "execution_count": null,
   "metadata": {},
   "outputs": [],
   "source": [
    "def Rech_dich_iter(L, x):\n",
    "    ...\n",
    "\n",
    "# Testez pour chercher 13 dans la liste [1, 3, 5, 7, 8, 10, 13, 14, 17, 19]"
   ]
  },
  {
   "cell_type": "markdown",
   "metadata": {},
   "source": [
    "2. Ecrivez une fonction de recherche récursive par dichotomie `Rech_dich_rec()` appliqué à la recherche d'une valeur `element` dans une liste `liste_triee`."
   ]
  },
  {
   "cell_type": "code",
   "execution_count": null,
   "metadata": {},
   "outputs": [],
   "source": [
    "def Rech_dich_rec(L, x):\n",
    "    ...\n",
    "\n",
    "# Testez pour la recherche de 5\n",
    "# Testez pour la recherche de 8"
   ]
  },
  {
   "cell_type": "markdown",
   "metadata": {
    "jupyter": {
     "source_hidden": true
    }
   },
   "source": [
    "***\n",
    "## Exercice 11.6\n",
    "***"
   ]
  },
  {
   "cell_type": "markdown",
   "metadata": {},
   "source": [
    "Calculez la complexité de l'algorithme suivant :\n",
    "\n",
    "```python\n",
    "for i in range (m) :\n",
    "    for j in range (n) :\n",
    "        print(j-n)```"
   ]
  },
  {
   "cell_type": "markdown",
   "metadata": {},
   "source": [
    "**Réponse:** "
   ]
  },
  {
   "cell_type": "markdown",
   "metadata": {},
   "source": [
    "***\n",
    "## Corrigé du TD 12\n",
    "\n",
    "Vous pouvez retrouver le corrigé de ce TD [ici](Corrigés/Corrigé_TD%2012.ipynb)."
   ]
  }
 ],
 "metadata": {
  "celltoolbar": "Format de la Cellule Texte Brut",
  "kernelspec": {
   "display_name": "Python 3",
   "language": "python",
   "name": "python3"
  },
  "language_info": {
   "codemirror_mode": {
    "name": "ipython",
    "version": 3
   },
   "file_extension": ".py",
   "mimetype": "text/x-python",
   "name": "python",
   "nbconvert_exporter": "python",
   "pygments_lexer": "ipython3",
   "version": "3.7.4"
  },
  "latex_envs": {
   "LaTeX_envs_menu_present": true,
   "autoclose": false,
   "autocomplete": true,
   "bibliofile": "biblio.bib",
   "cite_by": "apalike",
   "current_citInitial": 1,
   "eqLabelWithNumbers": true,
   "eqNumInitial": 1,
   "hotkeys": {
    "equation": "Ctrl-E",
    "itemize": "Ctrl-I"
   },
   "labels_anchors": false,
   "latex_user_defs": false,
   "report_style_numbering": false,
   "user_envs_cfg": false
  },
  "varInspector": {
   "cols": {
    "lenName": 16,
    "lenType": 16,
    "lenVar": 40
   },
   "kernels_config": {
    "python": {
     "delete_cmd_postfix": "",
     "delete_cmd_prefix": "del ",
     "library": "var_list.py",
     "varRefreshCmd": "print(var_dic_list())"
    },
    "r": {
     "delete_cmd_postfix": ") ",
     "delete_cmd_prefix": "rm(",
     "library": "var_list.r",
     "varRefreshCmd": "cat(var_dic_list()) "
    }
   },
   "types_to_exclude": [
    "module",
    "function",
    "builtin_function_or_method",
    "instance",
    "_Feature"
   ],
   "window_display": false
  }
 },
 "nbformat": 4,
 "nbformat_minor": 4
}
