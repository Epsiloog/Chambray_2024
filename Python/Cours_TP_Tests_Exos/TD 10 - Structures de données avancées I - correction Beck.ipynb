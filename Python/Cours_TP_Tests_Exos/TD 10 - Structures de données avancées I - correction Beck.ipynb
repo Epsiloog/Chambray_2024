{
 "cells": [
  {
   "cell_type": "markdown",
   "metadata": {},
   "source": [
    "***\n",
    "# IngeSUP - TD 10 - Les structures de données 2\n",
    "***"
   ]
  },
  {
   "cell_type": "markdown",
   "metadata": {},
   "source": [
    "<blockquote><em>“Le langage structure tout de la relation inter-humaine.”</em></blockquote>&nbsp;&nbsp;<i style=\"font-size: 10px\">Jacques Lacan</i>"
   ]
  },
  {
   "cell_type": "markdown",
   "metadata": {},
   "source": [
    "\n",
    "## Exercice 10.1\n",
    "***"
   ]
  },
  {
   "cell_type": "markdown",
   "metadata": {},
   "source": [
    "Soit le dictionnaire :\n",
    "\n",
    "```python\n",
    "d = {'nom': 'Dupuis', 'prenom': 'Jacque', 'age': 30}\n",
    "```"
   ]
  },
  {
   "cell_type": "markdown",
   "metadata": {},
   "source": [
    "1. Corriger l'erreur dans le prénom, la bonne valeur est 'Jacques'."
   ]
  },
  {
   "cell_type": "code",
   "execution_count": 15,
   "metadata": {},
   "outputs": [
    {
     "name": "stdout",
     "output_type": "stream",
     "text": [
      "{'nom': 'Dupuis', 'prenom': 'Jacques', 'age': 30}\n"
     ]
    }
   ],
   "source": [
    "d = {'nom': 'Dupuis', 'prenom': 'Jacque', 'age': 30}\n",
    "\n",
    "d[\"prenom\"]=\"Jacques\"\n",
    "\n",
    "print(d)"
   ]
  },
  {
   "cell_type": "markdown",
   "metadata": {},
   "source": [
    "2. Afficher la liste des clés du dictionnaire."
   ]
  },
  {
   "cell_type": "code",
   "execution_count": 5,
   "metadata": {},
   "outputs": [
    {
     "name": "stdout",
     "output_type": "stream",
     "text": [
      "nom\n",
      "prenom\n",
      "age\n"
     ]
    }
   ],
   "source": [
    "for i in d.keys():\n",
    "    print(i)"
   ]
  },
  {
   "cell_type": "markdown",
   "metadata": {},
   "source": [
    "3. Afficher la liste des valeurs du dictionnaire."
   ]
  },
  {
   "cell_type": "code",
   "execution_count": 6,
   "metadata": {},
   "outputs": [
    {
     "name": "stdout",
     "output_type": "stream",
     "text": [
      "Dupuis\n",
      "Jacques\n",
      "30\n"
     ]
    }
   ],
   "source": [
    "for i in d.values():\n",
    "    print(i)"
   ]
  },
  {
   "cell_type": "markdown",
   "metadata": {},
   "source": [
    "4. Afficher la liste des paires clé/valeur du dictionnaire."
   ]
  },
  {
   "cell_type": "code",
   "execution_count": 16,
   "metadata": {},
   "outputs": [
    {
     "name": "stdout",
     "output_type": "stream",
     "text": [
      "nom Dupuis\n",
      "prenom Jacques\n",
      "age 30\n",
      "nom Dupuis\n",
      "prenom Jacques\n",
      "age 30\n"
     ]
    }
   ],
   "source": [
    "for i,j in d.items():\n",
    "    print(i,j)\n",
    "    \n",
    "# solution alternative\n",
    "for i in d.keys():\n",
    "    print(i, d[i])"
   ]
  },
  {
   "cell_type": "markdown",
   "metadata": {},
   "source": [
    "5. Ecrire la phrase \"Jacques Dupuis a 30 ans\" en utilisant `print` sur les clés du dictionnaire _**d**_."
   ]
  },
  {
   "cell_type": "code",
   "execution_count": 10,
   "metadata": {},
   "outputs": [
    {
     "name": "stdout",
     "output_type": "stream",
     "text": [
      "Jacques Dupuis a 30 ans\n"
     ]
    }
   ],
   "source": [
    "print(d[\"prenom\"], d[\"nom\"], \"a\", d[\"age\"], \"ans\")"
   ]
  },
  {
   "cell_type": "markdown",
   "metadata": {},
   "source": [
    "***\n",
    "## Exercice 10.2\n",
    "***"
   ]
  },
  {
   "cell_type": "markdown",
   "metadata": {},
   "source": [
    "On représente des matrices carrées sous la forme de listes de listes de nombres."
   ]
  },
  {
   "cell_type": "code",
   "execution_count": 11,
   "metadata": {},
   "outputs": [
    {
     "name": "stdout",
     "output_type": "stream",
     "text": [
      "4\n"
     ]
    }
   ],
   "source": [
    "carre3 = [\n",
    "    [2, 7, 3],\n",
    "    [9, 5, 1],\n",
    "    [4, 3, 8]\n",
    "]\n",
    "\n",
    "carre4 = [\n",
    "    [4, 5, 11, 14],\n",
    "    [15, 10, 8, 1],\n",
    "    [6, 3, 13, 12],\n",
    "    [9, 16, 2, 7]\n",
    "]\n",
    "\n",
    "print(len(carre4))"
   ]
  },
  {
   "cell_type": "markdown",
   "metadata": {},
   "source": [
    "1. Quelle est la valeur de la longueur de carre4 ?"
   ]
  },
  {
   "cell_type": "markdown",
   "metadata": {},
   "source": [
    "**Réponse:**\n",
    "4\n"
   ]
  },
  {
   "cell_type": "markdown",
   "metadata": {},
   "source": [
    "2. Supposons qu'on veuille accéder à la deuxième valeur de la deuxième ligne de _carre3_. Quelle instruction python doit-on taper ?"
   ]
  },
  {
   "cell_type": "code",
   "execution_count": 12,
   "metadata": {},
   "outputs": [
    {
     "name": "stdout",
     "output_type": "stream",
     "text": [
      "5\n"
     ]
    }
   ],
   "source": [
    "print(carre3[1][1])"
   ]
  },
  {
   "cell_type": "markdown",
   "metadata": {},
   "source": [
    "3. Supposons qu'on veuille accéder à la troisième valeur de la première ligne de _carre3_. Quelle instruction python doit-on taper ?"
   ]
  },
  {
   "cell_type": "code",
   "execution_count": null,
   "metadata": {},
   "outputs": [],
   "source": [
    "print(carre3[0][2])"
   ]
  },
  {
   "cell_type": "markdown",
   "metadata": {},
   "source": [
    "4. Quelle instruction permet de récupérer la valeur 3 de _carre4_ ?"
   ]
  },
  {
   "cell_type": "code",
   "execution_count": null,
   "metadata": {},
   "outputs": [],
   "source": [
    "print(carre4[2][1])"
   ]
  },
  {
   "cell_type": "markdown",
   "metadata": {},
   "source": [
    "5. On propose le code suivant :"
   ]
  },
  {
   "cell_type": "code",
   "execution_count": 23,
   "metadata": {},
   "outputs": [],
   "source": [
    "def somme_ligne(carre, n):\n",
    "    \"\"\"\n",
    "    carre est une liste de listes de nombres\n",
    "    n est un nombre entier\n",
    "    \"\"\"\n",
    "    somme = 0\n",
    "    for nombre in carre[n]:\n",
    "        somme = somme + nombre\n",
    "    return somme"
   ]
  },
  {
   "cell_type": "markdown",
   "metadata": {},
   "source": [
    "Que vaut _somme_ligne(carre4, 2)_ ? À quoi sert cette fonction ?"
   ]
  },
  {
   "cell_type": "markdown",
   "metadata": {},
   "source": [
    "**Réponse:**\n",
    "34\n",
    "\n"
   ]
  },
  {
   "cell_type": "markdown",
   "metadata": {},
   "source": [
    "6. Définissez la fonction `lignes_magiques` qui prend un carré en paramètre et qui vérifie que les sommes des nombres de chaque ligne sont égales."
   ]
  },
  {
   "cell_type": "code",
   "execution_count": 51,
   "metadata": {},
   "outputs": [
    {
     "name": "stdout",
     "output_type": "stream",
     "text": [
      "True\n",
      "True\n"
     ]
    }
   ],
   "source": [
    "def lignes_magiques(carre):\n",
    "    e=set({})\n",
    "    for i in range(len(carre)):\n",
    "        e.add(somme_ligne(carre, i))\n",
    "        \n",
    "    if len(e)==1:\n",
    "        return True\n",
    "    return False\n",
    "\n",
    "lignes_magiques(carre4)\n",
    "    \n",
    "print(lignes_magiques(carre4))\n",
    "\n",
    "#alternative sans ensemble :\n",
    "\n",
    "def lignes_magiques(carre):\n",
    "    resultat=True\n",
    "    ref=somme_ligne(carre,0)\n",
    "    for i in range(1,len(carre)):\n",
    "        if somme_ligne(carre,i)!=ref:\n",
    "            resultat=False\n",
    "    return resultat\n",
    "    \n",
    "print(lignes_magiques(carre4))"
   ]
  },
  {
   "cell_type": "markdown",
   "metadata": {},
   "source": [
    "***\n",
    "## Exercice 10.3\n",
    "***"
   ]
  },
  {
   "cell_type": "markdown",
   "metadata": {},
   "source": [
    "Les nombres complexes sont décrits par un couple de réels qui définit\n",
    "leur partie réelle et leur partie imaginaire. \n",
    "\n",
    "On pourra définir un complexe par un tuple[float,float]. \n",
    "Ainsi le nombre complexe $2 + 3i$ sera représenté par le\n",
    "tuple $(2.0, 3.0)$, le nombre $i$ par $(0.0, 1.0)$ et un réel $r$ par $(r, 0.0)$.\n",
    "\n",
    "1. Ecrivez les fonctions `partie_relle()` et `partie_imaginaire()` renvoyant respectivement la partie réelle et la partie imaginaire d'un nombre complexe `c` défini comme un tuple."
   ]
  },
  {
   "cell_type": "code",
   "execution_count": 35,
   "metadata": {
    "scrolled": true
   },
   "outputs": [
    {
     "name": "stdout",
     "output_type": "stream",
     "text": [
      "2\n",
      "3\n"
     ]
    }
   ],
   "source": [
    "def partie_reelle(c):\n",
    "    return c[0]\n",
    "\n",
    "def partie_imaginaire(c):\n",
    "    return c[1]\n",
    "\n",
    "exemple=(2,3)   # test pour 2+3i\n",
    "print(partie_reelle(exemple))\n",
    "print(partie_imaginaire(exemple))"
   ]
  },
  {
   "cell_type": "markdown",
   "metadata": {},
   "source": [
    "2. Ecrivez la fonction `addition_complexe()` renvoyant la somme de deux nombres complexes passés en argument."
   ]
  },
  {
   "cell_type": "code",
   "execution_count": 36,
   "metadata": {
    "scrolled": true
   },
   "outputs": [
    {
     "name": "stdout",
     "output_type": "stream",
     "text": [
      "(7, 9)\n"
     ]
    }
   ],
   "source": [
    "def addition_complexe(c1,c2):\n",
    "    partieR=c1[0]+c2[0]\n",
    "    partieI=c1[1]+c2[1]\n",
    "    return (partieR,partieI)\n",
    "\n",
    "print(addition_complexe((2,3),(5,6)))\n",
    "    "
   ]
  },
  {
   "cell_type": "markdown",
   "metadata": {},
   "source": [
    "On rappelle que le produit de deux nombres complexes $(a + bi)$ et $(c + di)$ est donné par\n",
    "$$\n",
    "(a + bi) ∗ (c + di) = (ac − bd) + (ad + bc)i\n",
    "$$. \n",
    "\n",
    "3. Ecrire une fonction `produit_complexe()` telle que produit_complexe(c1, c2) renvoie le produit des\n",
    "nombres complexes `c1` et `c2`."
   ]
  },
  {
   "cell_type": "code",
   "execution_count": 38,
   "metadata": {},
   "outputs": [
    {
     "name": "stdout",
     "output_type": "stream",
     "text": [
      "(-8, 27)\n"
     ]
    }
   ],
   "source": [
    "def produit_complexe(c1,c2):\n",
    "    partieR=c1[0]*c2[0]-c1[1]*c2[1]\n",
    "    partieI=c1[0]*c2[1]+c1[1]*c2[0]\n",
    "    return (partieR,partieI)\n",
    "\n",
    "print(produit_complexe((2,3),(5,6)))"
   ]
  },
  {
   "cell_type": "markdown",
   "metadata": {},
   "source": [
    "***\n",
    "## Exercice 10.4\n",
    "***"
   ]
  },
  {
   "cell_type": "markdown",
   "metadata": {},
   "source": [
    "On définit un point par un tuple $(x,y)$ et une liste de points par une liste de tuple **points**. \n",
    "\n",
    "1. Ecrivez une fonction `distance()` qui détermine la distance entre tous les points distincts de la liste `points` entrée en paramètre. On affichera la distance maximale entre deux points distincts. Testez votre fonction avec `points=[(1,3),(0,1),(2,4)]`.\n",
    "\n",
    "On rappelle que la distance $d$ entre un point P1 de coordonnées $(x_1,y_1)$ et un point P2 de coordonnées $(x_2,y_2)$ s'obtient par :\n",
    "\n",
    "$$\n",
    "d=\\sqrt{(x_1-x_2)^2+(y_1-y_2)^2}\n",
    "$$\n",
    "\n",
    "On ne s'occupera pas de la redondance de certains calculs. (En effet la distance entre les points P1 et P2 est identique à la distance entre les points P2 et P1)."
   ]
  },
  {
   "cell_type": "code",
   "execution_count": 76,
   "metadata": {},
   "outputs": [
    {
     "data": {
      "text/plain": [
       "3.605551275463989"
      ]
     },
     "execution_count": 76,
     "metadata": {},
     "output_type": "execute_result"
    }
   ],
   "source": [
    "def distance(points):\n",
    "    #on va faire la liste des distances entre deux points\n",
    "    L=[]\n",
    "    for point1 in points:\n",
    "        for point2 in points:\n",
    "            dist=(((point1[0]-point2[0])**2)+((point1[1]-point2[1])**2))**(1/2)\n",
    "            L.append(dist)\n",
    "    return max(L)\n",
    "\n",
    "distance([(1,3),(0,1),(2,4)])"
   ]
  },
  {
   "cell_type": "markdown",
   "metadata": {},
   "source": [
    "***\n",
    "## Exercice 10.5\n",
    "***"
   ]
  },
  {
   "cell_type": "markdown",
   "metadata": {},
   "source": [
    "1. Ecrivez une fonction nommée `compte_car()` qui accepte une chaine de caractères et qui renvoie l'occurence des caractères contenus dans la chaine sous forme de dictionnaire."
   ]
  },
  {
   "cell_type": "code",
   "execution_count": 60,
   "metadata": {},
   "outputs": [
    {
     "name": "stdout",
     "output_type": "stream",
     "text": [
      "{'a': 2, 'f': 4, 'g': 1, 'z': 1, 'y': 1, ',': 1, '&': 1, ')': 1, '!': 3, 'd': 3, 'j': 8, 'i': 5, 'q': 1, 'o': 4, 'k': 1, 'e': 1}\n"
     ]
    }
   ],
   "source": [
    "def compte_car(chaine):\n",
    "    dico={}\n",
    "    for lettre in chaine:\n",
    "        if lettre not in dico.keys(): #si la lettre ne fait pas encore partie du dictionnaire\n",
    "            dico[lettre]=1\n",
    "        else:\n",
    "            dico[lettre]+=1\n",
    "    return dico\n",
    "    \n",
    "print(compte_car(\"afgzy,&)!!djfijaijdjqokojdijiofjoeijf!\"))    # TEST"
   ]
  },
  {
   "cell_type": "markdown",
   "metadata": {},
   "source": [
    "2. Ecrivez une fonction nommée `compte_mots_ligne()` qui accepte une chaine de caractères et qui renvoie l'occurence des mots contenus dans la chaine sous forme de dictionnaire. (Rappel: Les mots sont séparées par le caractère espace)."
   ]
  },
  {
   "cell_type": "code",
   "execution_count": 61,
   "metadata": {},
   "outputs": [
    {
     "name": "stdout",
     "output_type": "stream",
     "text": [
      "{'Bonjour': 1, 'ceci': 2, 'est': 2, 'un': 1, 'texte': 1, 'et': 1, 'une': 1, 'phrase': 1}\n"
     ]
    }
   ],
   "source": [
    "def compte_mots_ligne(chaine):\n",
    "    liste=chaine.split(\" \")\n",
    "    \n",
    "    dico={}\n",
    "    for mot in liste:\n",
    "        if mot not in dico.keys(): #si la lettre ne fait pas encore partie du dictionnaire\n",
    "            dico[mot]=1\n",
    "        else:\n",
    "            dico[mot]+=1\n",
    "    return dico\n",
    "\n",
    "print(compte_mots_ligne(\"Bonjour ceci est un texte et ceci est une phrase\"))"
   ]
  },
  {
   "cell_type": "markdown",
   "metadata": {},
   "source": [
    "À l'aide de la fonction précédente, il est maintenant possible de déterminer les mots les plus représentés (hors caractères spéciaux) dans un fichier composé de plusieurs lignes ou dans une variable.\n",
    "\n",
    "3. Ecrivez une fonction `compte_mots_texte()` qui accepte une variable et retourne l'occurence des mots contenus dans la variable sous forme de dictionnaire. Testez avec la variable `lafontaine_txt` entrée ci-dessous."
   ]
  },
  {
   "cell_type": "code",
   "execution_count": 62,
   "metadata": {},
   "outputs": [],
   "source": [
    "lafontaine_txt = \"\"\"Rien ne sert de courir ; il faut partir à point.\\\n",
    "Le Lièvre et la Tortue en sont un témoignage.\\\n",
    "Gageons, dit celle-ci, que vous n'atteindrez point\\\n",
    "Sitôt que moi ce but. - Sitôt ? Etes-vous sage ?\\\n",
    "Repartit l'animal léger.\\\n",
    "Ma commère, il vous faut purger\\\n",
    "Avec quatre grains d'ellébore.\\\n",
    "- Sage ou non, je parie encore.\\\n",
    "Ainsi fut fait : et de tous deux\\\n",
    "On mit près du but les enjeux :\\\n",
    "Savoir quoi, ce n'est pas l'affaire,\\\n",
    "Ni de quel juge l'on convint.\\\n",
    "Notre Lièvre n'avait que quatre pas à faire ;\\\n",
    "J'entends de ceux qu'il fait lorsque prêt d'être atteint\\\n",
    "Il s'éloigne des chiens, les renvoie aux Calendes,\\\n",
    "Et leur fait arpenter les landes.\\\n",
    "Ayant, dis-je, du temps de reste pour brouter,\\\n",
    "Pour dormir, et pour écouter\\\n",
    "D'où vient le vent, il laiss la Tortue\\\n",
    "Aller son train de Sénateur.\\\n",
    "Elle part, elle s'évertue ;\\\n",
    "Elle se hâte avec lenteur.\\\n",
    "Lui cependant méprise une telle victoire,\\\n",
    "Tient la gageure à peu de gloire,\\\n",
    "Croit qu'il y va de son honneur\\\n",
    "De partir tard. Il broute, il se repose,\\\n",
    "Il s'amuse à toute autre chose\\\n",
    "Qu'à la gageure. A la fin quand il vit\\\n",
    "Que l'autre touchait presque au bout de la carrière,\\\n",
    "Il partit comme un trait ; mais les élans qu'il fit\\\n",
    "Furent vains : la Tortue arriva la première.\\\n",
    "Eh bien ! lui cria-t-elle, avais-je pas raison ?\\\n",
    "De quoi vous sert votre vitesse ?\\\n",
    "Moi, l'emporter ! et que serait-ce\\\n",
    "Si vous portiez une maison ?\"\"\""
   ]
  },
  {
   "cell_type": "code",
   "execution_count": 74,
   "metadata": {
    "scrolled": false
   },
   "outputs": [
    {
     "name": "stdout",
     "output_type": "stream",
     "text": [
      "Rien ne sert de courir ; il faut partir à point.Le Lièvre et la Tortue en sont un témoignage.Gageons, dit celle-ci, que vous n'atteindrez pointSitôt que moi ce but. - Sitôt ? Etes-vous sage ?Repartit l'animal léger.Ma commère, il vous faut purgerAvec quatre grains d'ellébore.- Sage ou non, je parie encore.Ainsi fut fait : et de tous deuxOn mit près du but les enjeux :Savoir quoi, ce n'est pas l'affaire,Ni de quel juge l'on convint.Notre Lièvre n'avait que quatre pas à faire ;J'entends de ceux qu'il fait lorsque prêt d'être atteintIl s'éloigne des chiens, les renvoie aux Calendes,Et leur fait arpenter les landes.Ayant, dis-je, du temps de reste pour brouter,Pour dormir, et pour écouterD'où vient le vent, il laiss la TortueAller son train de Sénateur.Elle part, elle s'évertue ;Elle se hâte avec lenteur.Lui cependant méprise une telle victoire,Tient la gageure à peu de gloire,Croit qu'il y va de son honneurDe partir tard. Il broute, il se repose,Il s'amuse à toute autre choseQu'à la gageure. A la fin quand il vitQue l'autre touchait presque au bout de la carrière,Il partit comme un trait ; mais les élans qu'il fitFurent vains : la Tortue arriva la première.Eh bien ! lui cria-t-elle, avais-je pas raison ?De quoi vous sert votre vitesse ?Moi, l'emporter ! et que serait-ceSi vous portiez une maison ?\n"
     ]
    },
    {
     "data": {
      "text/plain": [
       "{'Rien': 1,\n",
       " 'ne': 1,\n",
       " 'sert': 2,\n",
       " 'de': 9,\n",
       " 'courir': 1,\n",
       " '': 43,\n",
       " 'il': 8,\n",
       " 'faut': 2,\n",
       " 'partir': 2,\n",
       " 'à': 5,\n",
       " 'point': 1,\n",
       " 'Le': 1,\n",
       " 'Lièvre': 2,\n",
       " 'et': 4,\n",
       " 'la': 8,\n",
       " 'Tortue': 2,\n",
       " 'en': 1,\n",
       " 'sont': 1,\n",
       " 'un': 2,\n",
       " 'témoignage': 1,\n",
       " 'Gageons': 1,\n",
       " 'dit': 1,\n",
       " 'celle': 1,\n",
       " 'ci': 1,\n",
       " 'que': 4,\n",
       " 'vous': 5,\n",
       " 'n': 3,\n",
       " 'atteindrez': 1,\n",
       " 'pointSitôt': 1,\n",
       " 'moi': 1,\n",
       " 'ce': 2,\n",
       " 'but': 2,\n",
       " 'Sitôt': 1,\n",
       " 'Etes': 1,\n",
       " 'sage': 1,\n",
       " 'Repartit': 1,\n",
       " 'l': 5,\n",
       " 'animal': 1,\n",
       " 'léger': 1,\n",
       " 'Ma': 1,\n",
       " 'commère': 1,\n",
       " 'purgerAvec': 1,\n",
       " 'quatre': 2,\n",
       " 'grains': 1,\n",
       " 'd': 2,\n",
       " 'ellébore': 1,\n",
       " 'Sage': 1,\n",
       " 'ou': 1,\n",
       " 'non': 1,\n",
       " 'je': 3,\n",
       " 'parie': 1,\n",
       " 'encore': 1,\n",
       " 'Ainsi': 1,\n",
       " 'fut': 1,\n",
       " 'fait': 3,\n",
       " 'tous': 1,\n",
       " 'deuxOn': 1,\n",
       " 'mit': 1,\n",
       " 'près': 1,\n",
       " 'du': 2,\n",
       " 'les': 4,\n",
       " 'enjeux': 1,\n",
       " 'Savoir': 1,\n",
       " 'quoi': 2,\n",
       " 'est': 1,\n",
       " 'pas': 3,\n",
       " 'affaire': 1,\n",
       " 'Ni': 1,\n",
       " 'quel': 1,\n",
       " 'juge': 1,\n",
       " 'on': 1,\n",
       " 'convint': 1,\n",
       " 'Notre': 1,\n",
       " 'avait': 1,\n",
       " 'faire': 1,\n",
       " 'J': 1,\n",
       " 'entends': 1,\n",
       " 'ceux': 1,\n",
       " 'qu': 3,\n",
       " 'lorsque': 1,\n",
       " 'prêt': 1,\n",
       " 'être': 1,\n",
       " 'atteintIl': 1,\n",
       " 's': 3,\n",
       " 'éloigne': 1,\n",
       " 'des': 1,\n",
       " 'chiens': 1,\n",
       " 'renvoie': 1,\n",
       " 'aux': 1,\n",
       " 'Calendes': 1,\n",
       " 'Et': 1,\n",
       " 'leur': 1,\n",
       " 'arpenter': 1,\n",
       " 'landes': 1,\n",
       " 'Ayant': 1,\n",
       " 'dis': 1,\n",
       " 'temps': 1,\n",
       " 'reste': 1,\n",
       " 'pour': 2,\n",
       " 'brouter': 1,\n",
       " 'Pour': 1,\n",
       " 'dormir': 1,\n",
       " 'écouterD': 1,\n",
       " 'où': 1,\n",
       " 'vient': 1,\n",
       " 'le': 1,\n",
       " 'vent': 1,\n",
       " 'laiss': 1,\n",
       " 'TortueAller': 1,\n",
       " 'son': 2,\n",
       " 'train': 1,\n",
       " 'Sénateur': 1,\n",
       " 'Elle': 2,\n",
       " 'part': 1,\n",
       " 'elle': 2,\n",
       " 'évertue': 1,\n",
       " 'se': 2,\n",
       " 'hâte': 1,\n",
       " 'avec': 1,\n",
       " 'lenteur': 1,\n",
       " 'Lui': 1,\n",
       " 'cependant': 1,\n",
       " 'méprise': 1,\n",
       " 'une': 2,\n",
       " 'telle': 1,\n",
       " 'victoire': 1,\n",
       " 'Tient': 1,\n",
       " 'gageure': 2,\n",
       " 'peu': 1,\n",
       " 'gloire': 1,\n",
       " 'Croit': 1,\n",
       " 'y': 1,\n",
       " 'va': 1,\n",
       " 'honneurDe': 1,\n",
       " 'tard': 1,\n",
       " 'Il': 3,\n",
       " 'broute': 1,\n",
       " 'repose': 1,\n",
       " 'amuse': 1,\n",
       " 'toute': 1,\n",
       " 'autre': 2,\n",
       " 'choseQu': 1,\n",
       " 'A': 1,\n",
       " 'fin': 1,\n",
       " 'quand': 1,\n",
       " 'vitQue': 1,\n",
       " 'touchait': 1,\n",
       " 'presque': 1,\n",
       " 'au': 1,\n",
       " 'bout': 1,\n",
       " 'carrière': 1,\n",
       " 'partit': 1,\n",
       " 'comme': 1,\n",
       " 'trait': 1,\n",
       " 'mais': 1,\n",
       " 'élans': 1,\n",
       " 'fitFurent': 1,\n",
       " 'vains': 1,\n",
       " 'arriva': 1,\n",
       " 'première': 1,\n",
       " 'Eh': 1,\n",
       " 'bien': 1,\n",
       " 'lui': 1,\n",
       " 'cria': 1,\n",
       " 't': 1,\n",
       " 'avais': 1,\n",
       " 'raison': 1,\n",
       " 'De': 1,\n",
       " 'votre': 1,\n",
       " 'vitesse': 1,\n",
       " 'Moi': 1,\n",
       " 'emporter': 1,\n",
       " 'serait': 1,\n",
       " 'ceSi': 1,\n",
       " 'portiez': 1,\n",
       " 'maison': 1}"
      ]
     },
     "execution_count": 74,
     "metadata": {},
     "output_type": "execute_result"
    }
   ],
   "source": [
    "#je ne suis pas sur de voir la différence avec l'exercice précédent ? la chaine de caractère n'ayant pas de retour à la ligne\n",
    "print(lafontaine_txt)\n",
    "\n",
    "#a part qu'on néttoie les caractères spéciaux\n",
    "\n",
    "def compte_mots_texte(texte):\n",
    "    for i in \";.,':?-!\":\n",
    "        texte=texte.replace(i,\" \")\n",
    "    return compte_mots_ligne(texte)\n",
    "    \n",
    "\n",
    "compte_mots_texte(lafontaine_txt)\n",
    "    "
   ]
  },
  {
   "cell_type": "markdown",
   "metadata": {},
   "source": [
    "4. Déterminez l'occurence des mots **Lièvre** et **Tortue** dans la variable `lafontaine_txt`."
   ]
  },
  {
   "cell_type": "code",
   "execution_count": null,
   "metadata": {},
   "outputs": [],
   "source": [
    "# j'ai pas le fichier a dispo mais je tente une correction sans pouvoir tester :\n",
    "\n",
    "fichier=open(lafontaine_txt.txt, \"r\")\n",
    "texte=fichier.read()\n",
    "texte=texte.replace(\"\\n\",\" \") # je remplace les retours a la ligne par des espaces\n",
    "#une autre méthode serait d'utiliser la fonction de la question 2, en faisant un dictionnaire par liste\n",
    "#puis de concaténer les dictionnaires avec .update\n",
    "\n",
    "dico=compte_mots_texte(texte)\n",
    "print(dico(\"Lièvre\"))\n",
    "print(dico(\"Tortue\"))\n",
    "\n"
   ]
  },
  {
   "cell_type": "markdown",
   "metadata": {},
   "source": [
    "***\n",
    "## Corrigé du TD 10\n",
    "\n",
    "Vous pouvez retrouver le corrigé de ce TD [ici](Corrigés/Corrigé_TD%2010.ipynb)."
   ]
  }
 ],
 "metadata": {
  "celltoolbar": "Format de la Cellule Texte Brut",
  "kernelspec": {
   "display_name": "Python 3",
   "language": "python",
   "name": "python3"
  },
  "language_info": {
   "codemirror_mode": {
    "name": "ipython",
    "version": 3
   },
   "file_extension": ".py",
   "mimetype": "text/x-python",
   "name": "python",
   "nbconvert_exporter": "python",
   "pygments_lexer": "ipython3",
   "version": "3.8.3"
  },
  "latex_envs": {
   "LaTeX_envs_menu_present": true,
   "autoclose": false,
   "autocomplete": true,
   "bibliofile": "biblio.bib",
   "cite_by": "apalike",
   "current_citInitial": 1,
   "eqLabelWithNumbers": true,
   "eqNumInitial": 1,
   "hotkeys": {
    "equation": "Ctrl-E",
    "itemize": "Ctrl-I"
   },
   "labels_anchors": false,
   "latex_user_defs": false,
   "report_style_numbering": false,
   "user_envs_cfg": false
  },
  "varInspector": {
   "cols": {
    "lenName": 16,
    "lenType": 16,
    "lenVar": 40
   },
   "kernels_config": {
    "python": {
     "delete_cmd_postfix": "",
     "delete_cmd_prefix": "del ",
     "library": "var_list.py",
     "varRefreshCmd": "print(var_dic_list())"
    },
    "r": {
     "delete_cmd_postfix": ") ",
     "delete_cmd_prefix": "rm(",
     "library": "var_list.r",
     "varRefreshCmd": "cat(var_dic_list()) "
    }
   },
   "types_to_exclude": [
    "module",
    "function",
    "builtin_function_or_method",
    "instance",
    "_Feature"
   ],
   "window_display": false
  }
 },
 "nbformat": 4,
 "nbformat_minor": 4
}
