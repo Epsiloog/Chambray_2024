{
 "cells": [
  {
   "cell_type": "markdown",
   "metadata": {},
   "source": [
    "***\n",
    "# TD 1 - Algorithmique Avancée 1\n",
    "***"
   ]
  },
  {
   "cell_type": "markdown",
   "metadata": {},
   "source": [
    "***\n",
    "## Exercice 1\n",
    "***"
   ]
  },
  {
   "cell_type": "markdown",
   "metadata": {
    "deletable": false,
    "editable": false
   },
   "source": [
    "1. Ecrire une fonction qui permet de créer une pile à l’aide de valeurs saisies au clavier"
   ]
  },
  {
   "cell_type": "code",
   "execution_count": 5,
   "metadata": {},
   "outputs": [],
   "source": [
    "def creerPile(): \n",
    "    pile=[]\n",
    "    x=input(\"entrez une valeur a empiler, ou stop pour arreter\")\n",
    "    while x!=\"stop\":\n",
    "        x=int(x)\n",
    "        pile.append(x)\n",
    "        x=input(\"entrez une valeur a empiler, ou stop pour arreter\")\n",
    "    return pile\n"
   ]
  },
  {
   "cell_type": "markdown",
   "metadata": {
    "deletable": false,
    "editable": false
   },
   "source": [
    "2. Ecrire la fonction qui permet d’empiler un élément à une pile."
   ]
  },
  {
   "cell_type": "code",
   "execution_count": 6,
   "metadata": {},
   "outputs": [],
   "source": [
    "def empiler(element, pile):\n",
    "    pile.append(element)\n",
    "    return pile"
   ]
  },
  {
   "cell_type": "markdown",
   "metadata": {
    "deletable": false,
    "editable": false
   },
   "source": [
    "3. Ecrire la fonction qui permet de dépiler la pile."
   ]
  },
  {
   "cell_type": "code",
   "execution_count": 7,
   "metadata": {},
   "outputs": [],
   "source": [
    "def depiler(pile):\n",
    "    pile.pop()\n",
    "    return pile"
   ]
  },
  {
   "cell_type": "markdown",
   "metadata": {
    "deletable": false,
    "editable": false
   },
   "source": [
    "4. Ecrire la fonction qui permet d’afficher le contenu d’une pile."
   ]
  },
  {
   "cell_type": "code",
   "execution_count": 8,
   "metadata": {},
   "outputs": [],
   "source": [
    "def afficher(pile):\n",
    "    print(pile)"
   ]
  },
  {
   "cell_type": "markdown",
   "metadata": {
    "deletable": false,
    "editable": false
   },
   "source": [
    "5. Ecrire la fonction qui permet de savoir si une pile est vide."
   ]
  },
  {
   "cell_type": "code",
   "execution_count": 9,
   "metadata": {},
   "outputs": [],
   "source": [
    "def est_vide(pile):\n",
    "    return pile==[]"
   ]
  },
  {
   "cell_type": "markdown",
   "metadata": {
    "deletable": false,
    "editable": false
   },
   "source": [
    "6. Ecrire la fonction qui permet de donner le sommet d’une pile."
   ]
  },
  {
   "cell_type": "code",
   "execution_count": 10,
   "metadata": {},
   "outputs": [],
   "source": [
    "def sommet(pile):\n",
    "    return pile[-1]"
   ]
  },
  {
   "cell_type": "markdown",
   "metadata": {
    "deletable": false,
    "editable": false
   },
   "source": [
    "7. Ecrire la fonction qui permet de donner la hauteur d’une pile."
   ]
  },
  {
   "cell_type": "code",
   "execution_count": 11,
   "metadata": {},
   "outputs": [],
   "source": [
    "def hauteur(pile):\n",
    "    return len(pile)"
   ]
  },
  {
   "cell_type": "markdown",
   "metadata": {
    "deletable": false,
    "editable": false
   },
   "source": [
    "8. Ecrire une fonction qui permet de manipuler une pile en utilisant les touches du clavier numérique de 0 à 6 en respectant le menu suivant :\n",
    "\n",
    "        0 : Saisir une pile\n",
    "        1 : Empiler un élément dans la pile\n",
    "        2 : Dépiler la pile\n",
    "        3 : Afficher le contenu de la pile\n",
    "        4 : Afficher le sommet de la pile\n",
    "        5 : Afficher la hauteur de la pile\n",
    "        6 : Sortir du menu"
   ]
  },
  {
   "cell_type": "code",
   "execution_count": 34,
   "metadata": {},
   "outputs": [
    {
     "name": "stdout",
     "output_type": "stream",
     "text": [
      "quelle opération voulez vous faire ?0\n",
      "entrez une valeur a empiler, ou stop pour arreter1\n",
      "entrez une valeur a empiler, ou stop pour arreter2\n",
      "entrez une valeur a empiler, ou stop pour arreter3\n",
      "entrez une valeur a empiler, ou stop pour arreter4\n",
      "entrez une valeur a empiler, ou stop pour arreter5\n",
      "entrez une valeur a empiler, ou stop pour arreter6\n",
      "entrez une valeur a empiler, ou stop pour arreterstop\n",
      "quelle opération voulez vous faire ?3\n",
      "[1, 2, 3, 4, 5, 6]\n",
      "quelle opération voulez vous faire ?1\n",
      "quel élément a empiler ?50\n",
      "quelle opération voulez vous faire ?3\n",
      "[1, 2, 3, 4, 5, 6, 50]\n",
      "quelle opération voulez vous faire ?2\n",
      "quelle opération voulez vous faire ?2\n",
      "quelle opération voulez vous faire ?2\n",
      "quelle opération voulez vous faire ?3\n",
      "[1, 2, 3, 4]\n",
      "quelle opération voulez vous faire ?4\n",
      "4\n",
      "quelle opération voulez vous faire ?5\n",
      "4\n",
      "quelle opération voulez vous faire ?6\n"
     ]
    }
   ],
   "source": [
    "entree=int(input(\"quelle opération voulez vous faire ?\"))\n",
    "\n",
    "while(entree!=6):\n",
    "    if entree==0:\n",
    "        p=creerPile()\n",
    "    elif entree==1:\n",
    "        el=int(input(\"quel élément a empiler ?\"))\n",
    "        p=empiler(el,p)\n",
    "    elif entree==2:\n",
    "        p=depiler(p)\n",
    "    elif entree==3:\n",
    "        afficher(p)\n",
    "    elif entree==4:\n",
    "        print(sommet(p))\n",
    "    elif entree==5:\n",
    "        print(hauteur(p))\n",
    "    entree=int(input(\"quelle opération voulez vous faire ?\"))"
   ]
  },
  {
   "cell_type": "markdown",
   "metadata": {
    "deletable": false,
    "editable": false
   },
   "source": [
    "***\n",
    "## Exercice 2\n",
    "***"
   ]
  },
  {
   "cell_type": "markdown",
   "metadata": {
    "deletable": false,
    "editable": false
   },
   "source": [
    "1. Ecrire une fonction dont l’entrée est une file d’entiers et dont la sortie est une liste qui contient tous les nombres multiples de 3 en tête de liste suivant le même ordre que la file originale, suivis des autres éléments en ordre inverse.\n",
    "    \n",
    "    Nous donnons l’exemple suivant pour illustrer la fonction demandée :\n",
    "    \n",
    "    Si la fonction prend en entrée la file $[4,6,7,1,3,2,9,8,5]$, elle donnera en sortie la liste suivante $(6,3,9,5,8,2,1,7,4)$."
   ]
  },
  {
   "cell_type": "code",
   "execution_count": 13,
   "metadata": {},
   "outputs": [
    {
     "name": "stdout",
     "output_type": "stream",
     "text": [
      "[6, 3, 9, 5, 8, 2, 1, 7, 4]\n"
     ]
    }
   ],
   "source": [
    "#besoin des fonctions enfiler.défiler etc : \n",
    "def enfiler(e,F):\n",
    "    F.append(e)\n",
    "    return F \n",
    "\n",
    "def defiler(F):\n",
    "    if est_vide(F):\n",
    "        return []\n",
    "    else:\n",
    "        F.pop(0)\n",
    "        return F\n",
    "\n",
    "def queue(F):\n",
    "    if est_vide(F):\n",
    "        return \n",
    "    else:\n",
    "        return F[0]\n",
    "\n",
    "#####\n",
    "        \n",
    "def exo2(file):\n",
    "    fileTemp=[]\n",
    "    pileTemp=[]\n",
    "    while est_vide(file)==False:\n",
    "        el=queue(file)\n",
    "        defiler(file)\n",
    "        if el%3==0:\n",
    "            enfiler(el,fileTemp)\n",
    "        else:\n",
    "            empiler(el, pileTemp)\n",
    "        \n",
    "    resultat=[]\n",
    "    while est_vide(fileTemp)==False:\n",
    "        el=queue(fileTemp)\n",
    "        defiler(fileTemp)\n",
    "        enfiler(el,resultat)\n",
    "    while est_vide(pileTemp)==False:\n",
    "        el=sommet(pileTemp)\n",
    "        depiler(pileTemp)\n",
    "        enfiler(el,resultat)\n",
    "    return resultat\n",
    "        \n",
    "        \n",
    "print(exo2([4,6,7,1,3,2,9,8,5]))"
   ]
  },
  {
   "cell_type": "markdown",
   "metadata": {
    "deletable": false,
    "editable": false
   },
   "source": [
    "2. Ecrire une fonction dont l’entrée est une pile d’entiers et dont la sortie est une liste qui contient tous les nombres multiples de 3 en tête de liste et suivant le même ordre que la pile, suivis des autres éléments dans le même ordre.\n",
    "\n",
    "    Nous donnons l’exemple suivant pour illustrer la fonction demandée :\n",
    "    \n",
    "    Si la fonction prend en entrée la pile $[4,6,7,1,3,2,9,8,5]$, elle donnera en sortie la liste $(6,3,9,4,7,1,2,8,5)$."
   ]
  },
  {
   "cell_type": "code",
   "execution_count": 14,
   "metadata": {},
   "outputs": [
    {
     "name": "stdout",
     "output_type": "stream",
     "text": [
      "[6, 3, 9, 4, 7, 1, 2, 8, 5]\n"
     ]
    }
   ],
   "source": [
    "def exo2_2(file):\n",
    "    fileTemp=[]\n",
    "    fileTemp2=[]\n",
    "    while est_vide(file)==False:\n",
    "        el=queue(file)\n",
    "        defiler(file)\n",
    "        if el%3==0:\n",
    "            enfiler(el,fileTemp)\n",
    "        else:\n",
    "            enfiler(el,fileTemp2)\n",
    "        \n",
    "    resultat=[]\n",
    "    while est_vide(fileTemp)==False:\n",
    "        el=queue(fileTemp)\n",
    "        defiler(fileTemp)\n",
    "        enfiler(el,resultat)\n",
    "    while est_vide(fileTemp2)==False:\n",
    "        el=queue(fileTemp2)\n",
    "        defiler(fileTemp2)\n",
    "        enfiler(el,resultat)\n",
    "    return resultat\n",
    "    \n",
    "print(exo2_2([4,6,7,1,3,2,9,8,5]))"
   ]
  },
  {
   "cell_type": "markdown",
   "metadata": {
    "deletable": false,
    "editable": false
   },
   "source": [
    "***\n",
    "## Exercice 3\n",
    "***"
   ]
  },
  {
   "cell_type": "markdown",
   "metadata": {
    "deletable": false,
    "editable": false
   },
   "source": [
    "On définit un palindrome comme une chaine de caractères qui se lit de la même manière de gauche à droite et de droite à gauche.\n",
    "\n",
    "Utiliser les notions de pile et de file pour écrire une fonction palindrome qui détermine si une chaine de caractères rentrée en paramètre est un palindrome en donnant comme sortie vrai ou faux. Il est demandé de parcourir la liste de la chaine de caractères qu’une seule fois.\n",
    "\n",
    "Tester votre fonction avec comme entrée **« RADAR »** ou **« KAYAK »**, elle doit retourner vrai. Puis, la tester avec d’autres mots qui ne sont pas des palindromes et vérifier qu’elle retourne bien faux."
   ]
  },
  {
   "cell_type": "code",
   "execution_count": 27,
   "metadata": {},
   "outputs": [
    {
     "name": "stdout",
     "output_type": "stream",
     "text": [
      "True\n",
      "False\n"
     ]
    }
   ],
   "source": [
    "def palindrome(mot):\n",
    "    mot2=mot.copy()\n",
    "    pile=[]\n",
    "    while est_vide(mot2)==False:\n",
    "        el=sommet(mot2)\n",
    "        depiler(mot2)\n",
    "        empiler(el,pile)\n",
    "    if pile!=mot:\n",
    "        return False\n",
    "    else:\n",
    "        return True\n",
    "\n",
    "print(palindrome([\"r\", \"a\", \"d\", \"a\", \"r\"]))\n",
    "print(palindrome([\"t\", \"r\", \"u\", \"c\"]))\n"
   ]
  },
  {
   "cell_type": "markdown",
   "metadata": {
    "deletable": false,
    "editable": false
   },
   "source": [
    "***\n",
    "## Exercice 4\n",
    "***"
   ]
  },
  {
   "cell_type": "markdown",
   "metadata": {
    "deletable": false,
    "editable": false
   },
   "source": [
    "1. Utiliser les notions de piles et de files pour écrire une fonction « verification_parentheses » qui permet de vérifier la validité des parenthèses et des crochets contenus dans une expression arithmétique.\n",
    "    \n",
    "    Exemple pour illustrer la vérification des parenthèses :\n",
    "    \n",
    "    - L’expression $6+(7+b)×(8+(2-a))$ est correctement parenthésée.\n",
    "    - L’expression $(a-6)×9)+3$ est mal parenthésée parce qu’il y a plus de parenthèses fermantes $« ) »$ que de parenthèses ouvrantes $« ( »$.\n",
    "    - L’expression $7/(4+b))×(8$ est mal parenthésée même s’il y a autant de parenthèses ouvrantes $« ( »$ que de parenthèses fermantes $« ) »$ car elles sont mal positionnées."
   ]
  },
  {
   "cell_type": "code",
   "execution_count": 31,
   "metadata": {},
   "outputs": [
    {
     "name": "stdout",
     "output_type": "stream",
     "text": [
      "True\n",
      "False\n",
      "False\n"
     ]
    }
   ],
   "source": [
    "'''\n",
    "beaucoup de façon de faire ici !\n",
    "mon idée :\n",
    "- garder que les symboles ((()())) puis passer en revue les symboles :\n",
    "si ( , empiler un ( dans une pile\n",
    "si ), dépiler un élément : si c'est un ( ,ok, on l'enlève, si il n'y a pas délément, c'est pas bon\n",
    "a la fin, vérifier qu'il n'y a plus de ( dans la pile\n",
    "\n",
    "Pour la version avec différentes parenthèses : vérifier si les parenthèses qui s'annulent sont du même type\n",
    "'''\n",
    "\n",
    "def verif(expression):\n",
    "    texte=\"\"\n",
    "    pile=[]\n",
    "    for i in expression:\n",
    "        if i in [\"(\", \")\"]:\n",
    "            texte+=i\n",
    "    for i in texte:\n",
    "        if i=='(':\n",
    "            pile=empiler(i,pile)\n",
    "        else:\n",
    "            if hauteur(pile)==0:\n",
    "                return False\n",
    "            else:\n",
    "                depiler(pile)\n",
    "    if hauteur(pile)==0:\n",
    "        return True\n",
    "    else:\n",
    "        return False\n",
    "\n",
    "print(verif(\"6+(7+𝑏)×(8+(2−𝑎))\"))\n",
    "print(verif(\"(𝑎−6)×9)+3  \"))\n",
    "print(verif(\"7/(4+𝑏))×(8 \"))\n"
   ]
  },
  {
   "cell_type": "markdown",
   "metadata": {
    "editable": false
   },
   "source": [
    "2. Améliorer cette fonction pour tester aussi bien les parenthèses que les crochets et les accolades.\n",
    "    \n",
    "    Exemple :\n",
    "    \n",
    "    - L’expression $[(a+b/2) × (a/b)]$ est correctement parenthésée.\n",
    "    - L’expression $(a+b] × [a-b)$ est mal parenthésée.\n",
    "    - L’expression ${a,(3+b]-a,-b}$ est mal parenthésée."
   ]
  },
  {
   "cell_type": "code",
   "execution_count": 32,
   "metadata": {},
   "outputs": [
    {
     "name": "stdout",
     "output_type": "stream",
     "text": [
      "True\n",
      "False\n",
      "False\n",
      "True\n",
      "False\n",
      "False\n"
     ]
    }
   ],
   "source": [
    "\n",
    "#################### pour plusieurs parenthèses\n",
    "#quand on dépile on vérifie si la parenthèse est du même type\n",
    "\n",
    "def verif2(expression):\n",
    "    texte=\"\"\n",
    "    pile=[]\n",
    "    for i in expression:\n",
    "        if i in [\"(\", \")\",\"[\", \"]\", \"{\",\"}\"]:\n",
    "            texte+=i\n",
    "    for i in texte:\n",
    "        if i in [\"(\",\"[\",\"{\"]:\n",
    "            pile=empiler(i,pile)\n",
    "        else:\n",
    "            if hauteur(pile)==0:\n",
    "                return False\n",
    "            else:\n",
    "                j=sommet(pile)\n",
    "                depiler(pile)\n",
    "                if i==\")\" and j==\"(\":\n",
    "                    pass\n",
    "                elif i==\"]\" and j==\"[\":\n",
    "                    pass\n",
    "                elif i==\"}\" and j==\"{\":\n",
    "                    pass\n",
    "                else:\n",
    "                    return False\n",
    "    if hauteur(pile)==0:\n",
    "        return True\n",
    "    else:\n",
    "        return False\n",
    "    \n",
    "print(verif2(\"6+(7+𝑏)×(8+(2−𝑎))\"))\n",
    "print(verif2(\"(𝑎−6)×9)+3  \"))\n",
    "print(verif2(\"7/(4+𝑏))×(8 \"))\n",
    "\n",
    "print(verif2(\"[(𝑎+𝑏/2)×(𝑎/𝑏)]\"))\n",
    "print(verif2(\"(𝑎+𝑏]×[𝑎−𝑏)\"))\n",
    "print(verif2(\"𝑎,(3+𝑏]−𝑎,−𝑏 \"))\n"
   ]
  }
 ],
 "metadata": {
  "celltoolbar": "Format de la Cellule Texte Brut",
  "kernelspec": {
   "display_name": "Python 3",
   "language": "python",
   "name": "python3"
  },
  "language_info": {
   "codemirror_mode": {
    "name": "ipython",
    "version": 3
   },
   "file_extension": ".py",
   "mimetype": "text/x-python",
   "name": "python",
   "nbconvert_exporter": "python",
   "pygments_lexer": "ipython3",
   "version": "3.8.3"
  },
  "varInspector": {
   "cols": {
    "lenName": 16,
    "lenType": 16,
    "lenVar": 40
   },
   "kernels_config": {
    "python": {
     "delete_cmd_postfix": "",
     "delete_cmd_prefix": "del ",
     "library": "var_list.py",
     "varRefreshCmd": "print(var_dic_list())"
    },
    "r": {
     "delete_cmd_postfix": ") ",
     "delete_cmd_prefix": "rm(",
     "library": "var_list.r",
     "varRefreshCmd": "cat(var_dic_list()) "
    }
   },
   "types_to_exclude": [
    "module",
    "function",
    "builtin_function_or_method",
    "instance",
    "_Feature"
   ],
   "window_display": false
  }
 },
 "nbformat": 4,
 "nbformat_minor": 4
}
