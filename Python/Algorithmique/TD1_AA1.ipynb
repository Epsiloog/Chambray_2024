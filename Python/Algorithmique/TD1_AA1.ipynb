{
 "cells": [
  {
   "cell_type": "markdown",
   "metadata": {},
   "source": [
    "***\n",
    "# TD 1 - Algorithmique Avancée 1\n",
    "***"
   ]
  },
  {
   "cell_type": "markdown",
   "metadata": {},
   "source": [
    "***\n",
    "## Exercice 1\n",
    "***"
   ]
  },
  {
   "cell_type": "markdown",
   "metadata": {},
   "source": [
    "0. Ecrire une fonction qui permet de créer une pile"
   ]
  },
  {
   "cell_type": "code",
   "execution_count": null,
   "metadata": {},
   "outputs": [],
   "source": [
    "# VOTRE CODE ICI"
   ]
  },
  {
   "cell_type": "markdown",
   "metadata": {
    "deletable": false
   },
   "source": [
    "1. Ecrire la fonction qui permet d’empiler un élément à une pile"
   ]
  },
  {
   "cell_type": "code",
   "execution_count": null,
   "metadata": {},
   "outputs": [],
   "source": [
    "# VOTRE CODE ICI"
   ]
  },
  {
   "cell_type": "markdown",
   "metadata": {
    "deletable": false
   },
   "source": [
    "2. Ecrire une fonction qui permet de créer une pile à l’aide de valeurs saisies au clavier"
   ]
  },
  {
   "cell_type": "code",
   "execution_count": null,
   "metadata": {},
   "outputs": [],
   "source": [
    "# VOTRE CODE ICI"
   ]
  },
  {
   "cell_type": "markdown",
   "metadata": {
    "deletable": false
   },
   "source": [
    "3. Ecrire la fonction qui permet de savoir si une pile est vide."
   ]
  },
  {
   "cell_type": "code",
   "execution_count": null,
   "metadata": {},
   "outputs": [],
   "source": [
    "# VOTRE CODE ICI"
   ]
  },
  {
   "cell_type": "markdown",
   "metadata": {
    "deletable": false
   },
   "source": [
    "4. Ecrire la fonction qui permet de dépiler la pile."
   ]
  },
  {
   "cell_type": "code",
   "execution_count": null,
   "metadata": {},
   "outputs": [],
   "source": [
    "# VOTRE CODE ICI"
   ]
  },
  {
   "cell_type": "markdown",
   "metadata": {
    "deletable": false
   },
   "source": [
    "5. Ecrire la fonction qui permet d’afficher le contenu d’une pile de manière verticale."
   ]
  },
  {
   "cell_type": "code",
   "execution_count": null,
   "metadata": {},
   "outputs": [],
   "source": [
    "# VOTRE CODE ICI"
   ]
  },
  {
   "cell_type": "markdown",
   "metadata": {
    "deletable": false,
    "editable": false
   },
   "source": [
    "6. Ecrire la fonction qui permet de donner le sommet d’une pile."
   ]
  },
  {
   "cell_type": "code",
   "execution_count": null,
   "metadata": {},
   "outputs": [],
   "source": [
    "# VOTRE CODE ICI"
   ]
  },
  {
   "cell_type": "markdown",
   "metadata": {
    "deletable": false,
    "editable": false
   },
   "source": [
    "7. Ecrire la fonction qui permet de donner la hauteur d’une pile."
   ]
  },
  {
   "cell_type": "code",
   "execution_count": null,
   "metadata": {},
   "outputs": [],
   "source": [
    "# VOTRE CODE ICI"
   ]
  },
  {
   "cell_type": "markdown",
   "metadata": {
    "deletable": false,
    "editable": false
   },
   "source": [
    "8. Ecrire une fonction qui permet de manipuler une pile en utilisant les touches du clavier numérique de 0 à 6 en respectant le menu suivant :\n",
    "\n",
    "        0 : Saisir une pile\n",
    "        1 : Empiler un élément dans la pile\n",
    "        2 : Dépiler la pile\n",
    "        3 : Afficher le contenu de la pile\n",
    "        4 : Afficher le sommet de la pile\n",
    "        5 : Afficher la hauteur de la pile\n",
    "        6 : Sortir du menu"
   ]
  },
  {
   "cell_type": "code",
   "execution_count": null,
   "metadata": {},
   "outputs": [],
   "source": [
    "# VOTRE CODE ICI"
   ]
  },
  {
   "cell_type": "markdown",
   "metadata": {
    "deletable": false,
    "editable": false
   },
   "source": [
    "***\n",
    "## Exercice 2\n",
    "***"
   ]
  },
  {
   "cell_type": "markdown",
   "metadata": {
    "deletable": false,
    "editable": false
   },
   "source": [
    "1. Ecrire une fonction dont l’entrée est une file d’entiers et dont la sortie est une liste qui contient tous les nombres multiples de 3 en tête de liste suivant le même ordre que la file originale, suivis des autres éléments en ordre inverse.\n",
    "    \n",
    "    Nous donnons l’exemple suivant pour illustrer la fonction demandée :\n",
    "    \n",
    "    Si la fonction prend en entrée la file $[4,6,7,1,3,2,9,8,5]$, elle donnera en sortie la liste suivante $(6,3,9,5,8,2,1,7,4)$."
   ]
  },
  {
   "cell_type": "markdown",
   "metadata": {},
   "source": [
    "**Astuce:**\n",
    "\n",
    "liste de départ : [4,6,7,1,3]\n",
    "\n",
    "file : [6,3] on met les multiples de 3\n",
    "pile : [4,7,1] on met les non multiples de 3\n",
    "\n",
    "liste finale : [6,3,1,7,4]\n",
    "\n",
    "Donc l'astuce c'est de mettre dans la liste finale tous les éléments de la file **dans l'ordre** et tous les éléments de la pile **dans l'ordre inverse**.\n",
    "\n",
    "Si je veux les éléments dans l'ordre inverse il me suffit des les dépiler les uns après les autres."
   ]
  },
  {
   "cell_type": "code",
   "execution_count": null,
   "metadata": {},
   "outputs": [],
   "source": [
    "# VOTRE CODE ICI"
   ]
  },
  {
   "cell_type": "markdown",
   "metadata": {
    "deletable": false,
    "editable": false
   },
   "source": [
    "2. Ecrire une fonction dont l’entrée est une pile d’entiers et dont la sortie est une liste qui contient tous les nombres multiples de 3 en tête de liste et suivant le même ordre que la pile, suivis des autres éléments dans le même ordre.\n",
    "\n",
    "    Nous donnons l’exemple suivant pour illustrer la fonction demandée :\n",
    "    \n",
    "    Si la fonction prend en entrée la pile $[4,6,7,1,3,2,9,8,5]$, elle donnera en sortie la liste $(6,3,9,4,7,1,2,8,5)$."
   ]
  },
  {
   "cell_type": "code",
   "execution_count": null,
   "metadata": {},
   "outputs": [],
   "source": [
    "# VOTRE CODE ICI"
   ]
  },
  {
   "cell_type": "markdown",
   "metadata": {
    "deletable": false,
    "editable": false
   },
   "source": [
    "***\n",
    "## Exercice 3\n",
    "***"
   ]
  },
  {
   "cell_type": "markdown",
   "metadata": {
    "deletable": false,
    "editable": false
   },
   "source": [
    "On définit un palindrome comme une chaine de caractères qui se lit de la même manière de gauche à droite et de droite à gauche.\n",
    "\n",
    "Utiliser les notions de pile et de file pour écrire une fonction palindrome qui détermine si une chaine de caractères rentrée en paramètre est un palindrome en donnant comme sortie vrai ou faux. Il est demandé de parcourir la liste de la chaine de caractères qu’une seule fois.\n",
    "\n",
    "Tester votre fonction avec comme entrée **« RADAR »** ou **« KAYAK »**, elle doit retourner vrai. Puis, la tester avec d’autres mots qui ne sont pas des palindromes et vérifier qu’elle retourne bien faux."
   ]
  },
  {
   "cell_type": "code",
   "execution_count": null,
   "metadata": {},
   "outputs": [],
   "source": [
    "# VOTRE CODE ICI"
   ]
  },
  {
   "cell_type": "markdown",
   "metadata": {
    "deletable": false,
    "editable": false
   },
   "source": [
    "***\n",
    "## Exercice 4\n",
    "***"
   ]
  },
  {
   "cell_type": "markdown",
   "metadata": {
    "deletable": false,
    "editable": false
   },
   "source": [
    "1. Utiliser les notions de piles et de files pour écrire une fonction « verification_parentheses » qui permet de vérifier la validité des parenthèses et des crochets contenus dans une expression arithmétique.\n",
    "    \n",
    "    Exemple pour illustrer la vérification des parenthèses :\n",
    "    \n",
    "    - L’expression $6+(7+b)×(8+(2-a))$ est correctement parenthésée.\n",
    "    - L’expression $(a-6)×9)+3$ est mal parenthésée parce qu’il y a plus de parenthèses fermantes $« ) »$ que de parenthèses ouvrantes $« ( »$.\n",
    "    - L’expression $7/(4+b))×(8$ est mal parenthésée même s’il y a autant de parenthèses ouvrantes $« ( »$ que de parenthèses fermantes $« ) »$ car elles sont mal positionnées."
   ]
  },
  {
   "cell_type": "code",
   "execution_count": null,
   "metadata": {},
   "outputs": [],
   "source": [
    "# VOTRE CODE ICI"
   ]
  },
  {
   "cell_type": "markdown",
   "metadata": {
    "editable": false
   },
   "source": [
    "2. Améliorer cette fonction pour tester aussi bien les parenthèses que les crochets et les accolades.\n",
    "    \n",
    "    Exemple :\n",
    "    \n",
    "    - L’expression $[(a+b/2) × (a/b)]$ est correctement parenthésée.\n",
    "    - L’expression $(a+b] × [a-b)$ est mal parenthésée.\n",
    "    - L’expression ${a,(3+b]-a,-b}$ est mal parenthésée."
   ]
  },
  {
   "cell_type": "code",
   "execution_count": null,
   "metadata": {},
   "outputs": [],
   "source": [
    "# VOTRE CODE ICI"
   ]
  }
 ],
 "metadata": {
  "celltoolbar": "Format de la Cellule Texte Brut",
  "kernelspec": {
   "display_name": "Python 3",
   "language": "python",
   "name": "python3"
  },
  "language_info": {
   "codemirror_mode": {
    "name": "ipython",
    "version": 3
   },
   "file_extension": ".py",
   "mimetype": "text/x-python",
   "name": "python",
   "nbconvert_exporter": "python",
   "pygments_lexer": "ipython3",
   "version": "3.7.4"
  },
  "varInspector": {
   "cols": {
    "lenName": 16,
    "lenType": 16,
    "lenVar": 40
   },
   "kernels_config": {
    "python": {
     "delete_cmd_postfix": "",
     "delete_cmd_prefix": "del ",
     "library": "var_list.py",
     "varRefreshCmd": "print(var_dic_list())"
    },
    "r": {
     "delete_cmd_postfix": ") ",
     "delete_cmd_prefix": "rm(",
     "library": "var_list.r",
     "varRefreshCmd": "cat(var_dic_list()) "
    }
   },
   "types_to_exclude": [
    "module",
    "function",
    "builtin_function_or_method",
    "instance",
    "_Feature"
   ],
   "window_display": false
  }
 },
 "nbformat": 4,
 "nbformat_minor": 4
}
