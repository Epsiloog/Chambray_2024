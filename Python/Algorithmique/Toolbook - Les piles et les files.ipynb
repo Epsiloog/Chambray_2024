{
 "cells": [
  {
   "cell_type": "markdown",
   "metadata": {},
   "source": [
    "***\n",
    "# ToolBook - Les piles et les files\n",
    "***\n",
    "\n",
    "## Sommaire\n",
    "\n",
    "* <a href=\"#Prérequis\">Prérequis</a>\n",
    "* <a href=\"#Les-piles\">Les piles</a>\n",
    "* <a href=\"#Les-files\">Les files</a>\n",
    "\n",
    "\n",
    "## Prérequis\n",
    "\n",
    "Vous devez avoir préalablement visualisé les mimos suivants :\n",
    "\n",
    "- [Les listes - Description et fonctionnement]()\n",
    "- [Les listes – Implémentations]()\n",
    "- [Module 1 : Les ensembles - Description et fonctionnement]()\n",
    "- [Module 2 : Les ensembles – Implémentations]()\n",
    "- [Module 3 : Piles]()\n",
    "- [Module 4 : Les piles – Implémentations]()\n",
    "- [Module 5 : Files]()\n",
    "- [Module 6 : Les files - Implémentations]()\n",
    "***"
   ]
  },
  {
   "cell_type": "markdown",
   "metadata": {},
   "source": [
    "## Les piles\n",
    "\n",
    "### Définition\n",
    "\n",
    "Une **Pile** (ou **Stack** en anglais) est une structure de données séquentielle dans laquelle les éléments sont accessibles selon une logique **LIFO** (Last-In First-Out) : **l’élément inséré en dernier est le premier à sortir**. L'élément  placé en haut de la pile (élément inséré en dernier) est appelé le **sommet** de la pile.\n",
    "\n",
    "### Opérations sur les piles\n",
    "\n",
    "Voici les opérations qui peuvent être effectuées sur une pile :\n",
    "- Tester si une pile **est vide**"
   ]
  },
  {
   "cell_type": "code",
   "execution_count": null,
   "metadata": {},
   "outputs": [],
   "source": [
    "pile=[3, \"info\",54,\"ESME\"]\n",
    "\n",
    "def est_vide(P):\n",
    "    return P == []   #Renvoie True si la pile est vide\n",
    "\n",
    "print(est_vide(pile))"
   ]
  },
  {
   "cell_type": "markdown",
   "metadata": {},
   "source": [
    "- **Empiler** un nouvel élément sur la pile (**push** en anglais)"
   ]
  },
  {
   "cell_type": "code",
   "execution_count": null,
   "metadata": {},
   "outputs": [],
   "source": [
    "pile=[3, \"info\",54,\"ESME\"]\n",
    "\n",
    "def empiler(e,P):\n",
    "    P.append(e)\n",
    "    return P   #Ajoute (empile l'élément e à P)\n",
    "\n",
    "print(empiler(\"ok\",pile))"
   ]
  },
  {
   "cell_type": "markdown",
   "metadata": {},
   "source": [
    "- **Dépiler** un élément de la pile (**pop** en anglais)\n",
    "\n",
    "**_Attention_** _: On ne peut pas dépiler une pile vide. Il faudra prendre le soin de vérifier que la pile n'est pas vide avant de la dépiler._"
   ]
  },
  {
   "cell_type": "code",
   "execution_count": null,
   "metadata": {},
   "outputs": [],
   "source": [
    "pile=[3, \"info\",54,\"ESME\"]\n",
    "\n",
    "def depiler(P):\n",
    "    if est_vide(P):\n",
    "        return []\n",
    "    else:\n",
    "        P.pop()\n",
    "    return P   #Renvoie la pile une fois dépilée\n",
    "\n",
    "print(depiler(pile))"
   ]
  },
  {
   "cell_type": "markdown",
   "metadata": {},
   "source": [
    "- Déterminer le **sommet** de la pile (**top** en anglais)\n",
    "\n",
    "**_Attention_** _: On ne peut pas atteindre le sommet d'une pile vide. Il faudra prendre le soin de vérifier que la pile n'est pas vide avant de déterminer son sommet._"
   ]
  },
  {
   "cell_type": "code",
   "execution_count": null,
   "metadata": {},
   "outputs": [],
   "source": [
    "pile=[3, \"info\",54,\"ESME\"]\n",
    "\n",
    "def sommet(P):\n",
    "    if est_vide(P):\n",
    "        return \n",
    "    else:\n",
    "        return P[-1]   #Renvoie le sommet de la pile\n",
    "    \n",
    "print(sommet(pile))"
   ]
  },
  {
   "cell_type": "markdown",
   "metadata": {},
   "source": [
    "- Déterminer la **hauteur** de la pile"
   ]
  },
  {
   "cell_type": "code",
   "execution_count": null,
   "metadata": {},
   "outputs": [],
   "source": [
    "pile=[3, \"info\",54,\"ESME\"]\n",
    "\n",
    "def hauteur(P):\n",
    "    return len(P)   #Renvoie la hauteur de la pile\n",
    "\n",
    "print(hauteur(pile))"
   ]
  },
  {
   "cell_type": "markdown",
   "metadata": {},
   "source": [
    "## Les files\n",
    "\n",
    "### Définition\n",
    "\n",
    "Une **File** (ou **Queue** en anglais) est une structure de données séquentielle dans laquelle les éléments sont accessibles selon une logique **FIFO** (First-In First-Out) : **le premier élément inséré dans la liste est le premier à en sortir**. L'élément  placé en dessous de la file (élément inséré en premier) est appelé la **queue** de la file.\n",
    "\n",
    "### Opérations sur les files\n",
    "\n",
    "Voici les opérations qui peuvent être effectuées sur une file :\n",
    "- Tester si une file **est vide**"
   ]
  },
  {
   "cell_type": "code",
   "execution_count": null,
   "metadata": {},
   "outputs": [],
   "source": [
    "file=[25,12,\"info\",8]\n",
    "\n",
    "def est_vide(F):\n",
    "    return F == []   #Renvoie True si la pile est vide\n",
    "\n",
    "print(est_vide(file))"
   ]
  },
  {
   "cell_type": "markdown",
   "metadata": {},
   "source": [
    "- **Enfiler** un nouvel élément sur la pile (**enqueue** en anglais)"
   ]
  },
  {
   "cell_type": "code",
   "execution_count": null,
   "metadata": {},
   "outputs": [],
   "source": [
    "file=[25,12,\"info\",8]\n",
    "\n",
    "def enfiler(e,F):\n",
    "    F.append(e)\n",
    "    return F   #Ajoute (enfile l'élément e à F)\n",
    "\n",
    "print(enfiler(\"ok\",file))"
   ]
  },
  {
   "cell_type": "markdown",
   "metadata": {},
   "source": [
    "- **Défiler** un élément de la pile (**dequeue** en anglais)\n",
    "\n",
    "**_Attention_** _: On ne peut pas défiler une file vide. Il faudra prendre le soin de vérifier que la file n'est pas vide avant de la défiler._"
   ]
  },
  {
   "cell_type": "code",
   "execution_count": null,
   "metadata": {},
   "outputs": [],
   "source": [
    "file=[3, \"info\",54,\"ESME\"]\n",
    "\n",
    "def defiler(F):\n",
    "    if est_vide(F):\n",
    "        return []\n",
    "    else:\n",
    "        F.pop(0)\n",
    "        return F   #Renvoie la file une fois défilée\n",
    "\n",
    "print(defiler(file))"
   ]
  },
  {
   "cell_type": "markdown",
   "metadata": {},
   "source": [
    "- Déterminer la **queue** de la file (**queue** en anglais)\n",
    "\n",
    "**_Attention_** _: On ne peut pas atteindre la queue d'une file vide. Il faudra prendre le soin de vérifier que la file n'est pas vide avant de déterminer sa queue._"
   ]
  },
  {
   "cell_type": "code",
   "execution_count": null,
   "metadata": {},
   "outputs": [],
   "source": [
    "file=[3, \"info\",54,\"ESME\"]\n",
    "\n",
    "def queue(F):\n",
    "    if est_vide(F):\n",
    "        return \n",
    "    else:\n",
    "        return F[0]   #Renvoie la queue de la file\n",
    "    \n",
    "print(queue(file))"
   ]
  },
  {
   "cell_type": "markdown",
   "metadata": {},
   "source": [
    "- Déterminer la **hauteur** de la file"
   ]
  },
  {
   "cell_type": "code",
   "execution_count": null,
   "metadata": {},
   "outputs": [],
   "source": [
    "file=[3, \"info\",54,\"ESME\"]\n",
    "\n",
    "def hauteur(F):\n",
    "    return len(F)   #Renvoie la hauteur de la file\n",
    "\n",
    "print(hauteur(file))"
   ]
  }
 ],
 "metadata": {
  "kernelspec": {
   "display_name": "Python 3",
   "language": "python",
   "name": "python3"
  },
  "language_info": {
   "codemirror_mode": {
    "name": "ipython",
    "version": 3
   },
   "file_extension": ".py",
   "mimetype": "text/x-python",
   "name": "python",
   "nbconvert_exporter": "python",
   "pygments_lexer": "ipython3",
   "version": "3.7.4"
  },
  "latex_envs": {
   "LaTeX_envs_menu_present": true,
   "autoclose": false,
   "autocomplete": true,
   "bibliofile": "biblio.bib",
   "cite_by": "apalike",
   "current_citInitial": 1,
   "eqLabelWithNumbers": true,
   "eqNumInitial": 1,
   "hotkeys": {
    "equation": "Ctrl-E",
    "itemize": "Ctrl-I"
   },
   "labels_anchors": false,
   "latex_user_defs": false,
   "report_style_numbering": false,
   "user_envs_cfg": false
  },
  "varInspector": {
   "cols": {
    "lenName": 16,
    "lenType": 16,
    "lenVar": 40
   },
   "kernels_config": {
    "python": {
     "delete_cmd_postfix": "",
     "delete_cmd_prefix": "del ",
     "library": "var_list.py",
     "varRefreshCmd": "print(var_dic_list())"
    },
    "r": {
     "delete_cmd_postfix": ") ",
     "delete_cmd_prefix": "rm(",
     "library": "var_list.r",
     "varRefreshCmd": "cat(var_dic_list()) "
    }
   },
   "types_to_exclude": [
    "module",
    "function",
    "builtin_function_or_method",
    "instance",
    "_Feature"
   ],
   "window_display": false
  }
 },
 "nbformat": 4,
 "nbformat_minor": 4
}
