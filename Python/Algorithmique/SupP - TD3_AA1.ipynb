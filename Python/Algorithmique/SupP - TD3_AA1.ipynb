{
 "cells": [
  {
   "cell_type": "markdown",
   "metadata": {
    "deletable": false,
    "editable": false
   },
   "source": [
    "***\n",
    "# TD 3 - Algotihmique Avancée 1\n",
    "***"
   ]
  },
  {
   "cell_type": "markdown",
   "metadata": {
    "deletable": false,
    "editable": false
   },
   "source": [
    "***\n",
    "## Exercice 1\n",
    "***"
   ]
  },
  {
   "cell_type": "markdown",
   "metadata": {
    "deletable": false,
    "editable": false
   },
   "source": [
    "1. Quels sont les autres noms donnés pour le tri par comptage ?"
   ]
  },
  {
   "cell_type": "markdown",
   "metadata": {},
   "source": [
    "*Entrez votre réponse ici*"
   ]
  },
  {
   "cell_type": "markdown",
   "metadata": {
    "deletable": false,
    "editable": false
   },
   "source": [
    "2. Quelle est la condition à satisfaire sur les données pour pouvoir appliquer le tri par comptage ?"
   ]
  },
  {
   "cell_type": "markdown",
   "metadata": {},
   "source": [
    "*Entrez votre réponse ici*"
   ]
  },
  {
   "cell_type": "markdown",
   "metadata": {
    "deletable": false,
    "editable": false
   },
   "source": [
    "3. Qu’est qu’un histogramme ?"
   ]
  },
  {
   "cell_type": "markdown",
   "metadata": {},
   "source": [
    "*Entrez votre réponse ici*"
   ]
  },
  {
   "cell_type": "markdown",
   "metadata": {
    "deletable": false,
    "editable": false
   },
   "source": [
    "4. Ce tri est très efficace dans un cas précis. Quel est ce cas ?"
   ]
  },
  {
   "cell_type": "markdown",
   "metadata": {},
   "source": [
    "*Entrez votre réponse ici*"
   ]
  },
  {
   "cell_type": "markdown",
   "metadata": {
    "deletable": false,
    "editable": false
   },
   "source": [
    "5. Expliquer les différentes étapes de ce tri"
   ]
  },
  {
   "cell_type": "markdown",
   "metadata": {},
   "source": [
    "*Entrez votre réponse ici*"
   ]
  },
  {
   "cell_type": "markdown",
   "metadata": {
    "deletable": false,
    "editable": false
   },
   "source": [
    "6. Dérouler l’algorithme du tri par comptage manuellement sur la liste\n",
    "L=[4,7,2,8,2,5,4,2,1,2,7,3,5,1,4], en précisant les valeurs de l’histogramme et les valeurs de la liste triée."
   ]
  },
  {
   "cell_type": "markdown",
   "metadata": {},
   "source": [
    "**Réponse:**\n",
    "\n",
    "Déroulons le tri par dénombrement sur la liste L=[4,7,2,8,2,5,4,2,1,2,7,3,5,1,4]\n",
    "\n",
    "#### 1. histogramme des valeurs\n",
    "\n",
    "| 0 | 1 | 2 | 3 | 4 | 5 | 6 | 7 | 8 |\n",
    "|---|---|---|---|---|---|---|---|---|\n",
    "|  |  |  |  |  |  |  |  |  |\n",
    "\n",
    "#### 2. Parcours de l'histogramme et écriture des valeurs\n",
    "\n",
    "| i |hist[i] | Action                  |   tableau trié  |\n",
    "|---|--------|-------------------------|-----------------|\n",
    "| 0 |        |                         |                 |\n",
    "| 1 |        |                         |                 |  \n",
    "| 2 |        |                         |                 |  \n",
    "| 3 |        |                         |                 | \n",
    "| 4 |        |                         |                 |  \n",
    "| 5 |        |                         |                 |   \n",
    "| 6 |        |                         |                 |   \n",
    "| 7 |        |                         |                 |\n",
    "| 8 |        |                         |                 |"
   ]
  },
  {
   "cell_type": "markdown",
   "metadata": {
    "deletable": false,
    "editable": false
   },
   "source": [
    "7. Ecrire une fonction comptage, d’arguments L et N, renvoyant une liste P de longueur N dont l’élément d’indice k désigne le nombre d’occurrences de l’entier k dans la liste L. Expliquer à quoi correspond N par rapport à L."
   ]
  },
  {
   "cell_type": "code",
   "execution_count": null,
   "metadata": {},
   "outputs": [],
   "source": [
    "def comptage(L, N):\n",
    "    \"\"\"renvoie une liste du nombre d'occurrences dans L des éléments allant\n",
    "    de 0 à N-1. N est censé être la longueur du tableau L\"\"\"\n",
    "    ..."
   ]
  },
  {
   "cell_type": "markdown",
   "metadata": {
    "deletable": false,
    "editable": false
   },
   "source": [
    "8. Utiliser la liste P pour déduire une fonction triComptage, d’arguments L et N, renvoyant une liste M triée dans l’ordre croissant."
   ]
  },
  {
   "cell_type": "code",
   "execution_count": null,
   "metadata": {},
   "outputs": [],
   "source": [
    "def tri_comptage(L,N):\n",
    "    \"\"\"trie la liste L, dont les éléments sont inférieurs ou égaux à N-1, en utilisant\n",
    "    la liste des occurrences données par la fonction comptage\"\"\"\n",
    "    ..."
   ]
  },
  {
   "cell_type": "markdown",
   "metadata": {
    "deletable": false,
    "editable": false
   },
   "source": [
    "9. Tester la fonction triComptage sur une liste de 20 entiers inférieurs ou égaux à 5, choisis aléatoirement."
   ]
  },
  {
   "cell_type": "code",
   "execution_count": null,
   "metadata": {},
   "outputs": [],
   "source": [
    "#VOTRE CODE ici"
   ]
  },
  {
   "cell_type": "markdown",
   "metadata": {
    "deletable": false,
    "editable": false
   },
   "source": [
    "10. Quelle est la complexité de cet algorithme ?"
   ]
  },
  {
   "cell_type": "code",
   "execution_count": null,
   "metadata": {},
   "outputs": [],
   "source": [
    "#VOTRE CODE ici"
   ]
  },
  {
   "cell_type": "markdown",
   "metadata": {
    "deletable": false,
    "editable": false
   },
   "source": [
    "***\n",
    "## Exercice 2\n",
    "***"
   ]
  },
  {
   "cell_type": "markdown",
   "metadata": {
    "deletable": false,
    "editable": false
   },
   "source": [
    "1. Quel est le coût de l’algorithme suivant ?\n",
    "<pre>\n",
    "def test_de_presence (L) :\n",
    "    if 2 in L :\n",
    "        print ( \" Il y est \" )\n",
    "    else :\n",
    "        print(\" Il n’y est pas \")\n",
    "</pre>"
   ]
  },
  {
   "cell_type": "markdown",
   "metadata": {},
   "source": [
    "*Entrez votre réponse ici*"
   ]
  },
  {
   "cell_type": "markdown",
   "metadata": {
    "deletable": false,
    "editable": false
   },
   "source": [
    "2. Quel est le coût de l’algorithme suivant ?\n",
    "<pre>\n",
    "def test_de_presence (a, L) :\n",
    "    if a == 0:\n",
    "        print ( \"a doit être non nul \" )\n",
    "    else :\n",
    "        L . remove ( a )\n",
    "</pre>"
   ]
  },
  {
   "cell_type": "markdown",
   "metadata": {},
   "source": [
    "*Entrez votre réponse ici*"
   ]
  },
  {
   "cell_type": "markdown",
   "metadata": {
    "deletable": false,
    "editable": false
   },
   "source": [
    "3. Quel est le coût de l’algorithme suivant ?\n",
    "<pre>\n",
    "for i in range (11) :\n",
    "        print(i∗n)\n",
    "</pre>"
   ]
  },
  {
   "cell_type": "markdown",
   "metadata": {},
   "source": [
    "*Entrez votre réponse ici*"
   ]
  },
  {
   "cell_type": "markdown",
   "metadata": {
    "deletable": false,
    "editable": false
   },
   "source": [
    "4. Quel est le coût de l’algorithme suivant ?\n",
    "<pre>\n",
    "for i in range (n) :\n",
    "        print(i∗i)\n",
    "</pre>"
   ]
  },
  {
   "cell_type": "markdown",
   "metadata": {},
   "source": [
    "*Entrez votre réponse ici*"
   ]
  },
  {
   "cell_type": "markdown",
   "metadata": {
    "deletable": false,
    "editable": false
   },
   "source": [
    "5. Quel est le coût de l’algorithme suivant ?\n",
    "<pre>\n",
    "for i in range (n) :\n",
    "        for j in range (n) :\n",
    "                print(i∗j)\n",
    "</pre>"
   ]
  },
  {
   "cell_type": "markdown",
   "metadata": {},
   "source": [
    "*Entrez votre réponse ici*"
   ]
  },
  {
   "cell_type": "markdown",
   "metadata": {
    "deletable": false,
    "editable": false
   },
   "source": [
    "6. Quel est le coût de l’algorithme suivant ?\n",
    "<pre>\n",
    "for i in range (n) :\n",
    "        for j in range (i) :\n",
    "                print(i∗j)\n",
    "</pre>"
   ]
  },
  {
   "cell_type": "markdown",
   "metadata": {},
   "source": [
    "*Entrez votre réponse ici*"
   ]
  },
  {
   "cell_type": "markdown",
   "metadata": {
    "deletable": false,
    "editable": false
   },
   "source": [
    "7. Quel est le coût de l’algorithme suivant ?\n",
    "<pre>\n",
    "for i in range (5, n - 4) :\n",
    "        for j in range (i - 5, i + 6) :\n",
    "                print(x+2)\n",
    "</pre>"
   ]
  },
  {
   "cell_type": "markdown",
   "metadata": {},
   "source": [
    "*Entrez votre réponse ici*"
   ]
  },
  {
   "cell_type": "markdown",
   "metadata": {
    "deletable": false,
    "editable": false
   },
   "source": [
    "8. Quel est le coût de l’algorithme suivant ?\n",
    "<pre>\n",
    "for i in range (1, n+1) :\n",
    "        for j in range (1, i+1):\n",
    "                for k in range (1, j+1):\n",
    "                        sudripyth(x)\n",
    "</pre>"
   ]
  },
  {
   "cell_type": "markdown",
   "metadata": {},
   "source": [
    "*Entrez votre réponse ici*"
   ]
  },
  {
   "cell_type": "markdown",
   "metadata": {
    "deletable": false,
    "editable": false
   },
   "source": [
    "***\n",
    "## Exercice 3\n",
    "***"
   ]
  },
  {
   "cell_type": "markdown",
   "metadata": {
    "deletable": false,
    "editable": false
   },
   "source": [
    "Classer les fonctions suivantes par ordre croissant de leur valeur asymptotique :\n",
    "\n",
    "$log(n$<sup>$3$</sup>) , $2$<sup>$n$<sup>$2$</sup></sup> , $n$<sup>$3$</sup>$log(n)$, $\\sqrt{n!}$ , $2\\sqrt{x}$"
   ]
  },
  {
   "cell_type": "markdown",
   "metadata": {},
   "source": [
    "*Entrez votre réponse*"
   ]
  }
 ],
 "metadata": {
  "celltoolbar": "Aucun(e)",
  "kernelspec": {
   "display_name": "Python 3",
   "language": "python",
   "name": "python3"
  },
  "language_info": {
   "codemirror_mode": {
    "name": "ipython",
    "version": 3
   },
   "file_extension": ".py",
   "mimetype": "text/x-python",
   "name": "python",
   "nbconvert_exporter": "python",
   "pygments_lexer": "ipython3",
   "version": "3.7.4"
  },
  "varInspector": {
   "cols": {
    "lenName": 16,
    "lenType": 16,
    "lenVar": 40
   },
   "kernels_config": {
    "python": {
     "delete_cmd_postfix": "",
     "delete_cmd_prefix": "del ",
     "library": "var_list.py",
     "varRefreshCmd": "print(var_dic_list())"
    },
    "r": {
     "delete_cmd_postfix": ") ",
     "delete_cmd_prefix": "rm(",
     "library": "var_list.r",
     "varRefreshCmd": "cat(var_dic_list()) "
    }
   },
   "types_to_exclude": [
    "module",
    "function",
    "builtin_function_or_method",
    "instance",
    "_Feature"
   ],
   "window_display": false
  }
 },
 "nbformat": 4,
 "nbformat_minor": 4
}
