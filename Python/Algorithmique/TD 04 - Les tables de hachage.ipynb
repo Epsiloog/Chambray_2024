{
 "cells": [
  {
   "cell_type": "markdown",
   "metadata": {
    "deletable": false
   },
   "source": [
    "***\n",
    "# TD 4 - Algorithmique Avancée 1\n",
    "***"
   ]
  },
  {
   "cell_type": "markdown",
   "metadata": {
    "deletable": false,
    "editable": false
   },
   "source": [
    "***\n",
    "## Exercice 1\n",
    "***"
   ]
  },
  {
   "cell_type": "markdown",
   "metadata": {
    "deletable": false
   },
   "source": [
    "Considérons la fonction de hachage h(c) = c mod 11 et une table de hachage avec m = 11 adresses.\n",
    "1. Insérer les clés 22, 31, 20, 26, et 9 dans la table de hachage ci-dessus en utilisant la résolution des collisions par adressage linéaire avec la fonction\n",
    "\n",
    "$$\n",
    "h_i(c) = (h(c)+i) \\enspace mod \\enspace m.\n",
    "$$"
   ]
  },
  {
   "cell_type": "markdown",
   "metadata": {},
   "source": [
    "|Indice|Valeur|\n",
    "|--------|--------|\n",
    "|    0    |   22     |\n",
    "|    1    |    9    |\n",
    "|    2    |        |\n",
    "|    3    |        |\n",
    "|    4    |    26    |\n",
    "|    5    |        |\n",
    "|    6    |        |\n",
    "|    7    |        |\n",
    "|    8    |        |\n",
    "|    9    |    31    |\n",
    "|    10   |     20   |"
   ]
  },
  {
   "cell_type": "markdown",
   "metadata": {
    "deletable": false,
    "editable": false
   },
   "source": [
    "2. Rajouter maintenant les clés 1,2,3,4,5,6,7,8.\n",
    "\n",
    "Quel problème rencontrez-vous ? Quelles solutions proposez-vous ?"
   ]
  },
  {
   "cell_type": "markdown",
   "metadata": {},
   "source": [
    "**Réponse:**\n"
   ]
  },
  {
   "cell_type": "markdown",
   "metadata": {
    "deletable": false,
    "editable": false
   },
   "source": [
    "***\n",
    "## Exercice 2\n",
    "***"
   ]
  },
  {
   "cell_type": "markdown",
   "metadata": {
    "deletable": false
   },
   "source": [
    "On considère un ensemble de clés données directement sous forme numérique, que l’on veut\n",
    "stocker dans une table de hachage de taille m= 11. \n",
    "\n",
    "Soit la fonction de hachage : \n",
    "\n",
    "$$\n",
    "h(x) = x \\enspace mod \\enspace m.\n",
    "$$\n",
    "\n",
    "1. Décrire les structures de données et la gestion des collisions pour la séquence d’ajouts :10, 22, 31, 4, 15, 28, 83, 88, 59, 37, en utilisant un hachage coalescent."
   ]
  },
  {
   "cell_type": "markdown",
   "metadata": {},
   "source": [
    "**Réponse:**"
   ]
  },
  {
   "cell_type": "markdown",
   "metadata": {
    "deletable": false,
    "editable": false
   },
   "source": [
    "2. Décrire ce qui se passe si on poursuit par les 2 opérations suivantes, suppression de la clé 83 et recherche de la clé 59."
   ]
  },
  {
   "cell_type": "markdown",
   "metadata": {},
   "source": [
    "**Réponse:**"
   ]
  },
  {
   "cell_type": "markdown",
   "metadata": {
    "deletable": false,
    "editable": false
   },
   "source": [
    "***\n",
    "## Exercice 3\n",
    "***"
   ]
  },
  {
   "cell_type": "markdown",
   "metadata": {
    "deletable": false
   },
   "source": [
    "On considère des clés sur un ensemble de 256 caractères (l’alphabet ASCII 8 bits par exemple)\n",
    "et l’on associe à chaque clé l’entier qu’elle représente en base 256.\n",
    "Ainsi, par exemple, puisque les caractères B, l, o et p correspondent aux valeurs 66, 108, 111\n",
    "et 112 respectivement, la clé « Blop » est associée à l’entier\n",
    "\n",
    "$66*256^3+ 108*256^2+ 111*256 + 112 = 1114402672.$\n",
    "\n",
    "1. Écrivez une fonction python qui prend en entrée une chaîne de caractères en ASCII 8 bits et renvoie l’entier associé.\n",
    "\n",
    "**Indication** : On pourra utiliser la fonction ord(c) qui renvoie la valeur ASCII d’un caractère c."
   ]
  },
  {
   "cell_type": "code",
   "execution_count": null,
   "metadata": {},
   "outputs": [],
   "source": [
    "# VOTRE CODE ICI"
   ]
  },
  {
   "cell_type": "markdown",
   "metadata": {
    "deletable": false
   },
   "source": [
    "On utilise à présent la fonction de hachage \n",
    "\n",
    "$$\n",
    "h : x → (x \\enspace mod \\enspace 255)\n",
    "$$\n",
    "\n",
    "Pour tout mot x.\n",
    "\n",
    "2. Écrivez la fonction h en python qui prend en argument une chaîne de caractères, la convertit en entier puis le hache et vérifiez la propriété annoncée sur quelques exemples."
   ]
  },
  {
   "cell_type": "code",
   "execution_count": null,
   "metadata": {},
   "outputs": [],
   "source": [
    "# VOTRE CODE ICI"
   ]
  },
  {
   "cell_type": "markdown",
   "metadata": {
    "deletable": false,
    "editable": false
   },
   "source": [
    "3. Déterminer ma valeur de hachage(\"chien\") et la comparer à la valeur de hachage(\"niche\").\n",
    "\n",
    "Que peut-on remarquer ? Démontrer mathématiquement cette remarque."
   ]
  },
  {
   "cell_type": "code",
   "execution_count": null,
   "metadata": {},
   "outputs": [],
   "source": [
    "# VOTRE CODE ICI"
   ]
  },
  {
   "cell_type": "markdown",
   "metadata": {},
   "source": [
    "**Réponse:**"
   ]
  },
  {
   "cell_type": "markdown",
   "metadata": {
    "deletable": false,
    "editable": false
   },
   "source": [
    "4. Implémenter à présent une fonction de hachage hachage2() qui au lieu de faire un calcul à partir du chiffre ASCII de chaque lettre, calcule la somme des positions des lettres d’un mot dans l’alphabet. Tester cette fonction avec « chien » et « niche ». Conclure."
   ]
  },
  {
   "cell_type": "code",
   "execution_count": null,
   "metadata": {},
   "outputs": [],
   "source": [
    "# VOTRE CODE ICI"
   ]
  },
  {
   "cell_type": "markdown",
   "metadata": {},
   "source": [
    "Les collisions n'ont pas été résolues"
   ]
  },
  {
   "cell_type": "markdown",
   "metadata": {},
   "source": [
    "***\n",
    "## Exercice 4\n",
    "***"
   ]
  },
  {
   "cell_type": "markdown",
   "metadata": {},
   "source": [
    "1. Écrire une fonction `create_table( n )` qui prend en paramètre un entier n et qui renvoie une liste remplie de n listes vides.\n",
    "\n",
    "> Par exemple create_table(3) va renvoyer [[], [], []]"
   ]
  },
  {
   "cell_type": "code",
   "execution_count": null,
   "metadata": {},
   "outputs": [],
   "source": [
    "# VOTRE CODE ICI"
   ]
  },
  {
   "cell_type": "markdown",
   "metadata": {},
   "source": [
    "2. On veut utiliser la fonction de hachage suivante :\n",
    "\n",
    "$$\n",
    "h : x → (x \\enspace mod \\enspace 10) + 1\n",
    "$$\n",
    "\n",
    "Programmer cette fonction en langage Python. Vous appellerez cette fonction $h$."
   ]
  },
  {
   "cell_type": "code",
   "execution_count": null,
   "metadata": {},
   "outputs": [],
   "source": [
    "# VOTRE CODE ICI"
   ]
  },
  {
   "cell_type": "markdown",
   "metadata": {},
   "source": [
    "3. A présent, écrire une fonction hachage qui prend un élément val en paramètre et qui :\n",
    "\n",
    "    - Place l'élément dans la bonne sous-liste en fonction de la valeur calculée grâce à la fonction h\n",
    "\n",
    "    - Ajoute l'élément à la fin de la bonne sous-liste.\n",
    "\n",
    "On a pris le soin d'appeler la fonction précédente pour créer une table vierge de 10 places dans le code pré-rempli suivant, contentez-vous de remplir les cases manquantes..."
   ]
  },
  {
   "cell_type": "code",
   "execution_count": null,
   "metadata": {},
   "outputs": [],
   "source": [
    "table_hachage = create_table(10)\n",
    "\n",
    "def hachage(val):\n",
    "    ..."
   ]
  },
  {
   "cell_type": "markdown",
   "metadata": {},
   "source": [
    "4. A l'aide d'un `for...in` ajoutez successivement les valeurs _12, 17, 28, 33, 42 et 38_ dans la table précédemment crée. On prendra soin de réinitialiser la table en vidant toutes les valeurs.\n",
    "\n",
    "Le code pré-rempli suivant est là pour vous aider :"
   ]
  },
  {
   "cell_type": "code",
   "execution_count": null,
   "metadata": {},
   "outputs": [],
   "source": [
    "table_hachage = create_table(10)\n",
    "\n",
    "for i in [...]:\n",
    "    ...\n",
    "    \n",
    "print(...)"
   ]
  }
 ],
 "metadata": {
  "celltoolbar": "Format de la Cellule Texte Brut",
  "kernelspec": {
   "display_name": "Python 3",
   "language": "python",
   "name": "python3"
  },
  "language_info": {
   "codemirror_mode": {
    "name": "ipython",
    "version": 3
   },
   "file_extension": ".py",
   "mimetype": "text/x-python",
   "name": "python",
   "nbconvert_exporter": "python",
   "pygments_lexer": "ipython3",
   "version": "3.7.4"
  },
  "varInspector": {
   "cols": {
    "lenName": 16,
    "lenType": 16,
    "lenVar": 40
   },
   "kernels_config": {
    "python": {
     "delete_cmd_postfix": "",
     "delete_cmd_prefix": "del ",
     "library": "var_list.py",
     "varRefreshCmd": "print(var_dic_list())"
    },
    "r": {
     "delete_cmd_postfix": ") ",
     "delete_cmd_prefix": "rm(",
     "library": "var_list.r",
     "varRefreshCmd": "cat(var_dic_list()) "
    }
   },
   "types_to_exclude": [
    "module",
    "function",
    "builtin_function_or_method",
    "instance",
    "_Feature"
   ],
   "window_display": false
  }
 },
 "nbformat": 4,
 "nbformat_minor": 4
}
