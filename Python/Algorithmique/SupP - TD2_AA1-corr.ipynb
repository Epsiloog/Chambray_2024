{
 "cells": [
  {
   "cell_type": "markdown",
   "metadata": {},
   "source": [
    "***\n",
    "# TD 2 - Algotihmique Avancée 1\n",
    "***"
   ]
  },
  {
   "cell_type": "markdown",
   "metadata": {},
   "source": [
    "***\n",
    "## Exercice 1 : Tri par sélection\n",
    "***"
   ]
  },
  {
   "cell_type": "markdown",
   "metadata": {
    "deletable": false,
    "editable": false
   },
   "source": [
    "1. Expliquer les différentes étapes du tri par sélection"
   ]
  },
  {
   "cell_type": "markdown",
   "metadata": {
    "deletable": false,
    "editable": false
   },
   "source": [
    "2. Donner l’algorithme du tri par sélection puis dérouler-le manuellement sur la liste\n",
    "L=[24,8,98,16,2,76,30,1].\n",
    "<br> \n",
    "Vérifier le résultat obtenu à chaque étape en exécutant le code."
   ]
  },
  {
   "cell_type": "markdown",
   "metadata": {},
   "source": [
    "*Entrez votre réponse ici*"
   ]
  },
  {
   "cell_type": "code",
   "execution_count": 2,
   "metadata": {},
   "outputs": [
    {
     "name": "stdout",
     "output_type": "stream",
     "text": [
      "[1, 8, 98, 16, 2, 76, 30, 24]\n",
      "[1, 2, 98, 16, 8, 76, 30, 24]\n",
      "[1, 2, 8, 16, 98, 76, 30, 24]\n",
      "[1, 2, 8, 16, 98, 76, 30, 24]\n",
      "[1, 2, 8, 16, 24, 76, 30, 98]\n",
      "[1, 2, 8, 16, 24, 30, 76, 98]\n",
      "[1, 2, 8, 16, 24, 30, 76, 98]\n",
      "[1, 2, 8, 16, 24, 30, 76, 98]\n"
     ]
    }
   ],
   "source": [
    "#le déroulment manuel de l'algo de tri par sélection donne:\n",
    "#[24, 8, 98, 16, 2, 76, 30, 1]\n",
    "#[1, 8, 98, 16, 2, 76, 30, 24]\n",
    "#[1, 2, 98, 16, 8, 76, 30, 24]\n",
    "#[1, 2, 8, 16, 98, 76, 30, 24]\n",
    "#[1, 2, 8, 16, 98, 76, 30, 24]\n",
    "#[1, 2, 8, 16, 24, 76, 30, 98]\n",
    "#[1, 2, 8, 16, 24, 30, 76, 98]\n",
    "#[1, 2, 8, 16, 24, 30, 76, 98]\n",
    "\n",
    "def selection_sort(array):\n",
    "    n = len(array)\n",
    "    for i in range(0,n-1):\n",
    "        minpos = i\n",
    "        for j in range(i+1, n):\n",
    "            if array[j] < array[minpos]:\n",
    "                minpos = j\n",
    "        array[i], array[minpos] = array[minpos], array[i]\n",
    "        print(array)\n",
    "    return array\n",
    "\n",
    "liste_triee=selection_sort([24,8,98,16,2,76,30,1])\n",
    "print(liste_triee)"
   ]
  },
  {
   "cell_type": "code",
   "execution_count": null,
   "metadata": {},
   "outputs": [],
   "source": [
    "\n"
   ]
  },
  {
   "cell_type": "markdown",
   "metadata": {
    "deletable": false,
    "editable": false
   },
   "source": [
    "3. L’algorithme étudié sélectionne à partir du plus petit élément de la tranche restant à trier. Il est possible aussi de faire un tri par sélection à partir du plus grand élément. Implémenter l'algorithme en écrivant une fonction qui trie la liste passée en paramètre et qui retourne la liste triée par sélection dans le sens décroissant."
   ]
  },
  {
   "cell_type": "code",
   "execution_count": 3,
   "metadata": {},
   "outputs": [
    {
     "name": "stdout",
     "output_type": "stream",
     "text": [
      "[98, 8, 24, 16, 2, 76, 30, 1]\n",
      "[98, 76, 24, 16, 2, 8, 30, 1]\n",
      "[98, 76, 30, 16, 2, 8, 24, 1]\n",
      "[98, 76, 30, 24, 2, 8, 16, 1]\n",
      "[98, 76, 30, 24, 16, 8, 2, 1]\n",
      "[98, 76, 30, 24, 16, 8, 2, 1]\n",
      "[98, 76, 30, 24, 16, 8, 2, 1]\n",
      "[98, 76, 30, 24, 16, 8, 2, 1]\n"
     ]
    }
   ],
   "source": [
    "def selection_sort_max(array):\n",
    "    n = len(array)\n",
    "    for i in range(0, n-1):\n",
    "        maxpos = i\n",
    "        for j in range(i+1, n):\n",
    "            if array[j]  > array[maxpos]:\n",
    "                maxpos = j\n",
    "        array[i], array[maxpos] = array[maxpos], array[i]\n",
    "        print(array)\n",
    "    return array\n",
    "\n",
    "liste_triee=selection_sort_max([24,8,98,16,2,76,30,1])\n",
    "print(liste_triee)"
   ]
  },
  {
   "cell_type": "markdown",
   "metadata": {
    "deletable": false,
    "editable": false
   },
   "source": [
    "4. Afficher la complexité de cet algorithme en y insérant une variable calculant le nombre d’opérations effectuées. Comparez la complexité théorique à la valeur affichée."
   ]
  },
  {
   "cell_type": "code",
   "execution_count": 8,
   "metadata": {},
   "outputs": [
    {
     "name": "stdout",
     "output_type": "stream",
     "text": [
      "le nombre d'opérations est : 329\n",
      "la complexité théorique du tri par selection est  484\n"
     ]
    }
   ],
   "source": [
    "def selection_sort(array):\n",
    "    nbr=0\n",
    "    n = len(array)\n",
    "    nbr+=1\n",
    "    for i in range(0, n-1):\n",
    "        minpos = i\n",
    "        nbr+=1 \n",
    "        for j in range(i+1, n):\n",
    "            nbr+=1\n",
    "            if array[j] < array[minpos]:\n",
    "                minpos = j\n",
    "                nbr+=1\n",
    "        array[i], array[minpos] = array[minpos], array[i]\n",
    "        nbr+=1\n",
    "        nbr+=1\n",
    "    return array, nbr\n",
    "\n",
    "liste_triee,nbr=selection_sort([24,8,98,16,2,76,30,1,8,98,16,2,76,30,1,8,98,16,2,76,30,1])\n",
    "print(\"le nombre d'opérations est :\",nbr)\n",
    "n=len([24,8,98,16,2,76,30,1,8,98,16,2,76,30,1,8,98,16,2,76,30,1])\n",
    "print(\"la complexité théorique du tri par selection est \",n**2)"
   ]
  },
  {
   "cell_type": "markdown",
   "metadata": {
    "deletable": false,
    "editable": false
   },
   "source": [
    "5. Proposer une version récursive du tri par sélection."
   ]
  },
  {
   "cell_type": "code",
   "execution_count": 26,
   "metadata": {},
   "outputs": [
    {
     "name": "stdout",
     "output_type": "stream",
     "text": [
      "[1, 2, 8, 16, 24, 30, 76, 98]\n"
     ]
    }
   ],
   "source": [
    "def minimum(t, j):\n",
    "    if j == len(t)-1:\n",
    "        return j\n",
    "    i = minimum(t, j+1)\n",
    "    if t[j] < t[i]:\n",
    "        return j\n",
    "    else:\n",
    "        return i\n",
    "    \n",
    "def select_sort(t, j=0):\n",
    "    if j < len(t)-1:\n",
    "        i = minimum(t, j)\n",
    "        if i > j:\n",
    "            t[i], t[j] = t[j], t[i]\n",
    "        select_sort(t, j+1)\n",
    "    return t\n",
    "\n",
    "liste=select_sort([24,8,98,16,2,76,30,1], j=0)\n",
    "print(liste)"
   ]
  },
  {
   "cell_type": "markdown",
   "metadata": {
    "deletable": false,
    "editable": false
   },
   "source": [
    "***\n",
    "## Exercice 2 : Tri par Insertion\n",
    "***"
   ]
  },
  {
   "cell_type": "markdown",
   "metadata": {
    "deletable": false,
    "editable": false
   },
   "source": [
    "1. Expliquer les différentes étapes du tri par insertion"
   ]
  },
  {
   "cell_type": "code",
   "execution_count": 23,
   "metadata": {},
   "outputs": [
    {
     "name": "stdout",
     "output_type": "stream",
     "text": [
      "40\n"
     ]
    }
   ],
   "source": [
    "print(ord(\"(\"))"
   ]
  },
  {
   "cell_type": "markdown",
   "metadata": {
    "deletable": false,
    "editable": false
   },
   "source": [
    "2. Donner l’algorithme du tri par insertion et dérouler-le manuellement sur la liste\n",
    "L=[24,8,98,16,2,76,30,1]\n",
    "<br>\n",
    "Vérifier le résultat obtenu à chaque étape en exécutant le code"
   ]
  },
  {
   "cell_type": "markdown",
   "metadata": {},
   "source": [
    "*Entrez votre réponse ici*"
   ]
  },
  {
   "cell_type": "code",
   "execution_count": 9,
   "metadata": {},
   "outputs": [
    {
     "name": "stdout",
     "output_type": "stream",
     "text": [
      "[8, 24, 98, 16, 2, 76, 30, 1]\n",
      "[8, 24, 98, 16, 2, 76, 30, 1]\n",
      "[8, 16, 24, 98, 2, 76, 30, 1]\n",
      "[2, 8, 16, 24, 98, 76, 30, 1]\n",
      "[2, 8, 16, 24, 76, 98, 30, 1]\n",
      "[2, 8, 16, 24, 30, 76, 98, 1]\n",
      "[1, 2, 8, 16, 24, 30, 76, 98]\n",
      "[1, 2, 8, 16, 24, 30, 76, 98]\n"
     ]
    }
   ],
   "source": [
    "#le déroulment manuel de l'algo de tri par sélection donne:\n",
    "#[24, 8, 98, 16, 2, 76, 30, 1]\n",
    "#[8, 24, 98, 16, 2, 76, 30, 1]\n",
    "#[8, 24, 98, 16, 2, 76, 30, 1]\n",
    "#[8, 16, 24, 98, 2, 76, 30, 1]\n",
    "#[2, 8, 16, 24, 98, 76, 30, 1]\n",
    "#[2, 8, 16, 24, 76, 98, 30, 1]\n",
    "#[2, 8, 16, 24, 30, 76, 98, 1]\n",
    "#[1, 2, 8, 16, 24, 30, 76, 98]\n",
    "#[1, 2, 8, 16, 24, 30, 76, 98]\n",
    "\n",
    "\n",
    "def insertion_sort(array):\n",
    "    n = len(array)\n",
    "    for i in range(1, n):\n",
    "        key = array[i]\n",
    "        j = i - 1\n",
    "        while j >= 0 and array[j] > key:\n",
    "            array[j + 1] = array[j]\n",
    "            j = j - 1\n",
    "        array[j + 1] = key\n",
    "        print(array)\n",
    "    return array\n",
    "\n",
    "array_insertion=insertion_sort([24,8,98,16,2,76,30,1])        \n",
    "print(array_insertion)"
   ]
  },
  {
   "cell_type": "markdown",
   "metadata": {
    "deletable": false,
    "editable": false
   },
   "source": [
    "3. On souhaite à présent modifier l’algorithme de tri par insertion en effectuant la boucle dans l’ordre inverse des indices (du dernier indice vers le premier indice). Ecrire le code python qui correspond à cette modification."
   ]
  },
  {
   "cell_type": "code",
   "execution_count": 10,
   "metadata": {},
   "outputs": [
    {
     "name": "stdout",
     "output_type": "stream",
     "text": [
      "7\n",
      "[24, 8, 98, 16, 2, 76, 1, 30]\n",
      "6\n",
      "[24, 8, 98, 16, 2, 1, 30, 76]\n",
      "5\n",
      "[24, 8, 98, 16, 1, 2, 30, 76]\n",
      "4\n",
      "[24, 8, 98, 1, 2, 16, 30, 76]\n",
      "3\n",
      "[24, 8, 1, 2, 16, 30, 76, 98]\n",
      "2\n",
      "[24, 1, 2, 8, 16, 30, 76, 98]\n",
      "1\n",
      "[1, 2, 8, 16, 24, 30, 76, 98]\n",
      "[1, 2, 8, 16, 24, 30, 76, 98]\n"
     ]
    }
   ],
   "source": [
    "\n",
    "def insertion_sort_inv(array):\n",
    "    n = len(array)\n",
    "    for i in range(n-2, -1,-1):\n",
    "        key = array[i]\n",
    "        j = i + 1\n",
    "        print(j)\n",
    "        while j <= n-1 and array[j] < key:\n",
    "            array[j - 1] = array[j]\n",
    "            j = j + 1\n",
    "        array[j - 1] = key\n",
    "        print(array)\n",
    "    return array\n",
    "\n",
    "array_insertion=insertion_sort_inv([24,8,98,16,2,76,30,1])        \n",
    "print(array_insertion)\n"
   ]
  },
  {
   "cell_type": "markdown",
   "metadata": {
    "deletable": false,
    "editable": false
   },
   "source": [
    "4. Quelle est la liste obtenue lorsqu’on applique l’algorithme précédent sur la liste suivante :\n",
    "<table>\n",
    " <tr>\n",
    "  <td>L= </td>     \n",
    "  <td style=\"background-color: LightSalmon\">B </td>\n",
    "  <td style=\"background-color: DarkSalmon\">O </td>\n",
    "  <td style=\"background-color: Salmon\">N </td>\n",
    "  <td style=\"background-color: pink\">J </td>\n",
    "  <td style=\"background-color: LightCoral\">O </td>\n",
    "  <td style=\"background-color: IndianRed\">U </td>\n",
    "  <td style=\"background-color: Coral\">R </td>\n",
    " </tr>\n",
    "</table>"
   ]
  },
  {
   "cell_type": "code",
   "execution_count": 11,
   "metadata": {},
   "outputs": [
    {
     "name": "stdout",
     "output_type": "stream",
     "text": [
      "6\n",
      "['B', 'O', 'N', 'J', 'O', 'R', 'U']\n",
      "5\n",
      "['B', 'O', 'N', 'J', 'O', 'R', 'U']\n",
      "4\n",
      "['B', 'O', 'N', 'J', 'O', 'R', 'U']\n",
      "3\n",
      "['B', 'O', 'J', 'N', 'O', 'R', 'U']\n",
      "2\n",
      "['B', 'J', 'N', 'O', 'O', 'R', 'U']\n",
      "1\n",
      "['B', 'J', 'N', 'O', 'O', 'R', 'U']\n",
      "['B', 'J', 'N', 'O', 'O', 'R', 'U']\n"
     ]
    }
   ],
   "source": [
    "array_insertion=insertion_sort_inv(['B','O','N','J','O','U','R'])        \n",
    "print(array_insertion)"
   ]
  },
  {
   "cell_type": "markdown",
   "metadata": {
    "deletable": false,
    "editable": false
   },
   "source": [
    "5. Modifier l’algorithme initial du tri par insertion pour qu’il trie dans le sens décroissant."
   ]
  },
  {
   "cell_type": "code",
   "execution_count": 12,
   "metadata": {},
   "outputs": [
    {
     "name": "stdout",
     "output_type": "stream",
     "text": [
      "[98, 76, 30, 24, 16, 8, 2, 1]\n"
     ]
    }
   ],
   "source": [
    "def insertion_sort_dec(array):\n",
    "    n = len(array)\n",
    "    for i in range(1, n):\n",
    "        key = array[i]\n",
    "        j = i - 1\n",
    "        while j >= 0 and array[j] < key:\n",
    "            array[j + 1] = array[j]\n",
    "            j = j - 1\n",
    "        array[j + 1] = key\n",
    "    return array\n",
    "\n",
    "array_insertion=insertion_sort_dec([24,8,98,16,2,76,30,1])        \n",
    "print(array_insertion)    \n"
   ]
  },
  {
   "cell_type": "markdown",
   "metadata": {
    "deletable": false,
    "editable": false
   },
   "source": [
    "6. Afficher la complexité de cet algorithme en y insérant une variable calculant le nombre d’opérations effectuées. Comparer la complexité théorique à la valeur affichée."
   ]
  },
  {
   "cell_type": "code",
   "execution_count": 30,
   "metadata": {},
   "outputs": [
    {
     "name": "stdout",
     "output_type": "stream",
     "text": [
      "[1, 2, 8, 16, 24, 30, 76, 98]\n",
      "le nombre d'opérations est : 80\n",
      "la complexité théorique du tri par insertion pour le pire des cas est  64\n"
     ]
    }
   ],
   "source": [
    "\n",
    "def insertion_sort(array):\n",
    "    nbr=0\n",
    "    n = len(array)\n",
    "    nbr+=1\n",
    "    for i in range(1, n):\n",
    "        nbr+=1\n",
    "        key = array[i]\n",
    "        nbr+=1\n",
    "        j = i - 1\n",
    "        nbr+=1\n",
    "        while j >= 0 and array[j] > key:\n",
    "            nbr+=1\n",
    "            array[j + 1] = array[j]\n",
    "            nbr+=1\n",
    "            j = j - 1\n",
    "            nbr+=1\n",
    "        array[j + 1] = key\n",
    "        nbr+=1\n",
    "    return array,nbr\n",
    "\n",
    "array_insertion,nbr=insertion_sort([24,8,98,16,2,76,30,1])        \n",
    "print(array_insertion)\n",
    "\n",
    "liste_triee,nbr=insertion_sort([24,8,98,16,2,76,30,1])\n",
    "print(\"le nombre d'opérations est :\",nbr)\n",
    "n=len([24,8,98,16,2,76,30,1])\n",
    "\n",
    "print(\"la complexité théorique du tri par insertion pour le pire des cas est \",n**2)\n"
   ]
  },
  {
   "cell_type": "markdown",
   "metadata": {
    "deletable": false,
    "editable": false
   },
   "source": [
    "7. Proposer une version récursive du tri par insertion."
   ]
  },
  {
   "cell_type": "code",
   "execution_count": 15,
   "metadata": {},
   "outputs": [
    {
     "name": "stdout",
     "output_type": "stream",
     "text": [
      "[1, 2, 8, 16, 24, 30, 76, 98]\n"
     ]
    }
   ],
   "source": [
    "\n",
    "def insere(t, j):\n",
    "    if j > 0 and t[j] < t[j-1]:\n",
    "        t[j-1], t[j] = t[j], t[j-1]\n",
    "        insere(t, j-1)\n",
    "\n",
    "def insert_sort(t, j=1):\n",
    "    if j < len(t):\n",
    "        insere(t, j)\n",
    "        insert_sort(t, j+1)\n",
    "    return t\n",
    "\n",
    "liste=insert_sort([24,8,98,16,2,76,30,1], j=0)\n",
    "print(liste)"
   ]
  },
  {
   "cell_type": "markdown",
   "metadata": {
    "deletable": false,
    "editable": false
   },
   "source": [
    "***\n",
    "## Exercice 3 : Tri Fusion\n",
    "***"
   ]
  },
  {
   "cell_type": "markdown",
   "metadata": {
    "deletable": false,
    "editable": false
   },
   "source": [
    "Le principe du tri par fusion suit le paradigme « diviser pour régner » dont le principe est le suivant :\n",
    "- On divise en deux moitiés la liste à trier.\n",
    "- On trie chacune d’entre elles.\n",
    "- On fusionne les deux moitiés obtenues pour reconstituer la liste triée.\n",
    "Voici un exemple explicatif du tri par fusion sur la liste L=[ 8 , 2 , 5 , 4 , 9 , 6 , 1 , 7]:\n",
    "\n",
    "<img src=\"data:image/png;base64,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\"  width=\"500\"/>\n",
    "\n",
    "<br>\n",
    "\n",
    "<br>\n",
    "Le code python suivant implémente le tri par fusion.\n",
    "<br>\n",
    "Compléter les lignes contenant trois points de suspension …"
   ]
  },
  {
   "cell_type": "code",
   "execution_count": 26,
   "metadata": {},
   "outputs": [],
   "source": [
    "#fonction qui retourne une liste triée à partir de deux liste triée(liste_gauche et liste_droite)\n",
    "def fusion(Liste_gauche,Liste_droite):\n",
    "    resultat = … #inatiation de la liste resultat\n",
    "    index_gauche, index_droite = 0, 0\n",
    "    while index_gauche < len(Liste_gauche) and index_droite < len(Liste_droite):\n",
    "        if Liste_gauche[index_gauche] <= Liste_droite[index_droite]:\n",
    "            resultat.append(Liste_gauche[index_gauche])\n",
    "            index_gauche += 1\n",
    "        else:\n",
    "            …\n",
    "            …\n",
    "    if Liste_gauche:\n",
    "        resultat.extend(Liste_gauche[index_gauche:])\n",
    "    if Liste_droite:\n",
    "        …\n",
    "    return …\n",
    "\n",
    "def tri_fusion(L):\n",
    "    if len(L) <= 1:\n",
    "        return …\n",
    "    milieu = …\n",
    "    #decoupe de la liste L en deux sous liste Liste_gauche et Liste_droite\n",
    "    Liste_gauche = L[:milieu]\n",
    "    Liste_droite = …\n",
    "    Liste_gauche = tri_fusion(Liste_gauche)# la même chose pour Liste_gauche\n",
    "    Liste_droite = …    # la même chose pour Liste_droite\n",
    "    return fusion(Liste_gauche, Liste_droite) #fusionner Liste_gauche et Liste_droite"
   ]
  }
 ],
 "metadata": {
  "celltoolbar": "Aucun(e)",
  "kernelspec": {
   "display_name": "Python 3",
   "language": "python",
   "name": "python3"
  },
  "language_info": {
   "codemirror_mode": {
    "name": "ipython",
    "version": 3
   },
   "file_extension": ".py",
   "mimetype": "text/x-python",
   "name": "python",
   "nbconvert_exporter": "python",
   "pygments_lexer": "ipython3",
   "version": "3.8.3"
  },
  "varInspector": {
   "cols": {
    "lenName": 16,
    "lenType": 16,
    "lenVar": 40
   },
   "kernels_config": {
    "python": {
     "delete_cmd_postfix": "",
     "delete_cmd_prefix": "del ",
     "library": "var_list.py",
     "varRefreshCmd": "print(var_dic_list())"
    },
    "r": {
     "delete_cmd_postfix": ") ",
     "delete_cmd_prefix": "rm(",
     "library": "var_list.r",
     "varRefreshCmd": "cat(var_dic_list()) "
    }
   },
   "types_to_exclude": [
    "module",
    "function",
    "builtin_function_or_method",
    "instance",
    "_Feature"
   ],
   "window_display": false
  }
 },
 "nbformat": 4,
 "nbformat_minor": 4
}
