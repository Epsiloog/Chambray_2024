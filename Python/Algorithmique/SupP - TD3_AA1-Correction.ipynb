{
 "cells": [
  {
   "cell_type": "markdown",
   "metadata": {
    "deletable": false,
    "editable": false
   },
   "source": [
    "***\n",
    "# TD 3 - Algorithmique Avancée 1\n",
    "***"
   ]
  },
  {
   "cell_type": "markdown",
   "metadata": {
    "deletable": false,
    "editable": false
   },
   "source": [
    "***\n",
    "## Exercice 1\n",
    "***"
   ]
  },
  {
   "cell_type": "markdown",
   "metadata": {
    "deletable": false,
    "editable": false
   },
   "source": [
    "1. Quels sont les autres noms donnés pour le tri par comptage ?"
   ]
  },
  {
   "cell_type": "markdown",
   "metadata": {},
   "source": [
    "**Réponse:**\n",
    "\n",
    "Le tri par dénombrement, le tri casier"
   ]
  },
  {
   "cell_type": "markdown",
   "metadata": {
    "deletable": false,
    "editable": false
   },
   "source": [
    "2. Quelle est la condition à satisfaire sur les données pour pouvoir appliquer le tri par comptage ?"
   ]
  },
  {
   "cell_type": "markdown",
   "metadata": {},
   "source": [
    "**Réponse:**\n",
    "\n",
    "Les données doivent être des nombres entiers"
   ]
  },
  {
   "cell_type": "markdown",
   "metadata": {
    "deletable": false,
    "editable": false
   },
   "source": [
    "3. Qu’est qu’un histogramme ?"
   ]
  },
  {
   "cell_type": "markdown",
   "metadata": {},
   "source": [
    "**Réponse:**\n",
    "\n",
    "En statistique, un histogramme est une représentation graphique permettant de représenter la répartition d'une variable continue en la représentant avec des colonnes verticales.\n",
    "\n",
    "<img src=\" data:image/png;base64,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\" width=\"140\">"
   ]
  },
  {
   "cell_type": "markdown",
   "metadata": {
    "deletable": false,
    "editable": false
   },
   "source": [
    "4. Ce tri est très efficace dans un cas précis. Quel est ce cas ?"
   ]
  },
  {
   "cell_type": "markdown",
   "metadata": {},
   "source": [
    "**Réponse:**\n",
    "\n",
    "Le tri sera d’autant plus efficace que l’intervalle sera réduit et que le nombre de valeurs à classer sera élevé. En gros, Soit _n_ la taille de la liste à trier et _m_ la longueur de l'intervalle entre la plus petite valeur et la plus grande. \n",
    "\n",
    "Plus le rapport _n/m_ est grand, plus le tri est avantageux. En effet, si _n_ est très grand, aucun tri ne pourra rivaliser en vitesse de classement avec le tri casier. Si _m_ est très petit, l’efficacité sera encore plus grande puisque l’espace mémoire nécessaire sera moins important. L’idéal serait également qu’il n’y ait pas trop de trous dans l’ensemble, c’est à dire que la plupart des valeurs de l’intervalle se retrouvent dans l’ensemble à trier. \n",
    "\n",
    "En effet, même si une valeur n’apparaît pas, elle requiert une case dans le tableau intermédiaire, ce qui correspond à de l’allocation mémoire inutile."
   ]
  },
  {
   "cell_type": "markdown",
   "metadata": {
    "deletable": false,
    "editable": false
   },
   "source": [
    "5. Expliquer les différentes étapes de ce tri"
   ]
  },
  {
   "cell_type": "markdown",
   "metadata": {},
   "source": [
    "**Réponse:**\n",
    "\n",
    "Soit $E$ l'ensemble de données à trier :\n",
    "\n",
    "1. La première étape est de créer notre tableau des effectifs E c'est-à-dire l'histogramme des valeurs de E.\n",
    "\n",
    "\n",
    "2. La deuxième est de le parcourir et de recopier dans le tableau trié les valeurs autant de fois qu'elles apparaissent et dans l'ordre croissant."
   ]
  },
  {
   "cell_type": "markdown",
   "metadata": {
    "deletable": false,
    "editable": false
   },
   "source": [
    "6. Dérouler l’algorithme du tri par comptage manuellement sur la liste\n",
    "L=[4,7,2,8,2,5,4,2,1,2,7,3,5,1,4], en précisant les valeurs de l’histogramme et les valeurs de la liste triée."
   ]
  },
  {
   "cell_type": "markdown",
   "metadata": {},
   "source": [
    "**Réponse:**\n",
    "\n",
    "Avec plaisir, déroulons le tri par dénombrement sur la liste L=[4,7,2,8,2,5,4,2,1,2,7,3,5,1,4]\n",
    "\n",
    "#### 1. histogramme des valeurs\n",
    "\n",
    "| 0 | 1 | 2 | 3 | 4 | 5 | 6 | 7 | 8 |\n",
    "|---|---|---|---|---|---|---|---|---|\n",
    "| 0 | 2 | 4 | 1 | 3 | 2 | 0 | 2 | 1 |\n",
    "\n",
    "#### 2. Parcours de l'histogramme et écriture des valeurs\n",
    "\n",
    "| i |hist[i] | Action                  |   tableau trié  |\n",
    "|---|--------|-------------------------|-----------------|\n",
    "| 0 |    0   | On ne fait rien         |                 |\n",
    "| 1 |    2   | On ajoute deux fois 1   |11               |  \n",
    "| 2 |    4   | On ajoute quatre fois 2 |112222           |  \n",
    "| 3 |    1   | On ajoute une fois 3    |1122223          | \n",
    "| 4 |    3   | On ajoute trois fois 4  |1122223444       |  \n",
    "| 5 |    2   | On ajoute deux fois 5   |112222344455     |   \n",
    "| 6 |    0   | On ne fait rien         |112222344455     |   \n",
    "| 7 |    2   | On ajoute deux fois 7   |11222234445577   |\n",
    "| 8 |    1   | On ajoute une fois 8    |112222344455778  |"
   ]
  },
  {
   "cell_type": "markdown",
   "metadata": {
    "deletable": false,
    "editable": false
   },
   "source": [
    "7. Ecrire une fonction comptage, d’arguments L et N, renvoyant une liste P de longueur N dont l’élément d’indice k désigne le nombre d’occurrences de l’entier k dans la liste L. Expliquer à quoi correspond N par rapport à L."
   ]
  },
  {
   "cell_type": "code",
   "execution_count": 1,
   "metadata": {},
   "outputs": [],
   "source": [
    "def comptage(L, N):\n",
    "    \"\"\"renvoie une liste du nombre d'occurrences dans L des éléments allant\n",
    "    de 0 à N-1. N est censé être la longueur du tableau L\"\"\"\n",
    "    P = [0]*N\n",
    "    for k in L:\n",
    "        P[k] += 1\n",
    "    return P"
   ]
  },
  {
   "cell_type": "markdown",
   "metadata": {
    "deletable": false,
    "editable": false
   },
   "source": [
    "8. Utiliser la liste P pour déduire une fonction triComptage, d’arguments L et N, renvoyant une liste M triée dans l’ordre croissant."
   ]
  },
  {
   "cell_type": "code",
   "execution_count": 3,
   "metadata": {},
   "outputs": [],
   "source": [
    "def tri_comptage(L,N):\n",
    "    \"\"\"trie la liste L, dont les éléments sont inférieurs ou égaux à N-1, en utilisant\n",
    "    la liste des occurrences données par la fonction comptage\"\"\"\n",
    "    M = []\n",
    "    P = comptage(L,N)\n",
    "    for k in range(N):\n",
    "        for i in range(P[k]):\n",
    "            M.append(k)\n",
    "    return M"
   ]
  },
  {
   "cell_type": "markdown",
   "metadata": {
    "deletable": false,
    "editable": false
   },
   "source": [
    "9. Tester la fonction triComptage sur une liste de 20 entiers inférieurs ou égaux à 5, choisis aléatoirement."
   ]
  },
  {
   "cell_type": "code",
   "execution_count": 7,
   "metadata": {},
   "outputs": [
    {
     "name": "stdout",
     "output_type": "stream",
     "text": [
      "[0, 3, 1, 0, 0, 3, 0, 0, 5, 5, 3, 3, 4, 0, 2, 5, 0, 1, 5, 2]\n",
      "[0, 0, 0, 0, 0, 0, 0, 1, 1, 2, 2, 3, 3, 3, 3, 4, 5, 5, 5, 5]\n"
     ]
    }
   ],
   "source": [
    "import random\n",
    "liste = []\n",
    "for i in range(20):\n",
    "    liste.append(random.randint(0,5))\n",
    "print(liste)\n",
    "\n",
    "print(tri_comptage(liste,6))"
   ]
  },
  {
   "cell_type": "markdown",
   "metadata": {
    "deletable": false,
    "editable": false
   },
   "source": [
    "10. Quelle est la complexité de cet algorithme ?"
   ]
  },
  {
   "cell_type": "markdown",
   "metadata": {},
   "source": [
    "**Réponse:**\n",
    "\n",
    "La fonction comptage initialise un tableau de N valeurs à 0, ce qui donne 0(N). Ensuite elle utilise une boucle for sur la longeur du tableau de longueur _n_ ce qui nous donne une complexité en Θ(n). \n",
    "\n",
    "La fonction tri comptage se sert de la fonction comptage (voir ligne 5) et hérite donc de sa complexité en Θ(n), ensuite elle fait une double boucle. La boucle externe s'exécutera N fois Θ(N), tandis que la boucle interne ne s'exécutera qu'un nombre déterminé de fois à chaque tour qui ne dépend ni de _n_, ni de _N_ mais des différentes valeurs prises par les P[k]. On note donc une complexité Θ(1) pour la boucle interne.\n",
    "\n",
    "En tout on a donc une complexité de Θ(N)* Θ(1) = Θ(N) pour tout le bloc de la boucle imbriquée.\n",
    "\n",
    "En tenant compte de l'ensemble du programme tri comptage on a donc une complexité de Θ(n) (ligne 6) suivie d'une complexité de Θ(N) (lignes 6 à 8) ce qui nous donne une complexité en :\n",
    "\n",
    "$$\n",
    "\\theta(n) + \\theta(N) = \\theta(N+n)\n",
    "$$\n",
    "\n",
    "La complexité du tri comptage est donc en temps linéaire"
   ]
  },
  {
   "cell_type": "markdown",
   "metadata": {
    "deletable": false,
    "editable": false
   },
   "source": [
    "***\n",
    "## Exercice 2\n",
    "***"
   ]
  },
  {
   "cell_type": "markdown",
   "metadata": {
    "deletable": false,
    "editable": false
   },
   "source": [
    "1. Quel est le coût de l’algorithme suivant ?\n",
    "<pre>\n",
    "def test_de_presence (L) :\n",
    "    if 2 in L :\n",
    "        print ( \" Il y est \" )\n",
    "    else :\n",
    "        print(\" Il n’y est pas \")\n",
    "</pre>"
   ]
  },
  {
   "cell_type": "markdown",
   "metadata": {},
   "source": [
    "**Réponse:**\n",
    "\n",
    "Au pire des cas on parcourt toute la liste. Sa longueur est de len(L)\n",
    "On est donc en O(len(L)). Si on suppose que n = len(L) comme c'est usuellement le\n",
    "cas, la complexité est linéaire => $O(n)$"
   ]
  },
  {
   "cell_type": "markdown",
   "metadata": {
    "deletable": false,
    "editable": false
   },
   "source": [
    "2. Quel est le coût de l’algorithme suivant ?\n",
    "<pre>\n",
    "def test_de_presence (a, L) :\n",
    "    if a == 0:\n",
    "        print ( \"a doit être non nul \" )\n",
    "    else :\n",
    "        L . remove ( a )\n",
    "</pre>"
   ]
  },
  {
   "cell_type": "markdown",
   "metadata": {},
   "source": [
    "**Réponse:**\n",
    "\n",
    "Si on tombe sur une valeur nulle, l'algo se termine en une seule étape en O(1) c'est le\n",
    "meilleur des cas. Au pire des cas la valeur n'est pas nulle, il faut donc parcourir l'ensemble\n",
    "du tableau pour la retrouver et la supprimer. Comme c'est le pire des cas on suppose que cette\n",
    "valeur est en fin de tableau. La complexité est donc linéaire.\n",
    "Ps: La réponse est similaire si la valeur qu'on veut supprimer est en début de tableau car \n",
    "supprimer une valeur implique de décaler toutes les valeurs qui suivent ce qui peut impliquer\n",
    "un nombre significatif de valeurs du tableau (pratiquement toutes si on est au début). On voit\n",
    "donc que la linéarité est inévitable : $O(n)$ [en supposant que n=len(L)]"
   ]
  },
  {
   "cell_type": "markdown",
   "metadata": {
    "deletable": false,
    "editable": false
   },
   "source": [
    "3. Quel est le coût de l’algorithme suivant ?\n",
    "<pre>\n",
    "for i in range (11) :\n",
    "        print(i∗n)\n",
    "</pre>"
   ]
  },
  {
   "cell_type": "markdown",
   "metadata": {},
   "source": [
    "**Réponse:**\n",
    "\n",
    "En supposant que n est une valeur connue de python (sinon ça ferait une erreur) le programme\n",
    "effectue 11 opérations. C'est une valeur constante dont la valeur est raisonnnablement\n",
    "petite, on peut donc noter O(1)."
   ]
  },
  {
   "cell_type": "markdown",
   "metadata": {
    "deletable": false,
    "editable": false
   },
   "source": [
    "4. Quel est le coût de l’algorithme suivant ?\n",
    "<pre>\n",
    "for i in range (n) :\n",
    "        print(i∗i)\n",
    "</pre>"
   ]
  },
  {
   "cell_type": "markdown",
   "metadata": {},
   "source": [
    "**Réponse**:\n",
    "\n",
    "Cette fois on multiplie deux valeurs dans une boucle qui va de 0 à n-1. Cette boucle s'effectuera\n",
    "\n",
    "exactement n fois. La complexité est donc en $Θ(n)$"
   ]
  },
  {
   "cell_type": "markdown",
   "metadata": {
    "deletable": false,
    "editable": false
   },
   "source": [
    "5. Quel est le coût de l’algorithme suivant ?\n",
    "<pre>\n",
    "for i in range (n) :\n",
    "        for j in range (n) :\n",
    "                print(i∗j)\n",
    "</pre>"
   ]
  },
  {
   "cell_type": "markdown",
   "metadata": {},
   "source": [
    "**Réponse:**\n",
    "\n",
    "Le print étant une opération constante comprise dans une boucle de 0 à n-1 elle même comprise\n",
    "dans une boucle de 0 à n-1 on a donc une complexité en $Θ(n)*Θ(n) = Θ(n²)$ \n",
    "\n",
    "[Méthode des \"O Θ\"]"
   ]
  },
  {
   "cell_type": "markdown",
   "metadata": {
    "deletable": false,
    "editable": false
   },
   "source": [
    "6. Quel est le coût de l’algorithme suivant ?\n",
    "<pre>\n",
    "for i in range (n) :\n",
    "        for j in range (i) :\n",
    "                print(i∗j)\n",
    "</pre>"
   ]
  },
  {
   "cell_type": "markdown",
   "metadata": {},
   "source": [
    "**Réponse:**\n",
    "\n",
    "Pour calculer la complexité ici, il faut faire appel aux sommes arithmétiques:\n",
    "\n",
    "    somme de (i=0 à n-1) de somme de (j=0 à i-1) de 1        (nombre de termes fois constante)\n",
    "    \n",
    "    = somme de (i=0 à n-1) de i         ((nombre de termes)*(premier terme+dernier terme)/2)\n",
    "    \n",
    "    = n*(n-1)/2 soit des opérations de l'ordre de n² opérations on dit Θ(n²)"
   ]
  },
  {
   "cell_type": "markdown",
   "metadata": {
    "deletable": false,
    "editable": false
   },
   "source": [
    "7. Quel est le coût de l’algorithme suivant ?\n",
    "<pre>\n",
    "for i in range (5, n - 4) :\n",
    "        for j in range (i - 5, i + 6) :\n",
    "                print(x+2)\n",
    "</pre>"
   ]
  },
  {
   "cell_type": "markdown",
   "metadata": {},
   "source": [
    "**Réponse:**\n",
    "\n",
    "Une fois de plus on applique la technique des sommes arithmétiques (on suppose x connu):\n",
    "\n",
    "    somme de (i=5 à n-3) de somme de (j=i-5 à i+5) de 1\n",
    "    \n",
    "    = somme de (i=5  à n-3) de 11\n",
    "    \n",
    "    = 11*(n-7) soit une complexité en Θ(n)"
   ]
  },
  {
   "cell_type": "markdown",
   "metadata": {
    "deletable": false,
    "editable": false
   },
   "source": [
    "8. Quel est le coût de l’algorithme suivant ?\n",
    "<pre>\n",
    "for i in range (1, n+1) :\n",
    "        for j in range (1, i+1):\n",
    "                for k in range (1, j+1):\n",
    "                        sudripyth(x)\n",
    "</pre>"
   ]
  },
  {
   "cell_type": "markdown",
   "metadata": {},
   "source": [
    "**Réponse**:\n",
    "\n",
    "On applique encore la technique des sommes arithmétiques \"jusqu'à un certain point\" :\n",
    "    On suppose que sudripyth est une fonction connue aux opérations négligeables\n",
    "    \n",
    "    somme de (i=1 à n) de somme de (j=1 à i) de somme de (k=1 à j) de 1\n",
    "    \n",
    "    = somme de (i=1 à n) de somme de (j=1 à i) de j\n",
    "    \n",
    "    = somme de (i=1 à n) de i*(i+1)/2\n",
    "    \n",
    "    = somme de (i=1 à n) de (i² + i)/2\n",
    "    \n",
    "    = 1/2*(somme de (i=1 à n) (i²+i))\n",
    "    \n",
    "    = 1/2*(somme de (i=1 à n) de i² + somme de (i=1 à n) de i)\n",
    "    \n",
    "    = 1/2( ( n*(n+1)*(2*n+1) )/6 + n*(n+1)/2 )\n",
    "    \n",
    "    En terme de complexité asymptotique on a 1/2*(Θ(n^3) + Θ(n^2))\n",
    "    = Θ(n^3) + Θ(n^2)\n",
    "    = Θ(n^3)"
   ]
  },
  {
   "cell_type": "markdown",
   "metadata": {
    "deletable": false,
    "editable": false
   },
   "source": [
    "***\n",
    "## Exercice 3\n",
    "***"
   ]
  },
  {
   "cell_type": "markdown",
   "metadata": {
    "deletable": false
   },
   "source": [
    "Classer les fonctions suivantes par ordre croissant de leur valeur asymptotique :\n",
    "\n",
    "$log(n$<sup>$3$</sup>) , $2$<sup>$n$<sup>$2$</sup></sup> , $n$<sup>$3$</sup>$log(n)$, $\\sqrt{n!}$ , $2\\sqrt{n}$"
   ]
  },
  {
   "cell_type": "markdown",
   "metadata": {},
   "source": [
    "1. $log(n^{3})$\n",
    "\n",
    "2. $2\\sqrt{n}$\n",
    "\n",
    "3. $n^{3}log(n)$\n",
    "\n",
    "4. $\\sqrt{n!}$\n",
    "\n",
    "5. $2^{n^{2}}$"
   ]
  }
 ],
 "metadata": {
  "celltoolbar": "Format de la Cellule Texte Brut",
  "kernelspec": {
   "display_name": "Python 3",
   "language": "python",
   "name": "python3"
  },
  "language_info": {
   "codemirror_mode": {
    "name": "ipython",
    "version": 3
   },
   "file_extension": ".py",
   "mimetype": "text/x-python",
   "name": "python",
   "nbconvert_exporter": "python",
   "pygments_lexer": "ipython3",
   "version": "3.7.4"
  },
  "varInspector": {
   "cols": {
    "lenName": 16,
    "lenType": 16,
    "lenVar": 40
   },
   "kernels_config": {
    "python": {
     "delete_cmd_postfix": "",
     "delete_cmd_prefix": "del ",
     "library": "var_list.py",
     "varRefreshCmd": "print(var_dic_list())"
    },
    "r": {
     "delete_cmd_postfix": ") ",
     "delete_cmd_prefix": "rm(",
     "library": "var_list.r",
     "varRefreshCmd": "cat(var_dic_list()) "
    }
   },
   "types_to_exclude": [
    "module",
    "function",
    "builtin_function_or_method",
    "instance",
    "_Feature"
   ],
   "window_display": false
  }
 },
 "nbformat": 4,
 "nbformat_minor": 4
}
