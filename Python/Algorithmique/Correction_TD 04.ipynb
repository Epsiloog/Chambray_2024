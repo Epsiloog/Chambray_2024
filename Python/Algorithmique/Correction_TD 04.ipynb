{
 "cells": [
  {
   "cell_type": "markdown",
   "metadata": {
    "deletable": false
   },
   "source": [
    "***\n",
    "# TD 4 - Algorithmique Avancée 1\n",
    "***"
   ]
  },
  {
   "cell_type": "markdown",
   "metadata": {
    "deletable": false,
    "editable": false
   },
   "source": [
    "***\n",
    "## Exercice 1\n",
    "***"
   ]
  },
  {
   "cell_type": "markdown",
   "metadata": {
    "deletable": false,
    "editable": false
   },
   "source": [
    "Considérons la fonction de hachage h(c) = c mod 11 et une table de hachage avec m = 11 adresses.\n",
    "1. Insérer les clés 22, 31, 20, 26, et 9 dans la table de hachage ci-dessus en utilisant la résolution des collisions par adressage linéaire avec la fonction\n",
    "\n",
    "$$\n",
    "h_i(c) = (h(c)+i) \\enspace mod \\enspace m.\n",
    "$$"
   ]
  },
  {
   "cell_type": "markdown",
   "metadata": {},
   "source": [
    "|Indice|Valeur|\n",
    "|--------|--------|\n",
    "|    0    |    22    |\n",
    "|    1    |    9    |\n",
    "|    2    |        |\n",
    "|    3    |        |\n",
    "|    4    |    26    |\n",
    "|    5    |        |\n",
    "|    6    |        |\n",
    "|    7    |        |\n",
    "|    8    |        |\n",
    "|    9    |    31    |\n",
    "|    10    |    20    |"
   ]
  },
  {
   "cell_type": "markdown",
   "metadata": {
    "deletable": false,
    "editable": false
   },
   "source": [
    "2. Rajouter maintenant les clés 1,2,3,4,5,6,7,8.\n",
    "\n",
    "Quel problème rencontrez-vous ? Quelles solutions proposez-vous ?"
   ]
  },
  {
   "cell_type": "markdown",
   "metadata": {},
   "source": [
    "|Indice|Valeur|\n",
    "|--------|--------|\n",
    "| 0 | 22 |\n",
    "| 1 | 9 |\n",
    "| 2 | 1 |\n",
    "| 3 | 2 |\n",
    "| 4 | 26 |\n",
    "| 5 | 3 |\n",
    "| 6 | 4 |\n",
    "| 7 | 5 |\n",
    "| 8 | 6 |\n",
    "| 9 | 31 |\n",
    "| 10 | 20 |\n",
    "\n",
    "Les valeurs 7 et 8 ne peuvent plus entrer dans la table car elle est pleine. La solution c'est de changer de stratégie et d'utiliser par exemple le **chainage séparé**. Il est aussi possible d'augmenter la **taille de la table**."
   ]
  },
  {
   "cell_type": "markdown",
   "metadata": {
    "deletable": false,
    "editable": false
   },
   "source": [
    "***\n",
    "## Exercice 2\n",
    "***"
   ]
  },
  {
   "cell_type": "markdown",
   "metadata": {
    "deletable": false,
    "editable": false
   },
   "source": [
    "On considère un ensemble de clés données directement sous forme numérique, que l’on veut\n",
    "stocker dans une table de hachage de taille m= 11. \n",
    "\n",
    "Soit la fonction de hachage : \n",
    "\n",
    "$$\n",
    "h(x) = x \\enspace mod \\enspace m.\n",
    "$$\n",
    "\n",
    "1. Décrire les structures de données et la gestion des collisions pour la séquence d’ajouts :10, 22, 31, 4, 15, 28, 83, 88, 59, 37, en utilisant un hachage coalescent."
   ]
  },
  {
   "cell_type": "markdown",
   "metadata": {},
   "source": [
    "**Réponse:**\n",
    "\n",
    "|Indice|Valeur|Liens\n",
    "|---------|-------|--------|\n",
    "| 0 | 22 | 5 |\n",
    "| 1 |\n",
    "| 2 | 37 | -1 |\n",
    "| 3 | 59 | 2 |\n",
    "| 4 | 4 | 8 |\n",
    "| 5 | 88 | -1 |\n",
    "| 6 | 28 | 7 |\n",
    "| 7 | 83 | -1 |\n",
    "| 8 | 15 | 3 |\n",
    "| 9 | 31 | -1 |\n",
    "| 10 | 10 | -1 |"
   ]
  },
  {
   "cell_type": "markdown",
   "metadata": {
    "deletable": false,
    "editable": false
   },
   "source": [
    "2. Décrire ce qui se passe si on poursuit par les 2 opérations suivantes, suppression de la clé 83 et recherche de la clé 59."
   ]
  },
  {
   "cell_type": "markdown",
   "metadata": {},
   "source": [
    "**Réponse:**\n",
    "\n",
    "##### Suppression de la clé 83 :\n",
    "\n",
    "*Méthode 1*:\n",
    "\n",
    "83 est lié dans liste de collision a 28. Heureusement c'est le dernier de cette liste de collision donc ce qu'on à a faire c'est de supprimer purement et simplement les informations liées à 83, par exemple :\n",
    "\n",
    "|Indice|Valeur|Liens\n",
    "|---------|-------|--------|\n",
    "| 0 | 22 | 5 |\n",
    "| 1 |\n",
    "| 2 | 37 | -1 |\n",
    "| 3 | 59 | 2 |\n",
    "| 4 | 4 | 8 |\n",
    "| 5 | 88 | -1 |\n",
    "| 6 | 28 | -1 |\n",
    "| 7 |  |  |\n",
    "| 8 | 15 | 3 |\n",
    "| 9 | 31 | -1 |\n",
    "| 10 | 10 | -1 |\n",
    "\n",
    "Plus personne n'est en collision avec 28, il faut donc mettre à jour son lien. Cette méthode est poussive car quand on supprime un élément de la liste de collision il faut décaler tous les éléments qui le suivent et mettre à jour la liste de liens.\n",
    "\n",
    "Il existe une méthode pour éviter tous ces décalages et c'est la méthode qu'on vous présente ci-dessous\n",
    "\n",
    "\n",
    "*Méthode 2*:\n",
    "\n",
    "|Indice|Valeur|Liens|Statut\n",
    "|---------|-------|--------|--------|\n",
    "| 0 | 22 | 5 | Occupée |\n",
    "| 1 |    |   | Vide |\n",
    "| 2 | 37 | -1 | Occupée |\n",
    "| 3 | 59 | 2 | Occupée |\n",
    "| 4 | 4 | 8 | Occupée |\n",
    "| 5 | 88 | -1 | Occupée |\n",
    "| 6 | 28 | -1 | Occupée |\n",
    "| 7 |  | -1 | Libre |\n",
    "| 8 | 15 | 3 | Occupée |\n",
    "| 9 | 31 | -1 | Occupée |\n",
    "| 10 | 10 | -1 | Occupée |\n",
    "\n",
    "On définit trois statuts pour les cases de la table :\n",
    "- Vide  : la case n'a jamais servi\n",
    "- Libre   : Une valeur a été effacée\n",
    "- Occupée : la case contient des informations\n",
    "\n",
    "Et lorsqu'on supprime un élément il suffit de mettre son statut de _Occupée_ à _Libre_\n",
    "\n",
    "\n",
    "##### Recherche de la clé 59 :\n",
    "\n",
    "On hache l'élément cherché pour trouver sa case. Si la case ne contient pas l'élément qu'on recherche on navigue de liens en liens jusqu'à parvenir à la valeur recherchée et on s'arrête si le lien est à -1.\n",
    "- Si d'ici là on a trouvé la valeur la recherche est positive\n",
    "- Sinon la recherche est négative, l'élément n'est pas dans la table.\n",
    "\n",
    "Pour 59, on va faire 59%11 (fonction de hachage) on va trouver 4. Du coup on va suivre le lien et aller en 8. En place 8 on trouve la valeur 15. On suit le lien en 3 et en place 3 on va trouver 59. **La recherche est positive**."
   ]
  },
  {
   "cell_type": "markdown",
   "metadata": {
    "deletable": false,
    "editable": false
   },
   "source": [
    "***\n",
    "## Exercice 3\n",
    "***"
   ]
  },
  {
   "cell_type": "markdown",
   "metadata": {
    "deletable": false,
    "editable": false
   },
   "source": [
    "On considère des clés sur un ensemble de 256 caractères (l’alphabet ASCII 8 bits par exemple)\n",
    "et l’on associe à chaque clé l’entier qu’elle représente en base 256.\n",
    "Ainsi, par exemple, puisque les caractères B, l, o et p correspondent aux valeurs 66, 108, 111\n",
    "et 112 respectivement, la clé « Blop » est associée à l’entier\n",
    "\n",
    "$66.256^3+ 108.256^2+ 111.256 + 112 = 1114402672.$\n",
    "\n",
    "1. Écrivez une fonction python qui prend en entrée une chaîne de caractères en ASCII 8 bits et renvoie l’entier associé.\n",
    "\n",
    "Indication : On pourra utiliser la fonction ord(c) qui renvoie la valeur ASCII d’un caractère c."
   ]
  },
  {
   "cell_type": "code",
   "execution_count": 2,
   "metadata": {},
   "outputs": [],
   "source": [
    "def str_to_int(mot):\n",
    "    n = len(mot)\n",
    "    valeur = 0\n",
    "    for i in mot:\n",
    "        valeur += ord(i)*256**(n-1)\n",
    "        n -= 1\n",
    "    return valeur"
   ]
  },
  {
   "cell_type": "markdown",
   "metadata": {
    "deletable": false
   },
   "source": [
    "On utilise à présent la fonction de hachage \n",
    "\n",
    "$$\n",
    "h : x → (x \\enspace mod \\enspace 255)\n",
    "$$\n",
    "\n",
    "Pour tout mot x.\n",
    "\n",
    "2. Écrivez la fonction **_h_** en python qui prend en argument une chaîne de caractères, la convertit en entier puis le hache et vérifiez la propriété annoncée sur quelques exemples."
   ]
  },
  {
   "cell_type": "code",
   "execution_count": 3,
   "metadata": {},
   "outputs": [],
   "source": [
    "def hachage(mot):\n",
    "    return (str_to_int(mot)%255)"
   ]
  },
  {
   "cell_type": "markdown",
   "metadata": {
    "deletable": false,
    "editable": false
   },
   "source": [
    "3. Déterminer ma valeur de _hachage(\"chien\")_ et la comparer à la valeur de _hachage(\"niche\")_.\n",
    "\n",
    "Que peut-on remarquer ? Démontrer mathématiquement cette remarque."
   ]
  },
  {
   "cell_type": "code",
   "execution_count": 4,
   "metadata": {},
   "outputs": [
    {
     "name": "stdout",
     "output_type": "stream",
     "text": [
      "9\n",
      "9\n"
     ]
    }
   ],
   "source": [
    "print(hachage(\"chien\"))\n",
    "print(hachage(\"niche\"))"
   ]
  },
  {
   "cell_type": "markdown",
   "metadata": {},
   "source": [
    "Soit s un mot :\n",
    "\n",
    "\n",
    "hachage(s) = $(\\sum\\limits_{i=0}^{n-1} (ord(s[i])*256^i) \\enspace mod \\enspace 255))$\n",
    "           = $(\\sum\\limits_{i=0}^{n-1} (ord(s[i])*256^i\\enspace mod \\enspace 255))$\n",
    "           = $(\\sum\\limits_{i=0}^{n-1} (ord(s[i])*256\\enspace mod \\enspace 255))$\n",
    "           = $(\\sum\\limits_{i=0}^{n-1} (ord(s[i]))$\n",
    "           \n",
    "Cela signifie que la valeur de hachage ne dépend pas de puissances mais ne dépend que des lettres de s[i] et de leur sommes. Comme les sommes sont les mêmes quel que soit l'ordre des lettres, ça donne la même valeur pour les anagrammes."
   ]
  },
  {
   "cell_type": "markdown",
   "metadata": {
    "deletable": false,
    "editable": false
   },
   "source": [
    "4. Implémenter à présent une fonction de hachage `hachage2()` qui au lieu de faire un calcul à partir du chiffre ASCII de chaque lettre, calcule la somme des positions des lettres d’un mot dans l’alphabet. Tester cette fonction avec « chien » et « niche ». Conclure."
   ]
  },
  {
   "cell_type": "code",
   "execution_count": 20,
   "metadata": {
    "scrolled": true
   },
   "outputs": [
    {
     "name": "stdout",
     "output_type": "stream",
     "text": [
      "39 39\n"
     ]
    }
   ],
   "source": [
    "def valeur_ordinale(lettre):\n",
    "    lettre = lettre.lower()   # que des minuscules\n",
    "    return ord(lettre) - ord('a') + 1\n",
    "\n",
    "#print(valeur_ordinale('a'))\n",
    "#print(valeur_ordinale('E'))\n",
    "\n",
    "def hachage2(mot):\n",
    "    n=0\n",
    "    for lettre in mot:\n",
    "        n+=valeur_ordinale(lettre)\n",
    "    return n\n",
    "\n",
    "print(hachage2(\"Chien\"),hachage2(\"niche\"))\n",
    "\n",
    "#CONCLUSION : Nous n'avons pas résolu le problème de collision des anagrammes."
   ]
  },
  {
   "cell_type": "markdown",
   "metadata": {},
   "source": [
    "***\n",
    "## Exercice 4\n",
    "***"
   ]
  },
  {
   "cell_type": "markdown",
   "metadata": {},
   "source": [
    "1. Écrire une fonction `create_table( n )` qui prend en paramètre un entier n et qui renvoie une liste remplie de n listes vides.\n",
    "\n",
    "> Par exemple create_table(3) va renvoyer [[], [], []]"
   ]
  },
  {
   "cell_type": "code",
   "execution_count": 1,
   "metadata": {},
   "outputs": [
    {
     "data": {
      "text/plain": [
       "[[], [], [], [], [], [], [], [], [], []]"
      ]
     },
     "execution_count": 1,
     "metadata": {},
     "output_type": "execute_result"
    }
   ],
   "source": [
    "def create_table(n):\n",
    "    L=[]\n",
    "    for i in range(n):\n",
    "        L.append([])\n",
    "    return L\n",
    "\n",
    "create_table(10)"
   ]
  },
  {
   "cell_type": "markdown",
   "metadata": {},
   "source": [
    "2. On veut utiliser la fonction de hachage suivante :\n",
    "\n",
    "$$\n",
    "h : x → (x \\enspace mod \\enspace 10) + 1\n",
    "$$\n",
    "\n",
    "Programmer cette fonction en langage Python. Vous appellerez cette fonction $h$."
   ]
  },
  {
   "cell_type": "code",
   "execution_count": 2,
   "metadata": {},
   "outputs": [
    {
     "data": {
      "text/plain": [
       "3"
      ]
     },
     "execution_count": 2,
     "metadata": {},
     "output_type": "execute_result"
    }
   ],
   "source": [
    "def h(x):\n",
    "    return (x%10)+1\n",
    "\n",
    "h(22)"
   ]
  },
  {
   "cell_type": "markdown",
   "metadata": {},
   "source": [
    "3. A présent, écrire une fonction hachage qui prend un élément val en paramètre et qui :\n",
    "\n",
    "    - Place l'élément dans la bonne sous-liste en fonction de la valeur calculée grâce à la fonction h\n",
    "\n",
    "    - Ajoute l'élément à la fin de la bonne sous-liste.\n",
    "\n",
    "On a pris le soin d'appeler la fonction précédente pour créer une table vierge de 10 places dans le code pré-rempli suivant, contentez-vous de remplir les cases manquantes..."
   ]
  },
  {
   "cell_type": "code",
   "execution_count": 5,
   "metadata": {},
   "outputs": [
    {
     "name": "stdout",
     "output_type": "stream",
     "text": [
      "[[], [], [], [22], [], [], [], [], [], []]\n"
     ]
    }
   ],
   "source": [
    "table_hachage = create_table(10)\n",
    "\n",
    "def hachage(val):\n",
    "    indice = h(val)\n",
    "    table_hachage[indice].append(val)\n",
    "    return table_hachage\n",
    "    \n",
    "print(hachage(22))"
   ]
  },
  {
   "cell_type": "markdown",
   "metadata": {},
   "source": [
    "4. A l'aide d'un `for...in` ajoutez successivement les valeurs _12, 17, 28, 33, 42 et 38_ dans la table précédemment crée. On prendra soin de réinitialiser la table en vidant toutes les valeurs.\n",
    "\n",
    "Le code pré-rempli suivant est là pour vous aider :"
   ]
  },
  {
   "cell_type": "code",
   "execution_count": 6,
   "metadata": {},
   "outputs": [
    {
     "name": "stdout",
     "output_type": "stream",
     "text": [
      "[[], [], [], [12, 42], [33], [], [], [], [17], [28, 38]]\n"
     ]
    }
   ],
   "source": [
    "table_hachage = create_table(10)\n",
    "\n",
    "for i in [12, 17, 28, 33, 42, 38]:\n",
    "    hachage(i)\n",
    "    \n",
    "print(table_hachage)"
   ]
  }
 ],
 "metadata": {
  "celltoolbar": "Format de la Cellule Texte Brut",
  "kernelspec": {
   "display_name": "Python 3",
   "language": "python",
   "name": "python3"
  },
  "language_info": {
   "codemirror_mode": {
    "name": "ipython",
    "version": 3
   },
   "file_extension": ".py",
   "mimetype": "text/x-python",
   "name": "python",
   "nbconvert_exporter": "python",
   "pygments_lexer": "ipython3",
   "version": "3.7.4"
  },
  "varInspector": {
   "cols": {
    "lenName": 16,
    "lenType": 16,
    "lenVar": 40
   },
   "kernels_config": {
    "python": {
     "delete_cmd_postfix": "",
     "delete_cmd_prefix": "del ",
     "library": "var_list.py",
     "varRefreshCmd": "print(var_dic_list())"
    },
    "r": {
     "delete_cmd_postfix": ") ",
     "delete_cmd_prefix": "rm(",
     "library": "var_list.r",
     "varRefreshCmd": "cat(var_dic_list()) "
    }
   },
   "types_to_exclude": [
    "module",
    "function",
    "builtin_function_or_method",
    "instance",
    "_Feature"
   ],
   "window_display": false
  }
 },
 "nbformat": 4,
 "nbformat_minor": 4
}
